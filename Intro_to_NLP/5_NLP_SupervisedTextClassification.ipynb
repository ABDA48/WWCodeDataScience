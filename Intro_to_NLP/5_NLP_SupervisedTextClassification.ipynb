{
  "nbformat": 4,
  "nbformat_minor": 0,
  "metadata": {
    "kernelspec": {
      "display_name": "Python 3",
      "language": "python",
      "name": "python3"
    },
    "language_info": {
      "codemirror_mode": {
        "name": "ipython",
        "version": 3
      },
      "file_extension": ".py",
      "mimetype": "text/x-python",
      "name": "python",
      "nbconvert_exporter": "python",
      "pygments_lexer": "ipython3",
      "version": "3.7.6"
    },
    "colab": {
      "name": "NLP in Action - Supervised Text Classification.ipynb",
      "provenance": [],
      "collapsed_sections": []
    },
    "accelerator": "GPU"
  },
  "cells": [
    {
      "cell_type": "markdown",
      "metadata": {
        "id": "TVcscGd6FI9V",
        "colab_type": "text"
      },
      "source": [
        "# Intro to NLP (Natural Language Processing): Week 5 - NLP in Action (Supervised Text Classification)"
      ]
    },
    {
      "cell_type": "markdown",
      "metadata": {
        "id": "p5HkxltDFv7P",
        "colab_type": "text"
      },
      "source": [
        "Dataset Link: https://www.kaggle.com/c/fake-news/data\n",
        "\n",
        "Dataset Name: train.csv, test.csv, submit.csv\n",
        "\n",
        "Dataset Description: Build a system to identify unreliable news articles, using 3 files:\n",
        "- train.csv: A full training dataset with the following attributes:\n",
        "  - id: unique id for a news article\n",
        "  - title: the title of a news article\n",
        "  - author: author of the news article\n",
        "  - text: the text of the article; could be incomplete\n",
        "  - label: a label that marks the article as potentially unreliable\n",
        "    - 1: unreliable\n",
        "    - 0: reliable\n",
        "\n",
        "- test.csv: A testing training dataset with all the same attributes at train.csv without the label.\n",
        "\n",
        "- submit.csv: A sample submission that you can"
      ]
    },
    {
      "cell_type": "markdown",
      "metadata": {
        "id": "-GrcA-ADF6jJ",
        "colab_type": "text"
      },
      "source": [
        "**Steps to access, download, and use the dataset:**\n",
        "\n",
        "\n",
        "\n",
        "1.   Access the above link to kaggle, click on \"Data\" tab and download \"train.csv\", \"test.csv\", and submit.csv.\n",
        "2.   Once downloaded, click on the files to unzip them. \n",
        "3.   Save the file in a folder easily accessible - E.g. \"Documents\"\n",
        "4.   Open a Google Colab Notebook\n",
        "5.   In the left pane of the Google Colab, click on \"Files\" and select the upload icon (Icon hover text: \"Upload to session storage\")\n",
        "6.   You are ready to start using the data in the Colab Notebook.\n",
        "\n"
      ]
    },
    {
      "cell_type": "markdown",
      "metadata": {
        "id": "av_HSuydGntX",
        "colab_type": "text"
      },
      "source": [
        "Data location within Colab: '/content/train.csv', '/content/test.csv', and '/content/submit.csv'"
      ]
    },
    {
      "cell_type": "markdown",
      "metadata": {
        "id": "snIsw8DXG1I9",
        "colab_type": "text"
      },
      "source": [
        "Check whick folder in the Google Colab notebook we are currently in?"
      ]
    },
    {
      "cell_type": "code",
      "metadata": {
        "id": "tstmBfAVG7w8",
        "colab_type": "code",
        "colab": {
          "base_uri": "https://localhost:8080/",
          "height": 35
        },
        "outputId": "4ad1c7fa-0914-4159-91c1-ec683d8d2960"
      },
      "source": [
        "pwd"
      ],
      "execution_count": null,
      "outputs": [
        {
          "output_type": "execute_result",
          "data": {
            "application/vnd.google.colaboratory.intrinsic+json": {
              "type": "string"
            },
            "text/plain": [
              "'/content'"
            ]
          },
          "metadata": {
            "tags": []
          },
          "execution_count": 2
        }
      ]
    },
    {
      "cell_type": "markdown",
      "metadata": {
        "id": "l4jh52SxG9l2",
        "colab_type": "text"
      },
      "source": [
        "Now that we know which folder we are in, how do we see if the data we loaded (in step 5 above) is correctly loaded or not?"
      ]
    },
    {
      "cell_type": "code",
      "metadata": {
        "id": "6w83B28VG_F0",
        "colab_type": "code",
        "colab": {
          "base_uri": "https://localhost:8080/",
          "height": 34
        },
        "outputId": "eeb63c7b-3682-46dd-f245-80d0d0a60a87"
      },
      "source": [
        "ls"
      ],
      "execution_count": null,
      "outputs": [
        {
          "output_type": "stream",
          "text": [
            "\u001b[0m\u001b[01;34msample_data\u001b[0m/  submit.csv  test.csv  train.csv\n"
          ],
          "name": "stdout"
        }
      ]
    },
    {
      "cell_type": "markdown",
      "metadata": {
        "id": "-owMCPlcGrY2",
        "colab_type": "text"
      },
      "source": [
        "\n",
        "\n",
        "---\n",
        "\n",
        "\n",
        "\n",
        "---\n",
        "\n"
      ]
    },
    {
      "cell_type": "markdown",
      "metadata": {
        "id": "KxNIY-gRyP28",
        "colab_type": "text"
      },
      "source": [
        "## Load dataset + describe data"
      ]
    },
    {
      "cell_type": "code",
      "metadata": {
        "id": "LuWzolUOs5ny",
        "colab_type": "code",
        "colab": {
          "base_uri": "https://localhost:8080/",
          "height": 71
        },
        "outputId": "a237dafa-5bb5-46a8-fd20-90e40954ba6d"
      },
      "source": [
        "import pandas as pd\n",
        "import numpy as np\n",
        "import csv\n",
        "from sklearn.feature_extraction.text import CountVectorizer\n",
        "from sklearn.naive_bayes import MultinomialNB\n",
        "from sklearn.feature_extraction.text import TfidfTransformer\n",
        "from sklearn.ensemble import RandomForestClassifier, ExtraTreesClassifier,AdaBoostClassifier\n",
        "import seaborn as sns\n",
        "from matplotlib import rcParams"
      ],
      "execution_count": null,
      "outputs": [
        {
          "output_type": "stream",
          "text": [
            "/usr/local/lib/python3.6/dist-packages/statsmodels/tools/_testing.py:19: FutureWarning: pandas.util.testing is deprecated. Use the functions in the public API at pandas.testing instead.\n",
            "  import pandas.util.testing as tm\n"
          ],
          "name": "stderr"
        }
      ]
    },
    {
      "cell_type": "code",
      "metadata": {
        "id": "-SHqBD77zXSf",
        "colab_type": "code",
        "colab": {
          "base_uri": "https://localhost:8080/",
          "height": 255
        },
        "outputId": "d0ae3556-4283-4702-d9b5-6130913b1cf4"
      },
      "source": [
        "cols=['num','id','title','author', 'text', 'label']\n",
        "\n",
        "train = pd.read_csv('/content/train.csv', header=0, nrows=10000, lineterminator='\\n')\n",
        "train = train.applymap(lambda x: x.strip() if isinstance(x, str) else x)\n",
        "\n",
        "train.columns=['num', 'id','title','author', 'text', 'label']\n",
        "\n",
        "nRow, nCol = train.shape\n",
        "print(f'There are {nRow} rows and {nCol} columns in the training set')\n",
        "\n",
        "# Removing empty rows from csv \n",
        "train.dropna(axis=0, how='all',inplace=True)\n",
        "nRow, nCol = train.shape\n",
        "print(f'There are {nRow} rows and {nCol} columns in the training set after removing empty rows')\n",
        "\n",
        "train.head()"
      ],
      "execution_count": null,
      "outputs": [
        {
          "output_type": "stream",
          "text": [
            "There are 10000 rows and 6 columns in the training set\n",
            "There are 10000 rows and 6 columns in the training set after removing empty rows\n"
          ],
          "name": "stdout"
        },
        {
          "output_type": "execute_result",
          "data": {
            "text/html": [
              "<div>\n",
              "<style scoped>\n",
              "    .dataframe tbody tr th:only-of-type {\n",
              "        vertical-align: middle;\n",
              "    }\n",
              "\n",
              "    .dataframe tbody tr th {\n",
              "        vertical-align: top;\n",
              "    }\n",
              "\n",
              "    .dataframe thead th {\n",
              "        text-align: right;\n",
              "    }\n",
              "</style>\n",
              "<table border=\"1\" class=\"dataframe\">\n",
              "  <thead>\n",
              "    <tr style=\"text-align: right;\">\n",
              "      <th></th>\n",
              "      <th>num</th>\n",
              "      <th>id</th>\n",
              "      <th>title</th>\n",
              "      <th>author</th>\n",
              "      <th>text</th>\n",
              "      <th>label</th>\n",
              "    </tr>\n",
              "  </thead>\n",
              "  <tbody>\n",
              "    <tr>\n",
              "      <th>0</th>\n",
              "      <td>0</td>\n",
              "      <td>0</td>\n",
              "      <td>House Dem Aide: We Didn’t Even See Comey’s Let...</td>\n",
              "      <td>Darrell Lucus</td>\n",
              "      <td>House Dem Aide: We Didn’t Even See Comey’s Let...</td>\n",
              "      <td>1</td>\n",
              "    </tr>\n",
              "    <tr>\n",
              "      <th>1</th>\n",
              "      <td>1</td>\n",
              "      <td>1</td>\n",
              "      <td>FLYNN: Hillary Clinton, Big Woman on Campus - ...</td>\n",
              "      <td>Daniel J. Flynn</td>\n",
              "      <td>Ever get the feeling your life circles the rou...</td>\n",
              "      <td>0</td>\n",
              "    </tr>\n",
              "    <tr>\n",
              "      <th>2</th>\n",
              "      <td>2</td>\n",
              "      <td>2</td>\n",
              "      <td>Why the Truth Might Get You Fired</td>\n",
              "      <td>Consortiumnews.com</td>\n",
              "      <td>Why the Truth Might Get You Fired October 29, ...</td>\n",
              "      <td>1</td>\n",
              "    </tr>\n",
              "    <tr>\n",
              "      <th>3</th>\n",
              "      <td>3</td>\n",
              "      <td>3</td>\n",
              "      <td>15 Civilians Killed In Single US Airstrike Hav...</td>\n",
              "      <td>Jessica Purkiss</td>\n",
              "      <td>Videos 15 Civilians Killed In Single US Airstr...</td>\n",
              "      <td>1</td>\n",
              "    </tr>\n",
              "    <tr>\n",
              "      <th>4</th>\n",
              "      <td>4</td>\n",
              "      <td>4</td>\n",
              "      <td>Iranian woman jailed for fictional unpublished...</td>\n",
              "      <td>Howard Portnoy</td>\n",
              "      <td>Print \\nAn Iranian woman has been sentenced to...</td>\n",
              "      <td>1</td>\n",
              "    </tr>\n",
              "  </tbody>\n",
              "</table>\n",
              "</div>"
            ],
            "text/plain": [
              "   num  id  ...                                               text label\n",
              "0    0   0  ...  House Dem Aide: We Didn’t Even See Comey’s Let...     1\n",
              "1    1   1  ...  Ever get the feeling your life circles the rou...     0\n",
              "2    2   2  ...  Why the Truth Might Get You Fired October 29, ...     1\n",
              "3    3   3  ...  Videos 15 Civilians Killed In Single US Airstr...     1\n",
              "4    4   4  ...  Print \\nAn Iranian woman has been sentenced to...     1\n",
              "\n",
              "[5 rows x 6 columns]"
            ]
          },
          "metadata": {
            "tags": []
          },
          "execution_count": 5
        }
      ]
    },
    {
      "cell_type": "code",
      "metadata": {
        "id": "pX7pmpVy_Lqk",
        "colab_type": "code",
        "colab": {}
      },
      "source": [
        "train = train[~train['text'].str.contains(\"İletişim\", na=False)]"
      ],
      "execution_count": null,
      "outputs": []
    },
    {
      "cell_type": "code",
      "metadata": {
        "id": "lZxvbuOns5n4",
        "colab_type": "code",
        "colab": {
          "base_uri": "https://localhost:8080/",
          "height": 272
        },
        "outputId": "b110b6dc-9168-4ca3-a47b-dd4189dc745a"
      },
      "source": [
        "cols=['num','id','title','author', 'text']\n",
        "\n",
        "test = pd.read_csv('/content/test.csv', header=0, nrows=10000, lineterminator='\\n')\n",
        "test = test.applymap(lambda x: x.strip() if isinstance(x, str) else x)\n",
        "\n",
        "test.columns=['num', 'id','title','author', 'text']\n",
        "\n",
        "nRow, nCol = test.shape\n",
        "print(f'There are {nRow} rows and {nCol} columns in the testing set')\n",
        "\n",
        "# Removing empty rows from csv \n",
        "test.dropna(axis=0, how='all',inplace=True)\n",
        "nRow, nCol = test.shape\n",
        "print(f'There are {nRow} rows and {nCol} columns in the testing set after removing empty rows')\n",
        "\n",
        "test.head()"
      ],
      "execution_count": null,
      "outputs": [
        {
          "output_type": "stream",
          "text": [
            "There are 5200 rows and 5 columns in the testing set\n",
            "There are 5200 rows and 5 columns in the testing set after removing empty rows\n"
          ],
          "name": "stdout"
        },
        {
          "output_type": "execute_result",
          "data": {
            "text/html": [
              "<div>\n",
              "<style scoped>\n",
              "    .dataframe tbody tr th:only-of-type {\n",
              "        vertical-align: middle;\n",
              "    }\n",
              "\n",
              "    .dataframe tbody tr th {\n",
              "        vertical-align: top;\n",
              "    }\n",
              "\n",
              "    .dataframe thead th {\n",
              "        text-align: right;\n",
              "    }\n",
              "</style>\n",
              "<table border=\"1\" class=\"dataframe\">\n",
              "  <thead>\n",
              "    <tr style=\"text-align: right;\">\n",
              "      <th></th>\n",
              "      <th>num</th>\n",
              "      <th>id</th>\n",
              "      <th>title</th>\n",
              "      <th>author</th>\n",
              "      <th>text</th>\n",
              "    </tr>\n",
              "  </thead>\n",
              "  <tbody>\n",
              "    <tr>\n",
              "      <th>0</th>\n",
              "      <td>20800</td>\n",
              "      <td>20800</td>\n",
              "      <td>Specter of Trump Loosens Tongues, if Not Purse...</td>\n",
              "      <td>David Streitfeld</td>\n",
              "      <td>PALO ALTO, Calif.  —   After years of scorning...</td>\n",
              "    </tr>\n",
              "    <tr>\n",
              "      <th>1</th>\n",
              "      <td>20801</td>\n",
              "      <td>20801</td>\n",
              "      <td>Russian warships ready to strike terrorists ne...</td>\n",
              "      <td>NaN</td>\n",
              "      <td>Russian warships ready to strike terrorists ne...</td>\n",
              "    </tr>\n",
              "    <tr>\n",
              "      <th>2</th>\n",
              "      <td>20802</td>\n",
              "      <td>20802</td>\n",
              "      <td>#NoDAPL: Native American Leaders Vow to Stay A...</td>\n",
              "      <td>Common Dreams</td>\n",
              "      <td>Videos #NoDAPL: Native American Leaders Vow to...</td>\n",
              "    </tr>\n",
              "    <tr>\n",
              "      <th>3</th>\n",
              "      <td>20803</td>\n",
              "      <td>20803</td>\n",
              "      <td>Tim Tebow Will Attempt Another Comeback, This ...</td>\n",
              "      <td>Daniel Victor</td>\n",
              "      <td>If at first you don’t succeed, try a different...</td>\n",
              "    </tr>\n",
              "    <tr>\n",
              "      <th>4</th>\n",
              "      <td>20804</td>\n",
              "      <td>20804</td>\n",
              "      <td>Keiser Report: Meme Wars (E995)</td>\n",
              "      <td>Truth Broadcast Network</td>\n",
              "      <td>42 mins ago 1 Views 0 Comments 0 Likes 'For th...</td>\n",
              "    </tr>\n",
              "  </tbody>\n",
              "</table>\n",
              "</div>"
            ],
            "text/plain": [
              "     num  ...                                               text\n",
              "0  20800  ...  PALO ALTO, Calif.  —   After years of scorning...\n",
              "1  20801  ...  Russian warships ready to strike terrorists ne...\n",
              "2  20802  ...  Videos #NoDAPL: Native American Leaders Vow to...\n",
              "3  20803  ...  If at first you don’t succeed, try a different...\n",
              "4  20804  ...  42 mins ago 1 Views 0 Comments 0 Likes 'For th...\n",
              "\n",
              "[5 rows x 5 columns]"
            ]
          },
          "metadata": {
            "tags": []
          },
          "execution_count": 11
        }
      ]
    },
    {
      "cell_type": "code",
      "metadata": {
        "id": "S-x105Wq_i59",
        "colab_type": "code",
        "colab": {}
      },
      "source": [
        "test = test[~test['text'].str.contains(\"İletişim\", na=False)]"
      ],
      "execution_count": null,
      "outputs": []
    },
    {
      "cell_type": "code",
      "metadata": {
        "id": "hu85g3lh0Lg7",
        "colab_type": "code",
        "colab": {
          "base_uri": "https://localhost:8080/",
          "height": 238
        },
        "outputId": "8b3c9c85-0b0e-4f4f-abe4-176332e9097d"
      },
      "source": [
        "cols=['id', 'label']\n",
        "\n",
        "submit = pd.read_csv('/content/submit.csv', header=0, nrows=10000, lineterminator='\\n')\n",
        "submit = submit.applymap(lambda x: x.strip() if isinstance(x, str) else x)\n",
        "\n",
        "submit.columns=['id','label']\n",
        "nRow, nCol = submit.shape\n",
        "print(f'There are {nRow} rows and {nCol} columns in the submit set')\n",
        "\n",
        "# Removing empty rows from csv \n",
        "submit.dropna(axis=0, how='all',inplace=True)\n",
        "nRow, nCol = submit.shape\n",
        "print(f'There are {nRow} rows and {nCol} columns in the submit set after removing empty rows')\n",
        "\n",
        "submit.head()"
      ],
      "execution_count": null,
      "outputs": [
        {
          "output_type": "stream",
          "text": [
            "There are 5200 rows and 2 columns in the submit set\n",
            "There are 5200 rows and 2 columns in the submit set after removing empty rows\n"
          ],
          "name": "stdout"
        },
        {
          "output_type": "execute_result",
          "data": {
            "text/html": [
              "<div>\n",
              "<style scoped>\n",
              "    .dataframe tbody tr th:only-of-type {\n",
              "        vertical-align: middle;\n",
              "    }\n",
              "\n",
              "    .dataframe tbody tr th {\n",
              "        vertical-align: top;\n",
              "    }\n",
              "\n",
              "    .dataframe thead th {\n",
              "        text-align: right;\n",
              "    }\n",
              "</style>\n",
              "<table border=\"1\" class=\"dataframe\">\n",
              "  <thead>\n",
              "    <tr style=\"text-align: right;\">\n",
              "      <th></th>\n",
              "      <th>id</th>\n",
              "      <th>label</th>\n",
              "    </tr>\n",
              "  </thead>\n",
              "  <tbody>\n",
              "    <tr>\n",
              "      <th>0</th>\n",
              "      <td>20800</td>\n",
              "      <td>0</td>\n",
              "    </tr>\n",
              "    <tr>\n",
              "      <th>1</th>\n",
              "      <td>20801</td>\n",
              "      <td>1</td>\n",
              "    </tr>\n",
              "    <tr>\n",
              "      <th>2</th>\n",
              "      <td>20802</td>\n",
              "      <td>0</td>\n",
              "    </tr>\n",
              "    <tr>\n",
              "      <th>3</th>\n",
              "      <td>20803</td>\n",
              "      <td>1</td>\n",
              "    </tr>\n",
              "    <tr>\n",
              "      <th>4</th>\n",
              "      <td>20804</td>\n",
              "      <td>1</td>\n",
              "    </tr>\n",
              "  </tbody>\n",
              "</table>\n",
              "</div>"
            ],
            "text/plain": [
              "      id  label\n",
              "0  20800      0\n",
              "1  20801      1\n",
              "2  20802      0\n",
              "3  20803      1\n",
              "4  20804      1"
            ]
          },
          "metadata": {
            "tags": []
          },
          "execution_count": 13
        }
      ]
    },
    {
      "cell_type": "code",
      "metadata": {
        "id": "Ap5i19Vu0gW6",
        "colab_type": "code",
        "colab": {
          "base_uri": "https://localhost:8080/",
          "height": 238
        },
        "outputId": "545947e6-e381-4fe0-8a54-419be3b864ae"
      },
      "source": [
        "train = train[pd.to_numeric(train['num'], errors='coerce').notnull()]\n",
        "\n",
        "nRow, nCol = train.shape\n",
        "print(f'There are {nRow} rows and {nCol} columns in the training set')\n",
        "\n",
        "train.head()"
      ],
      "execution_count": null,
      "outputs": [
        {
          "output_type": "stream",
          "text": [
            "There are 9997 rows and 6 columns in the training set\n"
          ],
          "name": "stdout"
        },
        {
          "output_type": "execute_result",
          "data": {
            "text/html": [
              "<div>\n",
              "<style scoped>\n",
              "    .dataframe tbody tr th:only-of-type {\n",
              "        vertical-align: middle;\n",
              "    }\n",
              "\n",
              "    .dataframe tbody tr th {\n",
              "        vertical-align: top;\n",
              "    }\n",
              "\n",
              "    .dataframe thead th {\n",
              "        text-align: right;\n",
              "    }\n",
              "</style>\n",
              "<table border=\"1\" class=\"dataframe\">\n",
              "  <thead>\n",
              "    <tr style=\"text-align: right;\">\n",
              "      <th></th>\n",
              "      <th>num</th>\n",
              "      <th>id</th>\n",
              "      <th>title</th>\n",
              "      <th>author</th>\n",
              "      <th>text</th>\n",
              "      <th>label</th>\n",
              "    </tr>\n",
              "  </thead>\n",
              "  <tbody>\n",
              "    <tr>\n",
              "      <th>0</th>\n",
              "      <td>0</td>\n",
              "      <td>0</td>\n",
              "      <td>House Dem Aide: We Didn’t Even See Comey’s Let...</td>\n",
              "      <td>Darrell Lucus</td>\n",
              "      <td>House Dem Aide: We Didn’t Even See Comey’s Let...</td>\n",
              "      <td>1</td>\n",
              "    </tr>\n",
              "    <tr>\n",
              "      <th>1</th>\n",
              "      <td>1</td>\n",
              "      <td>1</td>\n",
              "      <td>FLYNN: Hillary Clinton, Big Woman on Campus - ...</td>\n",
              "      <td>Daniel J. Flynn</td>\n",
              "      <td>Ever get the feeling your life circles the rou...</td>\n",
              "      <td>0</td>\n",
              "    </tr>\n",
              "    <tr>\n",
              "      <th>2</th>\n",
              "      <td>2</td>\n",
              "      <td>2</td>\n",
              "      <td>Why the Truth Might Get You Fired</td>\n",
              "      <td>Consortiumnews.com</td>\n",
              "      <td>Why the Truth Might Get You Fired October 29, ...</td>\n",
              "      <td>1</td>\n",
              "    </tr>\n",
              "    <tr>\n",
              "      <th>3</th>\n",
              "      <td>3</td>\n",
              "      <td>3</td>\n",
              "      <td>15 Civilians Killed In Single US Airstrike Hav...</td>\n",
              "      <td>Jessica Purkiss</td>\n",
              "      <td>Videos 15 Civilians Killed In Single US Airstr...</td>\n",
              "      <td>1</td>\n",
              "    </tr>\n",
              "    <tr>\n",
              "      <th>4</th>\n",
              "      <td>4</td>\n",
              "      <td>4</td>\n",
              "      <td>Iranian woman jailed for fictional unpublished...</td>\n",
              "      <td>Howard Portnoy</td>\n",
              "      <td>Print \\nAn Iranian woman has been sentenced to...</td>\n",
              "      <td>1</td>\n",
              "    </tr>\n",
              "  </tbody>\n",
              "</table>\n",
              "</div>"
            ],
            "text/plain": [
              "   num  id  ...                                               text label\n",
              "0    0   0  ...  House Dem Aide: We Didn’t Even See Comey’s Let...     1\n",
              "1    1   1  ...  Ever get the feeling your life circles the rou...     0\n",
              "2    2   2  ...  Why the Truth Might Get You Fired October 29, ...     1\n",
              "3    3   3  ...  Videos 15 Civilians Killed In Single US Airstr...     1\n",
              "4    4   4  ...  Print \\nAn Iranian woman has been sentenced to...     1\n",
              "\n",
              "[5 rows x 6 columns]"
            ]
          },
          "metadata": {
            "tags": []
          },
          "execution_count": 14
        }
      ]
    },
    {
      "cell_type": "code",
      "metadata": {
        "id": "ydFchBD30qbD",
        "colab_type": "code",
        "colab": {
          "base_uri": "https://localhost:8080/",
          "height": 255
        },
        "outputId": "c03001c9-89a7-4ac4-ab75-8a914df8006f"
      },
      "source": [
        "test = test[pd.to_numeric(test['num'], errors='coerce').notnull()]\n",
        "\n",
        "nRow, nCol = test.shape\n",
        "print(f'There are {nRow} rows and {nCol} columns in the testing set')\n",
        "\n",
        "test.head()"
      ],
      "execution_count": null,
      "outputs": [
        {
          "output_type": "stream",
          "text": [
            "There are 5197 rows and 5 columns in the testing set\n"
          ],
          "name": "stdout"
        },
        {
          "output_type": "execute_result",
          "data": {
            "text/html": [
              "<div>\n",
              "<style scoped>\n",
              "    .dataframe tbody tr th:only-of-type {\n",
              "        vertical-align: middle;\n",
              "    }\n",
              "\n",
              "    .dataframe tbody tr th {\n",
              "        vertical-align: top;\n",
              "    }\n",
              "\n",
              "    .dataframe thead th {\n",
              "        text-align: right;\n",
              "    }\n",
              "</style>\n",
              "<table border=\"1\" class=\"dataframe\">\n",
              "  <thead>\n",
              "    <tr style=\"text-align: right;\">\n",
              "      <th></th>\n",
              "      <th>num</th>\n",
              "      <th>id</th>\n",
              "      <th>title</th>\n",
              "      <th>author</th>\n",
              "      <th>text</th>\n",
              "    </tr>\n",
              "  </thead>\n",
              "  <tbody>\n",
              "    <tr>\n",
              "      <th>0</th>\n",
              "      <td>20800</td>\n",
              "      <td>20800</td>\n",
              "      <td>Specter of Trump Loosens Tongues, if Not Purse...</td>\n",
              "      <td>David Streitfeld</td>\n",
              "      <td>PALO ALTO, Calif.  —   After years of scorning...</td>\n",
              "    </tr>\n",
              "    <tr>\n",
              "      <th>1</th>\n",
              "      <td>20801</td>\n",
              "      <td>20801</td>\n",
              "      <td>Russian warships ready to strike terrorists ne...</td>\n",
              "      <td>NaN</td>\n",
              "      <td>Russian warships ready to strike terrorists ne...</td>\n",
              "    </tr>\n",
              "    <tr>\n",
              "      <th>2</th>\n",
              "      <td>20802</td>\n",
              "      <td>20802</td>\n",
              "      <td>#NoDAPL: Native American Leaders Vow to Stay A...</td>\n",
              "      <td>Common Dreams</td>\n",
              "      <td>Videos #NoDAPL: Native American Leaders Vow to...</td>\n",
              "    </tr>\n",
              "    <tr>\n",
              "      <th>3</th>\n",
              "      <td>20803</td>\n",
              "      <td>20803</td>\n",
              "      <td>Tim Tebow Will Attempt Another Comeback, This ...</td>\n",
              "      <td>Daniel Victor</td>\n",
              "      <td>If at first you don’t succeed, try a different...</td>\n",
              "    </tr>\n",
              "    <tr>\n",
              "      <th>4</th>\n",
              "      <td>20804</td>\n",
              "      <td>20804</td>\n",
              "      <td>Keiser Report: Meme Wars (E995)</td>\n",
              "      <td>Truth Broadcast Network</td>\n",
              "      <td>42 mins ago 1 Views 0 Comments 0 Likes 'For th...</td>\n",
              "    </tr>\n",
              "  </tbody>\n",
              "</table>\n",
              "</div>"
            ],
            "text/plain": [
              "     num  ...                                               text\n",
              "0  20800  ...  PALO ALTO, Calif.  —   After years of scorning...\n",
              "1  20801  ...  Russian warships ready to strike terrorists ne...\n",
              "2  20802  ...  Videos #NoDAPL: Native American Leaders Vow to...\n",
              "3  20803  ...  If at first you don’t succeed, try a different...\n",
              "4  20804  ...  42 mins ago 1 Views 0 Comments 0 Likes 'For th...\n",
              "\n",
              "[5 rows x 5 columns]"
            ]
          },
          "metadata": {
            "tags": []
          },
          "execution_count": 15
        }
      ]
    },
    {
      "cell_type": "code",
      "metadata": {
        "id": "njRXzz4C0qSz",
        "colab_type": "code",
        "colab": {
          "base_uri": "https://localhost:8080/",
          "height": 221
        },
        "outputId": "ddb38d15-8c5d-45d8-8e4c-b499d1aebc6c"
      },
      "source": [
        "submit = submit[pd.to_numeric(submit['id'], errors='coerce').notnull()]\n",
        "\n",
        "nRow, nCol = submit.shape\n",
        "print(f'There are {nRow} rows and {nCol} columns in the submit set')\n",
        "\n",
        "submit.head()"
      ],
      "execution_count": null,
      "outputs": [
        {
          "output_type": "stream",
          "text": [
            "There are 5200 rows and 2 columns in the submit set\n"
          ],
          "name": "stdout"
        },
        {
          "output_type": "execute_result",
          "data": {
            "text/html": [
              "<div>\n",
              "<style scoped>\n",
              "    .dataframe tbody tr th:only-of-type {\n",
              "        vertical-align: middle;\n",
              "    }\n",
              "\n",
              "    .dataframe tbody tr th {\n",
              "        vertical-align: top;\n",
              "    }\n",
              "\n",
              "    .dataframe thead th {\n",
              "        text-align: right;\n",
              "    }\n",
              "</style>\n",
              "<table border=\"1\" class=\"dataframe\">\n",
              "  <thead>\n",
              "    <tr style=\"text-align: right;\">\n",
              "      <th></th>\n",
              "      <th>id</th>\n",
              "      <th>label</th>\n",
              "    </tr>\n",
              "  </thead>\n",
              "  <tbody>\n",
              "    <tr>\n",
              "      <th>0</th>\n",
              "      <td>20800</td>\n",
              "      <td>0</td>\n",
              "    </tr>\n",
              "    <tr>\n",
              "      <th>1</th>\n",
              "      <td>20801</td>\n",
              "      <td>1</td>\n",
              "    </tr>\n",
              "    <tr>\n",
              "      <th>2</th>\n",
              "      <td>20802</td>\n",
              "      <td>0</td>\n",
              "    </tr>\n",
              "    <tr>\n",
              "      <th>3</th>\n",
              "      <td>20803</td>\n",
              "      <td>1</td>\n",
              "    </tr>\n",
              "    <tr>\n",
              "      <th>4</th>\n",
              "      <td>20804</td>\n",
              "      <td>1</td>\n",
              "    </tr>\n",
              "  </tbody>\n",
              "</table>\n",
              "</div>"
            ],
            "text/plain": [
              "      id  label\n",
              "0  20800      0\n",
              "1  20801      1\n",
              "2  20802      0\n",
              "3  20803      1\n",
              "4  20804      1"
            ]
          },
          "metadata": {
            "tags": []
          },
          "execution_count": 16
        }
      ]
    },
    {
      "cell_type": "markdown",
      "metadata": {
        "id": "uDqApC7dxxh4",
        "colab_type": "text"
      },
      "source": [
        "## Pre-Processing Steps:\n",
        "These are the same from previous sessions: \n",
        "  - Expand contractions\n",
        "  - Noise cleaning\n",
        "  - Remove *stopwords*"
      ]
    },
    {
      "cell_type": "markdown",
      "metadata": {
        "id": "sI4meDNGIihE",
        "colab_type": "text"
      },
      "source": [
        "### Parts of Speech (POS) Tagging"
      ]
    },
    {
      "cell_type": "markdown",
      "metadata": {
        "id": "TsIPPdEMEU_c",
        "colab_type": "text"
      },
      "source": [
        "#### Import libraries"
      ]
    },
    {
      "cell_type": "code",
      "metadata": {
        "id": "GZxWqKVuI7eG",
        "colab_type": "code",
        "colab": {
          "base_uri": "https://localhost:8080/",
          "height": 102
        },
        "outputId": "ac6f0232-8389-47ed-988b-f5152711b59e"
      },
      "source": [
        "import nltk\n",
        "nltk.download('punkt')\n",
        "nltk.download('averaged_perceptron_tagger')\n",
        "from nltk.tokenize import word_tokenize"
      ],
      "execution_count": null,
      "outputs": [
        {
          "output_type": "stream",
          "text": [
            "[nltk_data] Downloading package punkt to /root/nltk_data...\n",
            "[nltk_data]   Unzipping tokenizers/punkt.zip.\n",
            "[nltk_data] Downloading package averaged_perceptron_tagger to\n",
            "[nltk_data]     /root/nltk_data...\n",
            "[nltk_data]   Unzipping taggers/averaged_perceptron_tagger.zip.\n"
          ],
          "name": "stdout"
        }
      ]
    },
    {
      "cell_type": "code",
      "metadata": {
        "id": "tq31mdCbI-XY",
        "colab_type": "code",
        "colab": {
          "base_uri": "https://localhost:8080/",
          "height": 326
        },
        "outputId": "db9db8aa-0cfa-41aa-f42a-cf9784accdcc"
      },
      "source": [
        "# Contraction Mapping\n",
        "\n",
        "!pip install contractions\n",
        "import contractions"
      ],
      "execution_count": null,
      "outputs": [
        {
          "output_type": "stream",
          "text": [
            "Collecting contractions\n",
            "  Downloading https://files.pythonhosted.org/packages/00/92/a05b76a692ac08d470ae5c23873cf1c9a041532f1ee065e74b374f218306/contractions-0.0.25-py2.py3-none-any.whl\n",
            "Collecting textsearch\n",
            "  Downloading https://files.pythonhosted.org/packages/42/a8/03407021f9555043de5492a2bd7a35c56cc03c2510092b5ec018cae1bbf1/textsearch-0.0.17-py2.py3-none-any.whl\n",
            "Collecting Unidecode\n",
            "\u001b[?25l  Downloading https://files.pythonhosted.org/packages/d0/42/d9edfed04228bacea2d824904cae367ee9efd05e6cce7ceaaedd0b0ad964/Unidecode-1.1.1-py2.py3-none-any.whl (238kB)\n",
            "\u001b[K     |████████████████████████████████| 245kB 4.7MB/s \n",
            "\u001b[?25hCollecting pyahocorasick\n",
            "\u001b[?25l  Downloading https://files.pythonhosted.org/packages/f4/9f/f0d8e8850e12829eea2e778f1c90e3c53a9a799b7f412082a5d21cd19ae1/pyahocorasick-1.4.0.tar.gz (312kB)\n",
            "\u001b[K     |████████████████████████████████| 317kB 10.2MB/s \n",
            "\u001b[?25hBuilding wheels for collected packages: pyahocorasick\n",
            "  Building wheel for pyahocorasick (setup.py) ... \u001b[?25l\u001b[?25hdone\n",
            "  Created wheel for pyahocorasick: filename=pyahocorasick-1.4.0-cp36-cp36m-linux_x86_64.whl size=81698 sha256=346df9bebdcea141c72320d2fcd69b51d420e9f33c6f40d6884c2259624e15c1\n",
            "  Stored in directory: /root/.cache/pip/wheels/0a/90/61/87a55f5b459792fbb2b7ba6b31721b06ff5cf6bde541b40994\n",
            "Successfully built pyahocorasick\n",
            "Installing collected packages: Unidecode, pyahocorasick, textsearch, contractions\n",
            "Successfully installed Unidecode-1.1.1 contractions-0.0.25 pyahocorasick-1.4.0 textsearch-0.0.17\n"
          ],
          "name": "stdout"
        }
      ]
    },
    {
      "cell_type": "markdown",
      "metadata": {
        "id": "mO1ZWwhJEJST",
        "colab_type": "text"
      },
      "source": [
        "#### Expand Contractions"
      ]
    },
    {
      "cell_type": "code",
      "metadata": {
        "id": "sB9Ubkmw11LF",
        "colab_type": "code",
        "colab": {
          "base_uri": "https://localhost:8080/",
          "height": 359
        },
        "outputId": "d9051d34-279f-41cf-e460-d1cdcfe02239"
      },
      "source": [
        "train_text = train_new['text']\n",
        "train_text = train_text.to_frame()\n",
        "\n",
        "train_text.sample(10, random_state = 5)"
      ],
      "execution_count": null,
      "outputs": [
        {
          "output_type": "execute_result",
          "data": {
            "text/html": [
              "<div>\n",
              "<style scoped>\n",
              "    .dataframe tbody tr th:only-of-type {\n",
              "        vertical-align: middle;\n",
              "    }\n",
              "\n",
              "    .dataframe tbody tr th {\n",
              "        vertical-align: top;\n",
              "    }\n",
              "\n",
              "    .dataframe thead th {\n",
              "        text-align: right;\n",
              "    }\n",
              "</style>\n",
              "<table border=\"1\" class=\"dataframe\">\n",
              "  <thead>\n",
              "    <tr style=\"text-align: right;\">\n",
              "      <th></th>\n",
              "      <th>text</th>\n",
              "    </tr>\n",
              "  </thead>\n",
              "  <tbody>\n",
              "    <tr>\n",
              "      <th>5403</th>\n",
              "      <td>Fortune Magazine just identified Google and Fa...</td>\n",
              "    </tr>\n",
              "    <tr>\n",
              "      <th>442</th>\n",
              "      <td>Share on Facebook \\nUnless you’ve been living ...</td>\n",
              "    </tr>\n",
              "    <tr>\n",
              "      <th>4166</th>\n",
              "      <td>Posted on October 30, 2016 by DCG | 1 Comment ...</td>\n",
              "    </tr>\n",
              "    <tr>\n",
              "      <th>6638</th>\n",
              "      <td>Blue tie or red dress? Look left or look right...</td>\n",
              "    </tr>\n",
              "    <tr>\n",
              "      <th>2170</th>\n",
              "      <td>Mike Rowe, the ex- Dirty Jobs star and current...</td>\n",
              "    </tr>\n",
              "    <tr>\n",
              "      <th>4431</th>\n",
              "      <td>MIDWAY ATOLL  —   President Obama, taking his ...</td>\n",
              "    </tr>\n",
              "    <tr>\n",
              "      <th>2052</th>\n",
              "      <td>Washinton’s Blog – by David Swanson \\nOfficial...</td>\n",
              "    </tr>\n",
              "    <tr>\n",
              "      <th>5595</th>\n",
              "      <td>October 29th, 2016 - Fort Russ News - \\nRT- Tr...</td>\n",
              "    </tr>\n",
              "    <tr>\n",
              "      <th>6504</th>\n",
              "      <td>10 Medicinal Plants For Your Survival Garden \\...</td>\n",
              "    </tr>\n",
              "    <tr>\n",
              "      <th>413</th>\n",
              "      <td>Barack Obama has been very busy pardoning a gr...</td>\n",
              "    </tr>\n",
              "  </tbody>\n",
              "</table>\n",
              "</div>"
            ],
            "text/plain": [
              "                                                   text\n",
              "5403  Fortune Magazine just identified Google and Fa...\n",
              "442   Share on Facebook \\nUnless you’ve been living ...\n",
              "4166  Posted on October 30, 2016 by DCG | 1 Comment ...\n",
              "6638  Blue tie or red dress? Look left or look right...\n",
              "2170  Mike Rowe, the ex- Dirty Jobs star and current...\n",
              "4431  MIDWAY ATOLL  —   President Obama, taking his ...\n",
              "2052  Washinton’s Blog – by David Swanson \\nOfficial...\n",
              "5595  October 29th, 2016 - Fort Russ News - \\nRT- Tr...\n",
              "6504  10 Medicinal Plants For Your Survival Garden \\...\n",
              "413   Barack Obama has been very busy pardoning a gr..."
            ]
          },
          "metadata": {
            "tags": []
          },
          "execution_count": 19
        }
      ]
    },
    {
      "cell_type": "code",
      "metadata": {
        "id": "fHxV9RfTJE8T",
        "colab_type": "code",
        "colab": {
          "base_uri": "https://localhost:8080/",
          "height": 307
        },
        "outputId": "a88fcdde-632b-4301-cbe0-002caed66bb5"
      },
      "source": [
        "train_text['text'] = train_text['text'].apply(lambda x: [contractions.fix(word) for word in x.split(' ')])\n",
        "train_text.sample(10, random_state = 5)"
      ],
      "execution_count": null,
      "outputs": [
        {
          "output_type": "error",
          "ename": "AttributeError",
          "evalue": "ignored",
          "traceback": [
            "\u001b[0;31m---------------------------------------------------------------------------\u001b[0m",
            "\u001b[0;31mAttributeError\u001b[0m                            Traceback (most recent call last)",
            "\u001b[0;32m<ipython-input-20-f4f48c3514a4>\u001b[0m in \u001b[0;36m<module>\u001b[0;34m()\u001b[0m\n\u001b[0;32m----> 1\u001b[0;31m \u001b[0mtrain_text\u001b[0m\u001b[0;34m[\u001b[0m\u001b[0;34m'text'\u001b[0m\u001b[0;34m]\u001b[0m \u001b[0;34m=\u001b[0m \u001b[0mtrain_text\u001b[0m\u001b[0;34m[\u001b[0m\u001b[0;34m'text'\u001b[0m\u001b[0;34m]\u001b[0m\u001b[0;34m.\u001b[0m\u001b[0mapply\u001b[0m\u001b[0;34m(\u001b[0m\u001b[0;32mlambda\u001b[0m \u001b[0mx\u001b[0m\u001b[0;34m:\u001b[0m \u001b[0;34m[\u001b[0m\u001b[0mcontractions\u001b[0m\u001b[0;34m.\u001b[0m\u001b[0mfix\u001b[0m\u001b[0;34m(\u001b[0m\u001b[0mword\u001b[0m\u001b[0;34m)\u001b[0m \u001b[0;32mfor\u001b[0m \u001b[0mword\u001b[0m \u001b[0;32min\u001b[0m \u001b[0mx\u001b[0m\u001b[0;34m.\u001b[0m\u001b[0msplit\u001b[0m\u001b[0;34m(\u001b[0m\u001b[0;34m' '\u001b[0m\u001b[0;34m)\u001b[0m\u001b[0;34m]\u001b[0m\u001b[0;34m)\u001b[0m\u001b[0;34m\u001b[0m\u001b[0;34m\u001b[0m\u001b[0m\n\u001b[0m\u001b[1;32m      2\u001b[0m \u001b[0mtrain_text\u001b[0m\u001b[0;34m.\u001b[0m\u001b[0msample\u001b[0m\u001b[0;34m(\u001b[0m\u001b[0;36m10\u001b[0m\u001b[0;34m,\u001b[0m \u001b[0mrandom_state\u001b[0m \u001b[0;34m=\u001b[0m \u001b[0;36m5\u001b[0m\u001b[0;34m)\u001b[0m\u001b[0;34m\u001b[0m\u001b[0;34m\u001b[0m\u001b[0m\n",
            "\u001b[0;32m/usr/local/lib/python3.6/dist-packages/pandas/core/series.py\u001b[0m in \u001b[0;36mapply\u001b[0;34m(self, func, convert_dtype, args, **kwds)\u001b[0m\n\u001b[1;32m   3846\u001b[0m             \u001b[0;32melse\u001b[0m\u001b[0;34m:\u001b[0m\u001b[0;34m\u001b[0m\u001b[0;34m\u001b[0m\u001b[0m\n\u001b[1;32m   3847\u001b[0m                 \u001b[0mvalues\u001b[0m \u001b[0;34m=\u001b[0m \u001b[0mself\u001b[0m\u001b[0;34m.\u001b[0m\u001b[0mastype\u001b[0m\u001b[0;34m(\u001b[0m\u001b[0mobject\u001b[0m\u001b[0;34m)\u001b[0m\u001b[0;34m.\u001b[0m\u001b[0mvalues\u001b[0m\u001b[0;34m\u001b[0m\u001b[0;34m\u001b[0m\u001b[0m\n\u001b[0;32m-> 3848\u001b[0;31m                 \u001b[0mmapped\u001b[0m \u001b[0;34m=\u001b[0m \u001b[0mlib\u001b[0m\u001b[0;34m.\u001b[0m\u001b[0mmap_infer\u001b[0m\u001b[0;34m(\u001b[0m\u001b[0mvalues\u001b[0m\u001b[0;34m,\u001b[0m \u001b[0mf\u001b[0m\u001b[0;34m,\u001b[0m \u001b[0mconvert\u001b[0m\u001b[0;34m=\u001b[0m\u001b[0mconvert_dtype\u001b[0m\u001b[0;34m)\u001b[0m\u001b[0;34m\u001b[0m\u001b[0;34m\u001b[0m\u001b[0m\n\u001b[0m\u001b[1;32m   3849\u001b[0m \u001b[0;34m\u001b[0m\u001b[0m\n\u001b[1;32m   3850\u001b[0m         \u001b[0;32mif\u001b[0m \u001b[0mlen\u001b[0m\u001b[0;34m(\u001b[0m\u001b[0mmapped\u001b[0m\u001b[0;34m)\u001b[0m \u001b[0;32mand\u001b[0m \u001b[0misinstance\u001b[0m\u001b[0;34m(\u001b[0m\u001b[0mmapped\u001b[0m\u001b[0;34m[\u001b[0m\u001b[0;36m0\u001b[0m\u001b[0;34m]\u001b[0m\u001b[0;34m,\u001b[0m \u001b[0mSeries\u001b[0m\u001b[0;34m)\u001b[0m\u001b[0;34m:\u001b[0m\u001b[0;34m\u001b[0m\u001b[0;34m\u001b[0m\u001b[0m\n",
            "\u001b[0;32mpandas/_libs/lib.pyx\u001b[0m in \u001b[0;36mpandas._libs.lib.map_infer\u001b[0;34m()\u001b[0m\n",
            "\u001b[0;32m<ipython-input-20-f4f48c3514a4>\u001b[0m in \u001b[0;36m<lambda>\u001b[0;34m(x)\u001b[0m\n\u001b[0;32m----> 1\u001b[0;31m \u001b[0mtrain_text\u001b[0m\u001b[0;34m[\u001b[0m\u001b[0;34m'text'\u001b[0m\u001b[0;34m]\u001b[0m \u001b[0;34m=\u001b[0m \u001b[0mtrain_text\u001b[0m\u001b[0;34m[\u001b[0m\u001b[0;34m'text'\u001b[0m\u001b[0;34m]\u001b[0m\u001b[0;34m.\u001b[0m\u001b[0mapply\u001b[0m\u001b[0;34m(\u001b[0m\u001b[0;32mlambda\u001b[0m \u001b[0mx\u001b[0m\u001b[0;34m:\u001b[0m \u001b[0;34m[\u001b[0m\u001b[0mcontractions\u001b[0m\u001b[0;34m.\u001b[0m\u001b[0mfix\u001b[0m\u001b[0;34m(\u001b[0m\u001b[0mword\u001b[0m\u001b[0;34m)\u001b[0m \u001b[0;32mfor\u001b[0m \u001b[0mword\u001b[0m \u001b[0;32min\u001b[0m \u001b[0mx\u001b[0m\u001b[0;34m.\u001b[0m\u001b[0msplit\u001b[0m\u001b[0;34m(\u001b[0m\u001b[0;34m' '\u001b[0m\u001b[0;34m)\u001b[0m\u001b[0;34m]\u001b[0m\u001b[0;34m)\u001b[0m\u001b[0;34m\u001b[0m\u001b[0;34m\u001b[0m\u001b[0m\n\u001b[0m\u001b[1;32m      2\u001b[0m \u001b[0mtrain_text\u001b[0m\u001b[0;34m.\u001b[0m\u001b[0msample\u001b[0m\u001b[0;34m(\u001b[0m\u001b[0;36m10\u001b[0m\u001b[0;34m,\u001b[0m \u001b[0mrandom_state\u001b[0m \u001b[0;34m=\u001b[0m \u001b[0;36m5\u001b[0m\u001b[0;34m)\u001b[0m\u001b[0;34m\u001b[0m\u001b[0;34m\u001b[0m\u001b[0m\n",
            "\u001b[0;31mAttributeError\u001b[0m: 'float' object has no attribute 'split'"
          ]
        }
      ]
    },
    {
      "cell_type": "code",
      "metadata": {
        "id": "wKR5lJDfJHY5",
        "colab_type": "code",
        "colab": {
          "base_uri": "https://localhost:8080/"
        },
        "outputId": "167134da-2365-4c21-c974-3d4758d946b1"
      },
      "source": [
        "#joining back the list of items into one string\n",
        "\n",
        "train_text['text'] = [' '.join(map(str, l)) for l in train_text['text']]\n",
        "train_text.sample(10, random_state = 5)"
      ],
      "execution_count": null,
      "outputs": [
        {
          "output_type": "execute_result",
          "data": {
            "text/html": [
              "<div>\n",
              "<style scoped>\n",
              "    .dataframe tbody tr th:only-of-type {\n",
              "        vertical-align: middle;\n",
              "    }\n",
              "\n",
              "    .dataframe tbody tr th {\n",
              "        vertical-align: top;\n",
              "    }\n",
              "\n",
              "    .dataframe thead th {\n",
              "        text-align: right;\n",
              "    }\n",
              "</style>\n",
              "<table border=\"1\" class=\"dataframe\">\n",
              "  <thead>\n",
              "    <tr style=\"text-align: right;\">\n",
              "      <th></th>\n",
              "      <th>content</th>\n",
              "    </tr>\n",
              "  </thead>\n",
              "  <tbody>\n",
              "    <tr>\n",
              "      <th>7054</th>\n",
              "      <td>“O. K. Craig,” the father asks, “you ready?” “...</td>\n",
              "    </tr>\n",
              "    <tr>\n",
              "      <th>442</th>\n",
              "      <td>On an October day, Anne Davis, 76, wheeled int...</td>\n",
              "    </tr>\n",
              "    <tr>\n",
              "      <th>3954</th>\n",
              "      <td>Seldom does a new credit card go viral. There ...</td>\n",
              "    </tr>\n",
              "    <tr>\n",
              "      <th>2288</th>\n",
              "      <td>Pressure mounted on Tuesday for Fox News to ta...</td>\n",
              "    </tr>\n",
              "    <tr>\n",
              "      <th>3196</th>\n",
              "      <td>ROME — A homeless man was detained on Tuesday ...</td>\n",
              "    </tr>\n",
              "    <tr>\n",
              "      <th>6178</th>\n",
              "      <td>This article is part of a series aimed at help...</td>\n",
              "    </tr>\n",
              "    <tr>\n",
              "      <th>8351</th>\n",
              "      <td>Fresh from a tour of ‘ zones’ across Europe, B...</td>\n",
              "    </tr>\n",
              "    <tr>\n",
              "      <th>5658</th>\n",
              "      <td>(Want to get this briefing by email? Here’s th...</td>\n",
              "    </tr>\n",
              "    <tr>\n",
              "      <th>2065</th>\n",
              "      <td>WASHINGTON — The sudden death of legislation t...</td>\n",
              "    </tr>\n",
              "    <tr>\n",
              "      <th>413</th>\n",
              "      <td>WASHINGTON — The Obama administration has writ...</td>\n",
              "    </tr>\n",
              "  </tbody>\n",
              "</table>\n",
              "</div>"
            ],
            "text/plain": [
              "                                                content\n",
              "7054  “O. K. Craig,” the father asks, “you ready?” “...\n",
              "442   On an October day, Anne Davis, 76, wheeled int...\n",
              "3954  Seldom does a new credit card go viral. There ...\n",
              "2288  Pressure mounted on Tuesday for Fox News to ta...\n",
              "3196  ROME — A homeless man was detained on Tuesday ...\n",
              "6178  This article is part of a series aimed at help...\n",
              "8351  Fresh from a tour of ‘ zones’ across Europe, B...\n",
              "5658  (Want to get this briefing by email? Here’s th...\n",
              "2065  WASHINGTON — The sudden death of legislation t...\n",
              "413   WASHINGTON — The Obama administration has writ..."
            ]
          },
          "metadata": {
            "tags": []
          },
          "execution_count": 10
        }
      ]
    },
    {
      "cell_type": "code",
      "metadata": {
        "id": "9FA11FHnJJl7",
        "colab_type": "code",
        "colab": {
          "base_uri": "https://localhost:8080/"
        },
        "outputId": "c7f59f4d-f06c-4ee2-f77b-299165f5304c"
      },
      "source": [
        "# you can explore individual cells like this\n",
        "\n",
        "print(train_text['text'][0])\n",
        "print(type(train_text['text'][0]))"
      ],
      "execution_count": null,
      "outputs": [
        {
          "output_type": "stream",
          "text": [
            "WASHINGTON — Congressional Republicans have a new fear when it comes to their health care lawsuit against the Obama administration: They might win. The incoming Trump administration could choose to no longer defend the executive branch against the suit, which challenges the administration’s authority to spend billions of dollars on health insurance subsidies for and Americans, handing House Republicans a big victory on issues. But a sudden loss of the disputed subsidies could conceivably because the health care program to implode, leaving millions of people without access to health insurance before Republicans have prepared a replacement. That could lead to chaos in the insurance market and spur a political backlash just as Republicans gain full control of the government. To stave off that outcome, Republicans could find themselves in the awkward position of appropriating huge sums to temporarily prop up the Obama health care law, angering conservative voters who have been demanding an end to the law for years. In another twist, Donald J. Trump’s administration, worried about preserving executive branch prerogatives, could choose to fight its Republican allies in the House on some central questions in the dispute. Eager to avoid an ugly political pileup, Republicans on Capitol Hill and the Trump transition team are gaming out how to handle the lawsuit, which, after the election, has been put in limbo until at least late February by the United States Court of Appeals for the District of Columbia Circuit. They are not yet ready to divulge their strategy. “Given that this pending litigation involves the Obama administration and Congress, it would be inappropriate to comment,” said Phillip J. Blando, a spokesman for the Trump transition effort. “Upon taking office, the Trump administration will evaluate this case and all related aspects of the Affordable Care Act. ” In a potentially decision in 2015, Judge Rosemary M. Collyer ruled that House Republicans had the standing to sue the executive branch over a spending dispute and that the Obama administration had been distributing the health insurance subsidies, in violation of the Constitution, without approval from Congress. The Justice Department, confident that Judge Collyer’s decision would be reversed, quickly appealed, and the subsidies have remained in place during the appeal. In successfully seeking a temporary halt in the proceedings after Mr. Trump won, House Republicans last month told the court that they “and the ’s transition team currently are discussing potential options for resolution of this matter, to take effect after the ’s inauguration on january 20, 2017. ” The suspension of the case, House lawyers said, will “provide the and his future administration time to consider whether to continue prosecuting or to otherwise resolve this appeal. ” Republican leadership officials in the House acknowledge the possibility of “cascading effects” if the payments, which have totaled an estimated $13 billion, are suddenly stopped. Insurers that receive the subsidies in exchange for paying costs such as deductibles and for eligible consumers could race to drop coverage since they would be losing money. Over all, the loss of the subsidies could destabilize the entire program and because a lack of confidence that leads other insurers to seek a quick exit as well. Anticipating that the Trump administration might not be inclined to mount a vigorous fight against the House Republicans given the ’s dim view of the health care law, a team of lawyers this month sought to intervene in the case on behalf of two participants in the health care program. In their request, the lawyers predicted that a deal between House Republicans and the new administration to dismiss or settle the case “will produce devastating consequences for the individuals who receive these reductions, as well as for the nation’s health insurance and health care systems generally. ” No matter what happens, House Republicans say, they want to prevail on two overarching concepts: the congressional power of the purse, and the right of Congress to sue the executive branch if it violates the Constitution regarding that spending power. House Republicans contend that Congress never appropriated the money for the subsidies, as required by the Constitution. In the suit, which was initially championed by John A. Boehner, the House speaker at the time, and later in House committee reports, Republicans asserted that the administration, desperate for the funding, had required the Treasury Department to provide it despite widespread internal skepticism that the spending was proper. The White House said that the spending was a permanent part of the law passed in 2010, and that no annual appropriation was required — even though the administration initially sought one. Just as important to House Republicans, Judge Collyer found that Congress had the standing to sue the White House on this issue — a ruling that many legal experts said was flawed — and they want that precedent to be set to restore congressional leverage over the executive branch. But on spending power and standing, the Trump administration may come under pressure from advocates of presidential authority to fight the House no matter their shared views on health care, since those precedents could have broad repercussions. It is a complicated set of dynamics illustrating how a quick legal victory for the House in the Trump era might come with costs that Republicans never anticipated when they took on the Obama White House.\n",
            "<class 'str'>\n"
          ],
          "name": "stdout"
        }
      ]
    },
    {
      "cell_type": "markdown",
      "metadata": {
        "id": "OGz8sVgxEPnQ",
        "colab_type": "text"
      },
      "source": [
        "#### Noise Cleaning"
      ]
    },
    {
      "cell_type": "code",
      "metadata": {
        "id": "GjqurOdAJKlm",
        "colab_type": "code",
        "colab": {
          "base_uri": "https://localhost:8080/",
          "height": 204
        },
        "outputId": "33bf3e64-3b88-4355-a97f-5b4dd5c1c081"
      },
      "source": [
        "# Noise Cleaning - spacing, special characters, lowercasing \n",
        "\n",
        "import regex as re\n",
        "train_text['text'] = train_text['text'].str.lower()\n",
        "train_text['text'] = train_text['text'].apply(lambda x: re.sub(r'[^\\w\\d\\s\\']+', '', x))\n",
        "\n",
        "train_text['text'].sample(10, random_state = 5)"
      ],
      "execution_count": null,
      "outputs": [
        {
          "output_type": "execute_result",
          "data": {
            "text/plain": [
              "2757    posted by b on november 1 2016 at 0311 pm  per...\n",
              "745      cdc scientist confirms donald trump is right ...\n",
              "7787    department of homeland security secretary john...\n",
              "69       bernie sanders berniesanders october 27 2016 ...\n",
              "3159    next cold war roundup 11116 iraqi forces enter...\n",
              "8537    zero hedge \\nwith furious democrats  and the c...\n",
              "5764    multiple ny police departments under investiga...\n",
              "3265    starstruck and partyfanatic the moral paradox ...\n",
              "9883    un deploys troops to american college campuses...\n",
              "7469    is there any merit in taking a cynical view of...\n",
              "Name: text, dtype: object"
            ]
          },
          "metadata": {
            "tags": []
          },
          "execution_count": 38
        }
      ]
    },
    {
      "cell_type": "markdown",
      "metadata": {
        "id": "qIqZmLsMJRaL",
        "colab_type": "text"
      },
      "source": [
        "Regex explanation: \n",
        "\n",
        "1.   [^] matches everything but everything inside the blockquotes\n",
        "2.   \\w matches any word character (equal to [a-zA-Z0-9_])\n",
        "3.   \\d matches a digit (equal to [0-9])\n",
        "4.   \\s matches any whitespace character (equal to [\\r\\n\\t\\f\\v ])\n",
        "5.   \\' matches the character ' literally (case sensitive)\n",
        "6.   '+' matches between one and unlimited times, as many times as possible, giving back as needed"
      ]
    },
    {
      "cell_type": "code",
      "metadata": {
        "id": "rQ4fPMlAJObC",
        "colab_type": "code",
        "colab": {
          "base_uri": "https://localhost:8080/",
          "height": 359
        },
        "outputId": "76a36dbb-0783-49e4-9ac3-f75c2aa22771"
      },
      "source": [
        "#nltk tokenization\n",
        "\n",
        "train_text['tokenized_text'] = train_text['text'].apply(word_tokenize)\n",
        "train_text.sample(10, random_state = 5)"
      ],
      "execution_count": null,
      "outputs": [
        {
          "output_type": "execute_result",
          "data": {
            "text/html": [
              "<div>\n",
              "<style scoped>\n",
              "    .dataframe tbody tr th:only-of-type {\n",
              "        vertical-align: middle;\n",
              "    }\n",
              "\n",
              "    .dataframe tbody tr th {\n",
              "        vertical-align: top;\n",
              "    }\n",
              "\n",
              "    .dataframe thead th {\n",
              "        text-align: right;\n",
              "    }\n",
              "</style>\n",
              "<table border=\"1\" class=\"dataframe\">\n",
              "  <thead>\n",
              "    <tr style=\"text-align: right;\">\n",
              "      <th></th>\n",
              "      <th>text</th>\n",
              "      <th>tokenized_text</th>\n",
              "    </tr>\n",
              "  </thead>\n",
              "  <tbody>\n",
              "    <tr>\n",
              "      <th>2757</th>\n",
              "      <td>posted by b on november 1 2016 at 0311 pm  per...</td>\n",
              "      <td>[posted, by, b, on, november, 1, 2016, at, 031...</td>\n",
              "    </tr>\n",
              "    <tr>\n",
              "      <th>745</th>\n",
              "      <td>cdc scientist confirms donald trump is right ...</td>\n",
              "      <td>[cdc, scientist, confirms, donald, trump, is, ...</td>\n",
              "    </tr>\n",
              "    <tr>\n",
              "      <th>7787</th>\n",
              "      <td>department of homeland security secretary john...</td>\n",
              "      <td>[department, of, homeland, security, secretary...</td>\n",
              "    </tr>\n",
              "    <tr>\n",
              "      <th>69</th>\n",
              "      <td>bernie sanders berniesanders october 27 2016 ...</td>\n",
              "      <td>[bernie, sanders, berniesanders, october, 27, ...</td>\n",
              "    </tr>\n",
              "    <tr>\n",
              "      <th>3159</th>\n",
              "      <td>next cold war roundup 11116 iraqi forces enter...</td>\n",
              "      <td>[next, cold, war, roundup, 11116, iraqi, force...</td>\n",
              "    </tr>\n",
              "    <tr>\n",
              "      <th>8537</th>\n",
              "      <td>zero hedge \\nwith furious democrats  and the c...</td>\n",
              "      <td>[zero, hedge, with, furious, democrats, and, t...</td>\n",
              "    </tr>\n",
              "    <tr>\n",
              "      <th>5764</th>\n",
              "      <td>multiple ny police departments under investiga...</td>\n",
              "      <td>[multiple, ny, police, departments, under, inv...</td>\n",
              "    </tr>\n",
              "    <tr>\n",
              "      <th>3265</th>\n",
              "      <td>starstruck and partyfanatic the moral paradox ...</td>\n",
              "      <td>[starstruck, and, partyfanatic, the, moral, pa...</td>\n",
              "    </tr>\n",
              "    <tr>\n",
              "      <th>9883</th>\n",
              "      <td>un deploys troops to american college campuses...</td>\n",
              "      <td>[un, deploys, troops, to, american, college, c...</td>\n",
              "    </tr>\n",
              "    <tr>\n",
              "      <th>7469</th>\n",
              "      <td>is there any merit in taking a cynical view of...</td>\n",
              "      <td>[is, there, any, merit, in, taking, a, cynical...</td>\n",
              "    </tr>\n",
              "  </tbody>\n",
              "</table>\n",
              "</div>"
            ],
            "text/plain": [
              "                                                   text                                     tokenized_text\n",
              "2757  posted by b on november 1 2016 at 0311 pm  per...  [posted, by, b, on, november, 1, 2016, at, 031...\n",
              "745    cdc scientist confirms donald trump is right ...  [cdc, scientist, confirms, donald, trump, is, ...\n",
              "7787  department of homeland security secretary john...  [department, of, homeland, security, secretary...\n",
              "69     bernie sanders berniesanders october 27 2016 ...  [bernie, sanders, berniesanders, october, 27, ...\n",
              "3159  next cold war roundup 11116 iraqi forces enter...  [next, cold, war, roundup, 11116, iraqi, force...\n",
              "8537  zero hedge \\nwith furious democrats  and the c...  [zero, hedge, with, furious, democrats, and, t...\n",
              "5764  multiple ny police departments under investiga...  [multiple, ny, police, departments, under, inv...\n",
              "3265  starstruck and partyfanatic the moral paradox ...  [starstruck, and, partyfanatic, the, moral, pa...\n",
              "9883  un deploys troops to american college campuses...  [un, deploys, troops, to, american, college, c...\n",
              "7469  is there any merit in taking a cynical view of...  [is, there, any, merit, in, taking, a, cynical..."
            ]
          },
          "metadata": {
            "tags": []
          },
          "execution_count": 39
        }
      ]
    },
    {
      "cell_type": "code",
      "metadata": {
        "id": "uBSg3_jbJO20",
        "colab_type": "code",
        "colab": {
          "base_uri": "https://localhost:8080/",
          "height": 51
        },
        "outputId": "5f7db4a7-7032-4a58-d5c5-b4d04ae8bf7d"
      },
      "source": [
        "# initializing Stop words libraries\n",
        "\n",
        "nltk.download('stopwords')\n",
        "from nltk.corpus import stopwords\n",
        "stop_words = set(stopwords.words('english'))"
      ],
      "execution_count": null,
      "outputs": [
        {
          "output_type": "stream",
          "text": [
            "[nltk_data] Downloading package stopwords to /root/nltk_data...\n",
            "[nltk_data]   Unzipping corpora/stopwords.zip.\n"
          ],
          "name": "stdout"
        }
      ]
    },
    {
      "cell_type": "markdown",
      "metadata": {
        "id": "3qog2eoFEaG0",
        "colab_type": "text"
      },
      "source": [
        "#### Visualizations"
      ]
    },
    {
      "cell_type": "code",
      "metadata": {
        "id": "d_jf09o9JOxZ",
        "colab_type": "code",
        "colab": {
          "base_uri": "https://localhost:8080/",
          "height": 592
        },
        "outputId": "56b89368-cbb0-42f1-e699-2fc434d81b5c"
      },
      "source": [
        "# Before removing checking occurances of stopwords in article content\n",
        "\n",
        "%matplotlib inline\n",
        "from matplotlib import pyplot as plt\n",
        "\n",
        "def plot_top_stopwords_barchart(text):\n",
        "    stop=set(stopwords.words('english'))\n",
        "    \n",
        "    new= text.str.split()\n",
        "    new=new.values.tolist()\n",
        "    corpus=[word for i in new for word in i]\n",
        "    from collections import defaultdict\n",
        "    dic=defaultdict(int)\n",
        "    for word in corpus:\n",
        "        if word in stop:\n",
        "            dic[word]+=1\n",
        "            \n",
        "    top=sorted(dic.items(), key=lambda x:x[1],reverse=True)[:10]\n",
        "    x,y=zip(*top)\n",
        "    plt.figure(figsize=(10,10))\n",
        "    plt.bar(x,y)\n",
        "\n",
        "plot_top_stopwords_barchart(train_text['text'])"
      ],
      "execution_count": null,
      "outputs": [
        {
          "output_type": "display_data",
          "data": {
            "image/png": "[encoded data removed]",
            "text/plain": [
              "<Figure size 720x720 with 1 Axes>"
            ]
          },
          "metadata": {
            "tags": [],
            "needs_background": "light"
          }
        }
      ]
    },
    {
      "cell_type": "code",
      "metadata": {
        "id": "lSd1A3dcJOqg",
        "colab_type": "code",
        "colab": {
          "base_uri": "https://localhost:8080/",
          "height": 592
        },
        "outputId": "332d5031-a85e-46af-e0a9-affb5aa5a8e3"
      },
      "source": [
        "import seaborn as sns\n",
        "from collections import  Counter\n",
        "\n",
        "def plot_top_non_stopwords_barchart(text):\n",
        "    stop=set(stopwords.words('english'))\n",
        "    \n",
        "    new= text.str.split()\n",
        "    new=new.values.tolist()\n",
        "    corpus=[word for i in new for word in i]\n",
        "\n",
        "    counter=Counter(corpus)\n",
        "    most=counter.most_common()\n",
        "    x, y=[], []\n",
        "    for word,count in most[:50]:\n",
        "        if (word not in stop):\n",
        "            x.append(word)\n",
        "            y.append(count)\n",
        "    plt.figure(figsize=(10,10))\n",
        "    sns.barplot(x=y,y=x)\n",
        "\n",
        "plot_top_non_stopwords_barchart(train_text['text'])\n",
        "\n",
        "# Explore more such analysis here - https://neptune.ai/blog/exploratory-data-analysis-natural-language-processing-tools"
      ],
      "execution_count": null,
      "outputs": [
        {
          "output_type": "display_data",
          "data": {
            "image/png": "[encoded data removed]",
            "text/plain": [
              "<Figure size 720x720 with 1 Axes>"
            ]
          },
          "metadata": {
            "tags": [],
            "needs_background": "light"
          }
        }
      ]
    },
    {
      "cell_type": "markdown",
      "metadata": {
        "id": "XQoD7t2MEeG8",
        "colab_type": "text"
      },
      "source": [
        "#### Remove stopwords"
      ]
    },
    {
      "cell_type": "code",
      "metadata": {
        "id": "o32LUyGSJt-j",
        "colab_type": "code",
        "colab": {
          "base_uri": "https://localhost:8080/",
          "height": 495
        },
        "outputId": "7eac9dda-b4b7-4387-d105-82c85cdcc5fb"
      },
      "source": [
        "# Now we remove stopwords \n",
        "\n",
        "train_text['tokenized_text'] = train_text['tokenized_text'].apply(lambda x: [word for word in x if word not in stop_words])\n",
        "train_text['tokenized_text_join'] = [' '.join(map(str, l)) for l in train_text['tokenized_text']]\n",
        "\n",
        "train_text.sample(10, random_state = 5)"
      ],
      "execution_count": null,
      "outputs": [
        {
          "output_type": "execute_result",
          "data": {
            "text/html": [
              "<div>\n",
              "<style scoped>\n",
              "    .dataframe tbody tr th:only-of-type {\n",
              "        vertical-align: middle;\n",
              "    }\n",
              "\n",
              "    .dataframe tbody tr th {\n",
              "        vertical-align: top;\n",
              "    }\n",
              "\n",
              "    .dataframe thead th {\n",
              "        text-align: right;\n",
              "    }\n",
              "</style>\n",
              "<table border=\"1\" class=\"dataframe\">\n",
              "  <thead>\n",
              "    <tr style=\"text-align: right;\">\n",
              "      <th></th>\n",
              "      <th>text</th>\n",
              "      <th>tokenized_text</th>\n",
              "      <th>tokenized_text_join</th>\n",
              "    </tr>\n",
              "  </thead>\n",
              "  <tbody>\n",
              "    <tr>\n",
              "      <th>2757</th>\n",
              "      <td>posted by b on november 1 2016 at 0311 pm  per...</td>\n",
              "      <td>[posted, b, november, 1, 2016, 0311, pm, perma...</td>\n",
              "      <td>posted b november 1 2016 0311 pm permalink com...</td>\n",
              "    </tr>\n",
              "    <tr>\n",
              "      <th>745</th>\n",
              "      <td>cdc scientist confirms donald trump is right ...</td>\n",
              "      <td>[cdc, scientist, confirms, donald, trump, righ...</td>\n",
              "      <td>cdc scientist confirms donald trump right vacc...</td>\n",
              "    </tr>\n",
              "    <tr>\n",
              "      <th>7787</th>\n",
              "      <td>department of homeland security secretary john...</td>\n",
              "      <td>[department, homeland, security, secretary, jo...</td>\n",
              "      <td>department homeland security secretary john ke...</td>\n",
              "    </tr>\n",
              "    <tr>\n",
              "      <th>69</th>\n",
              "      <td>bernie sanders berniesanders october 27 2016 ...</td>\n",
              "      <td>[bernie, sanders, berniesanders, october, 27, ...</td>\n",
              "      <td>bernie sanders berniesanders october 27 2016 d...</td>\n",
              "    </tr>\n",
              "    <tr>\n",
              "      <th>3159</th>\n",
              "      <td>next cold war roundup 11116 iraqi forces enter...</td>\n",
              "      <td>[next, cold, war, roundup, 11116, iraqi, force...</td>\n",
              "      <td>next cold war roundup 11116 iraqi forces enter...</td>\n",
              "    </tr>\n",
              "    <tr>\n",
              "      <th>8537</th>\n",
              "      <td>zero hedge \\nwith furious democrats  and the c...</td>\n",
              "      <td>[zero, hedge, furious, democrats, clinton, cam...</td>\n",
              "      <td>zero hedge furious democrats clinton campaign ...</td>\n",
              "    </tr>\n",
              "    <tr>\n",
              "      <th>5764</th>\n",
              "      <td>multiple ny police departments under investiga...</td>\n",
              "      <td>[multiple, ny, police, departments, investigat...</td>\n",
              "      <td>multiple ny police departments investigation h...</td>\n",
              "    </tr>\n",
              "    <tr>\n",
              "      <th>3265</th>\n",
              "      <td>starstruck and partyfanatic the moral paradox ...</td>\n",
              "      <td>[starstruck, partyfanatic, moral, paradox, tru...</td>\n",
              "      <td>starstruck partyfanatic moral paradox trump su...</td>\n",
              "    </tr>\n",
              "    <tr>\n",
              "      <th>9883</th>\n",
              "      <td>un deploys troops to american college campuses...</td>\n",
              "      <td>[un, deploys, troops, american, college, campu...</td>\n",
              "      <td>un deploys troops american college campuses or...</td>\n",
              "    </tr>\n",
              "    <tr>\n",
              "      <th>7469</th>\n",
              "      <td>is there any merit in taking a cynical view of...</td>\n",
              "      <td>[merit, taking, cynical, view, life, observati...</td>\n",
              "      <td>merit taking cynical view life observations cy...</td>\n",
              "    </tr>\n",
              "  </tbody>\n",
              "</table>\n",
              "</div>"
            ],
            "text/plain": [
              "                                                   text  ...                                tokenized_text_join\n",
              "2757  posted by b on november 1 2016 at 0311 pm  per...  ...  posted b november 1 2016 0311 pm permalink com...\n",
              "745    cdc scientist confirms donald trump is right ...  ...  cdc scientist confirms donald trump right vacc...\n",
              "7787  department of homeland security secretary john...  ...  department homeland security secretary john ke...\n",
              "69     bernie sanders berniesanders october 27 2016 ...  ...  bernie sanders berniesanders october 27 2016 d...\n",
              "3159  next cold war roundup 11116 iraqi forces enter...  ...  next cold war roundup 11116 iraqi forces enter...\n",
              "8537  zero hedge \\nwith furious democrats  and the c...  ...  zero hedge furious democrats clinton campaign ...\n",
              "5764  multiple ny police departments under investiga...  ...  multiple ny police departments investigation h...\n",
              "3265  starstruck and partyfanatic the moral paradox ...  ...  starstruck partyfanatic moral paradox trump su...\n",
              "9883  un deploys troops to american college campuses...  ...  un deploys troops american college campuses or...\n",
              "7469  is there any merit in taking a cynical view of...  ...  merit taking cynical view life observations cy...\n",
              "\n",
              "[10 rows x 3 columns]"
            ]
          },
          "metadata": {
            "tags": []
          },
          "execution_count": 44
        }
      ]
    },
    {
      "cell_type": "code",
      "metadata": {
        "id": "fu1kQUSPJzsi",
        "colab_type": "code",
        "colab": {
          "base_uri": "https://localhost:8080/",
          "height": 207
        },
        "outputId": "0f8499ae-c824-4c91-e5d6-a0b45a2f7b2c"
      },
      "source": [
        "# for sake of simplicity, showing 10 article contents based on the same seed value at 5\n",
        "tagged_stanzas = []\n",
        "tagged = []\n",
        "\n",
        "for word in train_text['tokenized_text'].sample(10, random_state = 5):\n",
        "  tagged_word = nltk.pos_tag(word)\n",
        "  print(tagged_word)\n",
        "\n",
        "  tagged_stanzas.append(tagged_word)\n",
        "\n",
        "# This format is needed for below visualizer as in takes only two values. If you skip this format, it might give you - \"too many values to unpack error\" \n",
        "tagged.append(tagged_stanzas)"
      ],
      "execution_count": null,
      "outputs": [
        {
          "output_type": "stream",
          "text": [
            "[('posted', 'VBN'), ('b', 'JJ'), ('november', 'RB'), ('1', 'CD'), ('2016', 'CD'), ('0311', 'CD'), ('pm', 'NN'), ('permalink', 'NN'), ('comments', 'NNS'), ('idlib', 'JJ'), ('school', 'NN'), ('attack', 'NN'), ('fake', 'VBP'), ('bombs', 'NNS'), ('destroy', 'JJ'), ('tables', 'NNS'), ('etc', 'FW'), ('httpblauerbotecomwpcontentuploads201610idlib_schule_fake_white_helmets_faelschung_weisshelme_syrienpng', 'NN'), ('video', 'NN'), ('mixed', 'VBD'), ('least', 'JJS'), ('2', 'CD'), ('videos', 'NNS'), ('clouds', 'JJ'), ('vs', 'JJ'), ('blue', 'NN'), ('sky', 'NN'), ('httpblauerbotecomwpcontentuploads201610fake_luftangriff_syrien_faelschung_rfapng', 'JJ'), ('german', 'JJ'), ('httpblauerbotecom20161029luftangriffaufschuleisteinefaelschung', 'NN'), ('posted', 'VBD'), ('jens', 'NNS'), ('nov', 'RB'), ('1', 'CD'), ('2016', 'CD'), ('33359', 'CD'), ('pm', 'NN'), ('1', 'CD'), ('another', 'DT'), ('day', 'NN'), ('one', 'CD'), ('b', 'NN'), ('type', 'NN'), ('laptop', 'NN'), ('finally', 'RB'), ('get', 'VB'), ('enjoy', 'NN'), ('dayevening', 'VBG'), ('posted', 'VBD'), ('jo6pac', 'JJ'), ('nov', 'RB'), ('1', 'CD'), ('2016', 'CD'), ('33833', 'CD'), ('pm', 'NN'), ('2', 'CD'), (\"'ve\", 'VBP'), ('voting', 'VBG'), ('states', 'NNS'), ('since', 'IN'), ('turning', 'VBG'), ('18', 'CD'), ('1996', 'CD'), ('cast', 'NN'), ('first', 'JJ'), ('presidential', 'JJ'), ('vote', 'NN'), ('ross', 'NN'), ('perot', 'NN'), ('cycle', 'NN'), ('decided', 'VBD'), ('burn', 'NN'), ('ballot', 'NN'), ('protest', 'NN'), ('near', 'IN'), ('total', 'JJ'), ('corruption', 'NN'), ('political', 'JJ'), ('system', 'NN'), ('bash', 'NN'), ('want', 'VBP'), ('political', 'JJ'), ('system', 'NN'), ('lost', 'VBD'), ('little', 'JJ'), ('legitimacy', 'NN'), ('florida', 'NN'), ('2000', 'CD'), ('ohio', 'NN'), ('2004', 'CD'), ('even', 'RB'), ('wrote', 'VBD'), ('song', 'RB'), ('made', 'VBN'), ('little', 'JJ'), ('video', 'JJ'), ('httpswwwyoutubecomwatchvvtttdq6_l_i', 'NN'), ('posted', 'VBD'), ('lizard', 'JJ'), ('nov', 'RB'), ('1', 'CD'), ('2016', 'CD'), ('35918', 'CD'), ('pm', 'NN'), ('3', 'CD'), ('posted', 'VBD'), ('nmb', 'JJ'), ('nov', 'RB'), ('1', 'CD'), ('2016', 'CD'), ('40009', 'CD'), ('pm', 'NN'), ('4', 'CD'), ('verify', 'JJ'), ('comment', 'NN')]\n",
            "[('cdc', 'NNS'), ('scientist', 'NN'), ('confirms', 'VBZ'), ('donald', 'VBP'), ('trump', 'VB'), ('right', 'JJ'), ('vaccines', 'NNS'), ('autism', 'NN'), ('donald', 'VBP'), ('trump', 'NN'), ('stranger', 'NN'), ('controversy', 'NN'), ('including', 'VBG'), ('vaccine', 'JJ'), ('debate', 'NN'), ('series', 'NN'), ('tweets', 'NNS'), ('httphumansarefreecom201611cdcscientistconfirmsdonaldtrumpishtml', 'VBP'), ('donald', 'JJ'), ('trump', 'NN'), ('stranger', 'NN'), ('controversy', 'NN'), ('including', 'VBG'), ('vaccine', 'JJ'), ('debate', 'NN'), ('series', 'NN'), ('tweets', 'NNS'), ('interviews', 'VBP'), ('past', 'IN'), ('years', 'NNS'), ('presidential', 'JJ'), ('candidate', 'NN'), ('stated', 'VBN'), ('strongly', 'RB'), ('believes', 'VBZ'), ('link', 'VBP'), ('monstrous', 'JJ'), ('vaccines', 'NNS'), ('autism', 'NN'), ('suggested', 'VBD'), ('delivering', 'VBG'), ('vaccines', 'NNS'), ('smaller', 'JJR'), ('doses', 'NNS'), ('time', 'NN'), ('could', 'MD'), ('reduce', 'VB'), ('autism', 'NN'), ('rates', 'NNS'), ('among', 'IN'), ('us', 'PRP'), ('children', 'NNS'), ('despite', 'IN'), ('cast', 'NN'), ('lunatic', 'JJ'), ('fringe', 'NN'), ('mainstream', 'NN'), ('media', 'NNS'), ('remarks', 'NNS'), ('cdc', 'VBP'), ('scientist', 'JJ'), ('dr', 'NN'), ('william', 'NN'), ('thompson', 'NN'), ('confirmed', 'VBD'), ('trump', 'NN'), (\"'s\", 'POS'), ('suspicions', 'NNS'), ('namely', 'RB'), ('autism', 'VBP'), ('real', 'JJ'), ('congressman', 'NN'), ('bill', 'NN'), ('posey', 'VBZ'), ('florida', 'NN'), ('helped', 'VBD'), ('expose', 'VB'), ('corruption', 'NN'), ('center', 'NN'), ('disease', 'NN'), ('control', 'NN'), ('cdc', 'VBZ'), ('recently', 'RB'), ('read', 'JJ'), ('statement', 'NN'), ('house', 'NN'), ('floor', 'NN'), ('written', 'VBN'), ('cdc', 'JJ'), ('scientist', 'NN'), ('dr', 'NN'), ('william', 'NN'), ('thompsonin', 'NN'), ('statement', 'NN'), ('dr', 'NN'), ('thompson', 'NN'), ('admitted', 'VBD'), ('omitting', 'VBG'), ('data', 'NNS'), ('study', 'NN'), ('showed', 'VBD'), ('autism', 'NN'), ('rates', 'NNS'), ('higher', 'RBR'), ('among', 'IN'), ('african', 'JJ'), ('american', 'JJ'), ('boys', 'NNS'), ('received', 'VBD'), ('mmr', 'JJ'), ('vaccination', 'NN'), ('age', 'NN'), ('three1', 'NN'), ('regardless', 'RB'), ('subject', 'JJ'), ('matter', 'NN'), ('parents', 'NNS'), ('making', 'VBG'), ('decisions', 'NNS'), ('children', 'NNS'), (\"'s\", 'POS'), ('health', 'NN'), ('deserve', 'NN'), ('best', 'JJS'), ('information', 'NN'), ('available', 'JJ'), ('able', 'JJ'), ('count', 'NN'), ('federal', 'JJ'), ('agencies', 'NNS'), ('tell', 'VBP'), ('truth', 'NN'), ('reasons', 'NNS'), ('bring', 'VBP'), ('following', 'VBG'), ('matter', 'NN'), ('house', 'NN'), ('floor', 'NN'), ('posey', 'NN'), ('stated2', 'NN'), ('proceeded', 'VBD'), ('read', 'JJ'), ('statement', 'NN'), ('provided', 'VBD'), ('dr', 'JJ'), ('thompson', 'JJ'), ('statement', 'NN'), ('pertained', 'VBD'), ('2004', 'CD'), ('study', 'NN'), ('published', 'VBN'), ('journal', 'JJ'), ('pediatrics', 'NNS'), ('doctor', 'NN'), ('revealed', 'VBD'), ('colleagues', 'NNS'), ('intentionally', 'RB'), ('destroyed', 'VBN'), ('data', 'NN'), ('study', 'NN'), ('showed', 'VBD'), ('african', 'JJ'), ('american', 'JJ'), ('mmrvaccinated', 'VBN'), ('boys', 'NNS'), ('age', 'NN'), ('three', 'CD'), ('autism', 'NN'), ('according', 'VBG'), ('whistleblower', 'JJR'), ('cdc', 'NN'), ('held', 'VBD'), ('meeting', 'NN'), ('scientists', 'NNS'), ('discuss', 'VBP'), ('whether', 'IN'), ('destroy', 'NN'), ('evidence', 'NN'), ('authors', 'NNS'), ('decided', 'VBD'), ('scrap', 'JJ'), ('findings', 'NNS'), ('fortunately', 'RB'), ('dr', 'VBP'), ('thompson', 'NN'), ('saved', 'VBN'), ('computer', 'NN'), ('files', 'VBZ'), ('hard', 'JJ'), ('copies', 'NNS'), ('omitted', 'VBN'), ('data', 'NNS'), ('legal', 'JJ'), ('reasons3', 'NN'), ('mr', 'NN'), ('speaker', 'NN'), ('believe', 'VBP'), ('duty', 'NN'), ('insure', 'NN'), ('documents', 'NNS'), ('dr', 'VBP'), ('thompson', 'NN'), ('ignored', 'VBN'), ('therefore', 'RB'), ('provide', 'JJ'), ('members', 'NNS'), ('congress', 'VBP'), ('house', 'NN'), ('committees', 'NNS'), ('upon', 'IN'), ('request', 'NN'), ('considering', 'VBG'), ('nature', 'NN'), ('whistleblower', 'NN'), (\"'s\", 'POS'), ('documents', 'NNS'), ('well', 'RB'), ('involvement', 'JJ'), ('cdc', 'NN'), ('hearing', 'VBG'), ('thorough', 'JJ'), ('investigation', 'NN'), ('warranted', 'VBD'), ('posey', 'JJ'), ('concluded2', 'JJ'), ('report', 'NN'), ('pertains', 'NNS'), ('vaccines', 'VBP'), ('mainstream', 'JJ'), ('media', 'NNS'), ('continues', 'VBZ'), ('ignore', 'VBP'), ('revelations', 'NNS'), ('meanwhile', 'RB'), ('continue', 'VBP'), ('parade', 'NN'), ('donald', 'NN'), ('trump', 'NN'), ('kook', 'NN'), ('suggesting', 'VBG'), ('link', 'RBR'), ('double', 'JJ'), ('standard', 'NN'), ('boggles', 'NNS'), ('mind', 'VBP'), ('sickens', 'NNS'), ('stomachtrump', 'VBP'), (\"n't\", 'RB'), ('backed', 'VBN'), ('vaccine', 'JJ'), ('debate', 'NN'), ('despite', 'IN'), ('mainstream', 'JJ'), ('media', 'NNS'), (\"'s\", 'POS'), ('backlash', 'NN'), ('remarks', 'NNS'), ('2015', 'CD'), ('appeared', 'VBD'), ('conservative', 'JJ'), ('radio', 'NN'), ('host', 'NN'), ('laura', 'NN'), ('ingraham', 'NN'), (\"'s\", 'POS'), ('show', 'NN'), ('stating', 'JJ'), (\"'ve\", 'VBP'), ('known', 'VBN'), ('people', 'NNS'), ('totally', 'RB'), ('magnificent', 'JJ'), ('children', 'NNS'), ('functioning', 'VBG'), ('hundred', 'CD'), ('percent', 'NN'), ('everything', 'NN'), ('beautiful', 'JJ'), ('smart', 'JJ'), ('whip', 'NN'), ('go', 'VBP'), ('shot', 'JJ'), ('get', 'NN'), ('shot', 'JJ'), ('massive', 'JJ'), ('dose', 'NN'), ('everything', 'NN'), ('one', 'CD'), ('time', 'NN'), ('end', 'NN'), ('horrible', 'JJ'), ('autism4', 'JJ'), ('addition', 'NN'), ('trump', 'NN'), ('stated', 'VBD'), ('fox', 'JJ'), ('news', 'NN'), ('television', 'NN'), ('program', 'NN'), ('2012', 'CD'), (\"'ve\", 'VBP'), ('seen', 'VBN'), ('people', 'NNS'), ('perfectly', 'RB'), ('healthy', 'JJ'), ('child', 'NN'), ('go', 'VB'), ('vaccinations', 'NNS'), ('month', 'NN'), ('later', 'RB'), ('child', 'RB'), ('longer', 'RBR'), ('healthy5', 'JJ'), ('trump', 'NN'), ('made', 'VBD'), ('similar', 'JJ'), ('remarks', 'NNS'), ('series', 'NN'), ('tweets', 'NNS'), ('2014', 'CD'), ('cdc', 'JJ'), ('report', 'NN'), ('revealed', 'VBD'), ('autism', 'NN'), ('rates', 'NNS'), ('us', 'PRP'), ('children', 'NNS'), ('increased', 'VBD'), ('30', 'CD'), ('percent', 'NN'), ('last', 'JJ'), ('two', 'CD'), ('years6the', 'JJ'), ('cdc', 'NNS'), ('report', 'NN'), ('coincided', 'VBD'), ('trump', 'NN'), (\"'s\", 'POS'), ('tweets', 'NNS'), ('actually', 'RB'), ('state', 'NN'), ('caused', 'VBD'), ('spike', 'JJ'), ('autism', 'NN'), ('rates', 'NNS'), ('given', 'VBN'), ('dr', 'VBP'), ('thompson', 'NN'), (\"'s\", 'POS'), ('recent', 'JJ'), ('testimony', 'NN'), ('however', 'RB'), (\"'s\", 'POS'), ('easy', 'JJ'), ('think', 'NN'), ('least', 'JJS'), ('one', 'CD'), ('possibility', 'NN'), ('johnson', 'NN')]\n",
            "[('department', 'NN'), ('homeland', 'NN'), ('security', 'NN'), ('secretary', 'NN'), ('john', 'NN'), ('kelly', 'RB'), ('joked', 'VBD'), ('president', 'NN'), ('donald', 'NNS'), ('trump', 'NN'), ('could', 'MD'), ('use', 'VB'), ('ceremonial', 'JJ'), ('saber', 'NN'), ('press', 'NN'), ('wednesday', 'JJ'), ('comment', 'NN'), ('caught', 'VBD'), ('hot', 'JJ'), ('mic', 'JJ'), ('presented', 'VBN'), ('saber', 'NN'), ('coast', 'NN'), ('guard', 'NN'), ('academy', 'NN'), ('commencement', 'NN'), ('connecticut', 'NN'), ('trump', 'NN'), ('sat', 'VBD'), ('beside', 'IN'), ('kelly', 'RB'), ('quipped', 'VBN'), ('use', 'NN'), ('press', 'NN'), ('sir', 'NN'), ('yeah', 'UH'), ('trump', 'NN'), ('chuckles', 'NNS'), ('gen', 'VBP'), ('kelly', 'RB'), ('tells', 'JJ'), ('pres', 'NNS'), ('trump', 'VBP'), ('use', 'JJ'), ('press', 'NN'), ('hes', 'NNS'), ('presented', 'VBD'), ('ceremonial', 'JJ'), ('saber', 'NN'), ('coast', 'NN'), ('guard', 'NN'), ('academy', 'NN'), ('commencement', 'NN'), ('pic', 'NN'), ('twitter', 'NN'), ('abc', 'JJ'), ('news', 'NN'), ('abc', 'NN'), ('may', 'MD'), ('17', 'CD'), ('2017', 'CD'), ('kellys', 'NN'), ('joke', 'NN'), ('sparked', 'VBD'), ('predictable', 'JJ'), ('freakout', 'NN'), ('media', 'NNS'), ('leftists', 'VBZ'), ('gen', 'NN'), ('kelly', 'RB'), ('potus', 'VBZ'), ('repeatedly', 'RB'), ('aggressively', 'RB'), ('attacked', 'JJ'), ('press', 'NN'), ('https', 'NN'), ('jim', 'NN'), ('sciutto', 'NN'), ('jimsciutto', 'NN'), ('may', 'MD'), ('17', 'CD'), ('2017', 'CD'), ('fought', 'NN'), ('john', 'NN'), ('kelly', 'RB'), ('iraq', 'JJ'), ('shocking', 'VBG'), ('funny', 'JJ'), ('joke', 'NN'), ('professionals', 'NNS'), ('dont', 'VBP'), ('say', 'VBP'), ('kinds', 'NNS'), ('things', 'NNS'), ('https', 'VBP'), ('mark', 'NN'), ('hertling', 'VBG'), ('markhertling', 'NN'), ('may', 'MD'), ('17', 'CD'), ('2017', 'CD'), ('heres', 'NNS'), ('shitty', 'JJ'), ('thing', 'NN'), ('say', 'VBP'), ('front', 'JJ'), ('hundreds', 'NNS'), ('jos', 'VBP'), ('swore', 'RB'), ('defend', 'JJ'), ('constitution', 'NN'), ('us', 'PRP'), ('https', 'VBP'), ('adam', 'JJ'), ('weinstein', 'NNS'), ('adamweinstein', 'VBP'), ('may', 'MD'), ('17', 'CD'), ('2017', 'CD'), ('wasnt', 'NN'), ('already', 'RB'), ('clear', 'JJ'), ('dhs', 'NN'), ('john', 'NN'), ('killing', 'VBG'), ('champion', 'NN'), ('democratic', 'JJ'), ('norms', 'NNS'), ('appeared', 'VBD'), ('https', 'JJ'), ('katherine', 'NN'), ('eban', 'JJ'), ('katherineeban', 'NN'), ('may', 'MD'), ('17', 'CD'), ('2017', 'CD'), ('gen', 'NN'), ('kelly', 'RB'), ('pen', 'JJ'), ('mightier', 'JJR'), ('sword', 'NN'), ('https', 'NN'), ('ellen', 'NN'), ('rose', 'VBD'), ('icklenellierose', 'JJ'), ('may', 'MD'), ('17', 'CD'), ('2017', 'CD'), ('nothing', 'NN'), ('joke', 'NN'), ('dhsgov', 'NN'), ('secretary', 'NN'), ('kelly', 'RB'), ('realdonaldtrump', 'VB'), ('funny', 'JJ'), ('https', 'NN'), ('joseph', 'NN'), ('amodeo', 'IN'), ('josephamodeo', 'NN'), ('may', 'MD'), ('17', 'CD'), ('2017', 'CD'), ('literal', 'JJ'), ('saber', 'NN'), ('rattling', 'VBG'), ('https', 'JJ'), ('ryan', 'JJ'), ('teague', 'NN'), ('beckwith', 'NN'), ('ryanbeckwith', 'NN'), ('may', 'MD'), ('17', 'CD'), ('2017', 'CD'), ('speech', 'NN'), ('graduates', 'VBZ'), ('trump', 'RB'), ('hammered', 'VBN'), ('media', 'NNS'), ('look', 'VBP'), ('way', 'NN'), ('ive', 'JJ'), ('treated', 'VBD'), ('lately', 'RB'), ('especially', 'RB'), ('media', 'NNS'), ('politician', 'JJ'), ('history', 'NN'), ('say', 'VBP'), ('great', 'JJ'), ('surety', 'NN'), ('treated', 'VBD'), ('worse', 'JJR'), ('unfairly', 'RB'), ('said', 'VBD'), ('didnt', 'JJ'), ('get', 'NN'), ('elected', 'VBN'), ('serve', 'VBP'), ('washington', 'JJ'), ('media', 'NNS'), ('special', 'JJ'), ('interests', 'NNS'), ('got', 'VBD'), ('elected', 'VBN'), ('serve', 'RB'), ('forgotten', 'VBN'), ('men', 'NNS'), ('women', 'NNS'), ('country', 'NN'), ('thats', 'NNS'), ('im', 'VBP'), ('added', 'VBD')]\n",
            "[('bernie', 'NN'), ('sanders', 'NNS'), ('berniesanders', 'NNS'), ('october', 'VBP'), ('27', 'CD'), ('2016', 'CD'), ('dont', 'NN'), ('guts', 'NNS'), ('run', 'VBP'), ('office', 'NN'), ('ideas', 'NNS'), ('realdonaldtrump', 'VBP'), ('shouldnt', 'JJ'), ('run', 'NN'), ('office', 'NN'), ('bernie', 'NN'), ('sanders', 'NNS'), ('berniesanders', 'NNS'), ('october', 'VBP'), ('27', 'CD'), ('2016', 'CD'), ('sen', 'NN'), ('sanders', 'NNS'), ('correct', 'VBP'), ('elections', 'NNS'), ('supposed', 'VBN'), ('contests', 'NNS'), ('ideas', 'NNS'), ('visions', 'NNS'), ('future', 'VBP'), ('however', 'RB'), ('republican', 'JJ'), ('party', 'NN'), ('ran', 'VBD'), ('ideas', 'NNS'), ('decades', 'NNS'), ('ago', 'RB'), ('slow', 'VB'), ('steady', 'JJ'), ('descent', 'NN'), ('substituting', 'VBG'), ('beliefs', 'NNS'), ('facts', 'NNS'), ('hopes', 'VBP'), ('visions', 'NNS'), ('trump', 'VB'), ('trying', 'VBG'), ('suppress', 'JJ'), ('vote', 'NN'), ('voter', 'NN'), ('suppression', 'NN'), ('tactic', 'JJ'), ('left', 'NN'), ('may', 'MD'), ('lead', 'VB'), ('victory', 'NN'), ('takes', 'VBZ'), ('guts', 'NNS'), ('courage', 'NN'), ('run', 'VBP'), ('presidential', 'JJ'), ('campaign', 'NN'), ('based', 'VBN'), ('ideas', 'NNS'), ('principles', 'NNS'), ('donald', 'VBP'), ('trump', 'JJ'), ('lacking', 'NN'), ('guts', 'NNS'), ('courage', 'NN'), ('departments', 'NNS'), ('spending', 'VBG'), ('final', 'JJ'), ('days', 'NNS'), ('presidential', 'JJ'), ('campaign', 'NN'), ('trying', 'VBG'), ('con', 'JJ'), ('scheme', 'JJ'), ('way', 'NN'), ('oval', 'JJ'), ('office', 'NN'), ('media', 'NNS'), ('never', 'RB'), ('say', 'VBP'), ('real', 'JJ'), ('candidates', 'NNS'), ('office', 'NN'), ('dont', 'NN'), ('try', 'NN'), ('win', 'VB'), ('discouraging', 'VBG'), ('people', 'NNS'), ('voting', 'VBG'), ('best', 'JJS'), ('candidates', 'NNS'), ('get', 'VBP'), ('people', 'NNS'), ('excited', 'JJ'), ('vote', 'NN'), ('play', 'IN'), ('vital', 'JJ'), ('role', 'NN'), ('democratic', 'JJ'), ('process', 'NN'), ('bernie', 'NN'), ('sanders', 'NNS'), ('gets', 'VBZ'), ('donald', 'JJ'), ('trump', 'NN'), ('never', 'RB')]\n",
            "[('next', 'JJ'), ('cold', 'JJ'), ('war', 'NN'), ('roundup', 'NN'), ('11116', 'CD'), ('iraqi', 'NN'), ('forces', 'NNS'), ('entered', 'VBD'), ('city', 'NN'), ('mosul', 'NN'), ('advancing', 'VBG'), ('rapidly', 'RB'), ('russia', 'NN'), ('continues', 'VBZ'), ('halt', 'NN'), ('airstrikes', 'NNS'), ('aleppo', 'VBP'), ('rebels', 'NNS'), ('led', 'VBN'), ('al', 'RB'), ('qaeda', 'RB'), ('launched', 'VBN'), ('offensive', 'JJ'), ('aleppo', 'NN'), ('turkey', 'NN'), ('masses', 'NNS'), ('forces', 'VBZ'), ('borders', 'NNS'), ('experts', 'NNS'), ('warn', 'VBP'), ('openended', 'VBN'), ('conflict', 'NN'), ('russia', 'NN'), ('us', 'PRP'), ('politicians', 'NNS'), ('continue', 'VBP'), ('accuse', 'IN'), ('russia', 'NN'), ('meddling', 'NN'), ('elections', 'NNS'), ('damning', 'VBG'), ('material', 'NN'), ('exposed', 'VBN'), ('latest', 'JJS'), ('roundup', 'NN'), ('russian', 'NN'), ('carrier', 'NN'), ('group', 'NN'), ('mediterranean', 'NN'), ('_', 'NNP'), ('russian', 'JJ'), ('carrier', 'NN'), ('group', 'NN'), ('mediterranean', 'NN'), ('russian', 'JJ'), ('defense', 'NN'), ('minister', 'NN'), ('shoigu', 'NN'), ('said', 'VBD'), ('fact', 'NN'), ('nato', 'JJ'), ('countries', 'NNS'), ('denied', 'VBD'), ('call', 'NN'), ('ports', 'NNS'), ('along', 'IN'), ('way', 'NN'), ('affect', 'VBP'), ('replenished', 'VBN'), ('supply', 'NN'), ('ship', 'NN'), ('_', 'NNP'), ('ruptly', 'RB'), ('published', 'VBD'), ('video', 'NN'), ('tuesday', 'NN'), ('carrier', 'NN'), ('group', 'NN'), ('western', 'VBD'), ('med', 'VBN'), ('helicopter', 'NN'), ('fighter', 'NN'), ('jet', 'NN'), ('takeoffs', 'NNS'), ('landings', 'NNS'), ('mosul', 'VBP'), ('_', 'JJ'), ('iraqi', 'NN'), ('forces', 'NNS'), ('moved', 'VBD'), ('mosul', 'JJ'), ('battle', 'NN'), ('entered', 'VBD'), ('new', 'JJ'), ('phase', 'NN'), ('urban', 'JJ'), ('warfare', 'NN'), ('iraqi', 'NN'), ('forces', 'NNS'), ('fought', 'JJ'), ('isis', 'NN'), ('eastern', 'JJ'), ('side', 'NN'), ('mosul', 'NN'), ('artillery', 'NN'), ('air', 'NN'), ('strikes', 'NNS'), ('pounded', 'VBD'), ('city', 'NN'), ('still', 'RB'), ('home', 'VBD'), ('15', 'CD'), ('million', 'CD'), ('people', 'NNS'), ('civilians', 'NNS'), ('eastern', 'JJ'), ('mosul', 'JJ'), ('residents', 'NNS'), ('eastern', 'JJ'), ('neighborhood', 'NN'), ('alquds', 'NNS'), ('said', 'VBD'), ('ultrahardline', 'JJ'), ('sunni', 'NN'), ('militants', 'NNS'), ('resorted', 'VBD'), ('street', 'NN'), ('fighting', 'VBG'), ('try', 'NN'), ('hold', 'NN'), ('army', 'NN'), ('back', 'RB'), ('according', 'VBG'), ('reuters', 'NNS'), ('_', 'VBP'), ('iraqi', 'JJ'), ('special', 'JJ'), ('forces', 'NNS'), ('gen', 'NN'), ('shaghati', 'VBP'), ('held', 'VBN'), ('press', 'NN'), ('conference', 'NN'), ('saying', 'VBG'), ('good', 'JJ'), ('sign', 'NN'), ('people', 'NNS'), ('mosul', 'VBP'), ('battle', 'NN'), ('liberate', 'NN'), ('mosul', 'NN'), ('effectively', 'RB'), ('begun', 'VBN'), ('troops', 'NNS'), ('captured', 'VBD'), ('state', 'NN'), ('tv', 'NN'), ('building', 'NN'), ('mosul', 'NN'), ('reportedly', 'RB'), ('also', 'RB'), ('complications', 'NNS'), ('shaghatis', 'VBP'), ('men', 'NNS'), ('raised', 'VBD'), ('shiite', 'JJ'), ('flag', 'NN'), ('brawl', 'NN'), ('broke', 'VBD'), ('kurdish', 'JJ'), ('peshmerga', 'NN'), ('fighters', 'NNS'), ('mainly', 'RB'), ('arab', 'VBP'), ('iraqi', 'JJ'), ('commandos', 'NN'), ('checkpoint', 'NN'), ('mosulerbil', 'NN'), ('road', 'NN'), ('threatened', 'VBD'), ('shoot', 'JJ'), ('christians', 'NNS'), ('waiting', 'VBG'), ('checkpoint', 'NN'), ('hours', 'NNS'), ('scattered', 'VBD'), ('_', 'NNP'), ('mosul', 'NN'), ('eye', 'NN'), ('reported', 'VBD'), ('residents', 'NNS'), ('homes', 'NNS'), ('iraqi', 'JJ'), ('forces', 'NNS'), ('advancing', 'VBG'), ('rapidly', 'RB'), ('isis', 'NN'), ('disappearing', 'VBG'), ('alkarama', 'JJ'), ('section', 'NN'), ('war', 'NN'), ('correspondent', 'NN'), ('elijah', 'NN'), ('magnier', 'NN'), ('said', 'VBD'), ('iraqi', 'JJ'), ('forces', 'NNS'), ('liberated', 'VBD'), ('hay', 'JJ'), ('alsamah', 'IN'), ('advancing', 'VBG'), ('toward', 'IN'), ('hay', 'NN'), ('alzohur', 'NN'), ('_', 'NNP'), ('refugees', 'VBZ'), ('leaving', 'VBG'), ('mosul', 'VB'), ('small', 'JJ'), ('boats', 'NNS'), ('crossing', 'VBG'), ('tigris', 'NN'), ('river', 'NN'), ('video', 'NN'), ('alshora', 'JJ'), ('area', 'NN'), ('reach', 'VBP'), ('territory', 'JJ'), ('held', 'JJ'), ('government', 'NN'), ('forces', 'NNS'), ('6', 'CD'), ('miles', 'NNS'), ('away', 'RB'), ('ruptly', 'RB'), ('also', 'RB'), ('published', 'VBN'), ('graphic', 'JJ'), ('caution', 'NN'), ('video', 'NN'), ('isis', 'NN'), ('fighters', 'NNS'), ('littering', 'VBG'), ('recently', 'RB'), ('liberated', 'VBN'), ('village', 'NN'), ('alshora', 'NN'), ('_', 'NNP'), ('meanwhile', 'RB'), ('turkey', 'VBZ'), ('reportedly', 'RB'), ('massing', 'JJ'), ('tanks', 'NNS'), ('troops', 'NNS'), ('near', 'IN'), ('border', 'NN'), ('iraq', 'NN'), ('town', 'NN'), ('silopi', 'NN'), ('expect', 'VBP'), ('kurdish', 'JJ'), ('pkk', 'NNS'), ('take', 'VBP'), ('sinjar', 'NN'), ('makes', 'VBZ'), ('2', 'CD'), ('reports', 'NNS'), ('turkish', 'JJ'), ('forces', 'NNS'), ('massing', 'VBG'), ('border', 'NN'), ('see', 'NN'), ('reports', 'NNS'), ('turkish', 'JJ'), ('troops', 'NNS'), ('gazientep', 'NN'), ('syrian', 'JJ'), ('border', 'NN'), ('_', 'NNP'), ('patrick', 'NN'), ('cockburn', 'NN'), ('recalls', 'VBZ'), ('first', 'JJ'), ('hand', 'NN'), ('happened', 'VBD'), ('mosul', 'NN'), ('2003', 'CD'), ('us', 'PRP'), ('invasion', 'VBP'), ('fall', 'VB'), ('saddam', 'JJ'), ('hussein', 'NN'), ('kurdish', 'JJ'), ('peshmerga', 'NN'), ('others', 'NNS'), ('mainly', 'RB'), ('kurds', 'NNS'), ('took', 'VBD'), ('advantage', 'NN'), ('power', 'NN'), ('vacuum', 'NN'), ('looted', 'VBD'), ('city', 'NN'), ('us', 'PRP'), ('soldiers', 'NNS'), ('manned', 'VBD'), ('checkpoints', 'NNS'), ('also', 'RB'), ('took', 'VBD'), ('kirkuk', 'NN'), ('arab', 'JJ'), ('territory', 'NN'), ('expanding', 'VBG'), ('kurdish', 'JJ'), ('territory', 'NN'), ('40', 'CD'), ('promising', 'NN'), ('wouldnt', 'NN'), ('drove', 'VBD'), ('city', 'NN'), ('passed', 'VBN'), ('lines', 'NNS'), ('pickup', 'NN'), ('trucks', 'NNS'), ('piled', 'VBD'), ('high', 'JJ'), ('loot', 'NN'), ('returning', 'VBG'), ('kurdishcontrolled', 'VBN'), ('enclave', 'VBP'), ('northern', 'JJ'), ('iraq', 'NN'), ('_', 'NNP'), ('cockburn', 'NN'), ('gives', 'VBZ'), ('masterful', 'JJ'), ('summary', 'JJ'), ('different', 'JJ'), ('factions', 'NNS'), ('involved', 'VBN'), ('current', 'JJ'), ('antiisis', 'NN'), ('coalition', 'NN'), ('advancing', 'VBG'), ('mosul', 'NN'), ('urges', 'NNS'), ('iraqi', 'JJ'), ('government', 'NN'), ('take', 'VB'), ('maintain', 'NN'), ('control', 'NN'), ('mosul', 'NN'), ('doesnt', 'NN'), ('get', 'NN'), ('ripped', 'VBD'), ('apart', 'RB'), ('looted', 'VBN'), ('like', 'IN'), ('different', 'JJ'), ('segments', 'NNS'), ('antiisis', 'NN'), ('forces', 'NNS'), ('potentially', 'RB'), ('involved', 'JJ'), ('seizing', 'VBG'), ('mosul', 'NN'), ('iraqi', 'JJ'), ('army', 'NN'), ('kurds', 'NNS'), ('shia', 'VBP'), ('sunni', 'JJ'), ('paramilitaries', 'NNS'), ('turks', 'NNS'), ('may', 'MD'), ('temporary', 'JJ'), ('allies', 'NNS'), ('also', 'RB'), ('rivals', 'VBP'), ('different', 'JJ'), ('conflicting', 'VBG'), ('agendas', 'JJ'), ('raqqa', 'NN'), ('campaign', 'NN'), ('coincide', 'NN'), ('mosul', 'NN'), ('campaign', 'NN'), ('happen', 'JJ'), ('soon', 'RB'), ('_', 'JJ'), ('press', 'NN'), ('briefing', 'VBG'), ('oct', 'JJ'), ('26', 'CD'), ('video', 'NN'), ('transcript', 'NN'), ('lt', 'NN'), ('gen', 'NN'), ('townsend', 'NN'), ('operation', 'NN'), ('inherent', 'JJ'), ('resolve', 'NN'), ('commander', 'NN'), ('said', 'VBD'), ('campaign', 'NN'), ('take', 'VB'), ('raqqa', 'NN'), ('syria', 'NN'), ('done', 'VBN'), ('simultaneously', 'RB'), ('mosul', 'JJ'), ('campaign', 'NN'), ('working', 'VBG'), ('plans', 'NNS'), ('isolation', 'VBP'), ('eventual', 'JJ'), ('liberation', 'NN'), ('raqqah', 'NN'), ('done', 'VBN'), ('stages', 'NNS'), ('first', 'JJ'), ('isolation', 'NN'), ('seizure', 'NN'), ('liberation', 'NN'), ('_', 'NNP'), ('raqqah', 'NN'), ('operation', 'NN'), ('done', 'VBN'), ('lot', 'NN'), ('lighter', 'JJR'), ('coalition', 'NN'), ('footprint', 'NN'), ('local', 'JJ'), ('partners', 'NNS'), ('northern', 'JJ'), ('syria', 'NNS'), ('townsend', 'VBP'), ('said', 'VBD'), ('sufficient', 'JJ'), ('local', 'JJ'), ('forces', 'NNS'), ('plan', 'VBP'), ('recruit', 'VBP'), ('equip', 'JJ'), ('train', 'NN'), ('local', 'JJ'), ('forces', 'NNS'), ('operation', 'NN'), ('current', 'JJ'), ('syrian', 'JJ'), ('democratic', 'JJ'), ('forces', 'NNS'), ('30000', 'CD'), ('number', 'NN'), ('mostly', 'RB'), ('kurdish', 'JJ'), ('townsend', 'NN'), ('plans', 'NNS'), ('recruit', 'VBP'), ('local', 'JJ'), ('forces', 'NNS'), ('raqqah', 'VBP'), ('area', 'NN'), ('similar', 'JJ'), ('way', 'NN'), ('done', 'VBN'), ('manbij', 'JJ'), ('training', 'NN'), ('done', 'VBN'), ('northern', 'JJ'), ('syria', 'NNS'), ('_', 'VBP'), ('asked', 'VBN'), ('kurdish', 'JJ'), ('ypg', 'NN'), ('element', 'NN'), ('syrian', 'JJ'), ('democratic', 'JJ'), ('forces', 'NNS'), ('participate', 'VB'), ('raqqah', 'NN'), ('campaign', 'NN'), ('given', 'VBN'), ('turkey', 'NN'), ('demanded', 'VBD'), ('involvement', 'NN'), ('kurds', 'NNS'), ('raqqah', 'VBP'), ('townsend', 'NN'), ('said', 'VBD'), ('tough', 'JJ'), ('one', 'CD'), ('townsend', 'NN'), ('said', 'VBD'), ('important', 'JJ'), ('get', 'NN'), ('isolation', 'JJ'), ('place', 'NN'), ('around', 'IN'), ('raqqah', 'JJ'), ('start', 'NN'), ('controlling', 'VBG'), ('environment', 'NN'), ('pretty', 'RB'), ('short', 'JJ'), ('timeline', 'NN'), ('gon', 'NN'), ('na', 'TO'), ('take', 'VB'), ('force', 'NN'), ('_', 'NNP'), ('turkey', 'NN'), ('townsend', 'NN'), ('said', 'VBD'), ('turks', 'NNS'), ('expressed', 'VBN'), ('interest', 'NN'), ('involved', 'VBN'), ('well', 'RB'), ('well', 'RB'), ('work', 'NN'), ('later', 'RB'), ('think', 'VBP'), ('well', 'RB'), ('go', 'VB'), ('forces', 'NNS'), ('go', 'VB'), ('timeline', 'JJ'), ('need', 'NN'), ('stressed', 'VBD'), ('want', 'JJ'), ('move', 'NN'), ('raqqah', 'NN'), ('soon', 'RB'), ('_', 'NNP'), ('lt', 'NN'), ('gen', 'NN'), ('townsend', 'NN'), ('said', 'VBD'), ('theyll', 'JJ'), ('take', 'NN'), ('partner', 'NN'), ('thats', 'NNS'), ('willing', 'JJ'), ('join', 'JJ'), ('coalition', 'NN'), ('would', 'MD'), ('include', 'VB'), ('exisis', 'NN'), ('fighters', 'NNS'), ('gon', 'VBP'), ('na', 'TO'), ('go', 'VB'), ('go', 'VB'), ('whos', 'RB'), ('willing', 'JJ'), ('go', 'VB'), ('soon', 'RB'), ('well', 'RB'), ('get', 'VB'), ('initial', 'JJ'), ('isolation', 'NN'), ('position', 'NN'), ('well', 'RB'), ('well', 'RB'), ('look', 'VB'), ('prosecute', 'JJ'), ('operation', 'NN'), ('_', 'NNP'), ('asked', 'VBD'), ('urgency', 'JJ'), ('raqqah', 'NN'), ('campaign', 'NN'), ('townsend', 'NN'), ('said', 'VBD'), ('isis', 'NN'), ('something', 'NN'), ('external', 'JJ'), ('plot', 'NN'), ('emanating', 'VBG'), ('raqqah', 'JJ'), ('_', 'JJ'), ('military', 'JJ'), ('times', 'NNS'), ('journalist', 'VBP'), ('asked', 'VBD'), ('us', 'PRP'), ('troops', 'NNS'), ('would', 'MD'), ('deployed', 'VB'), ('syria', 'JJ'), ('townsend', 'NN'), ('would', 'MD'), ('answer', 'VB'), ('directly', 'RB'), ('inferred', 'VBN'), ('would', 'MD'), ('race', 'NN'), ('raqqah', 'VB'), ('_', 'NNP'), ('townsend', 'VB'), ('several', 'JJ'), ('times', 'NNS'), ('avoided', 'JJ'), ('questions', 'NNS'), ('russia', 'VBP'), ('syria', 'JJ'), ('respect', 'NN'), ('raqqah', 'NN'), ('campaign', 'NN'), ('oct', 'VBZ'), ('26', 'CD'), ('briefing', 'NN'), ('video', 'NN'), ('transcript', 'JJ'), ('end', 'NN'), ('briefing', 'NN'), ('paul', 'NN'), ('sonne', 'NN'), ('asked', 'VBD'), ('directly', 'RB'), ('syria', 'JJ'), ('russias', 'NN'), ('response', 'NN'), ('turkey', 'NN'), ('participating', 'VBG'), ('raqqa', 'NN'), ('campaign', 'NN'), ('moving', 'VBG'), ('even', 'RB'), ('syria', 'VB'), ('townsends', 'NNS'), ('answer', 'RBR'), ('cryptic', 'JJ'), ('hard', 'JJ'), ('summarize', 'NN'), ('important', 'JJ'), ('read', 'VBN'), ('full', 'JJ'), ('signaled', 'VBN'), ('official', 'JJ'), ('justification', 'NN'), ('us', 'PRP'), ('moving', 'VBG'), ('raqqah', 'NNS'), ('acknowledged', 'VBD'), ('syrian', 'JJ'), ('government', 'NN'), ('would', 'MD'), ('oppose', 'VB'), ('townsend', 'NN'), ('know', 'VB'), ('right', 'JJ'), ('syria', 'NN'), ('seems', 'VBZ'), ('hands', 'NNS'), ('full', 'JJ'), ('necessary', 'JJ'), ('coalition', 'NN'), ('move', 'NN'), ('inside', 'IN'), ('syria', 'NN'), ('defeat', 'NN'), ('daeshisil', 'NN'), ('poses', 'VBZ'), ('threat', 'NN'), ('syria', 'NNS'), ('iraq', 'JJ'), ('region', 'NN'), ('nations', 'NNS'), ('like', 'IN'), ('said', 'VBD'), ('well', 'RB'), ('welcome', 'JJ'), ('contributing', 'VBG'), ('nation', 'NN'), ('wants', 'VBZ'), ('make', 'VB'), ('part', 'NN'), ('coalition', 'NN'), ('go', 'VBP'), ('fight', 'JJ'), ('daesh', 'NN'), ('syria', 'NNS'), ('join', 'VBP'), ('coalition', 'NN'), ('come', 'VBN'), ('cant', 'JJ'), ('come', 'JJ'), ('whole', 'JJ'), ('bunch', 'NN'), ('strings', 'NNS'), ('got', 'VBD'), ('willing', 'JJ'), ('go', 'VB'), ('coalition', 'NN'), ('needs', 'VBZ'), ('done', 'VBN'), ('try', 'NN'), ('employ', 'NN'), ('coalition', 'NN'), ('contributions', 'NNS'), ('whether', 'IN'), ('troops', 'NNS'), ('capabilities', 'NNS'), ('try', 'VBP'), ('always', 'RB'), ('employ', 'VBP'), ('within', 'IN'), ('bounds', 'NNS'), ('wishes', 'JJ'), ('government', 'NN'), ('set', 'VBN'), ('arrangement', 'JJ'), ('coalition', 'NN'), ('employs', 'VBZ'), ('capabilities', 'NNS'), ('well', 'RB'), ('use', 'VBP'), ('whoever', 'NN'), ('wants', 'VBZ'), ('go', 'VB'), ('fight', 'JJ'), ('daesh', 'NN'), ('raqqa', 'NN'), ('thats', 'NNS'), ('tough', 'JJ'), ('place', 'NN'), ('probably', 'RB'), ('wont', 'RB'), ('long', 'JJ'), ('list', 'NN'), ('would', 'MD'), ('imagine', 'VB'), ('syria', 'NN'), ('probably', 'RB'), ('isnt', 'VBZ'), ('thrilled', 'VBD'), ('us', 'PRP'), ('necessary', 'JJ'), ('_', 'NNP'), ('official', 'NN'), ('justification', 'NN'), ('taking', 'VBG'), ('raqqah', 'JJ'), ('syrian', 'JJ'), ('army', 'NN'), ('hands', 'NNS'), ('full', 'JJ'), ('somebody', 'NN'), ('take', 'VB'), ('isis', 'NN'), ('capital', 'NN'), ('_', 'NNP'), ('townsend', 'NN'), ('says', 'VBZ'), ('multiple', 'JJ'), ('times', 'NNS'), ('country', 'NN'), ('force', 'NN'), ('join', 'NN'), ('coalition', 'NN'), ('isolate', 'NN'), ('liberate', 'NN'), ('raqqah', 'NN'), ('time', 'NN'), ('says', 'VBZ'), ('briefing', 'VBG'), ('exclude', 'JJ'), ('syrian', 'JJ'), ('coalition', 'NN'), ('forces', 'NNS'), ('asked', 'VBD'), ('syria', 'NNS'), ('russias', 'RB'), ('expected', 'VBN'), ('reaction', 'NN'), ('raqqah', 'NN'), ('campaign', 'NN'), ('brings', 'VBZ'), ('anyone', 'NN'), ('join', 'NN'), ('coalition', 'NN'), ('either', 'DT'), ('forces', 'NNS'), ('capabilities', 'NNS'), ('must', 'MD'), ('accept', 'VB'), ('us', 'PRP'), ('leading', 'VBG'), ('coalition', 'NN'), ('even', 'RB'), ('though', 'IN'), ('legal', 'JJ'), ('authority', 'NN'), ('fight', 'NN'), ('bomb', 'NN'), ('inside', 'IN'), ('syria', 'NN'), ('syrian', 'JJ'), ('government', 'NN'), ('repeatedly', 'RB'), ('reminds', 'VBZ'), ('world', 'NN'), ('_', 'NNP'), ('townsend', 'NN'), ('acknowledges', 'VBZ'), ('syrian', 'JJ'), ('government', 'NN'), ('probably', 'RB'), ('wont', 'VBD'), ('thrilled', 'JJ'), ('us', 'PRP'), ('coalition', 'NN'), ('taking', 'VBG'), ('raqqah', 'JJ'), ('us', 'PRP'), ('meaning', 'VBG'), ('turkey', 'NN'), ('largely', 'RB'), ('blows', 'VBZ'), ('interesting', 'VBG'), ('completely', 'RB'), ('avoids', 'IN'), ('addressing', 'VBG'), ('russia', 'NN'), ('specifically', 'RB'), ('though', 'IN'), ('several', 'JJ'), ('journalists', 'NNS'), ('anxious', 'JJ'), ('address', 'NN'), ('dicey', 'NN'), ('vague', 'NN'), ('unlike', 'IN'), ('parts', 'NNS'), ('briefing', 'VBG'), ('part', 'NN'), ('sounded', 'VBD'), ('disingenuous', 'JJ'), ('_', 'NNP'), ('turkey', 'NN'), ('urging', 'VBG'), ('battle', 'NN'), ('raqqa', 'NN'), ('wait', 'VBP'), ('mosul', 'NN'), ('operation', 'NN'), ('turkish', 'JJ'), ('deputy', 'NN'), ('prime', 'JJ'), ('minister', 'NN'), ('numan', 'NN'), ('kurtulmus', 'NN'), ('would', 'MD'), ('better', 'VB'), ('militarily', 'RB'), ('strategically', 'RB'), ('conduct', 'VB'), ('operation', 'NN'), ('mosul', 'NN'), ('operation', 'NN'), ('turkeys', 'NNS'), ('euphrates', 'VBZ'), ('shield', 'JJ'), ('operation', 'NN'), ('completed', 'VBD'), ('aleppo', 'JJ'), ('_', 'NNP'), ('southfront', 'NN'), ('reports', 'NNS'), ('jaish', 'JJ'), ('alfatah', 'NNS'), ('rebel', 'NN'), ('group', 'NN'), ('led', 'VBD'), ('al', 'RB'), ('nusra', 'JJ'), ('able', 'JJ'), ('deliver', 'NN'), ('devastating', 'VBG'), ('blow', 'NN'), ('syrian', 'JJ'), ('government', 'NN'), ('forces', 'NNS'), ('break', 'VBP'), ('siege', 'JJ'), ('eastern', 'JJ'), ('aleppo', 'NN'), ('_', 'NN'), ('rebels', 'NNS'), ('launched', 'VBN'), ('recent', 'JJ'), ('offensive', 'JJ'), ('2000', 'CD'), ('socalled', 'VBD'), ('moderate', 'JJ'), ('opposition', 'NN'), ('members', 'NNS'), ('carried', 'VBD'), ('attacks', 'NNS'), ('residential', 'JJ'), ('areas', 'NNS'), ('schools', 'NNS'), ('hospitals', 'NNS'), ('support', 'VBP'), ('22', 'CD'), ('tanks', 'NNS'), ('15', 'CD'), ('ifvs', 'JJ'), ('multiple', 'JJ'), ('launch', 'NN'), ('rocket', 'NN'), ('systems', 'NNS'), ('eight', 'CD'), ('vehicles', 'NNS'), ('suicide', 'VBP'), ('bombers', 'NNS'), ('killed', 'VBD'), ('80', 'CD'), ('civilians', 'NNS'), ('injured', 'JJ'), ('300', 'CD'), ('oct', 'JJ'), ('29', 'CD'), ('oct', 'JJ'), ('31', 'CD'), ('alone', 'RB'), ('launched', 'JJ'), ('shells', 'NNS'), ('chlorine', 'VBP'), ('gas', 'NN'), ('alhamdaniya', 'NN'), ('neighborhood', 'NN'), ('west', 'JJS'), ('aleppo', 'JJ'), ('_', 'NN'), ('russia', 'NN'), ('used', 'VBN'), ('warplanes', 'NNS'), ('aleppo', 'RB'), ('16', 'CD'), ('days', 'NNS'), ('rebel', 'NN'), ('groups', 'NNS'), ('east', 'VBP'), ('aleppo', 'JJ'), ('continue', 'VBP'), ('attack', 'RP'), ('west', 'JJS'), ('aleppo', 'JJ'), ('russian', 'JJ'), ('defense', 'NN'), ('minister', 'NN'), ('shoigu', 'NN'), ('said', 'VBD'), ('militants', 'NNS'), ('shoot', 'JJ'), ('dozens', 'NNS'), ('civilians', 'NNS'), ('every', 'DT'), ('day', 'NN'), ('trying', 'VBG'), ('approach', 'NN'), ('humanitarian', 'JJ'), ('corridors', 'NNS'), ('russian', 'JJ'), ('military', 'JJ'), ('asked', 'VBD'), ('permission', 'NN'), ('airstrikes', 'NNS'), ('oct', 'VBP'), ('28', 'CD'), ('russian', 'JJ'), ('president', 'NN'), ('putin', 'NN'), ('refused', 'VBD'), ('continuing', 'VBG'), ('extend', 'JJ'), ('halt', 'NN'), ('airstrikes', 'NNS'), ('part', 'NN'), ('humanitarian', 'JJ'), ('pause', 'NN'), ('kremlin', 'NNP'), ('spokesman', 'NN'), ('said', 'VBD'), ('humanitarian', 'JJ'), ('pause', 'NN'), ('impossible', 'JJ'), ('continue', 'JJ'), ('opposition', 'NN'), ('groups', 'NNS'), ('resume', 'VBP'), ('offensive', 'JJ'), ('operations', 'NNS'), ('done', 'VBN'), ('kremlin', 'NN'), ('spokesman', 'NN'), ('also', 'RB'), ('indicated', 'VBD'), ('measures', 'NNS'), ('taken', 'VBN'), ('ensure', 'VB'), ('evacuation', 'NN'), ('civilians', 'NNS'), ('injured', 'JJ'), ('eastern', 'JJ'), ('aleppo', 'NN'), ('_', 'NNP'), ('ruptly', 'RB'), ('published', 'VBD'), ('video', 'NN'), ('today', 'NN'), ('syrian', 'JJ'), ('army', 'NN'), ('firing', 'VBG'), ('rocket', 'NN'), ('salvos', 'NN'), ('heavy', 'JJ'), ('automatic', 'JJ'), ('weapons', 'NNS'), ('attempted', 'VBD'), ('wrest', 'JJS'), ('control', 'NN'), ('contested', 'VBD'), ('southwestern', 'JJ'), ('area', 'NN'), ('_', 'NN'), ('russians', 'VBZ'), ('wait', 'VBP'), ('un', 'JJ'), ('us', 'PRP'), ('convince', 'VB'), ('moderate', 'JJ'), ('opposition', 'NN'), ('separate', 'JJ'), ('designated', 'VBN'), ('terrorist', 'JJ'), ('groups', 'NNS'), ('un', 'JJ'), ('envoy', 'JJ'), ('steffan', 'NN'), ('de', 'IN'), ('mistura', 'FW'), ('geneva', 'NN'), ('called', 'VBN'), ('fighters', 'NNS'), ('leave', 'VBP'), ('city', 'NN'), ('help', 'NN'), ('enable', 'VB'), ('aid', 'NN'), ('reach', 'NN'), ('east', 'JJ'), ('aleppos', 'JJ'), ('civilians', 'NNS'), ('top', 'JJ'), ('negotiator', 'NN'), ('khaled', 'VBD'), ('khoja', 'NN'), ('saudibacked', 'VBN'), ('opposition', 'NN'), ('umbrella', 'NN'), ('group', 'NN'), ('high', 'JJ'), ('negotiations', 'NNS'), ('committee', 'NN'), ('hnc', 'NN'), ('also', 'RB'), ('geneva', 'NN'), ('said', 'VBD'), ('impossible', 'JJ'), ('rebels', 'NNS'), ('east', 'VBP'), ('aleppo', 'JJ'), ('separate', 'JJ'), ('al', 'NN'), ('nusra', 'NN'), ('al', 'NN'), ('qaeda', 'NN'), ('blamed', 'VBD'), ('international', 'JJ'), ('community', 'NN'), ('also', 'RB'), ('denied', 'VBD'), ('shelling', 'VBG'), ('civilians', 'NNS'), ('west', 'JJ'), ('aleppo', 'NN'), ('confirmed', 'VBD'), ('numerous', 'JJ'), ('officials', 'NNS'), ('media', 'NNS'), ('reports', 'NNS'), ('east', 'RB'), ('aleppo', 'JJ'), ('rebels', 'NNS'), ('refusing', 'VBG'), ('allow', 'JJ'), ('civilians', 'NNS'), ('leave', 'VBP'), ('_', 'VBN'), ('russia', 'JJ'), ('keeps', 'NNS'), ('extending', 'VBG'), ('halt', 'NN'), ('airstrikes', 'NNS'), ('continue', 'VBP'), ('keep', 'VB'), ('humanitarian', 'JJ'), ('corridors', 'NNS'), ('opposition', 'NN'), ('rebels', 'NNS'), ('refuse', 'VBP'), ('allow', 'JJ'), ('civilians', 'NNS'), ('use', 'VBP'), ('escape', 'JJ'), ('rebels', 'NNS'), ('launch', 'VBP'), ('offensives', 'NNS'), ('refuse', 'VBP'), ('separate', 'JJ'), ('al', 'NN'), ('qaeda', 'NN'), ('foggy', 'NN'), ('propagandamired', 'VBD'), ('situation', 'NN'), ('aleppo', 'NN'), ('becomes', 'VBZ'), ('clear', 'JJ'), ('everyone', 'NN'), ('us', 'PRP'), ('continues', 'VBZ'), ('refuse', 'VB'), ('provide', 'JJ'), ('intelligence', 'NN'), ('location', 'NN'), ('al', 'IN'), ('qaeda', 'JJ'), ('convince', 'NN'), ('rebels', 'NNS'), ('backing', 'VBG'), ('separate', 'JJ'), ('_', 'NNP'), ('khoja', 'NN'), ('hoping', 'VBG'), ('election', 'NN'), ('next', 'IN'), ('week', 'NN'), ('bring', 'VBP'), ('hillary', 'JJ'), ('clinton', 'NN'), ('savior', 'JJ'), ('opposition', 'NN'), ('groups', 'NNS'), ('al', 'VBP'), ('qaeda', 'JJ'), ('east', 'JJ'), ('aleppo', 'NN'), ('hnc', 'NN'), ('negotiator', 'NN'), ('khoja', 'FW'), ('heard', 'VBN'), ('democratic', 'JJ'), ('presidential', 'JJ'), ('candidate', 'NN'), ('hillary', 'JJ'), ('clinton', 'NN'), ('talking', 'VBG'), ('civilian', 'JJ'), ('protection', 'NN'), ('noflyzones', 'NNS'), ('something', 'NN'), ('welcome', 'JJ'), ('demand', 'NN'), ('flow', 'NN'), ('isis', 'NN'), ('fighters', 'NNS'), ('iraq', 'VBP'), ('syria', 'NNS'), ('_', 'NNP'), ('oct', 'VBD'), ('26', 'CD'), ('briefing', 'VBG'), ('video', 'NN'), ('transcript', 'NN'), ('lt', 'NN'), ('gen', 'NN'), ('townsend', 'NN'), ('said', 'VBD'), ('dont', 'JJ'), ('complete', 'JJ'), ('encirclement', 'NN'), ('mosul', 'NN'), ('necessary', 'JJ'), ('movement', 'NN'), ('mosul', 'NN'), ('identify', 'VB'), ('isil', 'JJ'), ('fighters', 'NNS'), ('strike', 'NN'), ('said', 'VBD'), ('isis', 'NN'), ('gotten', 'NN'), ('savvy', 'NN'), ('since', 'IN'), ('fallujah', 'JJ'), ('mix', 'NN'), ('fighters', 'NNS'), ('families', 'NNS'), ('convoys', 'VBP'), ('hard', 'JJ'), ('strike', 'NN'), ('reshaping', 'VBG'), ('syria', 'NNS'), ('_', 'JJ'), ('turkish', 'JJ'), ('government', 'NN'), ('officials', 'NNS'), ('leaking', 'VBG'), ('pretty', 'RB'), ('explosive', 'JJ'), ('claims', 'NNS'), ('turkish', 'JJ'), ('progovernment', 'JJ'), ('media', 'NNS'), ('proerdogan', 'JJ'), ('turkish', 'JJ'), ('media', 'NNS'), ('yeni', 'VBP'), ('safak', 'JJ'), ('reporting', 'NN'), ('russia', 'NN'), ('turkey', 'NN'), ('made', 'VBD'), ('deal', 'NN'), ('cede', 'VB'), ('extensive', 'JJ'), ('amount', 'NN'), ('territory', 'NN'), ('northern', 'JJ'), ('syria', 'NNS'), ('control', 'VB'), ('local', 'JJ'), ('elements', 'NNS'), ('local', 'JJ'), ('assemblies', 'NNS'), ('liberated', 'VBN'), ('terror', 'NN'), ('groups', 'NNS'), ('syrian', 'JJ'), ('president', 'NN'), ('assads', 'NNS'), ('government', 'NN'), ('consolidate', 'NN'), ('power', 'NN'), ('latakia', 'NN'), ('tartus', 'NN'), ('turkish', 'JJ'), ('military', 'JJ'), ('reportedly', 'RB'), ('massing', 'VBG'), ('border', 'NN'), ('gaziantep', 'NN'), ('advance', 'NN'), ('south', 'JJ'), ('aleppo', 'JJ'), ('assads', 'NNS'), ('forces', 'NNS'), ('vacate', 'VBP'), ('city', 'NN'), ('al', 'NN'), ('nusra', 'JJ'), ('ahrar', 'JJ'), ('alsham', 'NN'), ('required', 'VBN'), ('leave', 'VBP'), ('_', 'JJ'), ('yeni', 'NN'), ('safak', 'NN'), ('reports', 'VBZ'), ('new', 'JJ'), ('map', 'NNS'), ('drawn', 'VBN'), ('including', 'VBG'), ('aleppo', 'JJ'), ('idlib', 'NN'), ('latakia', 'NN'), ('raqqa', 'NN'), ('alhasakah', 'JJ'), ('dery', 'NN'), ('ezzor', 'NN'), ('provinces', 'NNS'), ('country', 'NN'), ('syrian', 'JJ'), ('kurds', 'NNS'), ('allied', 'VBD'), ('usled', 'JJ'), ('coaliiton', 'NN'), ('plan', 'NN'), ('create', 'VBP'), ('autonomous', 'JJ'), ('region', 'NN'), ('include', 'VBP'), ('alhasakah', 'JJ'), ('tal', 'JJ'), ('abyad', 'NN'), ('ayn', 'NN'), ('al', 'NN'), ('arab', 'JJ'), ('jarabulus', 'NN'), ('al', 'NN'), ('rai', 'NN'), ('azez', 'JJ'), ('marea', 'NN'), ('afrin', 'IN'), ('turkey', 'NN'), ('russia', 'NN'), ('accept', 'VBD'), ('plan', 'NN'), ('turkish', 'JJ'), ('government', 'NN'), ('sources', 'NNS'), ('claimed', 'VBD'), ('russia', 'NN'), ('turkey', 'NN'), ('would', 'MD'), ('fight', 'VB'), ('together', 'RB'), ('operation', 'NN'), ('euphrates', 'NNS'), ('shield', 'VBD'), ('tuesday', 'JJ'), ('yeni', 'NN'), ('safak', 'NN'), ('reported', 'VBD'), ('turkish', 'JJ'), ('military', 'JJ'), ('chief', 'JJ'), ('staff', 'NN'), ('gen', 'NN'), ('hulusi', 'NN'), ('akar', 'NN'), ('traveled', 'VBD'), ('moscow', 'JJ'), ('meet', 'JJ'), ('counterpart', 'NN'), ('gen', 'NN'), ('valery', 'NN'), ('gerasimov', 'NN'), ('deputy', 'NN'), ('defense', 'NN'), ('minister', 'NN'), ('head', 'NN'), ('russian', 'JJ'), ('military', 'JJ'), ('discussmilitary', 'JJ'), ('cooperation', 'NN'), ('regional', 'JJ'), ('issues', 'NNS'), ('openended', 'VBD'), ('conflict', 'NN'), ('russia', 'NN'), ('_', 'NNP'), ('spencer', 'NN'), ('ackerman', 'NN'), ('guardian', 'JJ'), ('spoke', 'NN'), ('people', 'NNS'), ('us', 'PRP'), ('national', 'JJ'), ('security', 'NN'), ('circles', 'NNS'), ('including', 'VBG'), ('retired', 'VBD'), ('senior', 'JJ'), ('us', 'PRP'), ('military', 'JJ'), ('pilots', 'NNS'), ('director', 'NN'), ('national', 'JJ'), ('intelligence', 'NN'), ('increasingly', 'RB'), ('alarmed', 'VBD'), ('hillary', 'JJ'), ('clintons', 'NNS'), ('proposal', 'NN'), ('nofly', 'IN'), ('zones', 'NNS'), ('syria', 'NNS'), ('could', 'MD'), ('lead', 'VB'), ('military', 'JJ'), ('confrontation', 'NN'), ('russia', 'NN'), ('could', 'MD'), ('escalate', 'VB'), ('levels', 'NNS'), ('previously', 'RB'), ('unthinkable', 'JJ'), ('postcold', 'JJ'), ('war', 'NN'), ('world', 'NN'), ('clintons', 'NNS'), ('opponent', 'VBP'), ('trump', 'NN'), ('recently', 'RB'), ('said', 'VBD'), ('safe', 'JJ'), ('zones', 'NNS'), ('plan', 'NN'), ('could', 'MD'), ('lead', 'VB'), ('world', 'NN'), ('war', 'NN'), ('iii', 'VBP'), ('many', 'JJ'), ('considered', 'VBN'), ('risk', 'NN'), ('aerial', 'JJ'), ('confrontation', 'NN'), ('russian', 'JJ'), ('planes', 'NNS'), ('severe', 'JJ'), ('dni', 'NN'), ('clapper', 'NN'), ('said', 'VBD'), ('wouldnt', 'NN'), ('put', 'VBD'), ('past', 'JJ'), ('russians', 'NNS'), ('shoot', 'VBP'), ('american', 'JJ'), ('aircraft', 'NN'), ('others', 'NNS'), ('worry', 'VBP'), ('shell', 'VB'), ('commit', 'NNS'), ('air', 'NN'), ('force', 'NN'), ('indefinite', 'NN'), ('air', 'NN'), ('occupation', 'NN'), ('_', 'NN'), ('retired', 'VBD'), ('navy', 'JJ'), ('pilot', 'NN'), ('flown', 'VBN'), ('nofly', 'RB'), ('zone', 'CD'), ('missions', 'NNS'), ('went', 'VBD'), ('record', 'NN'), ('saying', 'VBG'), ('nofly', 'JJ'), ('zones', 'NNS'), ('cocktail', 'VBP'), ('party', 'NN'), ('military', 'JJ'), ('application', 'NN'), ('power', 'NN'), ('choice', 'NN'), ('going', 'VBG'), ('disaster', 'NN'), ('hope', 'VB'), ('political', 'JJ'), ('posturing', 'NN'), ('also', 'RB'), ('said', 'VBD'), ('see', 'NN'), ('almost', 'RB'), ('nothing', 'NN'), ('positive', 'JJ'), ('come', 'NN'), ('implementing', 'VBG'), ('nofly', 'CC'), ('zone', 'CD'), ('current', 'JJ'), ('time', 'NN'), ('syria', 'NN'), ('conversely', 'RB'), ('potential', 'JJ'), ('make', 'NN'), ('bad', 'JJ'), ('situation', 'NN'), ('worse', 'JJR'), ('high', 'JJ'), ('_', 'NN'), ('guardian', 'JJ'), ('war', 'NN'), ('correspondent', 'NN'), ('jonathan', 'NN'), ('steele', 'NN'), ('calls', 'VBZ'), ('hillary', 'JJ'), ('clintons', 'NNS'), ('nofly', 'VBP'), ('zone', 'CD'), ('plan', 'NN'), ('syria', 'JJ'), ('madness', 'NN'), ('would', 'MD'), ('deescalate', 'VB'), ('war', 'NN'), ('threatens', 'NNS'), ('engulf', 'VBP'), ('us', 'PRP'), ('provides', 'VBZ'), ('syrian', 'JJ'), ('war', 'NN'), ('rarity', 'NN'), ('usuk', 'JJ'), ('media', 'NNS'), ('truthtelling', 'VBG'), ('called', 'VBN'), ('rebels', 'NNS'), ('steele', 'VBP'), ('syria', 'NNS'), ('also', 'RB'), ('mired', 'VBD'), ('propaganda', 'JJ'), ('war', 'NN'), ('heartrending', 'NN'), ('images', 'NNS'), ('rebels', 'VBP'), ('put', 'VBN'), ('social', 'JJ'), ('media', 'NNS'), ('life', 'NN'), ('death', 'NN'), ('aleppo', 'NN'), ('seamier', 'JJR'), ('side', 'NN'), ('armed', 'VBD'), ('groups', 'NNS'), ('control', 'NN'), ('suppressed', 'VBD'), ('_', 'NNP'), ('paul', 'NN'), ('mulshine', 'NN'), ('nj', 'JJ'), ('star', 'NN'), ('ledger', 'NN'), ('notes', 'NNS'), ('top', 'JJ'), ('generals', 'NNS'), ('sides', 'NNS'), ('believe', 'VBP'), ('nofly', 'IN'), ('zone', 'NN'), ('syria', 'NN'), ('would', 'MD'), ('lead', 'VB'), ('war', 'NN'), ('russia', 'NN'), ('_', 'NNP'), ('mnar', 'NN'), ('muhawesh', 'NN'), ('mint', 'NN'), ('press', 'NN'), ('news', 'NN'), ('interviewed', 'VBD'), ('fbi', 'JJ'), ('whistleblower', 'NN'), ('coleen', 'NN'), ('rowley', 'NN'), ('risks', 'NNS'), ('hillary', 'JJ'), ('clinton', 'NN'), ('starting', 'VBG'), ('world', 'NN'), ('war', 'NN'), ('plan', 'NN'), ('b', 'VBP'), ('syria', 'NN'), ('antiaircraft', 'NN'), ('antiartillery', 'NN'), ('weapons', 'NNS'), ('ciabacked', 'VBD'), ('fsa', 'JJ'), ('_', 'NNP'), ('sunday', 'NN'), ('washington', 'NN'), ('post', 'NN'), ('reported', 'VBD'), ('pres', 'NNS'), ('obama', 'IN'), ('neither', 'DT'), ('agreed', 'VBD'), ('disagreed', 'NN'), ('plan', 'NN'), ('b', 'VBP'), ('syria', 'NN'), ('rush', 'NN'), ('ship', 'NN'), ('heavy', 'JJ'), ('weapons', 'NNS'), ('tens', 'NNS'), ('thousands', 'NNS'), ('ciabacked', 'JJ'), ('rebels', 'NNS'), ('syria', 'VBP'), ('free', 'JJ'), ('syrian', 'JJ'), ('army', 'NN'), ('fsa', 'NN'), ('could', 'MD'), ('used', 'VBN'), ('russian', 'JJ'), ('aircraft', 'NN'), ('artillery', 'NN'), ('plan', 'NN'), ('b', 'VBP'), ('supported', 'VBN'), ('cia', 'JJ'), ('director', 'NN'), ('john', 'NN'), ('brennan', 'NN'), ('sec', 'NN'), ('defense', 'NN'), ('ash', 'NN'), ('carter', 'NN'), ('white', 'JJ'), ('house', 'NN'), ('officials', 'NNS'), ('skeptical', 'JJ'), ('cias', 'JJ'), ('assessments', 'NNS'), ('overall', 'JJ'), ('cia', 'NN'), ('backed', 'VBD'), ('50000', 'CD'), ('fighters', 'NNS'), ('constellation', 'NN'), ('groups', 'NNS'), ('syria', 'VBP'), ('article', 'NN'), ('interesting', 'JJ'), ('quotes', 'VBZ'), ('anonymous', 'JJ'), ('us', 'PRP'), ('official', 'JJ'), ('ciabacked', 'VBD'), ('fighters', 'NNS'), ('better', 'RBR'), ('battlefield', 'NN'), ('theyre', 'NN'), ('formidable', 'JJ'), ('adversary', 'JJ'), ('theyre', 'NN'), ('increasingly', 'RB'), ('dominated', 'JJ'), ('extremists', 'NNS'), ('program', 'NN'), ('become', 'VBN'), ('history', 'NN'), ('record', 'NN'), ('effort', 'NN'), ('2nd', 'CD'), ('anonymous', 'JJ'), ('us', 'PRP'), ('official', 'JJ'), ('fsa', 'NN'), ('remains', 'VBZ'), ('vehicle', 'NN'), ('pursue', 'NN'), ('goals', 'NNS'), ('cant', 'VBP'), ('defeat', 'NN'), ('isil', 'NN'), ('without', 'IN'), ('removing', 'VBG'), ('assad', 'RB'), ('long', 'RB'), ('failed', 'JJ'), ('state', 'NN'), ('syria', 'NNS'), ('isil', 'VBP'), ('homeland', 'NN'), ('former', 'JJ'), ('senior', 'JJ'), ('administration', 'NN'), ('official', 'NN'), ('involved', 'JJ'), ('2012', 'CD'), ('white', 'JJ'), ('house', 'NN'), ('discussions', 'NNS'), ('cia', 'VBP'), ('program', 'NN'), ('fine', 'JJ'), ('mess', 'NN'), ('weve', 'VBP'), ('gotten', 'VBN'), ('theres', 'NNS'), ('huge', 'JJ'), ('risk', 'NN'), ('since', 'IN'), ('russians', 'NNS'), ('entered', 'VBD'), ('lesson', 'JJ'), ('dont', 'NNS'), ('take', 'VBP'), ('action', 'NN'), ('early', 'RB'), ('almost', 'RB'), ('expect', 'VB'), ('options', 'NNS'), ('get', 'VBP'), ('worse', 'JJR'), ('worse', 'JJR'), ('worse', 'JJR'), ('2nd', 'CD'), ('administration', 'NN'), ('official', 'NN'), ('involved', 'VBN'), ('syria', 'JJ'), ('discussions', 'NNS'), ('russians', 'NNS'), ('seized', 'VBD'), ('initiative', 'JJ'), ('cant', 'NN'), ('pretend', 'NN'), ('go', 'VBP'), ('war', 'NN'), ('assad', 'RB'), ('go', 'VB'), ('war', 'NN'), ('russia', 'NN'), ('senior', 'JJ'), ('turkish', 'JJ'), ('official', 'NN'), ('us', 'PRP'), ('promised', 'VBD'), ('give', 'JJ'), ('support', 'NN'), ('seems', 'VBZ'), ('like', 'IN'), ('nothing', 'NN'), ('going', 'VBG'), ('happen', 'JJ'), ('coalition', 'NN'), ('hasnt', 'NN'), ('delivered', 'VBD'), ('obsolete', 'JJ'), ('going', 'VBG'), ('look', 'NN'), ('options', 'NNS'), ('aleppo', 'VBP'), ('falls', 'VBZ'), ('assad', 'JJ'), ('wins', 'NNS'), ('russian', 'JJ'), ('ministries', 'NNS'), ('accuse', 'VBP'), ('us', 'PRP'), ('antiisis', 'JJ'), ('coalition', 'NN'), ('war', 'NN'), ('crimes', 'NNS'), ('_', 'VBP'), ('airstrike', 'IN'), ('mourning', 'VBG'), ('procession', 'NN'), ('shia', 'FW'), ('shrine', 'JJ'), ('town', 'NN'), ('daquq', 'NN'), ('near', 'IN'), ('kirkuk', 'NN'), ('oct', 'VBP'), ('21', 'CD'), ('resulted', 'VBD'), ('civilian', 'JJ'), ('casualties', 'NNS'), ('leaving', 'VBG'), ('17', 'CD'), ('people', 'NNS'), ('15', 'CD'), ('women', 'NNS'), ('dead', 'JJ'), ('50', 'CD'), ('injured', 'JJ'), ('mainly', 'RB'), ('women', 'NNS'), ('children', 'NNS'), ('iran', 'JJ'), ('russia', 'NN'), ('claimed', 'VBD'), ('us', 'PRP'), ('coalition', 'NN'), ('airstrike', 'IN'), ('official', 'JJ'), ('kirkuk', 'JJ'), ('provisional', 'JJ'), ('council', 'NN'), ('claimed', 'VBD'), ('iraqi', 'JJ'), ('plane', 'NN'), ('misinformed', 'VBD'), ('isis', 'NN'), ('positions', 'NNS'), ('iraq', 'VBP'), ('investigating', 'VBG'), ('_', 'NNP'), ('pentagon', 'NN'), ('denied', 'VBD'), ('involvement', 'JJ'), ('airstrikes', 'NNS'), ('daquq', 'RB'), ('resulted', 'VBD'), ('civilian', 'JJ'), ('casualties', 'NNS'), ('jason', 'VBP'), ('ditz', 'JJ'), ('antiwarcom', 'NN'), ('notes', 'NNS'), ('denials', 'NNS'), ('specific', 'JJ'), ('caveats', 'NNS'), ('didnt', 'VBP'), ('deny', 'JJ'), ('attacking', 'VBG'), ('daquq', 'JJ'), ('indeed', 'RB'), ('mosque', 'NN'), ('doesnt', 'NN'), ('help', 'NN'), ('credibility', 'NN'), ('us', 'PRP'), ('track', 'VBP'), ('record', 'NN'), ('admitting', 'VBG'), ('civilian', 'JJ'), ('casualties', 'NNS'), ('antiisis', 'VBP'), ('missions', 'NNS'), ('hasnt', 'VBP'), ('good', 'JJ'), ('locals', 'NNS'), ('identified', 'VBN'), ('attacker', 'NN'), ('warplane', 'NN'), ('could', 'MD'), ('tell', 'VB'), ('whose', 'WP$'), ('plane', 'NN'), ('_', 'NNP'), ('irans', 'VBZ'), ('foreign', 'JJ'), ('ministry', 'NN'), ('spokesman', 'NN'), ('bahram', 'NN'), ('ghasemi', 'NN'), ('said', 'VBD'), ('ghasemi', 'JJ'), ('attacking', 'VBG'), ('innocent', 'JJ'), ('mourning', 'VBG'), ('people', 'NNS'), ('justified', 'JJ'), ('excuse', 'IN'), ('suffering', 'VBG'), ('people', 'NNS'), ('iraq', 'JJ'), ('terrorist', 'JJ'), ('attacks', 'NNS'), ('one', 'CD'), ('hand', 'NN'), ('bombardment', 'NN'), ('foreign', 'JJ'), ('military', 'JJ'), ('forces', 'NNS'), ('prance', 'VBP'), ('around', 'IN'), ('iraq', 'JJ'), ('pretext', 'NN'), ('fighting', 'VBG'), ('terrorism', 'NN'), ('_', 'NNP'), ('russian', 'JJ'), ('ministry', 'NN'), ('defense', 'NN'), ('said', 'VBD'), ('usled', 'JJ'), ('coalition', 'NN'), ('responsible', 'JJ'), ('strikes', 'NNS'), ('inferred', 'JJ'), ('commit', 'VBP'), ('war', 'NN'), ('crimes', 'NNS'), ('almost', 'RB'), ('daily', 'JJ'), ('russian', 'JJ'), ('mod', 'NN'), ('russian', 'JJ'), ('reconnaissance', 'NN'), ('pinpointed', 'VBD'), ('two', 'CD'), ('jets', 'NNS'), ('conducting', 'VBG'), ('airstrikes', 'NNS'), ('daquq', 'RB'), ('located', 'VBD'), ('30', 'CD'), ('kilometers', 'NNS'), ('south', 'RB'), ('kirkuk', 'VBP'), ('according', 'VBG'), ('data', 'NNS'), ('isis', 'NN'), ('fighters', 'NNS'), ('deadly', 'RB'), ('attacks', 'NNS'), ('civilian', 'JJ'), ('areas', 'NNS'), ('marks', 'NNS'), ('war', 'NN'), ('crimes', 'NNS'), ('becoming', 'VBG'), ('almost', 'RB'), ('daily', 'JJ'), ('routine', 'JJ'), ('international', 'JJ'), ('coalition', 'NN'), ('amnesty', 'IN'), ('international', 'JJ'), ('us', 'PRP'), ('coalition', 'VBP'), ('severely', 'RB'), ('underestimates', 'JJ'), ('civilian', 'JJ'), ('casualties', 'NNS'), ('syria', 'VBP'), ('_', 'JJ'), ('lynn', 'NN'), ('maalouf', 'NN'), ('deputy', 'NN'), ('director', 'NN'), ('research', 'NN'), ('amnesty', 'NN'), ('internationals', 'NNS'), ('beirut', 'VBP'), ('regional', 'JJ'), ('office', 'NN'), ('said', 'VBD'), ('maalouf', 'RB'), ('high', 'JJ'), ('time', 'NN'), ('us', 'PRP'), ('authorities', 'NNS'), ('came', 'VBD'), ('clean', 'JJ'), ('full', 'JJ'), ('extent', 'NN'), ('civilian', 'JJ'), ('damage', 'NN'), ('caused', 'VBD'), ('coalition', 'NN'), ('attacks', 'NNS'), ('syria', 'VBP'), ('fear', 'NN'), ('usled', 'JJ'), ('coalition', 'NN'), ('significantly', 'RB'), ('underestimating', 'JJ'), ('harm', 'NN'), ('caused', 'VBD'), ('civilians', 'NNS'), ('operations', 'NNS'), ('syria', 'VBP'), ('analysis', 'NN'), ('available', 'JJ'), ('evidence', 'NN'), ('suggests', 'VBZ'), ('cases', 'NNS'), ('coalition', 'NN'), ('forces', 'NNS'), ('failed', 'VBD'), ('take', 'VB'), ('adequate', 'JJ'), ('precautions', 'NNS'), ('minimize', 'VBP'), ('harm', 'NN'), ('civilians', 'NNS'), ('damage', 'VBP'), ('civilian', 'JJ'), ('objects', 'NNS'), ('attacks', 'NNS'), ('may', 'MD'), ('constitute', 'VB'), ('disproportionate', 'JJ'), ('otherwise', 'RB'), ('indiscriminate', 'JJ'), ('attacks', 'NNS'), ('emphasis', 'NN'), ('added', 'VBD'), ('_', 'NNP'), ('based', 'VBN'), ('amnestys', 'JJ'), ('analysis', 'NN'), ('11', 'CD'), ('us', 'PRP'), ('coalition', 'NN'), ('attacks', 'NNS'), ('evidence', 'NN'), ('suggests', 'VBZ'), ('many', 'JJ'), ('300', 'CD'), ('civilians', 'NNS'), ('killed', 'VBN'), ('pentagon', 'RB'), ('acknowledged', 'VBD'), ('1', 'CD'), ('death', 'NN'), ('attacks', 'NNS'), ('research', 'NN'), ('monitoring', 'NN'), ('organizations', 'NNS'), ('indicates', 'VBZ'), ('total', 'JJ'), ('number', 'NN'), ('civilians', 'NNS'), ('killed', 'VBD'), ('us', 'PRP'), ('coalition', 'NN'), ('airstrikes', 'NNS'), ('high', 'RB'), ('600', 'CD'), ('1000', 'CD'), ('strikes', 'NNS'), ('hit', 'VBN'), ('villages', 'NNS'), ('homes', 'NNS'), ('public', 'JJ'), ('markets', 'NNS'), ('shelters', 'VBZ'), ('one', 'CD'), ('case', 'NN'), ('doubletap', 'NN'), ('strike', 'NN'), ('reported', 'VBD'), ('village', 'JJ'), ('ayn', 'NN'), ('alkhan', 'IN'), ('hasakah', 'NN'), ('helicopter', 'NN'), ('gunship', 'NN'), ('returned', 'VBD'), ('killed', 'VBN'), ('first', 'JJ'), ('responders', 'NNS'), ('even', 'RB'), ('though', 'IN'), ('kurdish', 'JJ'), ('fighters', 'NNS'), ('claimed', 'VBD'), ('warned', 'JJ'), ('coalition', 'NN'), ('civilians', 'NNS'), ('area', 'NN'), ('emphasis', 'NN'), ('added', 'VBD'), ('survivor', 'NN'), ('point', 'NN'), ('twomonthold', 'VBD'), ('baby', 'JJ'), ('boy', 'NN'), ('arms', 'NNS'), ('rescued', 'VBD'), ('hit', 'NN'), ('caused', 'VBD'), ('fall', 'JJ'), ('drop', 'NN'), ('fell', 'VBD'), ('hole', 'RB'), ('made', 'VBN'), ('air', 'NN'), ('strike', 'NN'), ('saved', 'VBD'), ('mother', 'NN'), ('aunt', 'NN'), ('wife', 'NN'), ('children', 'NNS'), ('daughter', 'VBP'), ('four', 'CD'), ('years', 'NNS'), ('old', 'JJ'), ('son', 'NN'), ('two', 'CD'), ('half', 'NN'), ('killed', 'VBD'), ('woman', 'NN'), ('son', 'NN'), ('id', 'NN'), ('rescued', 'VBD'), ('killed', 'VBN'), ('everyone', 'NN'), ('killed', 'VBN'), ('said', 'VBD'), ('un', 'JJ'), ('rights', 'NNS'), ('groups', 'NNS'), ('condemn', 'VBP'), ('russia', 'JJ'), ('syria', 'NN'), ('airstrikes', 'NNS'), ('idlib', 'JJ'), ('school', 'NN'), ('_', 'NNP'), ('unicef', 'JJ'), ('monitoring', 'NN'), ('groups', 'NNS'), ('accused', 'VBD'), ('russia', 'JJ'), ('syria', 'NNS'), ('airstrikes', 'JJ'), ('school', 'NN'), ('compound', 'NN'), ('rebelheld', 'VBD'), ('village', 'JJ'), ('haas', 'NN'), ('idlib', 'NN'), ('province', 'NN'), ('35', 'CD'), ('people', 'NNS'), ('killed', 'VBD'), ('including', 'VBG'), ('22', 'CD'), ('children', 'NNS'), ('graphic', 'JJ'), ('photo', 'NN'), ('child', 'NN'), ('partially', 'RB'), ('severed', 'JJ'), ('arm', 'NN'), ('circulated', 'VBD'), ('social', 'JJ'), ('media', 'NNS'), ('unicefs', 'JJ'), ('director', 'NN'), ('called', 'VBD'), ('outrage', 'JJ'), ('war', 'NN'), ('crime', 'NN'), ('deliberate', 'NN'), ('un', 'JJ'), ('humanitarian', 'JJ'), ('chief', 'NN'), ('said', 'VBD'), ('incandescent', 'JJ'), ('rage', 'NN'), ('held', 'VBD'), ('un', 'JJ'), ('security', 'NN'), ('council', 'NN'), ('stopping', 'VBG'), ('suffering', 'VBG'), ('_', 'JJ'), ('un', 'JJ'), ('security', 'NN'), ('council', 'NN'), ('meeting', 'NN'), ('russian', 'JJ'), ('ambassador', 'NN'), ('churkin', 'NN'), ('attacked', 'VBD'), ('several', 'JJ'), ('parties', 'NNS'), ('including', 'VBG'), ('us', 'PRP'), ('ambassador', 'JJ'), ('un', 'JJ'), ('samantha', 'NN'), ('power', 'NN'), ('churkin', 'NN'), ('said', 'VBD'), ('russia', 'JJ'), ('syria', 'NN'), ('halted', 'VBD'), ('airstrikes', 'NNS'), ('past', 'JJ'), ('week', 'NN'), ('recognition', 'NN'), ('us', 'PRP'), ('power', 'NN'), ('accusing', 'VBG'), ('russia', 'NN'), ('cooperating', 'VBG'), ('un', 'JJ'), ('mocking', 'VBG'), ('humanitarian', 'JJ'), ('pause', 'NN'), ('said', 'VBD'), ('power', 'NN'), ('dont', 'NN'), ('get', 'VBP'), ('congratulations', 'NNS'), ('credit', 'NN'), ('committing', 'VBG'), ('war', 'NN'), ('crimes', 'NNS'), ('day', 'NN'), ('week', 'NN'), ('walked', 'VBD'), ('syrian', 'JJ'), ('ambassador', 'NN'), ('spoke', 'VBD'), ('russia', 'NN'), ('lost', 'VBN'), ('seat', 'NN'), ('un', 'JJ'), ('human', 'JJ'), ('rights', 'NNS'), ('council', 'NN'), ('_', 'VBP'), ('russia', 'NN'), ('stripped', 'VBD'), ('seat', 'NN'), ('un', 'JJ'), ('human', 'JJ'), ('rights', 'NNS'), ('council', 'NN'), ('un', 'JJ'), ('general', 'JJ'), ('assembly', 'NN'), ('secret', 'JJ'), ('vote', 'NN'), ('reelection', 'NN'), ('membership', 'NN'), ('us', 'PRP'), ('uk', 'JJ'), ('seats', 'NNS'), ('council', 'VBP'), ('rights', 'NNS'), ('groups', 'NNS'), ('lobbied', 'VBD'), ('outcome', 'JJ'), ('hungary', 'JJ'), ('croatia', 'NN'), ('gained', 'VBD'), ('seats', 'NNS'), ('region', 'NN'), ('saudi', 'NN'), ('arabia', 'NN'), ('kept', 'VBD'), ('seat', 'JJ'), ('human', 'JJ'), ('rights', 'NNS'), ('council', 'NN'), ('operation', 'NN'), ('euphrates', 'VBZ'), ('shield', 'JJ'), ('syria', 'NNS'), ('threatens', 'VBZ'), ('turkish', 'JJ'), ('planes', 'NNS'), ('_', 'NN'), ('turkishbacked', 'VBD'), ('forces', 'NNS'), ('cia', 'VBP'), ('turkishbacked', 'VBN'), ('free', 'JJ'), ('syrian', 'JJ'), ('army', 'NN'), ('fsa', 'NN'), ('turkish', 'JJ'), ('military', 'JJ'), ('invaded', 'VBD'), ('syria', 'JJ'), ('jarablus', 'NN'), ('late', 'JJ'), ('august', 'NN'), ('offensive', 'NN'), ('called', 'VBN'), ('operation', 'NN'), ('euphrates', 'VBZ'), ('shield', 'JJ'), ('pretense', 'NN'), ('clearing', 'VBG'), ('isis', 'NN'), ('syrianturkish', 'JJ'), ('border', 'NN'), ('areas', 'NNS'), ('real', 'JJ'), ('aim', 'NN'), ('preventing', 'VBG'), ('kurdish', 'JJ'), ('forces', 'NNS'), ('securing', 'VBG'), ('contiguous', 'JJ'), ('area', 'NN'), ('northern', 'JJ'), ('syria', 'NNS'), ('advanced', 'VBD'), ('westward', 'JJ'), ('northern', 'JJ'), ('aleppo', 'NN'), ('vicinity', 'NN'), ('albab', 'VBP'), ('began', 'VBD'), ('fighting', 'VBG'), ('kurdish', 'JJ'), ('forces', 'NNS'), ('oct', 'VBP'), ('20', 'CD'), ('hit', 'JJ'), ('majority', 'NN'), ('kurdish', 'JJ'), ('syrian', 'JJ'), ('democratic', 'JJ'), ('forces', 'NNS'), ('sdf', 'VBP'), ('airstrikes', 'NNS'), ('hurriyet', 'RB'), ('reported', 'VBD'), ('via', 'IN'), ('anonymous', 'JJ'), ('official', 'JJ'), ('syrian', 'JJ'), ('government', 'NN'), ('activated', 'VBD'), ('air', 'NN'), ('defense', 'NN'), ('threatened', 'VBD'), ('shoot', 'JJ'), ('turkish', 'JJ'), ('planes', 'NNS'), ('syrian', 'JJ'), ('airspace', 'NN'), ('_', 'NNP'), ('rt', 'NN'), ('reported', 'VBD'), ('oct', 'JJ'), ('29', 'CD'), ('turkish', 'JJ'), ('air', 'NN'), ('force', 'NN'), ('used', 'VBN'), ('operation', 'NN'), ('euphrates', 'VBZ'), ('shield', 'VBN'), ('past', 'JJ'), ('week', 'NN'), ('coalition', 'NN'), ('forces', 'NNS'), ('also', 'RB'), ('decreased', 'VBD'), ('number', 'NN'), ('flights', 'NNS'), ('northern', 'JJ'), ('syria', 'NNS'), ('lack', 'VBP'), ('air', 'NN'), ('support', 'NN'), ('slowed', 'VBD'), ('advance', 'RB'), ('toward', 'IN'), ('albab', 'JJ'), ('_', 'NNP'), ('past', 'NN'), ('days', 'NNS'), ('turkish', 'JJ'), ('forces', 'NNS'), ('fought', 'VBN'), ('isis', 'NN'), ('kurds', 'NNS'), ('northern', 'JJ'), ('syria', 'JJ'), ('syrian', 'JJ'), ('coalition', 'NN'), ('forces', 'NNS'), ('turkey', 'VBP'), ('claims', 'NNS'), ('syrian', 'JJ'), ('forces', 'NNS'), ('attacked', 'VBD'), ('week', 'NN'), ('near', 'IN'), ('marea', 'JJ'), ('wednesday', 'JJ'), ('turkish', 'JJ'), ('foreign', 'JJ'), ('minister', 'NN'), ('said', 'VBD'), ('operation', 'NN'), ('euphrates', 'NNS'), ('shield', 'VBD'), ('would', 'MD'), ('deterred', 'VB'), ('government', 'NN'), ('forces', 'NNS'), ('retaking', 'VBG'), ('city', 'NN'), ('albab', 'NN'), ('east', 'JJ'), ('aleppo', 'JJ'), ('rebels', 'NNS'), ('firing', 'VBG'), ('chemical', 'NN'), ('weapons', 'NNS'), ('rockets', 'VBZ'), ('civilian', 'JJ'), ('areas', 'NNS'), ('west', 'VBP'), ('aleppo', 'JJ'), ('_', 'NNP'), ('sunday', 'NN'), ('syrian', 'JJ'), ('media', 'NNS'), ('reported', 'VBD'), ('shells', 'NNS'), ('containing', 'VBG'), ('poison', 'NN'), ('gases', 'NNS'), ('fired', 'VBD'), ('residential', 'JJ'), ('areas', 'NNS'), ('west', 'VBP'), ('aleppo', 'JJ'), ('opposition', 'NN'), ('fighters', 'NNS'), ('east', 'VBP'), ('aleppo', 'JJ'), ('rt', 'NN'), ('crew', 'NN'), ('ground', 'NN'), ('reported', 'VBD'), ('36', 'CD'), ('cases', 'NNS'), ('suffocation', 'NN'), ('almayadeen', 'IN'), ('media', 'NNS'), ('reported', 'VBN'), ('victims', 'NNS'), ('civilians', 'NNS'), ('russian', 'JJ'), ('ambassador', 'NN'), ('un', 'NN'), ('reported', 'VBD'), ('via', 'IN'), ('russian', 'JJ'), ('foreign', 'JJ'), ('ministry', 'NN'), ('16000', 'CD'), ('people', 'NNS'), ('killed', 'VBN'), ('usbacked', 'JJ'), ('opposition', 'NN'), ('groups', 'NNS'), ('february', 'JJ'), ('september', 'VBP'), ('_', 'JJ'), ('head', 'NN'), ('aleppo', 'NN'), ('university', 'NN'), ('hospital', 'NN'), ('said', 'VBD'), ('36', 'CD'), ('people', 'NNS'), ('fighters', 'NNS'), ('civilians', 'NNS'), ('injured', 'JJ'), ('chlorine', 'NN'), ('gas', 'NN'), ('fired', 'VBD'), ('west', 'JJS'), ('aleppo', 'JJ'), ('opposition', 'NN'), ('east', 'NN'), ('aleppo', 'NN'), ('launched', 'VBN'), ('recent', 'JJ'), ('offensive', 'JJ'), ('governmentheld', 'NN'), ('areas', 'NNS'), ('week', 'NN'), ('russia', 'NN'), ('syria', 'NN'), ('halting', 'VBG'), ('airstrikes', 'NNS'), ('londonbased', 'VBN'), ('prorebel', 'NN'), ('syrian', 'JJ'), ('observatory', 'NN'), ('human', 'JJ'), ('rights', 'NNS'), ('confirmed', 'VBD'), ('chemical', 'JJ'), ('weapon', 'NN'), ('attacks', 'NNS'), ('happened', 'VBD'), ('air', 'NN'), ('base', 'NN'), ('hasakah', 'NN'), ('_', 'NNP'), ('air', 'NN'), ('base', 'NN'), ('us', 'PRP'), ('military', 'JJ'), ('engineers', 'NNS'), ('renovated', 'VBD'), ('months', 'NNS'), ('ago', 'RB'), ('use', 'VBP'), ('us', 'PRP'), ('special', 'JJ'), ('forces', 'NNS'), ('kurdish', 'JJ'), ('forces', 'NNS'), ('first', 'JJ'), ('time', 'NN'), ('mystical', 'JJ'), ('abu', 'NN'), ('hajar', 'NN'), ('airport', 'NN'), ('near', 'IN'), ('town', 'NN'), ('rmelan', 'NN'), ('alhasakah', 'JJ'), ('governorate', 'NN'), ('syria', 'NNS'), ('usaf', 'JJ'), ('pictwittercomvlj78ew5if', 'JJ'), ('aldin', 'NN'), ('abazović', 'NN'), ('ald_aba', 'IN'), ('october', '$'), ('30', 'CD'), ('2016', 'CD'), ('ukraine', 'JJ'), ('_', 'NNP'), ('fighting', 'NN'), ('broken', 'JJ'), ('northern', 'JJ'), ('suburbs', 'NNS'), ('donetsk', 'JJ'), ('airport', 'NN'), ('district', 'NN'), ('yasinovataya', 'NN'), ('checkpoint', 'NN'), ('spartak', 'JJ'), ('village', 'NN'), ('ukraine', 'JJ'), ('ceasefire', 'NN'), ('according', 'VBG'), ('fort', 'NN'), ('russ', 'NN'), ('_', 'NNP'), ('ukraine', 'JJ'), ('military', 'JJ'), ('reportedly', 'RB'), ('massing', 'VBG'), ('frontlines', 'NNS'), ('lugansk', 'NNS'), ('also', 'RB'), ('report', 'VBP'), ('team', 'NN'), ('nato', 'RB'), ('troops', 'VBZ'), ('canada', 'JJ'), ('denmark', 'NN'), ('netherlands', 'NNS'), ('meeting', 'VBG'), ('ukraine', 'JJ'), ('miltiary', 'JJ'), ('donbass', 'NN'), ('study', 'NN'), ('real', 'JJ'), ('situation', 'NN'), ('demarcation', 'NN'), ('line', 'NN'), ('donbass', 'NN'), ('test', 'NN'), ('weapons', 'NNS'), ('war', 'NN'), ('elections', 'NNS'), ('_', 'VBP'), ('retired', 'VBN'), ('col', 'NN'), ('lawrence', 'NN'), ('wilkerson', 'NN'), ('gordon', 'NN'), ('adams', 'JJ'), ('national', 'JJ'), ('interest', 'NN'), ('hillary', 'JJ'), ('clintons', 'NNS'), ('foreign', 'JJ'), ('policy', 'NN'), ('judgement', 'NN'), ('isnt', 'RB'), ('good', 'JJ'), ('everyone', 'NN'), ('says', 'VBZ'), ('wilkerson', 'NN'), ('also', 'RB'), ('discussed', 'VBD'), ('article', 'NN'), ('real', 'JJ'), ('news', 'NN'), ('week', 'NN'), ('wilkerson', 'NN'), ('served', 'VBD'), ('george', 'NN'), ('w', 'NN'), ('bush', 'NN'), ('administration', 'NN'), ('says', 'VBZ'), ('hes', 'NNS'), ('concerned', 'JJ'), ('past', 'IN'), ('history', 'NN'), ('fact', 'NN'), ('lot', 'NN'), ('people', 'NNS'), ('advising', 'VBG'), ('look', 'NN'), ('like', 'IN'), ('people', 'NNS'), ('advising', 'VBG'), ('pres', 'NNS'), ('george', 'VBP'), ('w', 'JJ'), ('bush', 'NN'), ('trump', 'NN'), ('place', 'NN'), ('wilkerson', 'NN'), ('said', 'VBD'), ('also', 'RB'), ('indicated', 'VBN'), ('wouldnt', 'NN'), ('get', 'VB'), ('us', 'PRP'), ('wars', 'NNS'), ('edge', 'VBP'), ('empire', 'NN'), ('cost', 'NN'), ('us', 'PRP'), ('much', 'JJ'), ('dont', 'NN'), ('produce', 'VBP'), ('good', 'JJ'), ('result', 'NN'), ('wilkerson', 'NN'), ('said', 'VBD'), ('heard', 'JJ'), ('military', 'JJ'), ('joint', 'NN'), ('chiefs', 'NNS'), ('reluctant', 'JJ'), ('intervene', 'JJ'), ('syria', 'NNS'), ('assad', 'JJ'), ('policy', 'NN'), ('take', 'VB'), ('assad', 'JJ'), ('mistake', 'NN'), ('_', 'NN'), ('ray', 'NN'), ('mcgovern', 'JJ'), ('real', 'JJ'), ('news', 'NN'), ('said', 'VBD'), ('nothing', 'NN'), ('happened', 'VBD'), ('latest', 'JJS'), ('meeting', 'NN'), ('minsk', 'NN'), ('accords', 'NNS'), ('germany', 'JJ'), ('france', 'NN'), ('russia', 'NN'), ('want', 'VBP'), ('violence', 'NN'), ('ukraine', 'JJ'), ('stop', 'NN'), ('poroshenko', 'NN'), ('man', 'NN'), ('according', 'VBG'), ('mcgovern', 'JJ'), ('hes', 'NNS'), ('puppet', 'VBP'), ('us', 'PRP'), ('hillary', 'JJ'), ('clinton', 'NN'), ('people', 'NNS'), ('shes', 'NNS'), ('bringing', 'VBG'), ('theyve', 'NN'), ('openly', 'RB'), ('favored', 'VBD'), ('giving', 'VBG'), ('arms', 'NNS'), ('offense', 'NN'), ('arms', 'NNS'), ('ukraine', 'JJ'), ('europeans', 'NNS'), ('credit', 'NN'), ('worried', 'VBD'), ('mcgovern', 'JJ'), ('recently', 'RB'), ('visited', 'VBD'), ('region', 'NN'), ('mission', 'NN'), ('20', 'CD'), ('people', 'NNS'), ('said', 'VBD'), ('ukraine', 'JJ'), ('shambles', 'NNS'), ('people', 'NNS'), ('malnourished', 'VBD'), ('unofficial', 'JJ'), ('delegation', 'NN'), ('visited', 'VBD'), ('crimea', 'JJ'), ('areas', 'NNS'), ('russia', 'VBP'), ('welcomed', 'VBN'), ('everyday', 'JJ'), ('russians', 'NNS'), ('like', 'IN'), ('minded', 'JJ'), ('people', 'NNS'), ('want', 'VBP'), ('peace', 'NN'), ('worried', 'JJ'), ('demonization', 'NN'), ('president', 'NN'), ('country', 'NN'), ('_', 'NNP'), ('clintons', 'NNS'), ('allies', 'NNS'), ('promise', 'VBP'), ('tougher', 'JJR'), ('line', 'NN'), ('iran', 'IN'), ('clinton', 'NN'), ('adviser', 'NN'), ('proposes', 'VBZ'), ('attacking', 'VBG'), ('iran', 'NN'), ('aid', 'NN'), ('saudis', 'NN'), ('yemen', 'NNS'), ('_', 'VBP'), ('geniuses', 'NNS'), ('brought', 'VBD'), ('iraq', 'JJ'), ('war', 'NN'), ('theyre', 'NN'), ('mainly', 'RB'), ('allied', 'VBD'), ('hillary', 'JJ'), ('clinton', 'NN'), ('campaign', 'NN'), ('something', 'NN'), ('partisan', 'JJ'), ('author', 'NN'), ('article', 'NN'), ('forgets', 'VBZ'), ('mention', 'JJ'), ('analysis', 'NN'), ('opinion', 'NN'), ('_', 'NNP'), ('yet', 'RB'), ('another', 'DT'), ('warning', 'NN'), ('expert', 'NN'), ('usrussian', 'JJ'), ('relations', 'NNS'), ('buildup', 'VBP'), ('war', 'NN'), ('nuclear', 'JJ'), ('power', 'NN'), ('retired', 'VBD'), ('intelligence', 'JJ'), ('analyst', 'NN'), ('ray', 'NN'), ('mcgovern', 'JJ'), ('lays', 'JJ'), ('recent', 'JJ'), ('history', 'NN'), ('deterioration', 'NN'), ('relations', 'NNS'), ('asks', 'RB'), ('right', 'JJ'), ('questions', 'NNS'), ('hype', 'VBP'), ('russia', 'NN'), ('built', 'VBN'), ('right', 'JJ'), ('_', 'NN'), ('stephen', 'NN'), ('walt', 'VBZ'), ('great', 'JJ'), ('myth', 'NNS'), ('us', 'PRP'), ('intervention', 'VBP'), ('syria', 'NNS'), ('americas', 'IN'), ('standing', 'VBG'), ('world', 'NN'), ('weakened', 'VBD'), ('staying', 'VBG'), ('countries', 'NNS'), ('humanitarian', 'JJ'), ('crises', 'NNS'), ('_', 'VBP'), ('james', 'NNS'), ('carden', 'JJ'), ('nation', 'NN'), ('obamas', 'IN'), ('foreign', 'JJ'), ('policy', 'NN'), ('hostage', 'NN'), ('bipartisan', 'JJ'), ('consensus', 'NN'), ('may', 'MD'), ('criticized', 'VB'), ('washington', 'NN'), ('playbook', 'NN'), ('couldnt', 'NN'), ('overcome', 'VBP'), ('dcs', 'JJ'), ('interventionist', 'NN'), ('orthodoxy', 'JJ'), ('carden', 'NN'), ('notes', 'NNS'), ('obamas', 'IN'), ('foreign', 'JJ'), ('policy', 'NN'), ('pledges', 'NNS'), ('unfulfilled', 'VBD'), ('likely', 'JJ'), ('successor', 'NN'), ('hawk', 'NN'), ('alltoofitting', 'VBG'), ('monument', 'NN'), ('era', 'NN'), ('dashed', 'VBN'), ('expectations', 'NNS'), ('obama', 'VBP'), ('gave', 'VBD'), ('wars', 'NNS'), ('libya', 'JJ'), ('syria', 'NNS'), ('veneer', 'VBP'), ('legality', 'NN'), ('started', 'VBD'), ('new', 'JJ'), ('dangerous', 'JJ'), ('cold', 'JJ'), ('war', 'NN'), ('russia', 'NN'), ('launched', 'VBN'), ('asia', 'IN'), ('pivot', 'NN'), ('begin', 'NN'), ('efforts', 'NNS'), ('contain', 'VBP'), ('china', 'JJ'), ('obama', 'NN'), ('expected', 'VBN'), ('improve', 'VB'), ('mess', 'NN'), ('bush', 'IN'), ('years', 'NNS'), ('instead', 'RB'), ('convergence', 'RB'), ('neoconservative', 'JJ'), ('wilsonian', 'JJ'), ('interventionist', 'NN'), ('creeds', 'NNS'), ('solidified', 'VBD'), ('orthodoxy', 'JJ'), ('became', 'VBD'), ('necessary', 'JJ'), ('war', 'NN'), ('selling', 'NN'), ('2003', 'CD'), ('iraq', 'NN'), ('invasion', 'NN'), ('fiasco', 'NN'), ('hardcore', 'NN'), ('neocons', 'NNS'), ('become', 'VBP'), ('devoted', 'JJ'), ('supporters', 'NNS'), ('hillary', 'JJ'), ('clinton', 'NN'), ('samantha', 'NN'), ('power', 'NN'), ('declared', 'VBD'), ('us', 'PRP'), ('national', 'JJ'), ('interest', 'NN'), ('expanded', 'VBN'), ('interstate', 'JJ'), ('affairs', 'NNS'), ('intrastate', 'NN'), ('affairs', 'NNS'), ('well', 'RB'), ('obama', 'RB'), ('remains', 'VBZ'), ('firmly', 'JJ'), ('grip', 'NN'), ('foreignpolicy', 'NN'), ('orthodoxy', 'NN'), ('dismissed', 'VBN'), ('largely', 'RB'), ('narrow', 'JJ'), ('spectrum', 'NN'), ('policy', 'NN'), ('options', 'NNS'), ('considered', 'VBN'), ('acceptable', 'JJ'), ('borg', 'NN'), ('powers', 'NNS'), ('casual', 'JJ'), ('disregard', 'NN'), ('westphalian', 'JJ'), ('principle', 'NN'), ('noninterference', 'NN'), ('internal', 'JJ'), ('affairs', 'NNS'), ('states', 'VBZ'), ('de', 'IN'), ('rigueur', 'NN'), ('among', 'IN'), ('interventionists', 'JJ'), ('parties', 'NNS'), ('fused', 'VBN'), ('belief', 'JJ'), ('american', 'JJ'), ('global', 'JJ'), ('hegemony', 'NN'), ('obama', 'NN'), ('administrations', 'NNS'), ('2010', 'CD'), ('quadrennial', 'JJ'), ('defense', 'NN'), ('review', 'NN'), ('representative', 'JJ'), ('_', 'NN'), ('according', 'VBG'), ('max', 'NNS'), ('keiser', 'VBD'), ('american', 'JJ'), ('finance', 'NN'), ('show', 'NN'), ('host', 'NN'), ('based', 'VBN'), ('london', 'JJ'), ('uk', 'JJ'), ('using', 'VBG'), ('fake', 'JJ'), ('russian', 'JJ'), ('threat', 'NN'), ('pass', 'NN'), ('snoopers', 'NNS'), ('charter', 'VBP'), ('law', 'NN'), ('cites', 'NNS'), ('guardian', 'JJ'), ('exclusive', 'JJ'), ('increasingly', 'RB'), ('aggressive', 'JJ'), ('russia', 'NN'), ('growing', 'VBG'), ('threat', 'NN'), ('uk', 'JJ'), ('says', 'VBZ'), ('mi5', 'JJ'), ('head', 'NN'), ('exclusive', 'JJ'), ('first', 'JJ'), ('newspaper', 'NN'), ('interview', 'NN'), ('given', 'VBN'), ('serving', 'VBG'), ('spy', 'NN'), ('chief', 'NN'), ('andrew', 'JJ'), ('parker', 'NN'), ('talks', 'NNS'), ('terror', 'VBP'), ('espionage', 'JJ'), ('balance', 'NN'), ('secrecy', 'NN'), ('privacy', 'NN'), ('kremlin', 'NNP'), ('spokesman', 'NN'), ('refuted', 'VBD'), ('mi5', 'NN'), ('chiefs', 'NNS'), ('claims', 'VBZ'), ('post', 'NN'), ('iraqi', 'JJ'), ('forces', 'NNS'), ('enter', 'VBP'), ('mosul', 'JJ'), ('rebels', 'NNS'), ('launch', 'JJ'), ('offensive', 'JJ'), ('aleppo', 'NN'), ('turkish', 'JJ'), ('forces', 'NNS'), ('borders', 'NNS'), ('appeared', 'VBD'), ('first', 'JJ'), ('shadowproof', 'NN')]\n",
            "[('zero', 'CD'), ('hedge', 'NN'), ('furious', 'JJ'), ('democrats', 'NNS'), ('clinton', 'VBP'), ('campaign', 'NN'), ('openly', 'RB'), ('blasting', 'VBG'), ('fbi', 'NN'), (\"'s\", 'POS'), ('reopened', 'VBN'), ('investigation', 'NN'), ('republicans', 'NNS'), ('take', 'VBP'), ('delight', 'JJ'), ('government', 'NN'), ('agency', 'NN'), ('reinforce', 'VB'), ('side', 'NN'), ('events', 'NNS'), ('question', 'NN'), ('turns', 'VBZ'), ('emails', 'VBZ'), ('found', 'VBD'), ('weiner', 'NN'), (\"'s\", 'POS'), ('laptop', 'JJ'), ('damaging', 'NN'), ('contents', 'NNS'), ('fbi', 'VBP'), ('take', 'VB'), ('unprecedented', 'JJ'), ('step', 'NN'), ('intervening', 'VBG'), ('major', 'JJ'), ('political', 'JJ'), ('event', 'NN'), ('days', 'NNS'), ('national', 'JJ'), ('election', 'NN'), ('first', 'RB'), ('laid', 'RBR'), ('likely', 'JJ'), ('explanation', 'NN'), ('yesterday', 'NN'), ('showed', 'VBD'), ('several', 'JJ'), ('examples', 'NNS'), ('huma', 'VBP'), ('abedin', 'JJ'), ('emails', 'NNS'), ('sent', 'VBD'), ('work', 'NN'), ('email', 'NN'), ('account', 'VBP'), ('personal', 'JJ'), ('account', 'NN'), ('courtesy', 'JJ'), ('judicial', 'JJ'), ('watch', 'NN'), ('foia', 'NN'), ('release', 'NN'), ('160', 'CD'), ('emails', 'NNS'), ('latest', 'JJS'), ('judicial', 'JJ'), ('watch', 'NN'), ('release', 'NN'), ('110', 'CD'), ('emails', 'NNS'), ('twothirds', 'NNS'), ('total', 'JJ'), ('forwarded', 'VBD'), ('abedin', 'NN'), ('two', 'CD'), ('personal', 'JJ'), ('addresses', 'NNS'), ('controlled', 'VBD'), ('washington', 'NN'), ('times', 'NNS'), ('reported', 'VBN'), ('august', 'JJ'), ('2015', 'CD'), ('state', 'NN'), ('department', 'NN'), ('admitted', 'VBD'), ('federal', 'JJ'), ('judge', 'NN'), ('abedin', 'NN'), ('mills', 'NNS'), ('used', 'VBD'), ('personal', 'JJ'), ('email', 'NN'), ('accounts', 'NNS'), ('conduct', 'JJ'), ('government', 'NN'), ('business', 'NN'), ('addition', 'NN'), ('clintons', 'NNS'), ('private', 'JJ'), ('clintonemailcom', 'NN'), ('transact', 'NN'), ('state', 'NN'), ('department', 'NN'), ('business', 'NN'), ('one', 'CD'), ('email', 'NN'), ('may', 'MD'), ('15', 'CD'), ('2009', 'CD'), ('sent', 'VBD'), ('abedin', 'NN'), ('state', 'NN'), ('department', 'NN'), ('email', 'NN'), ('personal', 'JJ'), ('email', 'NN'), ('abedin', 'NN'), ('archiving', 'VBG'), ('personal', 'JJ'), ('email', 'NN'), ('account', 'NN'), ('email', 'VBP'), ('hillary', 'JJ'), ('clinton', 'NN'), ('sent', 'VBD'), ('clintons', 'NNS'), ('private', 'JJ'), ('email', 'NN'), ('server', 'NN'), ('abedin', 'NN'), ('asked', 'VBD'), ('print', 'JJ'), ('attachments', 'NNS'), ('email', 'VBP'), ('mills', 'NNS'), ('sent', 'VBD'), ('via', 'IN'), ('private', 'JJ'), ('address', 'NN'), ('previous', 'JJ'), ('day', 'NN'), ('clinton', 'NN'), ('involving', 'VBG'), ('timetables', 'NNS'), ('deliverables', 'NNS'), ('review', 'VBP'), ('via', 'IN'), ('alec', 'JJ'), ('ross', 'NN'), ('technology', 'NN'), ('policy', 'NN'), ('expert', 'NN'), ('held', 'VBD'), ('title', 'JJ'), ('senior', 'JJ'), ('adviser', 'NN'), ('innovation', 'NN'), ('secretary', 'NN'), ('clinton', 'NN'), ('however', 'RB'), ('forwarding', 'VBG'), ('hillary', 'NN'), (\"'s\", 'POS'), ('emails', 'JJ'), ('personal', 'JJ'), ('email', 'NN'), ('server', 'NN'), ('convenience', 'NN'), ('one', 'CD'), ('thing', 'NN'), ('troubling', 'VBG'), ('amount', 'NN'), ('redaction', 'NN'), ('involved', 'VBN'), ('emails', 'NNS'), ('migrated', 'VBD'), ('open', 'JJ'), ('email', 'NN'), ('account', 'NN'), ('know', 'VBP'), ('ended', 'VBN'), ('anthony', 'NN'), ('weiner', 'NN'), (\"'s\", 'POS'), ('computer', 'NN'), ('example', 'NN'), ('two', 'CD'), ('pages', 'NNS'), ('timetables', 'NNS'), ('deliverables', 'NNS'), ('attached', 'VBD'), ('email', 'RB'), ('100', 'CD'), ('percent', 'NN'), ('redacted', 'VBN'), ('page', 'NN'), ('denied', 'VBD'), ('stamped', 'VBN'), ('across', 'IN'), ('first', 'RB'), ('redacted', 'VBN'), ('page', 'NN'), ('argument', 'NN'), ('made', 'VBD'), ('extensive', 'JJ'), ('redaction', 'NN'), ('confirms', 'VBZ'), ('confidential', 'JJ'), ('material', 'JJ'), ('part', 'NN'), ('transmission', 'NN'), ('nuanced', 'VBD'), ('point', 'NN'), ('pushed', 'VBN'), ('hillary', 'JJ'), ('clinton', 'NN'), ('supporters', 'NNS'), ('newsweek', 'VBP'), (\"'s\", 'POS'), ('kurt', 'NN'), ('eichenwald', 'NN'), ('article', 'NN'), ('yesterday', 'NN'), ('tried', 'VBD'), ('make', 'VB'), ('case', 'NN'), ('citing', 'VBG'), ('sources', 'NNS'), ('even', 'RB'), ('though', 'IN'), ('fbi', 'NN'), ('said', 'VBD'), ('nobody', 'NN'), ('seen', 'VBN'), ('content', 'JJ'), ('weinerabedin', 'NN'), ('emails', 'NNS'), ('emails', 'NNS'), ('examined', 'VBD'), ('fbi', 'JJ'), ('clinton', 'NN'), ('emails', 'NNS'), ('examined', 'VBD'), ('fbi', 'JJ'), ('clinton', 'NN'), ('procedures', 'NNS'), ('followed', 'VBD'), ('aide', 'IN'), ('httpstcomcsbi7j7xu', 'NN'), ('kurt', 'NN'), ('eichenwald', 'VBP'), ('kurteichenwald', 'VBZ'), ('october', 'RB'), ('29', 'CD'), ('2016', 'CD'), ('remains', 'NNS'), ('seen', 'VBN'), ('emails', 'NNS'), ('although', 'IN'), ('whether', 'IN'), ('hillary', 'JJ'), ('sent', 'VBD'), ('emails', 'NNS'), ('confidential', 'JJ'), ('content', 'NN'), ('directed', 'VBD'), ('simply', 'RB'), ('allowed', 'VBN'), ('closest', 'JJS'), ('aide', 'NN'), ('huma', 'NN'), ('abedin', 'VBZ'), ('forward', 'RB'), ('emails', 'NNS'), ('outside', 'IN'), ('unsecured', 'JJ'), ('email', 'NN'), ('address', 'NN'), ('subsequently', 'RB'), ('ended', 'VBD'), ('anthony', 'NN'), ('weiner', 'NN'), (\"'s\", 'POS'), ('notebook', 'NN'), ('latest', 'JJS'), ('case', 'NN'), ('defended', 'VBD'), ('prosecuted', 'JJ'), ('media', 'NNS'), ('water', 'NN'), ('coolers', 'NNS'), ('perhaps', 'RB'), ('court', 'NN'), ('however', 'RB'), ('know', 'VBP'), ('one', 'CD'), ('thing', 'NN'), ('according', 'VBG'), ('nyt', 'JJ'), ('number', 'NN'), ('huma', 'NN'), ('emails', 'NNS'), ('made', 'VBD'), ('way', 'NN'), ('weiner', 'NN'), (\"'s\", 'POS'), ('pc', 'NN'), ('staggering', 'NN'), ('fbi', 'NN'), ('investigating', 'VBG'), ('illicit', 'JJ'), ('text', 'NN'), ('messages', 'NNS'), ('mr', 'VBP'), ('weiner', 'JJR'), ('former', 'JJ'), ('democratic', 'JJ'), ('congressman', 'NN'), ('new', 'JJ'), ('york', 'NN'), ('sent', 'VBD'), ('15yearold', 'CD'), ('girl', 'JJ'), ('north', 'JJ'), ('carolina', 'NN'), ('bureau', 'NN'), ('told', 'VBD'), ('congress', 'NN'), ('friday', 'RB'), ('uncovered', 'VBD'), ('new', 'JJ'), ('emails', 'NNS'), ('related', 'VBN'), ('clinton', 'NN'), ('case', 'NN'), ('one', 'CD'), ('federal', 'JJ'), ('official', 'NN'), ('said', 'VBD'), ('numbered', 'JJ'), ('tens', 'NNS'), ('thousand', 'VBP'), ('brings', 'NNS'), ('two', 'CD'), ('critical', 'JJ'), ('questions', 'NNS'), ('questioned', 'VBD'), ('fbi', 'JJ'), ('summer', 'NN'), ('huma', 'NN'), ('reveal', 'NN'), ('admit', 'NN'), ('existence', 'NN'), ('thousands', 'NNS'), ('emails', 'VBP'), ('located', 'VBN'), ('personal', 'JJ'), ('home', 'NN'), ('computer', 'NN'), ('ii', 'NN'), ('fbi', 'NN'), ('able', 'JJ'), ('comb', 'NN'), ('everything', 'NN'), ('next', 'JJ'), ('10', 'CD'), ('days', 'NNS'), ('ahead', 'RB'), ('election', 'NN'), ('answer', 'IN'), ('second', 'JJ'), ('question', 'NN'), ('us', 'PRP'), ('presidential', 'JJ'), ('election', 'NN'), ('really', 'RB'), ('take', 'VB'), ('place', 'NN'), ('one', 'CD'), ('candidate', 'NN'), ('currently', 'RB'), ('fbi', 'VBZ'), ('investigation', 'NN'), ('one', 'CD'), ('could', 'MD'), ('potentially', 'RB'), ('lead', 'VB'), ('impeachment', 'NN'), ('proceedings', 'NNS'), ('within', 'IN'), ('weeks', 'NNS'), ('days', 'NNS'), ('elected', 'VBD'), ('president', 'NN'), ('still', 'RB'), ('biggest', 'JJS'), ('irony', 'JJ'), ('latest', 'JJS'), ('debacle', 'NN'), ('largely', 'RB'), ('predicted', 'VBD'), ('donald', 'NN'), ('trump', 'NN'), ('back', 'RB'), ('august', 'JJ'), ('2015', 'CD'), ('came', 'VBD'), ('huma', 'NN'), ('abedin', 'NN'), ('knows', 'VBZ'), ('hillarys', 'JJ'), ('private', 'JJ'), ('illegal', 'NN'), ('emails', 'NNS'), ('humas', 'VBP'), ('pr', 'JJ'), ('husband', 'NN'), ('anthony', 'NN'), ('weiner', 'NN'), ('tell', 'VBP'), ('world', 'NN')]\n",
            "[('multiple', 'JJ'), ('ny', 'JJ'), ('police', 'NN'), ('departments', 'NNS'), ('investigation', 'NN'), ('hosting', 'VBG'), ('gay', 'JJ'), ('sex', 'NN'), ('parties', 'NNS'), ('underage', 'JJ'), ('boys', 'NNS'), ('multiple', 'JJ'), ('ny', 'JJ'), ('police', 'NN'), ('departments', 'NNS'), ('investigation', 'NN'), ('hosting', 'VBG'), ('gay', 'JJ'), ('sex', 'NN'), ('parties', 'NNS'), ('underage', 'VBP'), ('boys', 'JJ'), ('matt', 'JJ'), ('agorist', 'NN'), ('november', 'IN'), ('3', 'CD'), ('2016', 'CD'), ('1', 'CD'), ('comment', 'NN'), ('schenectady', 'JJ'), ('ny', 'JJ'), ('police', 'NN'), ('officers', 'NNS'), ('suspension', 'VBP'), ('investigation', 'NN'), ('writing', 'VBG'), ('fraudulent', 'JJ'), ('checks', 'NNS'), ('prompted', 'VBD'), ('multiagency', 'NN'), ('investigation', 'NN'), ('alleged', 'VBD'), ('gay', 'JJ'), ('sex', 'NN'), ('parties', 'NNS'), ('police', 'VBP'), ('officers', 'NNS'), ('sex', 'NN'), ('parties', 'NNS'), ('alone', 'VBP'), ('criminal', 'JJ'), ('source', 'NN'), ('close', 'JJ'), ('investigation', 'NN'), ('said', 'VBD'), ('parties', 'NNS'), ('attended', 'VBD'), ('young', 'JJ'), ('boys', 'NNS'), ('legal', 'JJ'), ('age', 'NN'), ('drink', 'VB'), ('consent', 'NN'), ('sex', 'NN'), ('adults', 'NNS'), ('sgt', 'VBD'), ('jonathan', 'JJ'), ('e', 'NN'), ('moore', 'VBD'), ('35', 'CD'), ('schenectady', 'JJ'), ('police', 'NN'), ('department', 'NN'), ('suspended', 'VBD'), ('boyfriend', 'NN'), ('anthony', 'NN'), ('aubin', 'VBD'), ('27', 'CD'), ('caught', 'NN'), ('trying', 'VBG'), ('use', 'NN'), ('fraudulent', 'JJ'), ('check', 'NN'), ('purchase', 'NN'), ('92000', 'CD'), ('jaguar', 'NN'), ('aubin', 'NN'), ('arrested', 'VBN'), ('felony', 'NN'), ('charges', 'NNS'), ('attempting', 'VBG'), ('use', 'NN'), ('check', 'NN'), ('however', 'RB'), ('according', 'VBG'), ('report', 'NN'), ('times', 'NNS'), ('union', 'NN'), ('arrest', 'NN'), ('aubin', 'NN'), ('lengthy', 'JJ'), ('criminal', 'NN'), ('record', 'NN'), ('recently', 'RB'), ('parole', 'VBD'), ('triggered', 'JJ'), ('much', 'JJ'), ('broader', 'JJR'), ('multiagency', 'NN'), ('police', 'NN'), ('investigation', 'NN'), ('allegations', 'NNS'), ('gay', 'VBP'), ('officers', 'NNS'), ('may', 'MD'), ('hosted', 'VB'), ('taken', 'VBN'), ('part', 'NN'), ('sex', 'NN'), ('parties', 'NNS'), ('called', 'VBD'), ('breeding', 'VBG'), ('parties', 'NNS'), ('allegedly', 'RB'), ('attended', 'VBD'), ('teenagers', 'NNS'), ('legal', 'JJ'), ('age', 'NN'), ('drink', 'VB'), ('alcohol', 'JJ'), ('consent', 'NN'), ('sex', 'NN'), ('adults', 'NNS'), ('aside', 'RB'), ('schenectady', 'JJ'), ('police', 'NN'), ('department', 'NN'), ('investigation', 'NN'), ('probe', 'NN'), ('spread', 'VBD'), ('albany', 'JJ'), ('police', 'NN'), ('department', 'NN'), ('well', 'RB'), ('times', 'NNS'), ('reports', 'NNS'), ('departments', 'NNS'), ('may', 'MD'), ('also', 'RB'), ('become', 'VB'), ('involved', 'JJ'), ('broader', 'JJR'), ('investigation', 'NN'), ('according', 'VBG'), ('person', 'NN'), ('briefed', 'JJ'), ('matter', 'NN'), ('authorized', 'VBN'), ('comment', 'NN'), ('publicly', 'RB'), ('im', 'VBZ'), ('really', 'RB'), ('position', 'NN'), ('say', 'VBP'), ('anything', 'NN'), ('point', 'NN'), ('albany', 'JJ'), ('police', 'NN'), ('chief', 'NN'), ('brendan', 'NN'), ('cox', 'NN'), ('said', 'VBD'), ('tuesday', 'JJ'), ('case', 'NN'), ('looking', 'VBG'), ('position', 'NN'), ('even', 'RB'), ('gauge', 'VBD'), ('whether', 'IN'), ('truth', 'NN'), ('alleged', 'VBN'), ('moore', 'RB'), ('also', 'RB'), ('admitted', 'VBN'), ('using', 'VBG'), ('staterun', 'JJ'), ('criminal', 'JJ'), ('database', 'NN'), ('personal', 'JJ'), ('reasons', 'NNS'), ('check', 'VBP'), ('background', 'IN'), ('boyfriend', 'NN'), ('according', 'VBG'), ('report', 'NN'), ('moore', 'NN'), ('told', 'VBD'), ('police', 'NNS'), ('knew', 'VBD'), ('aubin', 'RP'), ('lengthy', 'JJ'), ('criminal', 'NN'), ('record', 'NN'), ('idea', 'NN'), ('checks', 'NNS'), ('fakes', 'VBP'), ('92000', 'CD'), ('check', 'NN'), ('purported', 'VBD'), ('miami', 'JJ'), ('law', 'NN'), ('office', 'NN'), ('15000', 'CD'), ('check', 'NN'), ('fictitious', 'JJ'), ('company', 'NN'), ('washington', 'NN'), ('avenue', 'NN'), ('albany', 'NN'), ('reported', 'VBD'), ('times', 'NNS'), ('moore', 'RBR'), ('told', 'JJ'), ('investigators', 'NNS'), ('aubin', 'VBP'), ('moved', 'VBN'), ('several', 'JJ'), ('months', 'NNS'), ('ago', 'RB'), ('couple', 'VBP'), ('planning', 'VBG'), ('make', 'NN'), ('lot', 'NN'), ('money', 'NN'), ('signed', 'VBN'), ('contracts', 'NNS'), ('connecticut', 'VBN'), ('company', 'NN'), ('called', 'VBN'), ('bear', 'JJ'), ('films', 'NNS'), ('make', 'VBP'), ('gay', 'JJ'), ('porn', 'JJ'), ('movies', 'NNS'), ('statement', 'NN'), ('wednesday', 'NN'), ('schenectady', 'JJ'), ('police', 'NN'), ('chief', 'NN'), ('eric', 'NN'), ('clifford', 'NN'), ('said', 'VBD'), ('moores', 'NNS'), ('involvement', 'JJ'), ('pornography', 'NN'), ('industry', 'NN'), ('may', 'MD'), ('violated', 'VB'), ('departmental', 'JJ'), ('policies', 'NNS'), ('mention', 'VBP'), ('whether', 'IN'), ('officer', 'NN'), ('face', 'NN'), ('charges', 'NNS'), ('clifford', 'NN'), ('said', 'VBD'), ('appropriate', 'JJ'), ('street', 'NN'), ('working', 'VBG'), ('us', 'PRP'), ('aubin', 'JJ'), ('locked', 'VBN'), ('apparently', 'RB'), ('began', 'VBD'), ('rolling', 'VBG'), ('connections', 'NNS'), ('police', 'NN'), ('departments', 'NNS'), ('allegations', 'NNS'), ('sparked', 'VBD'), ('investigations', 'NNS'), ('officers', 'NNS'), ('may', 'MD'), ('unlawful', 'VB'), ('sex', 'NN'), ('teenage', 'NN'), ('boys', 'VBZ'), ('police', 'JJ'), ('officers', 'NNS'), ('sex', 'NN'), ('underage', 'NN'), ('victims', 'NNS'), ('unfortunately', 'RB'), ('fairly', 'RB'), ('common', 'JJ'), ('practice', 'NN'), ('police', 'NNS'), ('sexual', 'JJ'), ('misconduct', 'NN'), ('common', 'JJ'), ('1000', 'CD'), ('officers', 'NNS'), ('licenses', 'VBZ'), ('revoked', 'VBN'), ('last', 'JJ'), ('six', 'CD'), ('years', 'NNS'), ('nearly', 'RB'), ('half', 'RB'), ('involve', 'JJ'), ('underage', 'NN'), ('victims', 'NNS'), ('according', 'VBG'), ('report', 'NN'), ('around', 'IN'), ('1000', 'CD'), ('policemen', 'NNS'), ('across', 'IN'), ('us', 'PRP'), ('licenses', 'VBZ'), ('revoked', 'VBD'), ('lost', 'VBN'), ('jobs', 'NNS'), ('last', 'JJ'), ('six', 'CD'), ('years', 'NNS'), ('account', 'VBP'), ('numerous', 'JJ'), ('sexual', 'JJ'), ('offenses', 'NNS'), ('included', 'VBD'), ('rape', 'NN'), ('possession', 'NN'), ('child', 'NN'), ('pornography', 'NN'), ('probe', 'NN'), ('involved', 'VBN'), ('examining', 'NN'), ('records', 'NNS'), ('41', 'CD'), ('states', 'NNS'), ('see', 'VBP'), ('many', 'JJ'), ('police', 'NNS'), ('officers', 'NNS'), ('licenses', 'NNS'), ('revoked', 'VBD'), ('20092014', 'CD'), ('offenses', 'NNS'), ('police', 'JJ'), ('desertification', 'NN'), ('data', 'NNS'), ('provided', 'VBD'), ('nine', 'CD'), ('states', 'NNS'), ('district', 'NN'), ('columbia', 'NN'), ('investigation', 'NN'), ('included', 'VBD'), ('examining', 'NN'), ('records', 'NNS'), ('state', 'NN'), ('local', 'JJ'), ('police', 'NN'), ('sheriffs', 'NNS'), ('deputies', 'NNS'), ('prison', 'VBP'), ('guards', 'NNS'), ('school', 'NN'), ('resource', 'NN'), ('officers', 'NNS'), ('however', 'RB'), ('federal', 'JJ'), ('officers', 'NNS'), ('included', 'VBD'), ('investigation', 'NN'), ('meaning', 'NN'), ('number', 'NN'), ('likely', 'JJ'), ('higher', 'JJR'), ('matt', 'JJ'), ('agorist', 'NN'), ('honorably', 'RB'), ('discharged', 'VBD'), ('veteran', 'NN'), ('usmc', 'JJ'), ('former', 'JJ'), ('intelligence', 'NN'), ('operator', 'NN'), ('directly', 'RB'), ('tasked', 'VBD'), ('nsa', 'JJ'), ('prior', 'JJ'), ('experience', 'NN'), ('gives', 'VBZ'), ('unique', 'JJ'), ('insight', 'JJ'), ('world', 'NN'), ('government', 'NN'), ('corruption', 'NN'), ('american', 'JJ'), ('police', 'NN'), ('state', 'NN'), ('agorist', 'NN'), ('independent', 'JJ'), ('journalist', 'NN'), ('decade', 'NN'), ('featured', 'VBD'), ('mainstream', 'JJ'), ('networks', 'NNS'), ('around', 'IN'), ('world', 'NN'), ('follow', 'VBP'), ('mattagorist', 'NN'), ('twitter', 'NN'), ('steemit', 'NN'), ('share', 'NN')]\n",
            "[('starstruck', 'JJ'), ('partyfanatic', 'JJ'), ('moral', 'JJ'), ('paradox', 'NN'), ('trump', 'NN'), ('support', 'NN'), ('posted', 'VBD'), ('oct', 'RB'), ('28', 'CD'), ('2016', 'CD'), ('juan', 'JJ'), ('cole', 'NN'), ('informed', 'VBN'), ('comment', 'NN'), ('donald', 'NN'), ('j', 'NN'), ('trumps', 'NNS'), ('poll', 'NN'), ('numbers', 'NNS'), ('california', 'VBP'), ('cratered', 'VBD'), ('28', 'CD'), ('actually', 'RB'), ('poorly', 'JJ'), ('election', 'NN'), ('set', 'NN'), ('record', 'NN'), ('poor', 'JJ'), ('performance', 'NN'), ('presidential', 'JJ'), ('candidate', 'NN'), ('california', 'NN'), ('ever', 'RB'), ('difficult', 'JJ'), ('explain', 'VBP'), ('isnt', 'JJ'), ('poorly', 'RB'), ('everywhere', 'RB'), ('lets', 'VBZ'), ('review', 'JJ'), ('trump', 'NN'), ('says', 'VBZ'), ('stands', 'VBZ'), ('manhandling', 'VBG'), ('women', 'NNS'), ('without', 'IN'), ('consent', 'JJ'), ('torture', 'NN'), ('suggested', 'VBD'), ('crime', 'NN'), ('baltimore', 'NN'), ('spiked', 'VBD'), ('africanamerican', 'JJ'), ('president', 'NN'), ('jail', 'NN'), ('time', 'NN'), ('women', 'NNS'), ('abortion', 'NN'), ('reducing', 'VBG'), ('taxes', 'NNS'), ('paid', 'VBD'), ('billionaires', 'NNS'), ('stigmatizing', 'VBG'), ('latinos', 'JJ'), ('rapists', 'NNS'), ('felons', 'NNS'), ('revival', 'VBP'), ('ku', 'JJ'), ('klux', 'NN'), ('klan', 'NN'), ('without', 'IN'), ('sheets', 'NNS'), ('carpetbombing', 'VBG'), ('civilian', 'JJ'), ('cities', 'NNS'), ('get', 'VBP'), ('isil', 'JJ'), ('unconstitutional', 'JJ'), ('treatment', 'NN'), ('us', 'PRP'), ('citizens', 'VBZ'), ('muslim', 'JJ'), ('faith', 'JJ'), ('passage', 'NN'), ('political', 'JJ'), ('libel', 'NN'), ('laws', 'NNS'), ('means', 'VBZ'), ('censor', 'JJ'), ('press', 'NN'), ('americans', 'NNS'), ('opposed', 'JJ'), ('planks', 'NNS'), ('trump', 'VBP'), ('platform', 'NN'), ('still', 'RB'), ('winning', 'VBG'), ('states', 'NNS'), ('polls', 'NNS'), ('think', 'VBP'), ('two', 'CD'), ('things', 'NNS'), ('going', 'VBG'), ('give', 'JJ'), ('trump', 'NN'), ('floor', 'NN'), ('many', 'JJ'), ('states', 'NNS'), ('california', 'VBP'), ('two', 'CD'), ('things', 'NNS'), ('celebrity', 'NN'), ('status', 'NN'), ('blind', 'IN'), ('party', 'NN'), ('loyalty', 'NN'), ('advertisement', 'NN'), ('square', 'NN'), ('site', 'NN'), ('wide', 'JJ'), ('trump', 'NN'), ('celebrity', 'NN'), ('sort', 'NN'), ('never', 'RB'), ('run', 'VBN'), ('president', 'NN'), ('ronald', 'NN'), ('reagan', 'NN'), ('b', 'NN'), ('actor', 'NN'), ('youth', 'NN'), ('category', 'NN'), ('reagan', 'JJ'), ('ran', 'VBD'), ('president', 'NN'), ('1980', 'CD'), ('acting', 'NN'), ('days', 'NNS'), ('long', 'RB'), ('behind', 'IN'), ('people', 'NNS'), ('electorate', 'VBP'), ('cared', 'VBN'), ('old', 'JJ'), ('black', 'JJ'), ('white', 'JJ'), ('films', 'NNS'), ('trump', 'NN'), ('contrast', 'NN'), ('popular', 'JJ'), ('reality', 'NN'), ('show', 'VBP'), ('11', 'CD'), ('seasons', 'NNS'), ('announced', 'VBD'), ('run', 'VBP'), ('early', 'RB'), ('run', 'VBN'), ('apprentice', 'RB'), ('got', 'VBD'), ('many', 'JJ'), ('20', 'CD'), ('million', 'CD'), ('viewers', 'NNS'), ('true', 'JJ'), ('audience', 'NN'), ('rapidly', 'RB'), ('dropped', 'VBD'), ('thereafter', 'RB'), ('nevertheless', 'JJ'), ('trump', 'NN'), ('millions', 'NNS'), ('people', 'NNS'), ('week', 'NN'), ('politicians', 'NNS'), ('spend', 'VBP'), ('time', 'NN'), ('introducing', 'VBG'), ('public', 'JJ'), ('everybody', 'NN'), ('knew', 'VBD'), ('trump', 'NN'), ('strong', 'JJ'), ('suspicion', 'NN'), ('name', 'NN'), ('recognition', 'NN'), ('inflated', 'VBD'), ('trumps', 'NNS'), ('poll', 'NN'), ('numbers', 'NNS'), ('generals', 'NNS'), ('lot', 'VBP'), ('americans', 'NNS'), ('dont', 'VBP'), ('follow', 'JJ'), ('politics', 'NNS'), ('42', 'CD'), ('dont', 'NN'), ('bother', 'NN'), ('vote', 'NN'), ('typical', 'JJ'), ('presidential', 'JJ'), ('election', 'NN'), ('many', 'JJ'), ('rest', 'VBP'), ('arent', 'JJ'), ('paying', 'VBG'), ('much', 'JJ'), ('attention', 'NN'), ('september', 'VBD'), ('october', 'JJ'), ('election', 'NN'), ('day', 'NN'), ('years', 'NNS'), ('pollsters', 'NNS'), ('call', 'VBP'), ('august', 'JJ'), ('ask', 'NN'), ('people', 'NNS'), ('voting', 'VBG'), ('name', 'NN'), ('two', 'CD'), ('candidates', 'NNS'), ('think', 'VBP'), ('probably', 'RB'), ('get', 'VB'), ('lot', 'RB'), ('suspicious', 'JJ'), ('answers', 'NNS'), ('proportion', 'VBP'), ('sample', 'JJ'), ('never', 'RB'), ('heard', 'VBP'), ('person', 'NN'), ('cant', 'JJ'), ('describe', 'NN'), ('candidate', 'NN'), ('stands', 'VBZ'), ('case', 'NN'), ('donald', 'JJ'), ('trump', 'NN'), ('hillary', 'JJ'), ('clinton', 'NN'), ('course', 'NN'), ('also', 'RB'), ('probably', 'RB'), ('high', 'JJ'), ('name', 'NN'), ('recognition', 'NN'), ('hasnt', 'NN'), ('peoples', 'NNS'), ('living', 'VBG'), ('rooms', 'NNS'), ('way', 'NN'), ('trump', 'VBP'), ('dont', 'JJ'), ('mean', 'JJ'), ('way', 'NN'), ('moreover', 'IN'), ('americans', 'NNS'), ('often', 'RB'), ('forgiving', 'VBG'), ('celebrities', 'NNS'), ('foibles', 'VBZ'), ('celebrities', 'NNS'), ('entertain', 'VBP'), ('us', 'PRP'), ('offer', 'VBP'), ('us', 'PRP'), ('power', 'NN'), ('fantasies', 'NNS'), ('behave', 'VBP'), ('los', 'JJ'), ('angeles', 'NNS'), ('prosecutors', 'NNS'), ('notoriously', 'RB'), ('uphill', 'JJ'), ('battle', 'NN'), ('getting', 'VBG'), ('jurors', 'NNS'), ('convict', 'VBP'), ('even', 'RB'), ('obviously', 'RB'), ('guilty', 'JJ'), ('celebrities', 'NNS'), ('whereas', 'VBP'), ('americans', 'NNS'), ('least', 'VBP'), ('always', 'RB'), ('used', 'VBN'), ('puritanical', 'JJ'), ('expectations', 'NNS'), ('politicians', 'NNS'), ('tolerant', 'JJ'), ('moral', 'JJ'), ('lapses', 'NNS'), ('hollywood', 'NN'), ('set', 'VBN'), ('trump', 'NN'), ('confuses', 'VBZ'), ('many', 'JJ'), ('celebrity', 'NN'), ('politician', 'JJ'), ('many', 'JJ'), ('willing', 'JJ'), ('lenient', 'NN'), ('likely', 'RB'), ('would', 'MD'), ('lawyer', 'NN'), ('theyd', 'VB'), ('never', 'RB'), ('heard', 'VBN'), ('running', 'VBG'), ('office', 'NN'), ('distorting', 'VBG'), ('variable', 'JJ'), ('party', 'NN'), ('loyalty', 'NN'), ('perhaps', 'RB'), ('rise', 'VB'), ('social', 'JJ'), ('media', 'NNS'), ('cemented', 'VBD'), ('party', 'NN'), ('polarization', 'NN'), ('us', 'PRP'), ('people', 'NNS'), ('old', 'JJ'), ('days', 'NNS'), ('voted', 'VBD'), ('clinton', 'NN'), ('voted', 'VBD'), ('bush', 'JJ'), ('white', 'JJ'), ('protestant', 'JJ'), ('women', 'NNS'), ('droves', 'VBZ'), ('party', 'NN'), ('loyalty', 'NN'), ('seems', 'VBZ'), ('solidified', 'VBN'), ('rise', 'NN'), ('social', 'JJ'), ('media', 'NNS'), ('maybe', 'RB'), ('embarrassing', 'VBG'), ('switch', 'VB'), ('sides', 'NNS'), ('public', 'JJ'), ('youve', 'RB'), ('involved', 'JJ'), ('twitter', 'NN'), ('facebook', 'NN'), ('slamming', 'VBG'), ('matches', 'NNS'), ('behalf', 'IN'), ('last', 'JJ'), ('party', 'NN'), ('voted', 'VBD'), ('lot', 'NN'), ('republicans', 'NNS'), ('clearly', 'RB'), ('clinging', 'VBG'), ('trump', 'NN'), ('despite', 'IN'), ('billy', 'RB'), ('bush', 'JJ'), ('tape', 'NN'), ('subsequent', 'NN'), ('charges', 'NNS'), ('women', 'NNS'), ('hes', 'NNS'), ('groped', 'VBD'), ('include', 'VBP'), ('evangelicals', 'NNS'), ('blue', 'JJ'), ('hairs', 'NNS'), ('little', 'JJ'), ('old', 'JJ'), ('white', 'JJ'), ('ladies', 'NNS'), ('reliably', 'RB'), ('republican', 'VBP'), ('usually', 'RB'), ('morally', 'RB'), ('censorious', 'JJ'), ('82', 'CD'), ('selfidentified', 'JJ'), ('republican', 'JJ'), ('women', 'NNS'), ('still', 'RB'), ('supporting', 'VBG'), ('trump', 'NN'), ('groping', 'VBG'), ('california', 'NN'), ('different', 'JJ'), ('well', 'RB'), ('part', 'NN'), ('longer', 'RBR'), ('many', 'JJ'), ('republicans', 'NNS'), ('half', '$'), ('40', 'CD'), ('million', 'CD'), ('californians', 'NNS'), ('registered', 'JJ'), ('vote', 'NN'), ('289', 'CD'), ('registered', 'VBD'), ('voters', 'NNS'), ('republicans', 'NNPS'), ('partyloyalty', 'VBP'), ('distorting', 'VBG'), ('factor', 'NN'), ('may', 'MD'), ('still', 'RB'), ('work', 'VB'), ('gop', 'RB'), ('california', 'NN'), ('long', 'RB'), ('ago', 'RB'), ('tied', 'VBN'), ('declining', 'VBG'), ('white', 'JJ'), ('population', 'NN'), ('minority', 'NN'), ('suffered', 'VBD'), ('implosion', 'JJ'), ('national', 'JJ'), ('gop', 'NN'), ('policy', 'NN'), ('certainly', 'RB'), ('trump', 'VBD'), ('making', 'VBG'), ('mistake', 'NN'), ('cant', 'JJ'), ('win', 'JJ'), ('national', 'JJ'), ('presidential', 'JJ'), ('elections', 'NNS'), ('second', 'JJ'), ('trump', 'NN'), ('lost', 'VBD'), ('many', 'JJ'), ('women', 'NNS'), ('independents', 'NNS'), ('famous', 'JJ'), ('soccer', 'NN'), ('moms', 'NNS'), ('voted', 'VBD'), ('bill', 'NN'), ('clinton', 'NN'), ('switched', 'VBD'), ('w', 'JJ'), ('expect', 'JJ'), ('trump', 'NN'), ('everywhere', 'RB'), ('getting', 'VBG'), ('percentage', 'NN'), ('support', 'NN'), ('percentage', 'NN'), ('registered', 'VBD'), ('voters', 'NNS'), ('republicans', 'NNPS'), ('hence', 'RB'), ('wins', 'NNS'), ('alabama', 'VBP'), ('might', 'MD'), ('even', 'RB'), ('little', 'VB'), ('better', 'JJR'), ('gaining', 'VBG'), ('independents', 'NNS'), ('especially', 'RB'), ('men', 'NNS'), ('willing', 'JJ'), ('wink', 'VBP'), ('celebritys', 'JJ'), ('hi', 'NN'), ('jinx', 'NN'), ('get', 'VB'), ('federal', 'JJ'), ('government', 'NN'), ('backs', 'NNS'), ('halt', 'VBP'), ('immigration', 'NN'), ('usually', 'RB'), ('dont', 'VBZ'), ('hold', 'JJ'), ('peoples', 'NNS'), ('votes', 'VBZ'), ('moral', 'JJ'), ('grounds', 'NNS'), ('people', 'NNS'), ('make', 'VBP'), ('judgments', 'NNS'), ('politics', 'NNS'), ('good', 'JJ'), ('people', 'NNS'), ('parties', 'NNS'), ('think', 'VBP'), ('moral', 'JJ'), ('deficit', 'NN'), ('anyone', 'NN'), ('still', 'RB'), ('willing', 'JJ'), ('vote', 'NN'), ('trump', 'IN'), ('despite', 'IN'), ('racism', 'NN'), ('fascism', 'NN'), ('sexism', 'NN'), ('sexual', 'JJ'), ('predation', 'NN'), ('twoparty', 'NN'), ('system', 'NN'), ('current', 'JJ'), ('modes', 'NNS'), ('communication', 'NN'), ('led', 'VBD'), ('us', 'PRP'), ('place', 'NN'), ('time', 'NN'), ('rethink', 'VBP'), ('otherwise', 'RB'), ('republic', 'JJ'), ('danger', 'NN'), ('tags', 'NNS')]\n",
            "[('un', 'JJ'), ('deploys', 'VBZ'), ('troops', 'JJ'), ('american', 'JJ'), ('college', 'NN'), ('campuses', 'NNS'), ('order', 'NN'), ('combat', 'NN'), ('staggeringly', 'RB'), ('low', 'JJ'), ('rape', 'NN'), ('rates', 'NNS'), ('responding', 'VBG'), ('trump', 'NN'), (\"'s\", 'POS'), ('surging', 'VBG'), ('poll', 'NN'), ('numbers', 'NNS'), ('obama', 'VBP'), ('preemptively', 'RB'), ('pardons', 'NNS'), ('treason', 'VBP'), ('following', 'VBG'), ('hurricane', 'NN'), ('matthew', 'NN'), (\"'s\", 'POS'), ('failure', 'NN'), ('devastate', 'NN'), ('florida', 'NN'), ('activists', 'NNS'), ('flock', 'VBP'), ('sunshine', 'NN'), ('state', 'NN'), ('destroy', 'NN'), ('trump', 'NN'), ('signs', 'NNS'), ('manually', 'RB'), ('tim', 'VBP'), ('kaine', 'NN'), ('takes', 'VBZ'), ('credit', 'NN'), ('interrupting', 'VBG'), ('hurricane', 'NN'), ('matthew', 'NN'), ('debating', 'VBG'), ('weather', 'NN'), ('florida', 'NN'), ('study', 'VBD'), ('many', 'JJ'), ('nonvoters', 'NNS'), ('still', 'RB'), ('undecided', 'VBD'), (\"'re\", 'VBP'), ('going', 'VBG'), ('vote', 'NN'), ('evolution', 'NN'), ('dissent', 'NN'), ('november', 'RB'), ('8th', 'CD'), ('nation', 'NN'), ('decide', 'IN'), ('whether', 'IN'), ('dissent', 'NN'), ('stop', 'NN'), ('racist', 'NN'), ('become', 'JJ'), ('sexist', 'JJ'), ('patriotic', 'JJ'), ('8', 'CD'), ('years', 'NNS'), ('george', 'VBP'), ('w', 'JJ'), ('bush', 'NN'), ('venezuela', 'NN'), ('solves', 'VBZ'), ('starvation', 'NN'), ('problem', 'NN'), ('making', 'VBG'), ('mandatory', 'JJ'), ('buy', 'VB'), ('food', 'NN'), ('breaking', 'VBG'), ('clinton', 'NN'), ('foundation', 'NN'), ('set', 'VBN'), ('investigate', 'JJ'), ('fbi', 'NNS'), ('obama', 'MD'), ('captures', 'NNS'), ('rare', 'VB'), ('pokémon', 'JJ'), ('visiting', 'VBG'), ('hiroshima', 'JJ'), ('movie', 'NN'), ('news', 'NN'), (\"'the\", 'POS'), ('big', 'JJ'), ('friendly', 'JJ'), ('giant', 'JJ'), ('government', 'NN'), (\"'\", \"''\"), ('flops', 'NNS'), ('box', 'IN'), ('office', 'NN'), ('audiences', 'NNS'), ('say', 'VBP'), (\"'s\", 'POS'), ('creepy', 'JJ'), ('barack', 'NN'), ('obama', 'NN'), ('son', 'NN'), (\"'d\", 'POS'), ('look', 'NN'), ('like', 'IN'), ('micah', 'NNS'), ('johnson', 'JJ'), ('white', 'JJ'), ('house', 'NN'), ('edits', 'VBZ'), ('orlando', '$'), ('911', 'CD'), ('transcript', 'NNS'), ('say', 'VBP'), ('shooter', 'RB'), ('pledged', 'VBN'), ('allegiance', 'NN'), ('nra', 'JJ'), ('republican', 'JJ'), ('party', 'NN'), ('president', 'NN'), ('george', 'NN'), ('washington', 'NN'), (\"'redcoats\", 'POS'), ('represent', 'VBP'), ('british', 'JJ'), ('empire', 'NN'), ('king', 'NN'), ('george', 'NN'), ('promotes', 'NNS'), ('distorted', 'VBN'), ('version', 'NN'), ('british', 'JJ'), ('colonialism', 'NN'), (\"'\", \"''\"), ('following', 'VBG'), ('obama', 'NN'), (\"'s\", 'POS'), (\"'okiedoke\", 'NNP'), (\"'\", 'POS'), ('speech', 'NN'), ('stock', 'NN'), ('okiedoke', 'VBD'), ('soars', 'NNS'), ('nasdaq', 'JJ'), (\"'obama\", 'POS'), ('best', 'JJS'), ('okiedoke', 'NN'), ('salesman', 'NN'), (\"'\", \"''\"), ('weaponized', 'VBN'), ('baby', 'NN'), ('formula', 'NN'), ('threatens', 'NNS'), ('planned', 'VBD'), ('parenthood', 'NN'), ('office', 'NN'), ('aclu', 'NN'), ('demands', 'VBZ'), ('federal', 'JJ'), ('investigation', 'NN'), ('gerber', 'NN'), ('experts', 'NNS'), ('melting', 'VBG'), ('antarctic', 'JJ'), ('glacier', 'NN'), ('could', 'MD'), ('cause', 'VB'), ('sale', 'NN'), ('levels', 'NNS'), ('rise', 'VBP'), ('80', 'CD'), ('select', 'JJ'), ('items', 'NNS'), ('weekend', 'NN'), ('travel', 'VBP'), ('advisory', 'JJ'), ('airlines', 'NNS'), ('offering', 'VBG'), ('flights', 'NNS'), ('front', 'JJ'), ('tsa', 'JJ'), ('line', 'NN'), ('obama', 'NN'), ('instructs', 'VBZ'), ('administration', 'NN'), ('get', 'VB'), ('ready', 'JJ'), ('presidential', 'JJ'), ('transition', 'NN'), ('trump', 'NN'), ('preemptively', 'RB'), ('purchases', 'NNS'), (\"'t\", 'POS'), (\"'\", 'POS'), ('keys', 'NNS'), ('white', 'JJ'), ('house', 'NN'), ('keyboards', 'NNS'), ('john', 'NN'), ('kasich', 'JJ'), ('selfidentifies', 'NNS'), ('gop', 'VBP'), ('primary', 'JJ'), ('winner', 'NN'), ('demands', 'NNS'), ('access', 'NN'), ('white', 'JJ'), ('house', 'NN'), ('bathroom', 'NN'), ('upcoming', 'VBG'), ('trumpkelly', 'RB'), ('interview', 'NN'), ('foxnews', 'NNS'), ('sponsored', 'VBD'), (\"'let\", 'PRP'), (\"'s\", 'VBZ'), ('make', 'JJ'), ('deal', 'NN'), (\"'\", \"''\"), (\"'the\", 'JJ'), ('price', 'NN'), ('right', 'NN'), (\"'\", \"''\"), ('news', 'NN'), ('2017', 'CD'), ('evacuation', 'NN'), ('lena', 'VBD'), ('dunham', '$'), ('90', 'CD'), ('hollywood', 'NN'), ('celebrities', 'NNS'), ('canada', 'VBP'), ('confirmed', 'VBN'), ('trump', 'NN'), ('resigns', 'NN'), ('presidency', 'NN'), ('work', 'NN'), ('done', 'VBN'), ('nonpresidential', 'JJ'), ('candidate', 'NN'), ('paul', 'NN'), ('ryan', 'NN'), ('pledges', 'NNS'), ('run', 'VBP'), ('president', 'NN'), ('new', 'JJ'), ('nonpresidential', 'JJ'), ('nonad', 'NN'), ('campaign', 'NN'), ('trump', 'NN'), ('suggests', 'VBZ'), ('creating', 'VBG'), (\"'muslim\", \"''\"), ('database', 'NN'), (\"'\", \"''\"), ('obama', 'JJ'), ('symbolically', 'RB'), ('protests', 'VBZ'), ('shredding', 'VBG'), ('white', 'JJ'), ('house', 'NN'), ('guest', 'JJS'), ('logs', 'NNS'), ('beginning', 'VBG'), ('2009', 'CD'), ('national', 'JJ'), ('enquirer', 'NN'), ('john', 'NN'), ('kasich', 'NNP'), (\"'s\", 'POS'), ('real', 'JJ'), ('dad', 'NN'), ('milkman', 'NN'), ('mailman', 'JJ'), ('national', 'JJ'), ('enquirer', 'NN'), ('bound', 'NN'), ('delegates', 'VBZ'), ('colorado', 'VBP'), ('wyoming', 'VBG'), ('found', 'VBN'), ('ted', 'VBD'), ('cruzs', 'JJ'), ('basement', 'NN'), ('iran', 'NN'), ('breaks', 'NNS'), ('pinkyswear', 'VBP'), ('promise', 'JJ'), ('support', 'NN'), ('terrorism', 'NN'), ('us', 'PRP'), ('state', 'NN'), ('department', 'NN'), ('vows', 'VBZ'), ('rockpaperscissors', 'NNS'), ('strategic', 'JJ'), ('response', 'NN'), ('women', 'NNS'), ('across', 'IN'), ('country', 'NN'), ('cheer', 'NN'), ('racist', 'VBP'), ('democrat', 'NN'), ('president', 'NN'), ('20', 'CD'), ('bill', 'NN'), ('replaced', 'VBD'), ('black', 'JJ'), ('progun', 'JJ'), ('republican', 'JJ'), ('federal', 'JJ'), ('reserve', 'NN'), ('solves', 'NNS'), ('budget', 'NN'), ('crisis', 'NN'), ('writing', 'VBG'), ('20trilliondollar', 'CD'), ('check', 'NN'), ('widows', 'NNS'), ('orphans', 'VBZ'), ('claim', 'JJ'), ('responsibility', 'NN'), ('brussels', 'NNS'), ('airport', 'VBP'), ('bombing', 'VBG'), ('che', 'NN'), ('guevara', 'NN'), (\"'s\", 'POS'), ('son', 'NN'), ('hopes', 'VBZ'), ('cuba', 'NN'), (\"'s\", 'POS'), ('communism', 'NN'), ('rub', 'VBZ'), ('us', 'PRP'), ('proposes', 'VBZ'), ('long', 'JJ'), ('list', 'NN'), ('people', 'NNS'), ('government', 'NN'), ('execute', 'VBP'), ('first', 'JJ'), ('susan', 'JJ'), ('sarandon', 'NN'), (\"n't\", 'RB'), ('vote', 'VB'), ('vagina', 'JJ'), ('voters', 'NNS'), ('line', 'NN'), ('behind', 'IN'), ('still', 'RB'), ('suspicious', 'JJ'), ('use', 'NN'), ('hand', 'NN'), ('sanitizer', 'NN'), ('campaign', 'NN'), ('memo', 'NN'), ('typo', 'NN'), ('causes', 'VBZ'), ('hillary', 'JJ'), ('court', 'NN'), (\"'new\", 'POS'), ('black', 'JJ'), ('panties', 'NNS'), (\"'\", 'POS'), ('vote', 'NN'), ('new', 'JJ'), ('hampshire', 'NN'), ('votes', 'NNS'), ('socialist', 'JJ'), ('sanders', 'NNS'), ('changes', 'NNS'), ('state', 'NN'), ('motto', 'NNS'), ('live', 'VBP'), ('free', 'JJ'), ('die', 'NN'), ('martin', 'NN'), (\"o'malley\", 'JJ'), ('drops', 'NNS'), ('race', 'NN'), ('iowa', 'JJ'), ('caucus', 'NN'), ('nation', 'NN'), ('shocked', 'VBD'), ('revelation', 'NN'), ('running', 'VBG'), ('president', 'NN'), ('statisticians', 'NNS'), ('one', 'CD'), ('three', 'CD'), ('bernie', 'NN'), ('sanders', 'NNS'), ('supporters', 'NNS'), ('dumb', 'VBP'), ('two', 'CD'), ('hillary', 'JJ'), ('campaign', 'NN'), ('denies', 'VBZ'), ('accusations', 'NNS'), ('smokinggun', 'JJ'), ('evidence', 'NN'), ('emails', 'NNS'), ('claims', 'NNS'), ('contain', 'VBP'), ('smokingcircumstantialgun', 'JJ'), ('evidence', 'NN'), ('obama', 'NN'), ('stops', 'VBZ'), ('short', 'JJ'), ('firing', 'VBG'), ('us', 'PRP'), ('congress', 'JJ'), ('upon', 'IN'), ('realizing', 'VBG'), ('difficulty', 'NN'), ('assembling', 'VBG'), ('another', 'DT'), ('group', 'NN'), ('tractable', 'JJ'), ('yesmen', 'NNS'), ('effort', 'NN'), ('contol', 'VBP'), ('wild', 'JJ'), ('passions', 'NNS'), ('violent', 'NN'), ('jihad', 'VBD'), ('white', 'JJ'), ('house', 'NN'), ('urges', 'NNS'), ('gun', 'VBP'), ('owners', 'NNS'), ('keep', 'VB'), ('firearms', 'NNS'), ('covered', 'VBN'), ('gun', 'JJ'), ('burkas', 'JJ'), ('tv', 'NN'), ('horror', 'NN'), ('live', 'JJ'), ('charlie', 'NN'), ('brown', 'JJ'), ('christmas', 'NN'), ('gets', 'VBZ'), ('shot', 'JJ'), ('air', 'NN'), ('mohammed', 'VBD'), ('cartoons', 'NNS'), ('democrats', 'NNPS'), ('vow', 'VBP'), ('burn', 'VBP'), ('country', 'NN'), ('ted', 'VBD'), ('cruz', 'JJ'), ('statement', 'NN'), (\"'the\", 'POS'), ('overwhelming', 'JJ'), ('majority', 'NN'), ('violent', 'NN'), ('criminals', 'NNS'), ('democrats', 'NNS'), (\"'\", 'POS'), ('russia', 'NN'), (\"'s\", 'POS'), ('trend', 'NN'), ('sign', 'NN'), ('bombs', 'NN'), ('dropped', 'VBD'), ('isis', 'NN'), ('paris', 'NN'), ('found', 'VBD'), ('response', 'NN'), ('obama', 'NN'), ('administration', 'NN'), (\"'s\", 'POS'), ('trend', 'NN'), ('sign', 'NN'), ('american', 'JJ'), ('bombs', 'NNS'), ('return', 'VBP'), ('sender', 'JJR'), ('university', 'NN'), ('researchers', 'NNS'), ('cultural', 'JJ'), ('appropriation', 'NN'), ('quit', 'NN'), ('upon', 'IN'), ('discovery', 'NN'), ('research', 'NN'), ('appropriation', 'NN'), ('culture', 'NN'), ('created', 'VBD'), ('universities', 'NNS'), ('archeologists', 'VBZ'), ('discover', 'NN'), ('remains', 'VBZ'), ('barack', 'JJ'), ('obama', 'NN'), ('described', 'VBD'), ('unprecedented', 'JJ'), ('unamerican', 'JJ'), ('notwhoweare', 'NN'), ('immigration', 'NN'), ('screening', 'VBG'), ('process', 'NN'), ('ellis', 'NN'), ('island', 'NN'), ('mizzou', 'NN'), ('protests', 'NNS'), ('lead', 'VBP'), ('declaring', 'VBG'), ('entire', 'JJ'), ('state', 'NN'), ('safe', 'JJ'), ('space', 'NN'), ('changing', 'VBG'), ('missouri', 'NNS'), ('motto', 'VBP'), (\"n't\", 'RB'), ('show', 'VB'), ('state', 'NN'), ('green', 'JJ'), ('energy', 'NN'), ('fact', 'NN'), ('put', 'VBD'), ('green', 'JJ'), ('energy', 'NN'), ('subsidies', 'NNS'), ('together', 'RB'), ('onedollar', 'JJ'), ('bills', 'NNS'), ('burn', 'NN'), ('could', 'MD'), ('generate', 'VB'), ('electricity', 'NN'), ('produced', 'VBN'), ('subsidized', 'JJ'), ('green', 'JJ'), ('energy', 'NN'), ('state', 'NN'), ('officials', 'NNS'), ('improve', 'VB'), ('chances', 'NNS'), ('healthcare', 'VB'), ('payouts', 'NNS'), ('replacing', 'VBG'), ('obamacare', 'JJ'), ('state', 'NN'), ('lottery', 'NN'), ('nasa', 'NN'), (\"'s\", 'POS'), ('new', 'JJ'), ('mission', 'NN'), ('search', 'NN'), ('racism', 'NN'), ('sexism', 'NN'), ('economic', 'JJ'), ('inequality', 'NN'), ('deep', 'JJ'), ('space', 'NN'), ('suffers', 'NNS'), ('race', 'NN'), ('gender', 'NN'), ('class', 'NN'), ('power', 'NN'), ('struggles', 'VBZ'), ('multibilliondollar', 'JJ'), ('budget', 'NN'), ('college', 'NN'), ('progress', 'NN'), ('enforcement', 'NN'), ('squads', 'NNS'), ('issue', 'NN'), ('schematic', 'JJ'), ('humor', 'NN'), ('charts', 'VBZ'), ('students', 'NNS'), ('know', 'VBP'), ('joke', 'NN'), ('may', 'MD'), ('spontaneously', 'RB'), ('laughed', 'JJ'), ('regulations', 'NNS'), ('require', 'VBP'), ('action', 'NN'), ('isis', 'NN'), ('opens', 'VBZ'), ('suicide', 'JJ'), ('hotline', 'NN'), ('us', 'PRP'), ('teens', 'VBZ'), ('depressed', 'JJ'), ('climate', 'NN'), ('change', 'NN'), ('progressive', 'JJ'), ('doomsday', 'NN'), ('scenarios', 'NNS'), ('virginia', 'VBP'), ('county', 'NN'), ('close', 'JJ'), ('schools', 'NNS'), ('teacher', 'NN'), ('asks', 'VBZ'), ('students', 'NNS'), ('write', 'JJ'), (\"'death\", 'POS'), ('america', 'NN'), (\"'\", \"''\"), ('arabic', 'JJ'), (\"'wear\", 'IN'), ('hijab', 'JJ'), ('school', 'NN'), ('day', 'NN'), (\"'\", 'POS'), ('ends', 'NNS'), ('spontaneous', 'JJ'), ('female', 'JJ'), ('circumcision', 'NN'), ('stoning', 'VBG'), ('classmate', 'JJ'), ('lunch', 'NN'), ('break', 'NN'), ('isis', 'NN'), ('releases', 'VBZ'), ('new', 'JJ'), ('even', 'RB'), ('barbaric', 'JJ'), ('video', 'NN'), ('effort', 'NN'), ('regain', 'NN'), ('mantle', 'JJ'), ('planned', 'VBD'), ('parenthood', 'NN'), ('impressed', 'JJ'), ('fox', 'JJ'), ('news', 'NN'), ('stellar', 'NN'), ('rating', 'NN'), ('gop', 'NN'), ('debates', 'NNS'), ('cnn', 'VBP'), ('use', 'NN'), ('formula', 'NN'), ('democrat', 'NN'), ('candidates', 'NNS'), ('asking', 'VBG'), ('tough', 'JJ'), ('pointed', 'VBN'), ('questions', 'NNS'), ('republicans', 'NNS'), ('shocking', 'VBG'), ('new', 'JJ'), ('book', 'NN'), ('explores', 'VBZ'), ('pros', 'JJ'), ('cons', 'NNS'), ('socialism', 'NN'), ('discovers', 'VBZ'), ('people', 'NNS'), ('pope', 'VBP'), ('outraged', 'VBN'), ('planned', 'VBD'), ('parenthood', 'NN'), (\"'s\", 'POS'), ('unfettered', 'JJ'), ('capitalism', 'NN'), ('demands', 'VBZ'), ('equal', 'JJ'), ('redistribution', 'NN'), ('baby', 'NN'), ('parts', 'NNS'), ('according', 'VBG'), ('need', 'NN'), ('john', 'NN'), ('kerry', 'VB'), ('accepts', 'VBZ'), ('iran', 'NN'), (\"'s\", 'POS'), ('golden', 'JJ'), ('taquiyya', 'NN'), ('award', 'NN'), ('requests', 'VBZ'), ('jalapenos', 'JJ'), ('side', 'NN'), ('citizens', 'NNS'), ('pluto', 'VBP'), ('protest', 'JJS'), ('us', 'PRP'), ('government', 'NN'), (\"'s\", 'POS'), ('surveillance', 'NN'), ('planetoid', 'NN'), ('moons', 'NNS'), ('new', 'JJ'), ('horizons', 'NNS'), ('space', 'NN'), ('drone', 'NN'), ('john', 'NN'), ('kerry', 'NN'), ('proposes', 'VBZ'), ('3day', 'CD'), ('waiting', 'VBG'), ('period', 'NN'), ('terrorist', 'JJ'), ('nations', 'NNS'), ('trying', 'VBG'), ('acquire', 'VB'), ('nuclear', 'JJ'), ('weapons', 'NNS'), ('chicago', 'VBP'), ('police', 'NN'), ('trying', 'VBG'), ('identify', 'JJ'), ('flag', 'NN'), ('caused', 'VBD'), ('nine', 'CD'), ('murders', 'NNS'), ('53', 'CD'), ('injuries', 'NNS'), ('city', 'NN'), ('past', 'IN'), ('weekend', 'NN'), ('cuba', 'NN'), ('opens', 'VBZ'), ('affordable', 'JJ'), ('medical', 'JJ'), ('tourism', 'NN'), ('americans', 'NNS'), ('ca', 'MD'), (\"n't\", 'RB'), ('afford', 'VB'), ('obamacare', 'JJ'), ('deductibles', 'NNS'), ('statefunded', 'VBD'), ('research', 'NN'), ('proves', 'VBZ'), ('existence', 'RB'), ('quantum', 'JJ'), ('aggression', 'NN'), ('particles', 'NNS'), ('heterons', 'NNS'), ('large', 'JJ'), ('hadron', 'NN'), ('collider', 'NN'), ('student', 'NN'), ('job', 'NN'), ('opportunities', 'NNS'), ('make', 'VBP'), ('big', 'JJ'), ('bucks', 'NNS'), ('summer', 'NN'), ('hillarys', 'NN'), ('ordinaryamerican', 'JJ'), ('expenses', 'NNS'), ('paid', 'VBN'), ('travel', 'VBP'), ('free', 'JJ'), ('acting', 'VBG'), ('lessons', 'NNS'), ('experts', 'NNS'), ('debate', 'VBP'), ('whether', 'IN'), ('iranian', 'JJ'), ('negotiators', 'NNS'), ('broke', 'VBD'), ('john', 'NN'), ('kerry', 'NN'), (\"'s\", 'POS'), ('leg', 'NN'), ('get', 'NN'), ('negotiations', 'NNS'), ('junior', 'JJ'), ('varsity', 'NN'), ('takes', 'VBZ'), ('ramadi', 'JJ'), ('advances', 'NNS'), ('quarterfinals', 'NNS'), ('us', 'PRP'), ('media', 'NNS'), ('gop', 'JJ'), ('pool', 'NN'), ('candidates', 'NNS'), (\"'knowing\", 'VBG'), ('know', 'NNS'), ('would', 'MD'), ('anything', 'NN'), ('founding', 'VBG'), ('united', 'JJ'), ('states', 'NNS'), (\"'\", 'POS'), ('ny', 'NNS'), ('mayor', 'VBP'), ('hold', 'JJ'), ('peace', 'NN'), ('talks', 'NNS'), ('rats', 'VBP'), ('apologize', 'VBP'), ('previous', 'JJ'), ('mayor', 'NN'), (\"'s\", 'POS'), ('cowboy', 'NN'), ('diplomacy', 'NN'), ('china', 'NN'), ('launches', 'NNS'), ('cubeshaped', 'VBD'), ('space', 'NN'), ('object', 'JJ'), ('message', 'NN'), ('aliens', 'VBZ'), ('inhabitants', 'NNS'), ('earth', 'JJ'), ('steal', 'JJ'), ('intellectual', 'JJ'), ('property', 'NN'), ('copy', 'NN'), ('manufacture', 'NN'), ('sweatshops', 'NNS'), ('slave', 'VBP'), ('labor', 'NN'), ('sell', 'VBP'), ('back', 'RB'), ('ridiculously', 'RB'), ('low', 'JJ'), ('prices', 'NNS'), ('progressive', 'JJ'), ('scientists', 'NNS'), ('truth', 'VBP'), ('variable', 'JJ'), ('deduced', 'JJ'), ('subtracting', 'VBG'), (\"'what\", 'WP'), (\"'\", \"''\"), (\"'what\", 'WP'), ('ought', 'MD'), (\"'\", \"''\"), ('experts', 'NNS'), ('agree', 'VBP'), ('hillary', 'JJ'), ('clinton', 'NN'), ('best', 'JJS'), ('candidate', 'NN'), ('lessen', 'NN'), ('percentage', 'NN'), ('americans', 'VBZ'), ('top', 'JJ'), ('1', 'CD'), ('america', 'NN'), (\"'s\", 'POS'), ('attempts', 'NNS'), ('peace', 'VBP'), ('talks', 'NNS'), ('white', 'JJ'), ('house', 'NN'), ('continue', 'NN'), ('met', 'VBD'), ('lies', 'VBZ'), ('stalling', 'VBG'), ('tactics', 'NNS'), ('bad', 'JJ'), ('faith', 'JJ'), ('starbucks', 'NNS'), ('new', 'JJ'), ('policy', 'NN'), ('talk', 'NN'), ('race', 'NN'), ('customers', 'NNS'), ('prompts', 'VBP'), ('new', 'JJ'), ('hashtag', 'NN'), ('dontholduptheline', 'NN'), ('hillary', 'JJ'), ('delete', 'JJ'), ('new', 'JJ'), ('reset', 'NN'), ('charlie', 'NN'), ('hebdo', 'NN'), ('receives', 'VBZ'), ('islamophobe', 'JJ'), ('2015', 'CD'), ('award', 'NN'), ('cartoonists', 'NNS'), ('could', 'MD'), ('reached', 'VB'), ('comment', 'NN'), ('due', 'JJ'), ('inexplicable', 'JJ'), ('illogical', 'JJ'), ('deaths', 'NNS'), ('russia', 'VB'), ('sends', 'NNS'), (\"'reset\", 'POS'), (\"'\", 'POS'), ('button', 'NN'), ('back', 'RB'), ('hillary', 'JJ'), (\"'you\", 'NNS'), ('need', 'VBP'), (\"'\", \"''\"), ('barack', 'JJ'), ('obama', 'NN'), ('finds', 'VBZ'), ('cnn', 'JJ'), ('hillary', 'JJ'), ('clinton', 'NN'), ('spent', 'VBN'), ('four', 'CD'), ('years', 'NNS'), ('secretary', 'NN'), ('state', 'NN'), ('president', 'NN'), ('obama', 'NN'), ('honors', 'NNS'), ('leonard', 'VBP'), ('nimoy', 'IN'), ('taking', 'VBG'), ('selfie', 'JJ'), ('front', 'JJ'), ('starship', 'NN'), ('enterprise', 'NN'), ('police', 'NN'), ('obama', 'VBD'), ('convenience', 'NN'), ('store', 'NN'), ('would', 'MD'), ('look', 'VB'), ('like', 'IN'), ('obama', 'NN'), ('express', 'NN'), ('food', 'NN'), ('market', 'NN'), ('study', 'NN'), ('finds', 'VBZ'), ('stunning', 'JJ'), ('lack', 'NN'), ('racial', 'JJ'), ('gender', 'NN'), ('economic', 'JJ'), ('diversity', 'NN'), ('among', 'IN'), ('middleclass', 'JJ'), ('white', 'JJ'), ('males', 'NNS'), ('nasa', 'RB'), (\"'re\", 'VBP'), ('80', 'CD'), ('sure', 'JJ'), ('20', 'CD'), ('sure', 'JJ'), ('17', 'CD'), ('sure', 'JJ'), ('38', 'CD'), ('sure', 'JJ'), ('2014', 'CD'), ('hottest', 'JJS'), ('year', 'NN'), ('record', 'NN'), ('people', 'NNS'), ('holding', 'VBG'), (\"'15\", 'JJ'), ('hour', 'NN'), (\"'\", 'POS'), ('posters', 'NNS'), ('sue', 'VBP'), ('democratic', 'JJ'), ('party', 'NN'), ('demanding', 'VBG'), ('raise', 'VB'), ('15', 'CD'), ('hour', 'NN'), ('rendered', 'VBD'), ('professional', 'JJ'), ('protesting', 'NN'), ('services', 'NNS'), ('cubaus', 'NN'), ('normalization', 'VBP'), ('us', 'PRP'), ('tourists', 'VBZ'), ('flock', 'NN'), ('see', 'NN'), ('cuba', 'JJ'), ('looks', 'NNS'), ('like', 'IN'), ('us', 'PRP'), ('cubans', 'VBZ'), ('flock', 'NN'), ('see', 'VB'), ('us', 'PRP'), ('looks', 'VBZ'), ('like', 'IN'), ('cuba', 'JJ'), ('white', 'JJ'), ('house', 'NN'), ('describes', 'NN'), ('attacks', 'NNS'), ('sony', 'VBP'), ('pictures', 'NNS'), (\"'spontaneous\", 'JJ'), ('hacking', 'VBG'), ('response', 'NN'), ('offensive', 'JJ'), ('video', 'NN'), ('mocking', 'VBG'), ('juche', 'NN'), ('prophet', 'NN'), (\"'\", \"''\"), ('cia', 'JJ'), ('responds', 'NNS'), ('democrat', 'VBP'), ('calls', 'VBZ'), ('transparency', 'NN'), ('releasing', 'VBG'), ('director', 'NN'), (\"'s\", 'POS'), ('cut', 'NN'), ('making', 'NN'), ('obama', 'NN'), (\"'s\", 'POS'), ('birth', 'NN'), ('certificate', 'NN'), ('obama', 'NN'), (\"'if\", 'POS'), ('city', 'NN'), ('would', 'MD'), ('look', 'VB'), ('like', 'IN'), ('ferguson', 'NN'), (\"'\", 'POS'), ('biden', 'NN'), (\"'if\", 'CD'), ('ferguson', 'NN'), ('hic', 'NN'), ('would', 'MD'), ('look', 'VB'), ('like', 'IN'), ('city', 'NN'), (\"'\", 'POS'), ('obama', 'JJ'), ('signs', 'NNS'), ('executive', 'NN'), ('order', 'NN'), ('renaming', 'VBG'), (\"'looters\", 'NNS'), (\"'\", 'POS'), (\"'undocumented\", 'VBN'), ('shoppers', 'NNS'), (\"'\", 'POS'), ('ethicists', 'NNS'), ('agree', 'VBP'), ('two', 'CD'), ('wrongs', 'NNS'), ('make', 'VBP'), ('right', 'JJ'), ('long', 'RB'), ('bush', 'RB'), ('first', 'JJ'), ('aftermath', 'NN'), (\"'war\", 'POS'), ('women', 'NNS'), ('2014', 'CD'), (\"'\", \"''\"), ('finds', 'VBZ'), ('new', 'JJ'), (\"'lost\", 'POS'), ('generation', 'NN'), (\"'\", \"''\"), ('disillusioned', 'VBN'), ('democrat', 'NNS'), ('politicians', 'NNS'), ('unable', 'JJ'), ('cope', 'JJ'), ('life', 'NN'), ('office', 'NN'), ('white', 'JJ'), ('house', 'NN'), ('republican', 'JJ'), ('takeover', 'NN'), ('senate', 'NN'), ('clear', 'JJ'), ('mandate', 'JJ'), ('american', 'JJ'), ('people', 'NNS'), ('president', 'NN'), ('obama', 'IN'), ('rule', 'NN'), ('executive', 'NN'), ('orders', 'NNS'), ('nurse', 'JJ'), ('kaci', 'NN'), ('hickox', 'VBD'), ('angrily', 'RB'), ('tells', 'VBZ'), ('reporters', 'NNS'), ('wo', 'MD'), (\"n't\", 'RB'), ('change', 'VB'), ('clocks', 'NNS'), ('daylight', 'JJ'), ('savings', 'NNS'), ('time', 'NN'), ('democratic', 'JJ'), ('party', 'NN'), ('leaders', 'NNS'), ('panic', 'JJ'), ('recent', 'JJ'), ('poll', 'NN'), ('shows', 'VBZ'), ('democratic', 'JJ'), ('voters', 'NNS'), ('think', 'VBP'), (\"'midterm\", 'IN'), (\"'\", \"''\"), ('end', 'JJ'), ('pregnancy', 'NN'), ('desperate', 'JJ'), ('democratic', 'JJ'), ('candidates', 'NNS'), ('plead', 'VBP'), ('obama', 'IN'), ('stop', 'JJ'), ('backing', 'NN'), ('instead', 'RB'), ('support', 'VB'), ('gop', 'NN'), ('opponents', 'NNS'), ('ebola', 'VBP'), ('czar', 'JJ'), ('issues', 'NNS'), ('fiveyear', 'VBP'), ('plan', 'NN'), ('mandatory', 'JJ'), ('quotas', 'NNS'), ('ebola', 'VBP'), ('infections', 'NNS'), ('per', 'IN'), ('state', 'NN'), ('based', 'VBN'), ('voting', 'NN'), ('preferences', 'NNS'), ('study', 'VBP'), ('crony', 'JJ'), ('capitalism', 'NN'), ('free', 'JJ'), ('market', 'NN'), ('westboro', 'JJ'), ('baptist', 'NN'), ('church', 'NN'), ('christianity', 'NN'), ('fun', 'NN'), ('facts', 'VBZ'), ('world', 'NN'), ('languages', 'VBZ'), ('left', 'VBN'), ('words', 'NNS'), ('statism', 'NN'), ('eskimos', 'RB'), ('snow', 'JJ'), ('african', 'JJ'), ('countries', 'NNS'), ('ban', 'VBP'), ('flights', 'NNS'), ('united', 'JJ'), ('states', 'NNS'), ('obama', 'VBP'), ('incompetent', 'JJ'), ('scares', 'NNS'), ('us', 'PRP'), ('nobel', 'VBP'), ('peace', 'NN'), ('prize', 'NN'), ('controversy', 'NN'), ('hillary', 'NN'), ('nominated', 'VBD'), ('despite', 'IN'), ('done', 'VBN'), ('even', 'RB'), ('less', 'RBR'), ('obama', 'JJ'), ('deserve', 'NN'), ('obama', 'NN'), (\"'ebola\", 'POS'), ('jv', 'NN'), ('viruses', 'NNS'), (\"'\", 'POS'), ('breaking', 'VBG'), ('secret', 'JJ'), ('service', 'NN'), ('foils', 'NNS'), ('secret', 'JJ'), ('service', 'NN'), ('plot', 'NN'), ('protect', 'VBP'), ('obama', 'NN'), ('revised', 'VBD'), ('1st', 'CD'), ('amendment', 'NN'), ('buy', 'VB'), ('one', 'CD'), ('speech', 'NN'), ('get', 'VB'), ('second', 'JJ'), ('free', 'JJ'), ('sharpton', 'NN'), ('calls', 'VBZ'), ('white', 'JJ'), ('nfl', 'NN'), ('players', 'NNS'), ('beat', 'VBP'), ('women', 'NNS'), ('interests', 'NNS'), ('racial', 'JJ'), ('fairness', 'NN'), ('president', 'NN'), ('obama', 'IN'), ('appoints', 'NNS'), ('weekly', 'JJ'), ('approval', 'NN'), ('poll', 'VBP'), ('new', 'JJ'), ('national', 'JJ'), ('security', 'NN'), ('adviser', 'NN'), ('obama', 'NN'), ('wags', 'VBZ'), ('pen', 'JJ'), ('phone', 'NN'), ('putin', 'NN'), ('europe', 'NN'), ('offers', 'VBZ'), ('support', 'NN'), ('powerful', 'JJ'), ('pens', 'NNS'), ('phones', 'NNS'), ('nato', 'JJ'), ('members', 'NNS'), ('white', 'JJ'), ('house', 'NN'), ('pledges', 'NNS'), ('embarrass', 'VBP'), ('isis', 'NN'), ('back', 'RB'), ('stone', 'JJ'), ('age', 'NN'), ('barrage', 'NN'), ('fearsome', 'JJ'), ('twitter', 'NN'), ('messages', 'NNS'), ('fatally', 'RB'), ('ironic', 'JJ'), ('instagram', 'NN'), ('photos', 'NNS'), ('obama', 'VBP'), ('fight', 'JJ'), ('isis', 'NN'), ('new', 'JJ'), ('federal', 'JJ'), ('terrorist', 'JJ'), ('regulatory', 'JJ'), ('agency', 'NN'), ('obama', 'NN'), ('vows', 'VBZ'), ('isis', 'NN'), ('never', 'RB'), ('raise', 'VB'), ('flag', 'JJ'), ('eighteenth', 'JJ'), ('hole', 'NN'), ('harry', 'NN'), ('reid', 'NN'), ('sometimes', 'NNS'), ('say', 'VBP'), ('wong', 'JJ'), ('thing', 'NN'), ('elian', 'JJ'), ('gonzalez', 'NN'), ('wishes', 'NNS'), ('come', 'VBP'), ('us', 'PRP'), ('bus', 'JJ'), ('central', 'JJ'), ('america', 'NNS'), ('like', 'IN'), ('kids', 'NNS'), ('obama', 'VBP'), ('visits', 'NNS'), ('usmexican', 'JJ'), ('border', 'NN'), ('calls', 'VBZ'), ('twostate', 'JJ'), ('solution', 'NN'), ('obama', 'NN'), ('draws', 'VBZ'), ('blue', 'JJ'), ('line', 'NN'), ('iraq', 'NN'), ('putin', 'NN'), ('took', 'VBD'), ('away', 'RB'), ('red', 'JJ'), ('crayon', 'NN'), ('hard', 'JJ'), ('choices', 'NNS'), ('porno', 'VBP'), ('flick', 'NN'), ('loosely', 'RB'), ('based', 'VBN'), ('hillary', 'JJ'), ('clinton', 'NN'), (\"'s\", 'POS'), ('memoir', 'NN'), ('starring', 'VBG'), ('hillary', 'JJ'), ('hellfire', 'NN'), ('drinking', 'NN'), ('whoring', 'VBG'), ('secretary', 'NN'), ('state', 'NN'), ('wildly', 'RB'), ('outsells', 'VBZ'), ('flabby', 'JJ'), ('sagging', 'VBG'), ('original', 'JJ'), ('accusations', 'NNS'), ('siding', 'VBG'), ('enemy', 'NN'), ('leave', 'VBP'), ('sgt', 'VBN'), ('bergdahl', 'JJ'), ('two', 'CD'), ('options', 'NNS'), ('pursue', 'VBP'), ('doctorate', 'VB'), ('berkley', 'NN'), ('become', 'NN'), ('senator', 'NN'), ('massachusetts', 'JJ'), ('jay', 'NN'), ('carney', 'NN'), ('stuck', 'VBN'), ('line', 'NN'), ('behind', 'IN'), ('eric', 'JJ'), ('shinseki', 'NNS'), ('leave', 'VBP'), ('white', 'JJ'), ('house', 'NN'), ('estimated', 'VBN'), ('wait', 'JJ'), ('time', 'NN'), ('15', 'CD'), ('min', 'RB'), ('6', 'CD'), ('weeks', 'NNS'), ('100', 'CD'), ('scientists', 'NNS'), ('agree', 'VBP'), ('manmade', 'NN'), ('global', 'JJ'), ('warming', 'NN'), ('real', 'JJ'), ('last', 'JJ'), ('people', 'NNS'), (\"'d\", 'MD'), ('want', 'VB'), ('help', 'NN'), ('us', 'PRP'), ('obama', 'JJ'), ('administration', 'NN'), ('jay', 'NN'), ('carney', 'NN'), ('says', 'VBZ'), ('found', 'VBN'), ('obama', 'NN'), ('found', 'VBN'), ('found', 'VBD'), ('obama', 'RB'), ('found', 'VBN'), ('found', 'VBN'), ('latest', 'JJS'), ('obama', 'JJ'), ('administration', 'NN'), ('scandal', 'NN'), ('news', 'NN'), ('anarchy', 'NN'), ('meeting', 'NN'), ('turns', 'VBZ'), ('riot', 'NN'), ('points', 'NNS'), ('order', 'NN'), ('bylaws', 'VBZ'), ('whether', 'IN'), (\"'kicking\", 'VBG'), ('ass', 'NN'), (\"'\", \"''\"), ('person', 'NN'), ('trying', 'VBG'), ('speak', 'JJ'), ('violence', 'NN'), ('obama', 'NN'), ('retaliates', 'VBZ'), ('putin', 'IN'), ('prohibiting', 'VBG'), ('unionized', 'JJ'), ('federal', 'JJ'), ('employees', 'NNS'), ('dating', 'VBG'), ('hot', 'JJ'), ('russian', 'JJ'), ('girls', 'NNS'), ('online', 'JJ'), ('work', 'NN'), ('hours', 'NNS'), ('russian', 'JJ'), ('separatists', 'NNS'), ('ukraine', 'JJ'), ('riot', 'VBP'), ('offensive', 'JJ'), ('youtube', 'NN'), ('video', 'NN'), ('showing', 'VBG'), ('toppling', 'VBG'), ('lenin', 'JJ'), ('statues', 'NNS'), ('free', 'JJ'), ('speech', 'NN'), ('zones', 'NNS'), ('confuse', 'VBP'), ('obamaphone', 'NN'), ('owners', 'NNS'), ('roam', 'VBP'), ('streets', 'NNS'), ('search', 'VBP'), ('additional', 'JJ'), ('air', 'NN'), ('minutes', 'NNS'), ('obamacare', 'VBP'), ('bolsters', 'NNS'), ('employment', 'NN'), ('professionals', 'NNS'), ('skills', 'NNS'), ('convert', 'VBP'), ('meth', 'VB'), ('back', 'RB'), ('sudafed', 'JJ'), ('gloves', 'NNS'), ('finally', 'RB'), ('obama', 'VBP'), ('uses', 'NNS'), ('pen', 'VBP'), ('phone', 'NN'), ('cancel', 'NN'), ('putin', 'NN'), (\"'s\", 'POS'), ('netflix', 'JJ'), ('account', 'NN'), ('joe', 'NN'), ('biden', 'NN'), ('russia', 'NN'), ('bury', 'NN'), ('turning', 'VBG'), ('eastern', 'JJ'), ('europe', 'NN'), ('control', 'NN'), ('lastditch', 'NN'), ('effort', 'NN'), ('help', 'NN'), ('ukraine', 'VB'), ('obama', 'JJ'), ('deploys', 'NNS'), ('rev', 'VBP'), ('sharpton', 'NN'), ('rev', 'NN'), ('jackson', 'NN'), (\"'s\", 'POS'), ('rainbow', 'JJ'), ('coalition', 'NN'), ('crimea', 'NN'), ('al', 'VBP'), ('sharpton', 'NN'), ('even', 'RB'), ('putin', 'JJ'), ('withstand', 'NN'), ('signature', 'NN'), ('chanting', 'VBG'), (\"'racist\", 'JJ'), ('sexist', 'NN'), ('antigay', 'NN'), ('russian', 'JJ'), ('army', 'NN'), ('go', 'VB'), ('away', 'RB'), (\"'\", 'POS'), ('mardi', 'JJ'), ('gras', 'NNS'), ('north', 'RB'), ('korea', 'VBP'), ('throw', 'JJ'), ('food', 'NN'), ('obama', 'NN'), (\"'s\", 'POS'), ('foreign', 'JJ'), ('policy', 'NN'), ('works', 'VBZ'), ('war', 'NN'), ('invasion', 'NN'), ('conquest', 'NN'), ('signs', 'NNS'), ('weakness', 'NN'), (\"'ve\", 'VBP'), ('got', 'VBN'), ('putin', 'RB'), ('right', 'JJ'), ('want', 'VBP'), ('us', 'PRP'), ('offers', 'VBZ'), ('military', 'JJ'), ('solution', 'NN'), ('ukraine', 'JJ'), ('crisis', 'NN'), ('fight', 'NN'), ('countries', 'NNS'), ('lgbt', 'VBP'), ('military', 'JJ'), ('putin', 'NN'), ('annexes', 'NNS'), ('brighton', 'VBP'), ('beach', 'NN'), ('protect', 'NN'), ('ethnic', 'JJ'), ('russians', 'NNS'), ('brooklyn', 'VBP'), ('obama', 'JJ'), ('appeals', 'NNS'), ('un', 'JJ'), ('eu', 'VBP'), ('help', 'NN'), ('1980s', 'CD'), ('mr', 'NN'), ('obama', 'NN'), (\"'re\", 'VBP'), ('calling', 'VBG'), ('ask', 'NN'), ('want', 'VBP'), ('foreign', 'JJ'), ('policy', 'NN'), ('back', 'RB'), ('1970s', 'CD'), ('right', 'JJ'), ('us', 'PRP'), (\"'re\", 'VBP'), ('wondering', 'VBG'), ('stunning', 'VBG'), ('act', 'JJ'), ('defiance', 'NN'), ('obama', 'NN'), ('courageously', 'RB'), ('unfriends', 'VBZ'), ('putin', 'JJ'), ('facebook', 'NN'), ('msnbc', 'NN'), ('obama', 'NN'), ('secures', 'VBZ'), ('alliance', 'NN'), ('austrohungarian', 'JJ'), ('empire', 'NN'), ('russias', 'NN'), ('aggression', 'NN'), ('ukraine', 'NN'), ('study', 'NN'), ('springbreak', 'VBP'), ('stds', 'VBN'), ('april', 'RB'), ('15th', 'CD'), ('accountants', 'NNS'), ('efforts', 'NNS'), ('achieve', 'VBP'), ('moisture', 'NN'), ('justice', 'NN'), ('california', 'NN'), ('thwarted', 'VBD'), ('unfair', 'JJ'), ('redistribution', 'NN'), ('snow', 'NN'), ('america', 'VBP'), ('north', 'JJ'), ('korean', 'JJ'), ('voters', 'NNS'), ('unanimous', 'JJ'), ('100', 'CD'), ('leader', 'NN'), ('authoritarian', 'JJ'), ('gulagsite', 'JJ'), ('people', 'NNS'), (\"'s\", 'POS'), ('cube', 'NN'), ('unanimously', 'RB'), (\"'reelected\", 'VBD'), (\"'\", 'POS'), ('100', 'CD'), ('voter', 'NN'), ('turnout', 'NN'), ('super', 'JJ'), ('bowl', 'NN'), ('obama', 'NN'), ('blames', 'VBZ'), ('fox', 'JJ'), ('news', 'NN'), ('broncos', 'NNS'), (\"'\", 'POS'), ('loss', 'NN'), ('feminist', 'NN'), ('author', 'NN'), ('slams', 'NNS'), ('gay', 'VBP'), ('marriage', 'NN'), ('man', 'NN'), ('needs', 'VBZ'), ('man', 'NN'), ('like', 'IN'), ('fish', 'JJ'), ('needs', 'NNS'), ('bicycle', 'VBP'), ('beverly', 'RB'), ('hills', 'NNS'), ('campaign', 'NN'), ('heats', 'VBZ'), ('henry', 'JJ'), ('waxman', 'NN'), ('marianne', 'VBZ'), ('williamson', 'NN'), ('widening', 'VBG'), ('income', 'NN'), ('gap', 'NN'), ('millionaires', 'NNS'), ('billionaires', 'VBZ'), ('district', 'NN'), ('biden', 'NN'), ('lower', 'JJR'), ('10000aplate', 'CD'), ('dinner', 'NN'), ('homeless', 'NN'), ('5000', 'CD'), ('homeless', 'NN'), ('attend', 'VBP'), ('kim', 'VBN'), ('becomes', 'JJ'), ('world', 'NN'), ('leader', 'NN'), ('feeds', 'NNS'), ('uncle', 'JJ'), ('dogs', 'NNS'), ('obama', 'VBP'), ('eats', 'NNS'), ('dogs', 'NNS'), ('becomes', 'RB'), ('world', 'NN'), ('leader', 'NN'), ('america', 'NN'), ('cries', 'NNS'), ('uncle', 'VBP'), ('north', 'JJ'), ('korean', 'JJ'), ('leader', 'NN'), ('executes', 'NNS'), ('uncle', 'IN'), ('talking', 'VBG'), ('obamacare', 'JJ'), ('family', 'NN'), ('christmas', 'NN'), ('party', 'NN'), ('white', 'JJ'), ('house', 'NN'), ('hires', 'NNS'), ('parttime', 'VBP'), ('schizophrenic', 'JJ'), ('mandela', 'NN'), ('sign', 'NN'), ('interpreter', 'NN'), ('help', 'NN'), ('sell', 'VB'), ('obamacare', 'JJ'), ('kim', 'NNS'), ('jong', 'JJ'), ('un', 'JJ'), ('executes', 'NNS'), ('crazy', 'JJ'), ('uncle', 'JJ'), ('keep', 'VB'), ('ruining', 'VBG'), ('another', 'DT'), ('family', 'NN'), ('christmas', 'NN'), ('ofa', 'NN'), ('admits', 'VBZ'), ('advice', 'JJ'), ('area', 'NN'), ('activists', 'NNS'), ('give', 'VBP'), ('obamacare', 'NN'), ('talk', 'NN'), ('shooting', 'VBG'), ('ranges', 'NNS'), ('bad', 'JJ'), ('idea', 'NN'), ('president', 'NN'), ('resolves', 'NNS'), ('obamacare', 'VBP'), ('debacle', 'NN'), ('executive', 'NN'), ('order', 'NN'), ('declaring', 'VBG'), ('americans', 'NNS'), ('equally', 'RB'), ('healthy', 'JJ'), ('obama', 'NN'), ('iran', 'NN'), ('like', 'IN'), ('nuclear', 'JJ'), ('program', 'NN'), ('keep', 'JJ'), ('nuclear', 'JJ'), ('program', 'NN'), ('bovine', 'NN'), ('community', 'NN'), ('outraged', 'VBD'), ('flatulence', 'NN'), ('coming', 'VBG'), ('washington', 'NN'), ('dc', 'NN'), ('obama', 'VBP'), (\"'m\", 'VBP'), ('particularly', 'RB'), ('ideological', 'JJ'), ('believe', 'VBP'), ('good', 'JJ'), ('pragmatic', 'JJ'), ('fiveyear', 'NN'), ('plan', 'NN'), ('shocker', 'VBP'), ('obama', 'IN'), ('knowledge', 'NN'), (\"'d\", 'MD'), ('reelected', 'VBN'), ('read', 'VB'), ('local', 'JJ'), ('newspaper', 'NN'), ('last', 'JJ'), ('week', 'NN'), ('server', 'RB'), ('problems', 'NNS'), ('healthcaregov', 'VBP'), ('bad', 'JJ'), ('flashes', 'NNS'), (\"'error\", 'POS'), ('808', 'CD'), (\"'\", \"''\"), ('message', 'NN'), ('nsa', 'FW'), ('marks', 'NNS'), ('national', 'JJ'), ('best', 'JJS'), ('friend', 'NN'), ('day', 'NN'), ('official', 'JJ'), ('announcement', 'NN'), ('government', 'NN'), ('best', 'JJS'), ('friend', 'NN'), ('know', 'VBP'), ('like', 'IN'), ('one', 'CD'), ('else', 'RB'), (\"'re\", 'VBP'), ('always', 'RB'), (\"'re\", 'VBP'), ('always', 'RB'), ('willing', 'JJ'), ('listen', 'JJ'), ('al', 'NN'), ('qaeda', 'NN'), ('cancels', 'NNS'), ('attack', 'VBP'), ('usa', 'JJ'), ('citing', 'VBG'), ('launch', 'NN'), ('obamacare', 'NN'), ('devastating', 'VBG'), ('enough', 'JJ'), ('president', 'NN'), (\"'s\", 'POS'), ('latest', 'JJS'), ('talking', 'VBG'), ('point', 'NN'), ('obamacare', 'VBP'), (\"n't\", 'RB'), ('build', 'VB'), ('dizzy', 'JJ'), ('success', 'NN'), ('obama', 'NN'), ('renames', 'VBZ'), ('wildly', 'RB'), ('popular', 'JJ'), ('healthcare', 'NN'), ('mandate', 'NN'), ('hillarycare', 'NN'), ('carney', 'NN'), ('huge', 'JJ'), ('obamacare', 'NN'), ('deductibles', 'NNS'), ('wo', 'MD'), (\"n't\", 'RB'), ('look', 'VB'), ('bad', 'JJ'), ('come', 'VBN'), ('hyperinflation', 'NN'), ('washington', 'NN'), ('redskins', 'VBZ'), ('drop', 'JJ'), (\"'washington\", 'NNP'), (\"'\", 'POS'), ('name', 'NN'), ('offensive', 'JJ'), ('americans', 'NNS'), ('poll', 'VBP'), ('83', 'CD'), ('americans', 'NNS'), ('favor', 'VBP'), ('cowboy', 'JJ'), ('diplomacy', 'NN'), ('rodeo', 'NN'), ('clown', 'VBN'), ('diplomacy', 'JJ'), ('government', 'NN'), ('warning', 'VBG'), ('able', 'JJ'), ('complete', 'JJ'), ('obamacare', 'NN'), ('form', 'NN'), ('online', 'VBP'), (\"n't\", 'RB'), ('legitimate', 'JJ'), (\"gov't\", 'NNS'), ('website', 'JJ'), ('report', 'NN'), ('online', 'NN'), ('fraud', 'NN'), ('change', 'NN'), ('passwords', 'NNS'), ('obama', 'VBP'), ('administration', 'NN'), ('gets', 'VBZ'), ('serious', 'JJ'), ('threatens', 'NNS'), ('syria', 'NNS'), ('obamacare', 'VBP'), ('obama', 'JJ'), ('authorizes', 'NNS'), ('use', 'VBP'), ('vice', 'NN'), ('president', 'NN'), ('joe', 'NNP'), ('biden', 'NN'), (\"'s\", 'POS'), ('doublebarrel', 'NN'), ('shotgun', 'NN'), ('fire', 'NN'), ('couple', 'NN'), ('blasts', 'NNS'), ('syria', 'VBP'), ('sharpton', 'JJ'), ('british', 'JJ'), ('royals', 'NNS'), ('named', 'VBN'), ('baby', 'NN'), (\"'trayvon\", 'NNP'), (\"'\", 'POS'), ('choosing', 'VBG'), (\"'george\", 'NN'), (\"'\", \"''\"), ('sided', 'VBN'), ('white', 'JJ'), ('hispanic', 'JJ'), ('racist', 'NN'), ('zimmerman', 'NN'), ('dnc', 'NN'), ('launches', 'VBZ'), (\"'carlos\", 'POS'), ('danger', 'NN'), (\"'\", 'POS'), ('action', 'NN'), ('figure', 'NN'), ('proceeds', 'NNS'), ('fund', 'NN'), ('charity', 'NN'), ('helping', 'VBG'), ('survivors', 'NNS'), ('republican', 'JJ'), ('war', 'NN'), ('women', 'NNS'), ('nancy', 'VBP'), ('pelosi', 'JJ'), ('extends', 'NNS'), ('abortion', 'NN'), ('rights', 'NNS'), ('birds', 'NNS'), ('bees', 'NNS'), ('hubble', 'JJ'), ('discovers', 'NNS'), ('planetary', 'JJ'), ('drift', 'NN'), ('left', 'VBD'), ('obama', 'RP'), (\"'if\", 'JJ'), ('daughterinlaw', 'NN'), ('would', 'MD'), ('look', 'VB'), ('like', 'IN'), ('rachael', 'JJ'), ('jeantel', 'NN'), (\"'\", 'POS'), ('fisa', 'JJ'), ('court', 'NN'), ('rubberstamps', 'VBD'), ('statement', 'NN'), ('denying', 'VBG'), ('portrayal', 'JJ'), ('government', 'NN'), (\"'s\", 'POS'), ('rubber', 'NN'), ('stamp', 'NN'), ('every', 'DT'), ('time', 'NN'), ('obamacare', 'JJ'), ('gets', 'VBZ'), ('delayed', 'VBN'), ('julia', 'NN'), ('somewhere', 'RB'), ('dies', 'VBZ'), ('gop', 'JJ'), ('schumer', 'NN'), (\"'force\", 'POS'), ('full', 'JJ'), ('implementation', 'NN'), ('obamacare', 'NN'), ('2014', 'CD'), ('dems', 'VBZ'), ('never', 'RB'), ('win', 'VB'), ('another', 'DT'), ('election', 'NN'), (\"'\", 'POS'), ('obama', 'NN'), (\"'if\", 'CD'), ('son', 'NN'), ('wait', 'NN'), ('daughter', 'NN'), ('marry', 'VBP'), ('woman', 'NN'), (\"'\", \"''\"), ('janet', 'NN'), ('napolitano', 'NN'), ('tsa', 'JJ'), ('findings', 'NNS'), ('reveal', 'NN'), ('since', 'IN'), ('none', 'NN'), ('hijackers', 'NNS'), ('babies', 'NNS'), ('elderly', 'RB'), ('tea', 'VBP'), ('partiers', 'NNS'), ('911', 'CD'), ('act', 'JJ'), ('terrorism', 'NN'), ('news', 'NN'), ('flash', 'NN'), ('sen', 'NN'), ('mary', 'JJ'), ('landrieu', 'NN'), ('dla', 'NN'), ('see', 'VBP'), ('canada', 'JJ'), ('south', 'JJ'), ('dakota', 'NN'), ('susan', 'JJ'), ('rice', 'NN'), ('irs', 'NNS'), ('actions', 'NNS'), ('tea', 'VBP'), ('parties', 'NNS'), ('caused', 'VBD'), ('antitax', 'JJ'), ('youtube', 'NN'), ('video', 'NN'), ('insulting', 'VBG'), ('faith', 'JJ'), ('drudge', 'JJ'), ('report', 'NN'), ('reduces', 'NNS'), ('font', 'JJ'), ('fit', 'JJ'), ('white', 'JJ'), ('house', 'NN'), ('scandals', 'NNS'), ('onto', 'IN'), ('one', 'CD'), ('page', 'NN'), ('obama', 'NN'), ('irs', 'VBP'), ('constitutional', 'JJ'), ('right', 'NN'), ('like', 'IN'), ('second', 'JJ'), ('amendment', 'NN'), ('white', 'JJ'), ('house', 'NN'), ('top', 'JJ'), ('obama', 'NN'), ('officials', 'NNS'), ('using', 'VBG'), ('secret', 'JJ'), ('email', 'NN'), ('accounts', 'NNS'), ('result', 'VBP'), ('bad', 'JJ'), ('advice', 'NN'), ('avoid', 'NN'), ('spam', 'JJ'), ('mail', 'NN'), ('nigeria', 'NNS'), ('jay', 'VBP'), ('carney', 'NN'), ('critics', 'NNS'), (\"'pinocchio\", 'POS'), ('never', 'RB'), ('said', 'VBD'), ('anything', 'NN'), ('inconsistent', 'NN'), (\"'\", \"''\"), ('obama', 'JJ'), ('gay', 'NN'), ('son', 'NN'), (\"'d\", 'POS'), ('look', 'NN'), ('like', 'IN'), ('jason', 'NN'), ('collins', 'NNS'), ('gosnell', 'VBP'), (\"'s\", 'POS'), ('office', 'NN'), ('benghazi', 'NN'), ('raided', 'VBD'), ('irs', 'JJ'), ('mainstream', 'NN'), ('media', 'NNS'), (\"'s\", 'POS'), ('worst', 'JJS'), ('coverup', 'NN'), ('challenge', 'NN'), ('date', 'NN'), ('irs', 'NNS'), ('targeting', 'VBG'), ('progaymarriage', 'NN'), ('lgbt', 'NN'), ('groups', 'NNS'), ('leads', 'VBZ'), ('gayest', 'JJS'), ('tax', 'NN'), ('revolt', 'NN'), ('us', 'PRP'), ('history', 'NN'), ('arlington', 'NN'), ('cemetery', 'NN'), ('rejects', 'VBZ'), ('offer', 'VBP'), ('bury', 'IN'), ('boston', 'NN'), ('bomber', 'NN'), ('westboro', 'JJ'), ('babtist', 'NN'), ('church', 'NN'), ('steps', 'NNS'), ('premium', 'JJ'), ('front', 'JJ'), ('lawn', 'NN'), ('plot', 'NN'), ('boston', 'NN'), ('obama', 'IN'), ('administration', 'NN'), ('reclassify', 'NN'), ('marathon', 'VBD'), ('bombing', 'VBG'), (\"'sportsplace\", 'NN'), ('violence', 'NN'), (\"'\", \"''\"), ('study', 'NN'), ('success', 'NN'), ('many', 'JJ'), ('fathers', 'NNS'), ('failure', 'VBP'), ('becomes', 'JJ'), ('government', 'NN'), ('program', 'NN'), ('us', 'PRP'), ('media', 'NNS'), ('pope', 'VBP'), ('francis', 'NN'), ('possibly', 'RB'), ('clear', 'JJ'), ('vatican', 'JJ'), ('bureaucracy', 'NN'), ('banking', 'NN'), ('without', 'IN'), ('blaming', 'VBG'), ('previous', 'JJ'), ('administration', 'NN'), ('michelle', 'FW'), ('obama', 'JJ'), ('praises', 'NNS'), ('weekend', 'NN'), ('rampage', 'NN'), ('chicago', 'NN'), ('teens', 'NNS'), ('good', 'JJ'), ('way', 'NN'), ('burn', 'NN'), ('calories', 'NNS'), ('stay', 'VBP'), ('healthy', 'JJ'), ('passover', 'NN'), ('obama', 'NN'), ('urges', 'VBZ'), ('subjects', 'NNS'), ('paint', 'VBP'), ('lamb', 'NN'), (\"'s\", 'POS'), ('blood', 'NN'), ('doors', 'NNS'), ('order', 'NN'), ('avoid', 'VBP'), ('sequester', 'NN'), ('white', 'JJ'), ('house', 'NN'), ('american', 'JJ'), ('children', 'NNS'), ('sequester', 'JJ'), ('causes', 'NNS'), ('layoffs', 'VBP'), ('among', 'IN'), ('hens', 'NNS'), ('lay', 'VBP'), ('easter', 'RB'), ('eggs', 'JJ'), ('unionwage', 'JJ'), ('easter', 'NN'), ('bunnies', 'NNS'), ('replaced', 'VBD'), ('mexican', 'JJ'), ('chupacabras', 'NNS'), ('time', 'NN'), ('mag', 'JJ'), ('names', 'NNS'), ('hugo', 'VBP'), ('chavez', 'JJ'), ('world', 'NN'), (\"'s\", 'POS'), ('sexiest', 'JJS'), ('corpse', 'NN'), ('boy', 'NN'), ('8', 'CD'), ('pretends', 'NNS'), ('banana', 'JJ'), ('gun', 'NN'), ('makes', 'VBZ'), ('daring', 'VBG'), ('escape', 'JJ'), ('school', 'NN'), ('study', 'NN'), ('free', 'JJ'), ('lunches', 'NNS'), ('overpriced', 'VBD'), ('lack', 'JJ'), ('nutrition', 'NN'), ('oscars', 'NNS'), ('2013', 'CD'), ('michelle', 'NN'), ('obama', 'NN'), ('announces', 'NNS'), ('longawaited', 'VBD'), ('merger', 'NN'), ('hollywood', 'NN'), ('state', 'NN'), ('joe', 'NN'), ('salazar', 'NN'), ('defends', 'NNS'), ('right', 'JJ'), ('women', 'NNS'), ('raped', 'VBD'), ('gunfree', 'JJ'), ('environment', 'NN'), (\"'rapists\", 'NNS'), ('rapees', 'VBP'), ('work', 'NN'), ('together', 'RB'), ('prevent', 'JJ'), ('gun', 'NN'), ('violence', 'NN'), ('common', 'JJ'), ('good', 'JJ'), (\"'\", 'POS'), ('dept', 'JJ'), ('health', 'NN'), ('human', 'NN'), ('services', 'NNS'), ('eliminates', 'VBZ'), ('rape', 'VBP'), ('reclassifying', 'VBG'), ('assailants', 'NNS'), (\"'undocumented\", 'VBN'), ('sex', 'NN'), ('partners', 'NNS'), (\"'\", 'POS'), ('kremlin', 'NN'), ('puts', 'VBZ'), ('warning', 'VBG'), ('photoshop', 'JJ'), ('putin', 'NN'), ('riding', 'VBG'), ('meteor', 'NN'), ('unless', 'IN'), ('barechested', 'VBN'), ('deeming', 'NN'), ('football', 'NN'), ('violent', 'JJ'), ('obama', 'NN'), ('moves', 'NNS'), ('introduce', 'VBP'), ('super', 'JJ'), ('drone', 'NN'), ('sundays', 'NNS'), ('instead', 'RB'), ('japan', 'VBP'), ('offers', 'NNS'), ('extend', 'VBP'), ('nuclear', 'JJ'), ('umbrella', 'NN'), ('cover', 'VB'), ('us', 'PRP'), ('america', 'JJ'), ('suffer', 'VBP'), ('devastating', 'VBG'), ('attack', 'NN'), ('defense', 'NN'), ('spending', 'NN'), ('feminists', 'NNS'), ('organize', 'VBP'), ('one', 'CD'), ('billion', 'CD'), ('women', 'NNS'), ('protest', 'VBP'), ('male', 'JJ'), ('oppression', 'NN'), ('one', 'CD'), ('billion', 'CD'), ('lap', 'NN'), ('dances', 'NNS'), ('urban', 'JJ'), ('community', 'NN'), ('protests', 'NNS'), ('mayor', 'VBP'), ('bloomberg', 'NN'), (\"'s\", 'POS'), ('ban', 'NN'), ('extralarge', 'NN'), ('pop', 'NN'), ('singers', 'NNS'), ('owning', 'VBG'), ('assault', 'NN'), ('weapons', 'NNS'), ('concerned', 'JJ'), ('mounting', 'VBG'), ('death', 'NN'), ('toll', 'NN'), ('taliban', 'NN'), ('offers', 'NNS'), ('send', 'VBP'), ('peacekeeping', 'VBG'), ('advisers', 'NNS'), ('chicago', 'VBP'), ('karl', 'VBN'), ('rove', 'NN'), ('puts', 'VBZ'), ('end', 'JJ'), ('tea', 'NN'), ('party', 'NN'), ('new', 'JJ'), (\"'republicans\", 'NNS'), ('democrats', 'NNS'), (\"'\", 'POS'), ('strategy', 'NN'), ('aimed', 'VBD'), ('losing', 'JJ'), ('elections', 'NNS'), ('answering', 'VBG'), ('public', 'JJ'), ('skepticism', 'NN'), ('president', 'NN'), ('obama', 'NN'), ('authorizes', 'VBZ'), ('unlimited', 'JJ'), ('drone', 'NN'), ('attacks', 'NNS'), ('skeet', 'VBP'), ('targets', 'NNS'), ('throughout', 'IN'), ('country', 'NN'), ('skeet', 'NN'), ('ulrich', 'JJ'), ('denies', 'VBZ'), ('claims', 'NNS'), ('shot', 'VBN'), ('president', 'NN'), ('considers', 'NNS'), ('changing', 'VBG'), ('name', 'NN'), (\"'traps\", 'NNS'), (\"'\", 'POS'), ('white', 'JJ'), ('house', 'NN'), ('releases', 'VBZ'), ('new', 'JJ'), ('exciting', 'VBG'), ('photos', 'JJ'), ('obama', 'NN'), ('standing', 'VBG'), ('sitting', 'VBG'), ('looking', 'VBG'), ('thoughtful', 'JJ'), ('even', 'RB'), ('breathing', 'VBG'), ('new', 'JJ'), ('york', 'NN'), ('times', 'NNS'), ('hacked', 'VBN'), ('chinese', 'JJ'), ('government', 'NN'), ('paul', 'NN'), ('krugman', 'NN'), (\"'s\", 'POS'), ('economic', 'JJ'), ('policies', 'NNS'), ('stolen', 'VBN'), ('white', 'JJ'), ('house', 'NN'), ('president', 'NN'), ('shoots', 'NNS'), ('skeet', 'VBP'), ('donates', 'NNS'), ('meat', 'VBD'), ('food', 'NN'), ('banks', 'NNS'), ('feed', 'VBD'), ('middle', 'JJ'), ('class', 'NN'), ('prove', 'VBP'), ('serious', 'JJ'), ('obama', 'NN'), ('eliminates', 'VBZ'), ('armed', 'VBN'), ('guard', 'JJ'), ('protection', 'NN'), ('president', 'NN'), ('vicepresident', 'JJ'), ('families', 'NNS'), ('establishes', 'NNS'), ('gunfree', 'VBP'), ('zones', 'NNS'), ('around', 'IN'), ('instead', 'RB'), ('state', 'NN'), ('dept', 'VBD'), ('send', 'JJ'), ('100000', 'CD'), ('american', 'JJ'), ('college', 'NN'), ('students', 'NNS'), ('china', 'VBP'), ('security', 'NN'), ('us', 'PRP'), ('debt', 'NN'), ('obligations', 'NNS'), ('jay', 'VBP'), ('carney', 'NN'), ('al', 'NN'), ('qaeda', 'NN'), ('run', 'VB'), (\"'re\", 'VBP'), ('running', 'VBG'), ('forward', 'RB'), ('president', 'NN'), ('issues', 'NNS'), ('executive', 'VBP'), ('orders', 'NNS'), ('banning', 'VBG'), ('cliffs', 'NNS'), ('ceilings', 'NNS'), ('obstructions', 'NNS'), ('statistics', 'NNS'), ('notions', 'NNS'), ('prevent', 'VBP'), ('us', 'PRP'), ('moving', 'VBG'), ('forwards', 'NNS'), ('upward', 'RB'), ('fearing', 'VBG'), ('worst', 'JJS'), ('obama', 'JJ'), ('administration', 'NN'), ('outlaws', 'VBZ'), ('fan', 'JJ'), ('prevent', 'NN'), ('hit', 'VBD'), ('certain', 'JJ'), ('objects', 'NNS'), ('world', 'NN'), ('ends', 'VBZ'), ('sp', 'JJ'), ('soars', 'NNS'), ('riddle', 'JJ'), ('universe', 'JJ'), ('solved', 'VBD'), ('answer', 'RB'), ('understood', 'JJ'), ('meek', 'JJ'), ('inherit', 'NN'), ('earth', 'NN'), ('ca', 'MD'), (\"n't\", 'RB'), ('afford', 'VB'), ('estate', 'NN'), ('taxes', 'NNS'), ('greece', 'VBP'), ('abandons', 'NNS'), ('euro', 'VBP'), ('accountants', 'NNS'), ('find', 'VBP'), ('greece', 'JJ'), ('euros', 'FW'), ('anyway', 'RB'), ('wheel', 'VBP'), ('finally', 'RB'), ('reinvented', 'VBN'), ('axles', 'NNS'), ('gradually', 'RB'), ('reinvented', 'VBD'), ('3rd', 'CD'), ('quarter', 'NN'), ('2013', 'CD'), ('bigfoot', 'NN'), ('found', 'VBD'), ('ohio', 'RB'), ('mysteriously', 'RB'), ('voting', 'VBG'), ('obama', 'RP'), ('santa', 'NN'), (\"'s\", 'POS'), ('workshop', 'NN'), ('files', 'VBZ'), ('bankruptcy', 'NN'), ('fed', 'NN'), ('offers', 'VBZ'), ('bailout', 'IN'), ('exchange', 'NN'), ('control', 'NN'), (\"'naughty\", 'NNP'), ('nice', 'NNP'), (\"'\", 'POS'), ('list', 'NN'), ('freak', 'NN'), ('flying', 'VBG'), ('pig', 'JJ'), ('accident', 'NN'), ('causes', 'NNS'), ('bacon', 'VBP'), ('fly', 'JJ'), ('shelves', 'NNS'), ('obama', 'VBP'), ('green', 'JJ'), ('economy', 'NN'), ('likely', 'JJ'), ('transform', 'NN'), ('america', 'RB'), ('leading', 'JJ'), ('third', 'JJ'), ('world', 'NN'), ('country', 'NN'), ('new', 'JJ'), ('millennium', 'JJ'), ('report', 'NN'), ('president', 'NN'), ('obama', 'IN'), ('visit', 'NN'), ('united', 'JJ'), ('states', 'NNS'), ('near', 'IN'), ('future', 'JJ'), ('obama', 'NN'), ('promises', 'NNS'), ('create', 'VBP'), ('thousands', 'NNS'), ('economically', 'RB'), ('neutral', 'JJ'), ('jobs', 'NNS'), ('modernizing', 'VBG'), ('islam', 'JJ'), ('new', 'JJ'), ('york', 'NN'), ('imam', 'NN'), ('proposes', 'VBZ'), ('canonize', 'VBP'), ('saul', 'JJ'), ('alinsky', 'JJ'), ('religion', 'NN'), (\"'s\", 'POS'), ('latter', 'JJ'), ('day', 'NN'), ('prophet', 'VB'), ('imam', 'JJ'), ('rauf', 'NN'), (\"'s\", 'POS'), ('peaceful', 'JJ'), ('solution', 'NN'), (\"'move\", 'POS'), ('ground', 'NN'), ('zero', 'CD'), ('blocks', 'VBZ'), ('away', 'RB'), ('mosque', 'JJ'), ('one', 'CD'), ('gets', 'VBZ'), ('hurt', 'VBN'), (\"'\", \"''\"), ('study', 'NN'), ('obama', 'NN'), (\"'s\", 'POS'), ('threat', 'NN'), ('burn', 'NN'), ('tax', 'NN'), ('money', 'NN'), ('washington', 'NN'), (\"'recruitment\", 'POS'), ('bonanza', 'NN'), (\"'\", \"''\"), ('tea', 'NN'), ('parties', 'NNS'), ('study', 'VBP'), ('social', 'JJ'), ('security', 'NN'), ('reform', 'NN'), ('needed', 'VBN'), (\"gov't\", 'NN'), ('raises', 'VBZ'), ('retirement', 'NN'), ('age', 'NN'), ('least', 'VBD'), ('814', 'CD'), ('years', 'NNS'), ('obama', 'JJ'), ('attends', 'VBZ'), ('church', 'NN'), ('service', 'NN'), ('worships', 'VBZ'), ('self', 'PRP'), ('obama', 'JJ'), ('proposes', 'VBZ'), ('national', 'JJ'), (\"'win\", 'NNP'), ('future', 'NN'), (\"'\", \"''\"), ('lottery', 'JJ'), ('proceeds', 'NNS'), ('new', 'JJ'), ('wtf', 'IN'), ('powerball', 'JJ'), ('finance', 'NN'), (\"gov't\", 'NN'), ('spending', 'NN'), ('historical', 'JJ'), ('revisionists', 'NNS'), ('hey', 'VBP'), ('never', 'RB'), ('know', 'VBP'), ('vice', 'NN'), ('president', 'NN'), ('biden', 'IN'), ('criticizing', 'VBG'), ('egypt', 'JJ'), ('unpharaoh', 'JJ'), ('israelis', 'NN'), ('egyptian', 'JJ'), ('rioters', 'NNS'), (\"n't\", 'RB'), ('damage', 'VB'), ('pyramids', 'NNS'), ('rebuild', 'VB'), ('lake', 'VBP'), ('superior', 'JJ'), ('renamed', 'VBN'), ('lake', 'JJ'), ('inferior', 'JJ'), ('spirit', 'NN'), ('tolerance', 'NN'), ('inclusiveness', 'NN'), ('al', 'IN'), ('gore', 'NN'), (\"'s\", 'POS'), ('shame', 'JJ'), ('family', 'NN'), ('torn', 'VBN'), ('apart', 'RB'), ('something', 'NN'), ('simple', 'JJ'), ('pack', 'NN'), ('polar', 'JJ'), ('bears', 'NNS'), ('michael', 'VBD'), ('moore', 'RB'), ('long', 'JJ'), ('anyone', 'NN'), ('money', 'NN'), ('shake', 'VB'), ('country', 'NN'), ('broke', 'VBD'), ('obama', 'PRP'), (\"'s\", 'VBZ'), ('teleprompters', 'NNS'), ('unionize', 'JJ'), ('demand', 'NN'), ('collective', 'JJ'), ('bargaining', 'NN'), ('rights', 'NNS'), ('obama', 'VBP'), ('calls', 'VBZ'), ('new', 'JJ'), ('taxes', 'NNS'), (\"'spending\", 'VBG'), ('reductions', 'NNS'), ('tax', 'NN'), ('code', 'NN'), (\"'\", \"''\"), ('elsewhere', 'RB'), ('rapists', 'VBZ'), ('tout', 'RP'), (\"'consent\", 'JJ'), ('reductions', 'NNS'), ('sexual', 'JJ'), ('intercourse', 'NN'), (\"'\", \"''\"), ('obama', 'NN'), (\"'s\", 'POS'), ('teleprompter', 'NN'), ('unhappy', 'JJ'), ('white', 'JJ'), ('house', 'NN'), ('twitter', 'NN'), ('words', 'NNS'), ('obama', 'VBP'), (\"'s\", 'POS'), ('regulation', 'NN'), ('reduction', 'NN'), ('committee', 'NN'), ('finds', 'VBZ'), ('us', 'PRP'), ('constitution', 'NN'), ('expensive', 'JJ'), ('outdated', 'VBN'), ('framework', 'NN'), ('inefficiently', 'RB'), ('regulating', 'VBG'), ('federal', 'JJ'), (\"gov't\", 'NN'), ('taking', 'VBG'), ('page', 'NN'), ('reagan', 'JJ'), ('years', 'NNS'), ('obama', 'MD'), ('announces', 'VB'), ('new', 'JJ'), ('era', 'NN'), ('perestroika', 'FW'), ('glasnost', 'FW'), ('responding', 'VBG'), ('oslo', 'JJ'), ('shootings', 'NNS'), ('obama', 'MD'), ('declares', 'VBZ'), ('christianity', 'NN'), ('religion', 'NN'), ('peace', 'NN'), ('praises', 'VBZ'), ('moderate', 'JJ'), ('christians', 'NNS'), ('promises', 'NNS'), ('send', 'VBP'), ('one', 'CD'), ('space', 'NN'), ('republicans', 'VBZ'), ('block', 'VBP'), ('obama', 'NN'), (\"'s\", 'POS'), ('420', 'CD'), ('billion', 'CD'), ('program', 'NN'), ('give', 'JJ'), ('american', 'JJ'), ('families', 'NNS'), ('free', 'JJ'), ('charms', 'NNS'), ('ward', 'VBP'), ('economic', 'JJ'), ('bad', 'JJ'), ('luck', 'NN'), ('white', 'JJ'), ('house', 'NN'), ('impose', 'VB'), ('chimney', 'JJ'), ('tax', 'NN'), ('santa', 'NN'), ('claus', 'NN'), ('obama', 'IN'), ('decrees', 'NNS'), ('economy', 'NN'), ('soaring', 'VBG'), ('much', 'JJ'), ('previously', 'RB'), ('decreeed', 'VBP'), ('conservative', 'JJ'), ('think', 'NN'), ('tank', 'NN'), ('introduces', 'VBZ'), ('children', 'NNS'), ('capitalism', 'NN'), ('popup', 'VBZ'), ('picture', 'NN'), ('book', 'NN'), ('road', 'NN'), ('smurfdom', 'NN'), ('al', 'IN'), ('gore', 'NN'), ('proposes', 'NNS'), ('combat', 'VBP'), ('global', 'JJ'), ('warming', 'VBG'), ('extracting', 'VBG'), ('silver', 'JJ'), ('linings', 'NNS'), ('clouds', 'VBP'), ('earth', 'NN'), (\"'s\", 'POS'), ('atmosphere', 'JJ'), ('obama', 'NN'), ('refutes', 'VBZ'), ('charges', 'NNS'), ('unresponsive', 'JJ'), ('people', 'NNS'), (\"'s\", 'POS'), ('suffering', 'VBG'), ('pray', 'NN'), ('god', 'NN'), ('always', 'RB'), ('hear', 'VBP'), ('response', 'NN'), ('obama', 'NN'), ('regrets', 'VBZ'), ('us', 'PRP'), ('government', 'NN'), (\"n't\", 'RB'), ('provide', 'VB'), ('mother', 'JJR'), ('free', 'JJ'), ('contraceptives', 'NNS'), ('college', 'NN'), ('fluke', 'VBP'), ('congress', 'NN'), ('drill', 'VB'), ('baby', 'NN'), ('drill', 'NN'), ('planned', 'VBN'), ('parenthood', 'NN'), ('introduces', 'NNS'), ('frequent', 'JJ'), ('flucker', 'NN'), ('reward', 'NN'), ('card', 'NN'), (\"'come\", 'POS'), ('soon', 'RB'), (\"'\", 'POS'), ('obama', 'JJ'), ('tornado', 'NN'), ('victims', 'NNS'), (\"'we\", 'POS'), ('inherited', 'VBN'), ('weather', 'RBR'), ('previous', 'JJ'), ('administration', 'NN'), (\"'\", 'POS'), ('obama', 'JJ'), ('congratulates', 'NNS'), ('putin', 'VBP'), ('chicagostyle', 'JJ'), ('election', 'NN'), ('outcome', 'IN'), ('people', 'NNS'), (\"'s\", 'POS'), ('cube', 'NN'), ('gives', 'VBZ'), ('hero', 'JJ'), ('socialist', 'JJ'), ('labor', 'NN'), ('medal', 'NN'), ('recognition', 'NN'), ('continued', 'VBD'), ('expert', 'JJ'), ('advice', 'NN'), ('provided', 'VBD'), ('obama', 'JJ'), ('administration', 'NN'), ('helping', 'VBG'), ('shape', 'CC'), ('foreign', 'JJ'), ('domestic', 'JJ'), ('policies', 'NNS'), ('hamas', 'VBP'), ('israeli', 'JJ'), ('air', 'NN'), ('defense', 'NN'), ('unfair', 'JJ'), ('99', 'CD'), ('missiles', 'NNS'), ('1', 'CD'), ('allowed', 'VBN'), ('reach', 'NN'), ('israel', 'JJ'), ('democrat', 'NNP'), ('strategist', 'NN'), ('without', 'IN'), ('government', 'NN'), ('supervision', 'NN'), ('women', 'NNS'), ('would', 'MD'), ('never', 'RB'), ('evolved', 'VB'), ('humans', 'NNS'), ('voters', 'NNS'), ('without', 'IN'), ('borders', 'NNS'), ('oppose', 'VBP'), ('texas', 'JJ'), ('new', 'JJ'), ('voter', 'NN'), ('id', 'NN'), ('law', 'NN'), ('enraged', 'VBD'), ('accusation', 'NN'), ('obama', 'NN'), (\"'s\", 'POS'), ('bidding', 'NN'), ('media', 'NNS'), ('leaders', 'NNS'), ('demand', 'VBP'), ('instructions', 'NNS'), ('white', 'JJ'), ('house', 'NN'), ('respond', 'NN'), ('obama', 'NN'), ('blames', 'VBZ'), ('previous', 'JJ'), ('olympics', 'NNS'), ('failure', 'NN'), ('win', 'VBP'), ('olympics', 'NNS'), ('official', 'JJ'), ('china', 'NNS'), ('plans', 'NNS'), ('land', 'VBP'), ('moon', 'NN'), ('least', 'JJS'), ('cheap', 'JJ'), ('knockoff', 'NN'), ('thereof', 'NN'), ('korancontra', 'JJ'), ('obama', 'NN'), ('secretly', 'RB'), ('arms', 'VBZ'), ('syrian', 'JJ'), ('rebels', 'NNS'), ('poll', 'VBP'), ('progressive', 'JJ'), ('slogan', 'JJ'), (\"'we\", 'POS'), ('like', 'IN'), ('europe', 'NN'), (\"'\", \"''\"), ('popular', 'JJ'), ('members', 'NNS'), ('american', 'JJ'), ('nazi', 'JJ'), ('party', 'NN'), ('obama', 'NN'), ('evangelicals', 'NNS'), ('jesus', 'VBP'), ('saves', 'NNS'), ('spend', 'VBP'), ('may', 'MD'), ('day', 'NN'), ('anarchists', 'NNS'), ('plan', 'VBP'), ('schedule', 'JJ'), ('synchronize', 'VB'), ('execute', 'NN'), ('coordinated', 'VBN'), ('campaign', 'NN'), ('midwestern', 'JJ'), ('farmers', 'NNS'), ('hooked', 'VBD'), ('new', 'JJ'), ('erotic', 'JJ'), ('novel', 'NN'), ('50', 'CD'), ('shades', 'NNS'), ('hay', 'VBP'), ('study', 'NN'), ('99', 'CD'), ('liberals', 'NNS'), ('give', 'JJ'), ('rest', 'NN'), ('bad', 'JJ'), ('name', 'NN'), ('obama', 'NN'), ('meets', 'NNS'), ('jewish', 'JJ'), ('leaders', 'NNS'), ('proposes', 'VBZ'), ('deeper', 'JJR'), ('circumcisions', 'NNS'), ('rich', 'JJ'), ('historians', 'NNS'), ('hope', 'VBP'), ('change', 'NN'), ('hemp', 'NN'), ('choom', 'NN'), ('ten', 'NN'), ('bucks', 'VBZ'), ('bag', 'JJ'), ('cancer', 'NN'), ('fails', 'VBZ'), ('cure', 'JJ'), ('venezuela', 'FW'), ('president', 'NN'), ('life', 'NN'), ('tragic', 'JJ'), ('spelling', 'VBG'), ('error', 'NN'), ('causes', 'VBZ'), ('muslim', 'JJ'), ('protesters', 'NNS'), ('burn', 'VBP'), ('local', 'JJ'), ('boobtube', 'NN'), ('factory', 'NN'), ('secretary', 'NN'), ('energy', 'NN'), ('steven', 'JJ'), ('chu', 'NNS'), ('due', 'JJ'), ('energy', 'NN'), ('conservation', 'NN'), ('light', 'JJ'), ('end', 'NN'), ('tunnel', 'NN'), ('switched', 'VBD'), ('obama', 'JJ'), ('administration', 'NN'), ('running', 'VBG'), ('food', 'NN'), ('stamps', 'NNS'), ('across', 'IN'), ('border', 'NN'), ('mexico', 'NN'), ('operation', 'NN'), ('codenamed', 'VBD'), ('fat', 'JJ'), ('furious', 'JJ'), ('pakistan', 'NN'), ('explodes', 'NNS'), ('protest', 'VBP'), ('new', 'JJ'), ('adobe', 'NN'), ('acrobat', 'NN'), ('update', 'JJ'), ('17', 'CD'), ('local', 'JJ'), ('acrobats', 'NNS'), ('killed', 'VBD'), ('white', 'JJ'), ('house', 'NN'), ('let', 'NN'), ('eat', 'VB'), ('statistics', 'NNS'), ('special', 'JJ'), ('ops', 'NNS'), ('benedict', 'VBP'), ('arnold', 'JJ'), ('son', 'NN'), ('would', 'MD'), ('look', 'VB'), ('like', 'IN'), ('barack', 'NN'), ('obama', 'NN')]\n",
            "[('merit', 'NN'), ('taking', 'VBG'), ('cynical', 'JJ'), ('view', 'NN'), ('life', 'NN'), ('observations', 'NNS'), ('cynicism', 'VBP'), ('realistic', 'JJ'), ('brave', 'NN'), ('observations', 'NNS'), ('human', 'JJ'), ('nature', 'NN'), ('freed', 'VBN'), ('sentimentality', 'NN'), ('somber', 'NNP'), ('commentary', 'NN'), ('offered', 'VBD'), ('one', 'CD'), ('loser', 'NN'), ('game', 'NN'), ('life', 'NN'), ('taking', 'VBG'), ('solace', 'NN'), ('weakness', 'NN'), ('failure', 'NN'), ('compelling', 'VBG'), ('arguments', 'NNS'), ('either', 'DT'), ('way', 'NN'), ('disputed', 'VBD'), ('however', 'RB'), ('françois', 'JJ'), ('de', 'IN'), ('la', 'FW'), ('rouchefoucauld', 'FW'), ('one', 'CD'), ('brilliantly', 'RB'), ('cynical', 'JJ'), ('epigrammers', 'NNS'), ('ever', 'RB'), ('lived', 'VBD'), ('probably', 'RB'), ('help', 'NN'), ('came', 'VBD'), ('long', 'JJ'), ('line', 'NN'), ('noblemen', 'NNS'), ('nothing', 'NN'), ('enfeebles', 'VBZ'), ('soul', 'RB'), ('much', 'JJ'), ('inherited', 'VBN'), ('wealth', 'NN'), ('titles', 'NNS'), ('born', 'IN'), ('1613', 'CD'), ('inherited', 'JJ'), ('title', 'NN'), ('duke', 'NN'), ('death', 'NN'), ('father', 'NN'), ('1650', 'CD'), ('receiving', 'VBG'), ('usual', 'JJ'), ('education', 'NN'), ('class', 'NN'), ('dabbled', 'VBD'), ('military', 'JJ'), ('matters', 'NNS'), ('teens', 'VBP'), ('various', 'JJ'), ('itinerant', 'JJ'), ('love', 'NN'), ('affairs', 'NNS'), ('followed', 'VBD'), ('wellplaced', 'JJ'), ('women', 'NNS'), ('ended', 'VBD'), ('badly', 'RB'), ('find', 'JJ'), ('imprisoned', 'JJ'), ('bastille', 'NN'), ('week', 'NN'), ('1636', 'CD'), ('political', 'JJ'), ('intrigue', 'NN'), ('although', 'IN'), ('married', 'JJ'), ('continued', 'JJ'), ('pursue', 'NN'), ('women', 'NNS'), ('custom', 'JJ'), ('time', 'NN'), ('station', 'NN'), ('marriages', 'NNS'), ('days', 'NNS'), ('business', 'NN'), ('affairs', 'NNS'), ('ignored', 'VBD'), ('partys', 'JJ'), ('pleasure', 'NN'), ('necessity', 'NN'), ('one', 'CD'), ('dalliance', 'NN'), ('resulted', 'VBD'), ('illegitimate', 'JJ'), ('child', 'NN'), ('woman', 'NN'), ('eventually', 'RB'), ('rejected', 'VBD'), ('appealing', 'VBG'), ('competitor', 'NN'), ('1652', 'CD'), ('found', 'VBD'), ('mixed', 'JJ'), ('quasirevolt', 'NN'), ('called', 'VBN'), ('fronde', 'JJ'), ('adventure', 'NN'), ('left', 'VBD'), ('impaired', 'JJ'), ('sight', 'JJ'), ('struck', 'NN'), ('musket', 'NN'), ('ball', 'DT'), ('head', 'VBP'), ('health', 'NN'), ('problems', 'NNS'), ('also', 'RB'), ('intervened', 'VBD'), ('add', 'JJ'), ('misery', 'JJ'), ('form', 'NN'), ('gout', 'NN'), ('melancholy', 'NN'), ('late', 'JJ'), ('seventeenth', 'JJ'), ('century', 'NN'), ('france', 'NN'), ('paris', 'NN'), ('salons', 'NNS'), ('centers', 'NNS'), ('debate', 'VBP'), ('discussion', 'NN'), ('flowering', 'VBG'), ('controversial', 'JJ'), ('ideas', 'NNS'), ('la', 'VBP'), ('rochefoucauld', 'VB'), ('acquired', 'VBN'), ('acrid', 'JJ'), ('talent', 'NN'), ('stinging', 'VBG'), ('prose', 'JJ'), ('knew', 'NNS'), ('use', 'VBP'), ('failures', 'NNS'), ('love', 'VBP'), ('war', 'NN'), ('primed', 'VBD'), ('spirit', 'JJ'), ('cynical', 'JJ'), ('view', 'NN'), ('life', 'NN'), ('predilection', 'NN'), ('meshed', 'VBN'), ('well', 'RB'), ('taste', 'NN'), ('salons', 'NNS'), ('savage', 'VBP'), ('wit', 'JJ'), ('nothing', 'NN'), ('shallow', 'JJ'), ('sophistication', 'NN'), ('frequent', 'JJ'), ('visits', 'NNS'), ('salon', 'VBP'), ('mme', 'NN'), ('de', 'FW'), ('sable', 'JJ'), ('paris', 'NN'), ('begun', 'VBN'), ('piece', 'IN'), ('together', 'RB'), ('body', 'NN'), ('epigrams', 'NNS'), ('represented', 'VBD'), ('worldview', 'NN'), ('one', 'CD'), ('peers', 'VBZ'), ('commercial', 'JJ'), ('goals', 'NNS'), ('mind', 'VBP'), ('bootleg', 'JJ'), ('collection', 'NN'), ('189', 'CD'), ('sayings', 'NNS'), ('first', 'RB'), ('published', 'VBN'), ('without', 'IN'), ('permission', 'NN'), ('attribution', 'NN'), ('1663', 'CD'), ('two', 'CD'), ('years', 'NNS'), ('later', 'RB'), ('finally', 'RB'), ('put', 'VB'), ('proper', 'JJ'), ('edition', 'NN'), ('contained', 'VBD'), ('317', 'CD'), ('maxims', 'NNS'), ('volume', 'NN'), ('titled', 'VBN'), ('sentences', 'NNS'), ('et', 'VBP'), ('maximes', 'NNS'), ('morales', 'NNS'), ('usually', 'RB'), ('shortened', 'VBD'), ('maxims', 'NNS'), ('philosophy', 'NN'), ('centers', 'NNS'), ('around', 'IN'), ('idea', 'NN'), ('men', 'NNS'), ('selfseeking', 'VBG'), ('egoists', 'NNS'), ('fault', 'VBP'), ('virtue', 'JJ'), ('man', 'NN'), ('displays', 'NNS'), ('smokescreen', 'JJ'), ('concealing', 'VBG'), ('selflove', 'NN'), ('virtues', 'NNS'), ('vices', 'NNS'), ('disguise', 'VBP'), ('human', 'JJ'), ('vanity', 'NN'), ('takes', 'VBZ'), ('precedence', 'NN'), ('nearly', 'RB'), ('else', 'RB'), ('virtues', 'VBZ'), ('lost', 'VBN'), ('selfinterest', 'JJS'), ('rivers', 'NNS'), ('sea', 'VBD'), ('even', 'RB'), ('nobler', 'JJ'), ('emotions', 'NNS'), ('like', 'IN'), ('love', 'NN'), ('altruism', 'NN'), ('according', 'VBG'), ('la', 'NN'), ('rochefoucauld', 'NN'), ('kind', 'NN'), ('traffic', 'NN'), ('selflove', 'VBP'), ('ever', 'RB'), ('proposes', 'VBZ'), ('gainer', 'NN'), ('took', 'VBD'), ('dim', 'RB'), ('view', 'JJ'), ('women', 'NNS'), ('finding', 'VBG'), ('fit', 'JJ'), ('love', 'NN'), ('men', 'NNS'), ('course', 'NN'), ('procreation', 'NN'), ('one', 'CD'), ('crueler', 'NN'), ('maxims', 'NN'), ('womens', 'VBZ'), ('worth', 'JJ'), ('lasts', 'NNS'), ('longer', 'RBR'), ('beauty', 'NN'), ('lifes', 'JJ'), ('realities', 'NNS'), ('eventually', 'RB'), ('caught', 'VBD'), ('softening', 'VBG'), ('rougher', 'NN'), ('edges', 'NNS'), ('wife', 'NN'), ('cared', 'VBD'), ('infirmities', 'NNS'), ('eighteen', 'JJ'), ('years', 'NNS'), ('died', 'VBD'), ('1670', 'CD'), ('mothers', 'NNS'), ('death', 'NN'), ('followed', 'VBD'), ('two', 'CD'), ('years', 'NNS'), ('later', 'RB'), ('two', 'CD'), ('sons', 'NNS'), ('would', 'MD'), ('eventually', 'RB'), ('die', 'VB'), ('injuries', 'NNS'), ('received', 'VBN'), ('frances', 'NNS'), ('ruinous', 'JJ'), ('wars', 'NNS'), ('period', 'NN'), ('gloomy', 'JJ'), ('picture', 'NN'), ('brightened', 'VBD'), ('entry', 'JJ'), ('life', 'NN'), ('mme', 'FW'), ('de', 'FW'), ('la', 'FW'), ('fayette', 'FW'), ('twenty', 'CD'), ('years', 'NNS'), ('junior', 'RB'), ('invited', 'VBN'), ('stay', 'NN'), ('paris', 'RB'), ('carried', 'VBD'), ('difficulty', 'NN'), ('seems', 'VBZ'), ('viewed', 'VBN'), ('reform', 'NN'), ('project', 'NN'), ('would', 'MD'), ('later', 'VB'), ('say', 'VB'), ('gave', 'VBD'), ('understanding', 'VBG'), ('reformed', 'JJ'), ('heart', 'NN'), ('perhaps', 'RB'), ('fame', 'JJ'), ('made', 'VBD'), ('interesting', 'JJ'), ('captive', 'JJ'), ('union', 'NN'), ('worked', 'VBD'), ('seemed', 'JJ'), ('alleviate', 'JJ'), ('dark', 'JJ'), ('picture', 'NN'), ('humanity', 'NN'), ('final', 'JJ'), ('hours', 'NNS'), ('came', 'VBD'), ('asked', 'VBN'), ('received', 'VBN'), ('last', 'JJ'), ('rites', 'NNS'), ('church', 'VBP'), ('1680', 'CD'), ('fair', 'JJ'), ('assessment', 'JJ'), ('la', 'NN'), ('rochefoucauld', 'NN'), ('must', 'MD'), ('take', 'VB'), ('account', 'NN'), ('undeniable', 'JJ'), ('wit', 'NN'), ('probing', 'VBG'), ('sensitivity', 'NN'), ('ability', 'NN'), ('strip', 'VBP'), ('away', 'RB'), ('pretenses', 'NNS'), ('behind', 'IN'), ('many', 'JJ'), ('human', 'JJ'), ('actions', 'NNS'), ('yet', 'RB'), ('maxims', 'VBP'), ('meager', 'JJR'), ('result', 'NN'), ('many', 'JJ'), ('superficial', 'JJ'), ('shallow', 'JJ'), ('product', 'NN'), ('personality', 'NN'), ('still', 'RB'), ('nursing', 'VBG'), ('wounds', 'NNS'), ('early', 'JJ'), ('disillusionment', 'NN'), ('weary', 'JJ'), ('aphorisms', 'NNS'), ('two', 'CD'), ('three', 'CD'), ('pages', 'NNS'), ('hesitate', 'VBP'), ('reopen', 'JJ'), ('book', 'NN'), ('later', 'RB'), ('worse', 'JJR'), ('still', 'RB'), ('wrong', 'JJ'), ('say', 'VBP'), ('virtue', 'JJ'), ('altruism', 'NN'), ('shams', 'NNS'), ('nothing', 'NN'), ('vital', 'JJ'), ('life', 'NN'), ('see', 'VBP'), ('around', 'IN'), ('us', 'PRP'), ('every', 'DT'), ('day', 'NN'), ('know', 'VB'), ('look', 'NN'), ('long', 'JJ'), ('senses', 'NNS'), ('blinded', 'VBD'), ('fear', 'JJ'), ('timor', 'NN'), ('animi', 'NN'), ('auribus', 'NN'), ('officit', 'NN'), ('sallust', 'NN'), ('says', 'VBZ'), ('fear', 'NN'), ('blocks', 'NNS'), ('ears', 'VBP'), ('bitter', 'JJ'), ('weakling', 'VBG'), ('cynic', 'JJ'), ('takes', 'VBZ'), ('depth', 'JJ'), ('character', 'NN'), ('accept', 'IN'), ('worldsand', 'NN'), ('mansfaults', 'NNS'), ('foibles', 'NNS'), ('balance', 'NN'), ('mans', 'NNS'), ('unquestioned', 'JJ'), ('capacity', 'NN'), ('greatness', 'NN'), ('soul', 'NN'), ('broader', 'JJR'), ('life', 'NN'), ('experiences', 'NNS'), ('might', 'MD'), ('corrected', 'VBN'), ('la', 'NN'), ('rochefoucaulds', 'NNS'), ('errors', 'NNS'), ('preferred', 'VBD'), ('remain', 'VBP'), ('state', 'NN'), ('arrested', 'VBN'), ('development', 'NN'), ('receiving', 'VBG'), ('applause', 'NN'), ('notoriety', 'NN'), ('paris', 'NN'), ('society', 'NN'), ('maxims', 'NNS'), ('bring', 'VBP'), ('smiles', 'NNS'), ('faces', 'VBZ'), ('easy', 'JJ'), ('find', 'VB'), ('amusement', 'JJ'), ('flaws', 'NNS'), ('others', 'NNS'), ('yet', 'RB'), ('forget', 'VB'), ('barbs', 'NN'), ('directed', 'VBD'), ('us', 'PRP'), ('well', 'RB'), ('montaigne', 'VB'), ('far', 'RB'), ('wiser', 'JJR'), ('took', 'VBD'), ('balanced', 'VBN'), ('view', 'NN'), ('life', 'NN'), ('accepting', 'VBG'), ('worlds', 'NNS'), ('absurdities', 'NNS'), ('joys', 'VBP'), ('equanimity', 'NN'), ('calm', 'JJ'), ('resolution', 'NN'), ('greek', 'JJ'), ('roman', 'NN'), ('sage', 'NN'), ('also', 'RB'), ('better', 'RBR'), ('man', 'NN'), ('la', 'NN'), ('rochefoucauld', 'FW'), ('intelligent', 'NN'), ('without', 'IN'), ('wise', 'NN'), ('never', 'RB'), ('found', 'VBD'), ('confidence', 'NN'), ('submit', 'NN'), ('ego', 'NN'), ('consolatory', 'NN'), ('power', 'NN'), ('higher', 'RBR'), ('philosophical', 'JJ'), ('authority', 'NN'), ('form', 'NN'), ('cynicism', 'NN'), ('end', 'NN'), ('strips', 'VBZ'), ('man', 'NN'), ('important', 'JJ'), ('protective', 'JJ'), ('armor', 'NN'), ('leaves', 'VBZ'), ('naked', 'JJ'), ('face', 'NN'), ('cruelties', 'NNS'), ('life', 'NN'), ('cynic', 'JJ'), ('ever', 'RB'), ('died', 'VBD'), ('happy', 'JJ'), ('man', 'NN'), ('read', 'VBD'), ('7', 'CD'), ('tips', 'NNS'), ('get', 'VBP'), ('best', 'JJS'), ('shape', 'NN'), ('life', 'NN')]\n"
          ],
          "name": "stdout"
        }
      ]
    },
    {
      "cell_type": "markdown",
      "metadata": {
        "id": "QZ7zGP-eEhO7",
        "colab_type": "text"
      },
      "source": [
        "#### Yellow Brick: POS Visualizer"
      ]
    },
    {
      "cell_type": "code",
      "metadata": {
        "id": "7h3OzL33J2sH",
        "colab_type": "code",
        "colab": {
          "base_uri": "https://localhost:8080/",
          "height": 343
        },
        "outputId": "41eb6d56-799c-4239-90ec-311c9549456e"
      },
      "source": [
        "# Yellow Brick is a POS visualizer - https://github.com/DistrictDataLabs/yellowbrick/blob/master/docs/api/text/postag.rst\n",
        "# You may need to reload the workbook to activate it. In that case, re-run all cells again from the beginning \n",
        "\n",
        "!pip install -U yellowbrick"
      ],
      "execution_count": null,
      "outputs": [
        {
          "output_type": "stream",
          "text": [
            "Collecting yellowbrick\n",
            "\u001b[?25l  Downloading https://files.pythonhosted.org/packages/13/95/a14e4fdfb8b1c8753bbe74a626e910a98219ef9c87c6763585bbd30d84cf/yellowbrick-1.1-py3-none-any.whl (263kB)\n",
            "\r\u001b[K     |█▎                              | 10kB 16.8MB/s eta 0:00:01\r\u001b[K     |██▌                             | 20kB 22.0MB/s eta 0:00:01\r\u001b[K     |███▊                            | 30kB 20.8MB/s eta 0:00:01\r\u001b[K     |█████                           | 40kB 16.8MB/s eta 0:00:01\r\u001b[K     |██████▏                         | 51kB 13.6MB/s eta 0:00:01\r\u001b[K     |███████▌                        | 61kB 11.7MB/s eta 0:00:01\r\u001b[K     |████████▊                       | 71kB 10.5MB/s eta 0:00:01\r\u001b[K     |██████████                      | 81kB 10.5MB/s eta 0:00:01\r\u001b[K     |███████████▏                    | 92kB 10.5MB/s eta 0:00:01\r\u001b[K     |████████████▍                   | 102kB 10.2MB/s eta 0:00:01\r\u001b[K     |█████████████▊                  | 112kB 10.2MB/s eta 0:00:01\r\u001b[K     |███████████████                 | 122kB 10.2MB/s eta 0:00:01\r\u001b[K     |████████████████▏               | 133kB 10.2MB/s eta 0:00:01\r\u001b[K     |█████████████████▍              | 143kB 10.2MB/s eta 0:00:01\r\u001b[K     |██████████████████▋             | 153kB 10.2MB/s eta 0:00:01\r\u001b[K     |███████████████████▉            | 163kB 10.2MB/s eta 0:00:01\r\u001b[K     |█████████████████████▏          | 174kB 10.2MB/s eta 0:00:01\r\u001b[K     |██████████████████████▍         | 184kB 10.2MB/s eta 0:00:01\r\u001b[K     |███████████████████████▋        | 194kB 10.2MB/s eta 0:00:01\r\u001b[K     |████████████████████████▉       | 204kB 10.2MB/s eta 0:00:01\r\u001b[K     |██████████████████████████      | 215kB 10.2MB/s eta 0:00:01\r\u001b[K     |███████████████████████████▍    | 225kB 10.2MB/s eta 0:00:01\r\u001b[K     |████████████████████████████▋   | 235kB 10.2MB/s eta 0:00:01\r\u001b[K     |█████████████████████████████▉  | 245kB 10.2MB/s eta 0:00:01\r\u001b[K     |███████████████████████████████ | 256kB 10.2MB/s eta 0:00:01\r\u001b[K     |████████████████████████████████| 266kB 10.2MB/s \n",
            "\u001b[?25hRequirement already satisfied, skipping upgrade: numpy>=1.13.0 in /usr/local/lib/python3.6/dist-packages (from yellowbrick) (1.18.5)\n",
            "Requirement already satisfied, skipping upgrade: matplotlib!=3.0.0,>=2.0.2 in /usr/local/lib/python3.6/dist-packages (from yellowbrick) (3.2.2)\n",
            "Requirement already satisfied, skipping upgrade: cycler>=0.10.0 in /usr/local/lib/python3.6/dist-packages (from yellowbrick) (0.10.0)\n",
            "Requirement already satisfied, skipping upgrade: scipy>=1.0.0 in /usr/local/lib/python3.6/dist-packages (from yellowbrick) (1.4.1)\n",
            "Requirement already satisfied, skipping upgrade: scikit-learn>=0.20 in /usr/local/lib/python3.6/dist-packages (from yellowbrick) (0.22.2.post1)\n",
            "Requirement already satisfied, skipping upgrade: pyparsing!=2.0.4,!=2.1.2,!=2.1.6,>=2.0.1 in /usr/local/lib/python3.6/dist-packages (from matplotlib!=3.0.0,>=2.0.2->yellowbrick) (2.4.7)\n",
            "Requirement already satisfied, skipping upgrade: python-dateutil>=2.1 in /usr/local/lib/python3.6/dist-packages (from matplotlib!=3.0.0,>=2.0.2->yellowbrick) (2.8.1)\n",
            "Requirement already satisfied, skipping upgrade: kiwisolver>=1.0.1 in /usr/local/lib/python3.6/dist-packages (from matplotlib!=3.0.0,>=2.0.2->yellowbrick) (1.2.0)\n",
            "Requirement already satisfied, skipping upgrade: six in /usr/local/lib/python3.6/dist-packages (from cycler>=0.10.0->yellowbrick) (1.15.0)\n",
            "Requirement already satisfied, skipping upgrade: joblib>=0.11 in /usr/local/lib/python3.6/dist-packages (from scikit-learn>=0.20->yellowbrick) (0.16.0)\n",
            "Installing collected packages: yellowbrick\n",
            "  Found existing installation: yellowbrick 0.9.1\n",
            "    Uninstalling yellowbrick-0.9.1:\n",
            "      Successfully uninstalled yellowbrick-0.9.1\n",
            "Successfully installed yellowbrick-1.1\n"
          ],
          "name": "stdout"
        }
      ]
    },
    {
      "cell_type": "code",
      "metadata": {
        "id": "byYCHNFGJ9O1",
        "colab_type": "code",
        "colab": {
          "base_uri": "https://localhost:8080/",
          "height": 1000
        },
        "outputId": "ac4a4063-b460-4c90-d401-9c0f9ffd2d43"
      },
      "source": [
        "# Create the visualizer\n",
        "\n",
        "from yellowbrick.text import PosTagVisualizer\n",
        "plt.figure(figsize=(15,15))\n",
        "viz = PosTagVisualizer()\n",
        "viz.fit(tagged)\n",
        "viz.show()"
      ],
      "execution_count": null,
      "outputs": [
        {
          "output_type": "stream",
          "text": [
            "/usr/local/lib/python3.6/dist-packages/sklearn/utils/deprecation.py:144: FutureWarning: The sklearn.metrics.classification module is  deprecated in version 0.22 and will be removed in version 0.24. The corresponding classes / functions should instead be imported from sklearn.metrics. Anything that cannot be imported from sklearn.metrics is now part of the private API.\n",
            "  warnings.warn(message, FutureWarning)\n"
          ],
          "name": "stderr"
        },
        {
          "output_type": "display_data",
          "data": {
            "image/png": "[encoded data removed]",
            "text/plain": [
              "<Figure size 1080x1080 with 1 Axes>"
            ]
          },
          "metadata": {
            "tags": []
          }
        },
        {
          "output_type": "execute_result",
          "data": {
            "text/plain": [
              "<matplotlib.axes._subplots.AxesSubplot at 0x7f71d39b1a58>"
            ]
          },
          "metadata": {
            "tags": []
          },
          "execution_count": 47
        }
      ]
    },
    {
      "cell_type": "markdown",
      "metadata": {
        "id": "ziimiax9J_fY",
        "colab_type": "text"
      },
      "source": [
        "Some examples of POS Tags (via Universal Tagger)\n",
        "\n",
        "Refer: http://www.nltk.org/book/ch05.html\n",
        "![tagset](https://camo.githubusercontent.com/515359c32d2839f79bc166c07ff96fb70a0f82e5/68747470733a2f2f6d69726f2e6d656469756d2e636f6d2f6d61782f3730302f312a62444d64712d457061417232664c544e38344c6a67672e706e67)\n",
        "\n"
      ]
    },
    {
      "cell_type": "markdown",
      "metadata": {
        "id": "fjEkhRtU4WXz",
        "colab_type": "text"
      },
      "source": [
        "## Text Classification"
      ]
    },
    {
      "cell_type": "markdown",
      "metadata": {
        "id": "s9Bya6wgs5oC",
        "colab_type": "text"
      },
      "source": [
        "There is a equal number of distribution of target features:"
      ]
    },
    {
      "cell_type": "code",
      "metadata": {
        "id": "hLon2lPss5n7",
        "colab_type": "code",
        "colab": {
          "base_uri": "https://localhost:8080/",
          "height": 68
        },
        "outputId": "c7702dad-c49d-4c8d-9dbc-30f0643c026c"
      },
      "source": [
        "train[\"label\"].value_counts()"
      ],
      "execution_count": null,
      "outputs": [
        {
          "output_type": "execute_result",
          "data": {
            "text/plain": [
              "1    5004\n",
              "0    4996\n",
              "Name: label, dtype: int64"
            ]
          },
          "metadata": {
            "tags": []
          },
          "execution_count": 48
        }
      ]
    },
    {
      "cell_type": "code",
      "metadata": {
        "id": "geMdq1jVs5oA",
        "colab_type": "code",
        "colab": {
          "base_uri": "https://localhost:8080/",
          "height": 514
        },
        "outputId": "8faf4c9c-ce53-46bc-8895-34c0151a2b69"
      },
      "source": [
        "rcParams[\"figure.figsize\"] = 10,8\n",
        "sns.countplot(x = train[\"label\"])"
      ],
      "execution_count": null,
      "outputs": [
        {
          "output_type": "execute_result",
          "data": {
            "text/plain": [
              "<matplotlib.axes._subplots.AxesSubplot at 0x7f71d38b8748>"
            ]
          },
          "metadata": {
            "tags": []
          },
          "execution_count": 49
        },
        {
          "output_type": "display_data",
          "data": {
            "image/png": "[encoded data removed]",
            "text/plain": [
              "<Figure size 720x576 with 1 Axes>"
            ]
          },
          "metadata": {
            "tags": []
          }
        }
      ]
    },
    {
      "cell_type": "code",
      "metadata": {
        "id": "rCdOWbQos5oD",
        "colab_type": "code",
        "colab": {}
      },
      "source": [
        "test=test.fillna(' ')\n",
        "train=train.fillna(' ')\n",
        "test['total']=test['title']+' '+test['author']+test['text']\n",
        "train['total']=train['title']+' '+train['author']+train['text']"
      ],
      "execution_count": null,
      "outputs": []
    },
    {
      "cell_type": "code",
      "metadata": {
        "id": "DEJFF50ts5oF",
        "colab_type": "code",
        "colab": {}
      },
      "source": [
        "transformer = TfidfTransformer(smooth_idf=False)\n",
        "count_vectorizer = CountVectorizer(ngram_range=(1, 2))\n",
        "counts = count_vectorizer.fit_transform(train['total'].values)\n",
        "tfidf = transformer.fit_transform(counts)"
      ],
      "execution_count": null,
      "outputs": []
    },
    {
      "cell_type": "code",
      "metadata": {
        "id": "rQaeREaqs5oI",
        "colab_type": "code",
        "colab": {
          "base_uri": "https://localhost:8080/",
          "height": 71
        },
        "outputId": "7382e61a-980b-4334-8423-f9348e834412"
      },
      "source": [
        "targets = train['label'].values\n",
        "test_counts = count_vectorizer.transform(test['total'].values)\n",
        "test_tfidf = transformer.fit_transform(test_counts)"
      ],
      "execution_count": null,
      "outputs": [
        {
          "output_type": "stream",
          "text": [
            "/usr/local/lib/python3.6/dist-packages/sklearn/feature_extraction/text.py:1466: RuntimeWarning: divide by zero encountered in true_divide\n",
            "  idf = np.log(n_samples / df) + 1\n"
          ],
          "name": "stderr"
        }
      ]
    },
    {
      "cell_type": "code",
      "metadata": {
        "id": "-YTmEjhDs5oK",
        "colab_type": "code",
        "colab": {}
      },
      "source": [
        "from sklearn.model_selection import train_test_split\n",
        "X_train, X_test, y_train, y_test = train_test_split(tfidf, targets, random_state=0)"
      ],
      "execution_count": null,
      "outputs": []
    },
    {
      "cell_type": "code",
      "metadata": {
        "id": "nqMuFXy5s5oN",
        "colab_type": "code",
        "colab": {
          "base_uri": "https://localhost:8080/",
          "height": 51
        },
        "outputId": "0758bae4-f277-429a-dcc1-d3a5d8e3bbd4"
      },
      "source": [
        "Extr = ExtraTreesClassifier(n_estimators=5,n_jobs=4)\n",
        "Extr.fit(X_train, y_train)\n",
        "print('Accuracy of ExtrTrees classifier on training set: {:.2f}'\n",
        "     .format(Extr.score(X_train, y_train)))\n",
        "print('Accuracy of Extratrees classifier on test set: {:.2f}'\n",
        "     .format(Extr.score(X_test, y_test)))"
      ],
      "execution_count": null,
      "outputs": [
        {
          "output_type": "stream",
          "text": [
            "Accuracy of ExtrTrees classifier on training set: 1.00\n",
            "Accuracy of Extratrees classifier on test set: 0.81\n"
          ],
          "name": "stdout"
        }
      ]
    },
    {
      "cell_type": "code",
      "metadata": {
        "id": "dcvPebDis5oP",
        "colab_type": "code",
        "colab": {
          "base_uri": "https://localhost:8080/",
          "height": 51
        },
        "outputId": "9a9c26bd-45a2-4528-dae4-4398c5ac82a6"
      },
      "source": [
        "from sklearn.tree import DecisionTreeClassifier\n",
        "\n",
        "Adab= AdaBoostClassifier(DecisionTreeClassifier(max_depth=3),n_estimators=5)\n",
        "Adab.fit(X_train, y_train)\n",
        "print('Accuracy of Adaboost classifier on training set: {:.2f}'\n",
        "     .format(Adab.score(X_train, y_train)))\n",
        "print('Accuracy of Adaboost classifier on test set: {:.2f}'\n",
        "     .format(Adab.score(X_test, y_test)))\n"
      ],
      "execution_count": null,
      "outputs": [
        {
          "output_type": "stream",
          "text": [
            "Accuracy of Adaboost classifier on training set: 0.97\n",
            "Accuracy of Adaboost classifier on test set: 0.95\n"
          ],
          "name": "stdout"
        }
      ]
    },
    {
      "cell_type": "code",
      "metadata": {
        "id": "qU8zFlGIs5oR",
        "colab_type": "code",
        "colab": {},
        "outputId": "0a5e402b-2605-442d-ee03-9e0707441d99"
      },
      "source": [
        "Rando= RandomForestClassifier(n_estimators=5)\n",
        "\n",
        "Rando.fit(X_train, y_train)\n",
        "print('Accuracy of randomforest classifier on training set: {:.2f}'\n",
        "     .format(Rando.score(X_train, y_train)))\n",
        "print('Accuracy of randomforest classifier on test set: {:.2f}'\n",
        "     .format(Rando.score(X_test, y_test)))\n",
        "\n"
      ],
      "execution_count": null,
      "outputs": [
        {
          "output_type": "stream",
          "text": [
            "Accuracy of randomforest classifier on training set: 0.98\n",
            "Accuracy of randomforest classifier on test set: 0.82\n"
          ],
          "name": "stdout"
        }
      ]
    },
    {
      "cell_type": "code",
      "metadata": {
        "id": "yIbAYg4es5oU",
        "colab_type": "code",
        "colab": {},
        "outputId": "3c98f4fa-b11c-418e-c058-dd4feb041ee9"
      },
      "source": [
        "from sklearn.naive_bayes import MultinomialNB\n",
        "\n",
        "NB = MultinomialNB()\n",
        "NB.fit(X_train, y_train)\n",
        "print('Accuracy of NB  classifier on training set: {:.2f}'\n",
        "     .format(NB.score(X_train, y_train)))\n",
        "print('Accuracy of NB classifier on test set: {:.2f}'\n",
        "     .format(NB.score(X_test, y_test)))"
      ],
      "execution_count": null,
      "outputs": [
        {
          "output_type": "stream",
          "text": [
            "Accuracy of NB  classifier on training set: 0.88\n",
            "Accuracy of NB classifier on test set: 0.78\n"
          ],
          "name": "stdout"
        }
      ]
    },
    {
      "cell_type": "code",
      "metadata": {
        "id": "Au8Wzcm0s5oW",
        "colab_type": "code",
        "colab": {},
        "outputId": "8f5c1f57-41b6-4cb0-97e0-2991c8925d9a"
      },
      "source": [
        "\n",
        "\n",
        "from sklearn.linear_model import LogisticRegression\n",
        "logreg = LogisticRegression(C=1e5)\n",
        "logreg.fit(X_train, y_train)\n",
        "print('Accuracy of Lasso classifier on training set: {:.2f}'\n",
        "     .format(logreg.score(X_train, y_train)))\n",
        "print('Accuracy of Lasso classifier on test set: {:.2f}'\n",
        "     .format(logreg.score(X_test, y_test)))\n",
        "\n"
      ],
      "execution_count": null,
      "outputs": [
        {
          "output_type": "stream",
          "text": [
            "/opt/conda/lib/python3.7/site-packages/sklearn/linear_model/_logistic.py:764: ConvergenceWarning: lbfgs failed to converge (status=1):\n",
            "STOP: TOTAL NO. of ITERATIONS REACHED LIMIT.\n",
            "\n",
            "Increase the number of iterations (max_iter) or scale the data as shown in:\n",
            "    https://scikit-learn.org/stable/modules/preprocessing.html\n",
            "Please also refer to the documentation for alternative solver options:\n",
            "    https://scikit-learn.org/stable/modules/linear_model.html#logistic-regression\n",
            "  extra_warning_msg=_LOGISTIC_SOLVER_CONVERGENCE_MSG)\n"
          ],
          "name": "stderr"
        },
        {
          "output_type": "stream",
          "text": [
            "Accuracy of Lasso classifier on training set: 1.00\n",
            "Accuracy of Lasso classifier on test set: 0.98\n"
          ],
          "name": "stdout"
        }
      ]
    },
    {
      "cell_type": "code",
      "metadata": {
        "id": "6DZE1KQ7s5oZ",
        "colab_type": "code",
        "colab": {},
        "outputId": "d959024c-769a-4722-cc90-117412215125"
      },
      "source": [
        "\n",
        "\n",
        "targets = train['label'].values\n",
        "logreg = LogisticRegression()\n",
        "logreg.fit(counts, targets)\n",
        "\n",
        "example_counts = count_vectorizer.transform(test['total'].values)\n",
        "predictions = logreg.predict(example_counts)\n",
        "pred=pd.DataFrame(predictions,columns=['label'])\n",
        "pred['id']=test['id']\n",
        "pred.groupby('label').count()\n",
        "\n"
      ],
      "execution_count": null,
      "outputs": [
        {
          "output_type": "stream",
          "text": [
            "/opt/conda/lib/python3.7/site-packages/sklearn/linear_model/_logistic.py:764: ConvergenceWarning: lbfgs failed to converge (status=1):\n",
            "STOP: TOTAL NO. of ITERATIONS REACHED LIMIT.\n",
            "\n",
            "Increase the number of iterations (max_iter) or scale the data as shown in:\n",
            "    https://scikit-learn.org/stable/modules/preprocessing.html\n",
            "Please also refer to the documentation for alternative solver options:\n",
            "    https://scikit-learn.org/stable/modules/linear_model.html#logistic-regression\n",
            "  extra_warning_msg=_LOGISTIC_SOLVER_CONVERGENCE_MSG)\n"
          ],
          "name": "stderr"
        },
        {
          "output_type": "execute_result",
          "data": {
            "text/html": [
              "<div>\n",
              "<style scoped>\n",
              "    .dataframe tbody tr th:only-of-type {\n",
              "        vertical-align: middle;\n",
              "    }\n",
              "\n",
              "    .dataframe tbody tr th {\n",
              "        vertical-align: top;\n",
              "    }\n",
              "\n",
              "    .dataframe thead th {\n",
              "        text-align: right;\n",
              "    }\n",
              "</style>\n",
              "<table border=\"1\" class=\"dataframe\">\n",
              "  <thead>\n",
              "    <tr style=\"text-align: right;\">\n",
              "      <th></th>\n",
              "      <th>id</th>\n",
              "    </tr>\n",
              "    <tr>\n",
              "      <th>label</th>\n",
              "      <th></th>\n",
              "    </tr>\n",
              "  </thead>\n",
              "  <tbody>\n",
              "    <tr>\n",
              "      <th>0</th>\n",
              "      <td>2601</td>\n",
              "    </tr>\n",
              "    <tr>\n",
              "      <th>1</th>\n",
              "      <td>2599</td>\n",
              "    </tr>\n",
              "  </tbody>\n",
              "</table>\n",
              "</div>"
            ],
            "text/plain": [
              "         id\n",
              "label      \n",
              "0      2601\n",
              "1      2599"
            ]
          },
          "metadata": {
            "tags": []
          },
          "execution_count": 16
        }
      ]
    },
    {
      "cell_type": "code",
      "metadata": {
        "id": "qgPT-loks5ob",
        "colab_type": "code",
        "colab": {}
      },
      "source": [
        "pred.to_csv('countvect5.csv', index=False)"
      ],
      "execution_count": null,
      "outputs": []
    },
    {
      "cell_type": "markdown",
      "metadata": {
        "id": "ACcwxmcb4UPm",
        "colab_type": "text"
      },
      "source": [
        "## Resources"
      ]
    },
    {
      "cell_type": "markdown",
      "metadata": {
        "id": "j1y0HfKd44i8",
        "colab_type": "text"
      },
      "source": [
        "- https://www.kaggle.com/vpkprasanna/basemodel-logistic-and-eda"
      ]
    }
  ]
}