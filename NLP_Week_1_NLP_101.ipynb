{
  "cells": [
    {
      "cell_type": "markdown",
      "metadata": {
        "id": "view-in-github",
        "colab_type": "text"
      },
      "source": [
        "<a href=\"https://colab.research.google.com/github/ABDA48/WWCodeDataScience/blob/master/NLP_Week_1_NLP_101.ipynb\" target=\"_parent\"><img src=\"https://colab.research.google.com/assets/colab-badge.svg\" alt=\"Open In Colab\"/></a>"
      ]
    },
    {
      "cell_type": "markdown",
      "metadata": {
        "id": "Ob5fTzLcJSnj"
      },
      "source": [
        "# Intro to NLP (Natural Language Processing): Week 1 - NLP 101"
      ]
    },
    {
      "cell_type": "markdown",
      "metadata": {
        "id": "Pa8jvj1LLEL9"
      },
      "source": [
        "## EDA (Exploratory Data Analysis)\n",
        "\n",
        "\"Exploratory Data Analysis is the process of exploring data, generating insights, testing hypotheses, checking assumptions and revealing underlying hidden patterns in the data\".\n",
        "\n",
        "Through these goals, we can get a basic description of the data, visualize it, identify pattern in it, identify potential challenges of using the data, etc."
      ]
    },
    {
      "cell_type": "markdown",
      "metadata": {
        "id": "OOqsBpPeRDOY"
      },
      "source": [
        "A website with a wealth of datasets is the UCI Machine Learning repository (https://archive.ics.uci.edu/ml/index.php). One of these is the SMS Spam Collection Data Set, which is a public collection of SMS labeled messages that have been collected for mobile phone spam search. \n",
        "\n",
        "Note: refer to this website for more information on the dataset: https://archive.ics.uci.edu/ml/datasets/sms+spam+collection. \n",
        "\n",
        "\n",
        "\n"
      ]
    },
    {
      "cell_type": "markdown",
      "metadata": {
        "id": "OAiKbrhvTvBD"
      },
      "source": [
        "The dataset (zip file) can be downloaded from this URL -- https://archive.ics.uci.edu/ml/machine-learning-databases/00228/. \n",
        "\n",
        "Steps to access, download, and use the dataset:\n",
        "\n",
        "\n",
        "1.   Access the above link, click on \"smsspamcollection.zip\" to download the dataset. \n",
        "2.   Once downloaded, click on the zipped folder to compress it.\n",
        "3.   Save this folder to a location on your computer that you will remember, such as \"Documents\".\n",
        "4.   Navigate to the file system in the pane to the left, and upload the dataset folder here. \n",
        "5.   We will next access this dataset to load it in and start EDA and pre-processing! It is located at: '/content/SMSSpamCollection'"
      ]
    },
    {
      "cell_type": "markdown",
      "metadata": {
        "id": "qawQEVyTLHPR"
      },
      "source": [
        "Before we start exploring the data, we must first load in the data. You may be familiar with this, but the Pandas library actually makes this a simple task."
      ]
    },
    {
      "cell_type": "markdown",
      "metadata": {
        "id": "kq7zWODDLXQz"
      },
      "source": [
        "First, you import the Pandas package as pd. "
      ]
    },
    {
      "cell_type": "code",
      "execution_count": 43,
      "metadata": {
        "collapsed": true,
        "id": "ExCELPIgLXet"
      },
      "outputs": [],
      "source": [
        "import pandas as pd"
      ]
    },
    {
      "cell_type": "markdown",
      "metadata": {
        "id": "6RtrI7ECLdI5"
      },
      "source": [
        "And then, we use the read_csv() function for loading in the data. We pass into this function the URL in which the data can be found. To make it easier to work with the data in the future, we will name it by assigning it to a variable (digits in this case). \n",
        "\n",
        "Note: we use \"header = None\" here so that the first row of our data will not be interpreted as the column names of the data frame."
      ]
    },
    {
      "cell_type": "code",
      "execution_count": 44,
      "metadata": {
        "collapsed": true,
        "id": "DlCiEGN0Lddx"
      },
      "outputs": [],
      "source": [
        "sms = pd.read_table('/content/SMSSpamCollection', header=None)"
      ]
    },
    {
      "cell_type": "markdown",
      "metadata": {
        "id": "JMkq2sXeL41o"
      },
      "source": [
        "In order to see what data we loaded in, we can simply do this below:"
      ]
    },
    {
      "cell_type": "code",
      "execution_count": 45,
      "metadata": {
        "id": "654CaLnWL5Jz",
        "colab": {
          "base_uri": "https://localhost:8080/"
        },
        "outputId": "12f6025b-7b1b-4b61-a3ba-30d16337ae1c"
      },
      "outputs": [
        {
          "output_type": "stream",
          "name": "stdout",
          "text": [
            "         0                                                  1\n",
            "0      ham  Go until jurong point, crazy.. Available only ...\n",
            "1      ham                      Ok lar... Joking wif u oni...\n",
            "2     spam  Free entry in 2 a wkly comp to win FA Cup fina...\n",
            "3      ham  U dun say so early hor... U c already then say...\n",
            "4      ham  Nah I don't think he goes to usf, he lives aro...\n",
            "...    ...                                                ...\n",
            "5567  spam  This is the 2nd time we have tried 2 contact u...\n",
            "5568   ham               Will ü b going to esplanade fr home?\n",
            "5569   ham  Pity, * was in mood for that. So...any other s...\n",
            "5570   ham  The guy did some bitching but I acted like i'd...\n",
            "5571   ham                         Rofl. Its true to its name\n",
            "\n",
            "[5572 rows x 2 columns]\n"
          ]
        }
      ],
      "source": [
        "print(sms)"
      ]
    },
    {
      "cell_type": "code",
      "execution_count": 46,
      "metadata": {
        "id": "cjrs6YChqCsg",
        "colab": {
          "base_uri": "https://localhost:8080/",
          "height": 206
        },
        "outputId": "c42516dd-f01c-4ace-fc72-b34ef9fb264c"
      },
      "outputs": [
        {
          "output_type": "execute_result",
          "data": {
            "text/plain": [
              "      0                                                  1\n",
              "0   ham  Go until jurong point, crazy.. Available only ...\n",
              "1   ham                      Ok lar... Joking wif u oni...\n",
              "2  spam  Free entry in 2 a wkly comp to win FA Cup fina...\n",
              "3   ham  U dun say so early hor... U c already then say...\n",
              "4   ham  Nah I don't think he goes to usf, he lives aro..."
            ],
            "text/html": [
              "\n",
              "  <div id=\"df-5dc87817-d7e7-42c0-a64e-7754975a6695\">\n",
              "    <div class=\"colab-df-container\">\n",
              "      <div>\n",
              "<style scoped>\n",
              "    .dataframe tbody tr th:only-of-type {\n",
              "        vertical-align: middle;\n",
              "    }\n",
              "\n",
              "    .dataframe tbody tr th {\n",
              "        vertical-align: top;\n",
              "    }\n",
              "\n",
              "    .dataframe thead th {\n",
              "        text-align: right;\n",
              "    }\n",
              "</style>\n",
              "<table border=\"1\" class=\"dataframe\">\n",
              "  <thead>\n",
              "    <tr style=\"text-align: right;\">\n",
              "      <th></th>\n",
              "      <th>0</th>\n",
              "      <th>1</th>\n",
              "    </tr>\n",
              "  </thead>\n",
              "  <tbody>\n",
              "    <tr>\n",
              "      <th>0</th>\n",
              "      <td>ham</td>\n",
              "      <td>Go until jurong point, crazy.. Available only ...</td>\n",
              "    </tr>\n",
              "    <tr>\n",
              "      <th>1</th>\n",
              "      <td>ham</td>\n",
              "      <td>Ok lar... Joking wif u oni...</td>\n",
              "    </tr>\n",
              "    <tr>\n",
              "      <th>2</th>\n",
              "      <td>spam</td>\n",
              "      <td>Free entry in 2 a wkly comp to win FA Cup fina...</td>\n",
              "    </tr>\n",
              "    <tr>\n",
              "      <th>3</th>\n",
              "      <td>ham</td>\n",
              "      <td>U dun say so early hor... U c already then say...</td>\n",
              "    </tr>\n",
              "    <tr>\n",
              "      <th>4</th>\n",
              "      <td>ham</td>\n",
              "      <td>Nah I don't think he goes to usf, he lives aro...</td>\n",
              "    </tr>\n",
              "  </tbody>\n",
              "</table>\n",
              "</div>\n",
              "      <button class=\"colab-df-convert\" onclick=\"convertToInteractive('df-5dc87817-d7e7-42c0-a64e-7754975a6695')\"\n",
              "              title=\"Convert this dataframe to an interactive table.\"\n",
              "              style=\"display:none;\">\n",
              "        \n",
              "  <svg xmlns=\"http://www.w3.org/2000/svg\" height=\"24px\"viewBox=\"0 0 24 24\"\n",
              "       width=\"24px\">\n",
              "    <path d=\"M0 0h24v24H0V0z\" fill=\"none\"/>\n",
              "    <path d=\"M18.56 5.44l.94 2.06.94-2.06 2.06-.94-2.06-.94-.94-2.06-.94 2.06-2.06.94zm-11 1L8.5 8.5l.94-2.06 2.06-.94-2.06-.94L8.5 2.5l-.94 2.06-2.06.94zm10 10l.94 2.06.94-2.06 2.06-.94-2.06-.94-.94-2.06-.94 2.06-2.06.94z\"/><path d=\"M17.41 7.96l-1.37-1.37c-.4-.4-.92-.59-1.43-.59-.52 0-1.04.2-1.43.59L10.3 9.45l-7.72 7.72c-.78.78-.78 2.05 0 2.83L4 21.41c.39.39.9.59 1.41.59.51 0 1.02-.2 1.41-.59l7.78-7.78 2.81-2.81c.8-.78.8-2.07 0-2.86zM5.41 20L4 18.59l7.72-7.72 1.47 1.35L5.41 20z\"/>\n",
              "  </svg>\n",
              "      </button>\n",
              "      \n",
              "  <style>\n",
              "    .colab-df-container {\n",
              "      display:flex;\n",
              "      flex-wrap:wrap;\n",
              "      gap: 12px;\n",
              "    }\n",
              "\n",
              "    .colab-df-convert {\n",
              "      background-color: #E8F0FE;\n",
              "      border: none;\n",
              "      border-radius: 50%;\n",
              "      cursor: pointer;\n",
              "      display: none;\n",
              "      fill: #1967D2;\n",
              "      height: 32px;\n",
              "      padding: 0 0 0 0;\n",
              "      width: 32px;\n",
              "    }\n",
              "\n",
              "    .colab-df-convert:hover {\n",
              "      background-color: #E2EBFA;\n",
              "      box-shadow: 0px 1px 2px rgba(60, 64, 67, 0.3), 0px 1px 3px 1px rgba(60, 64, 67, 0.15);\n",
              "      fill: #174EA6;\n",
              "    }\n",
              "\n",
              "    [theme=dark] .colab-df-convert {\n",
              "      background-color: #3B4455;\n",
              "      fill: #D2E3FC;\n",
              "    }\n",
              "\n",
              "    [theme=dark] .colab-df-convert:hover {\n",
              "      background-color: #434B5C;\n",
              "      box-shadow: 0px 1px 3px 1px rgba(0, 0, 0, 0.15);\n",
              "      filter: drop-shadow(0px 1px 2px rgba(0, 0, 0, 0.3));\n",
              "      fill: #FFFFFF;\n",
              "    }\n",
              "  </style>\n",
              "\n",
              "      <script>\n",
              "        const buttonEl =\n",
              "          document.querySelector('#df-5dc87817-d7e7-42c0-a64e-7754975a6695 button.colab-df-convert');\n",
              "        buttonEl.style.display =\n",
              "          google.colab.kernel.accessAllowed ? 'block' : 'none';\n",
              "\n",
              "        async function convertToInteractive(key) {\n",
              "          const element = document.querySelector('#df-5dc87817-d7e7-42c0-a64e-7754975a6695');\n",
              "          const dataTable =\n",
              "            await google.colab.kernel.invokeFunction('convertToInteractive',\n",
              "                                                     [key], {});\n",
              "          if (!dataTable) return;\n",
              "\n",
              "          const docLinkHtml = 'Like what you see? Visit the ' +\n",
              "            '<a target=\"_blank\" href=https://colab.research.google.com/notebooks/data_table.ipynb>data table notebook</a>'\n",
              "            + ' to learn more about interactive tables.';\n",
              "          element.innerHTML = '';\n",
              "          dataTable['output_type'] = 'display_data';\n",
              "          await google.colab.output.renderOutput(dataTable, element);\n",
              "          const docLink = document.createElement('div');\n",
              "          docLink.innerHTML = docLinkHtml;\n",
              "          element.appendChild(docLink);\n",
              "        }\n",
              "      </script>\n",
              "    </div>\n",
              "  </div>\n",
              "  "
            ]
          },
          "metadata": {},
          "execution_count": 46
        }
      ],
      "source": [
        "sms.head()"
      ]
    },
    {
      "cell_type": "markdown",
      "metadata": {
        "id": "zEDEHD0oJXzD"
      },
      "source": [
        "### Describe the data"
      ]
    },
    {
      "cell_type": "markdown",
      "metadata": {
        "id": "QISsuHR5Mlj_"
      },
      "source": [
        "One of the most elementary steps to do this is by getting a basic description of your data. A basic description of your data is indeed a very broad term: you can interpret it as a quick and dirty way to get some information on your data, as a way of getting some simple, easy-to-understand information on your data, to get a basic feel for your data, etc"
      ]
    },
    {
      "cell_type": "markdown",
      "metadata": {
        "id": "Q7GI-NSJMypB"
      },
      "source": [
        "To begin, we can use the describe() function to obtain various summary statistics that exclude NaN values. We can refer back to our digits data and understand it a bit better."
      ]
    },
    {
      "cell_type": "code",
      "execution_count": 47,
      "metadata": {
        "id": "rpzktpYPLIei",
        "colab": {
          "base_uri": "https://localhost:8080/"
        },
        "outputId": "12b53583-20ea-4185-ce5b-bff72bd62d3f"
      },
      "outputs": [
        {
          "output_type": "stream",
          "name": "stderr",
          "text": [
            "[nltk_data] Downloading package omw-1.4 to /root/nltk_data...\n",
            "[nltk_data]   Package omw-1.4 is already up-to-date!\n"
          ]
        },
        {
          "output_type": "execute_result",
          "data": {
            "text/plain": [
              "True"
            ]
          },
          "metadata": {},
          "execution_count": 47
        }
      ],
      "source": [
        "sms.describe()\n",
        "nltk.download('omw-1.4')"
      ]
    },
    {
      "cell_type": "markdown",
      "metadata": {
        "id": "ucNsl21IM_W4"
      },
      "source": [
        "You see that this function returns the count, mean, standard deviation, minimum and maximum values and the quantiles of the data. Note that, of course, there are many packages available in Python that can give you those statistics, including Pandas itself. Using this function is just one of the ways to get this information. You can use these descriptive statistics to begin to assess the quality of your data. Then you’ll be able to decide whether you need to correct, discard or deal with the data in anohter way."
      ]
    },
    {
      "cell_type": "markdown",
      "metadata": {
        "id": "AyubgQxRK7aU"
      },
      "source": [
        "### Data Info"
      ]
    },
    {
      "cell_type": "markdown",
      "metadata": {
        "id": "xoBb6vu9NLbz"
      },
      "source": [
        "Here, we have a collection of text data known as a corpus. Specifically, there are 5,572 SMS messages written in English, serving as training examples. The first column is the target variable containing the class labels, which tells us if the message is spam or ham (aka not spam). The second column is the SMS message itself, stored as a string."
      ]
    },
    {
      "cell_type": "markdown",
      "metadata": {
        "id": "CM6wT7MWWLdG"
      },
      "source": [
        "Since the target variable contains discrete values, this is a **classification** task. Let's start by placing the target variable in its own table and checking out how the two classes are distributed."
      ]
    },
    {
      "cell_type": "code",
      "execution_count": 48,
      "metadata": {
        "id": "AL77rJf7NfVW",
        "colab": {
          "base_uri": "https://localhost:8080/"
        },
        "outputId": "12e428bd-8d32-4bfa-de16-8f0aac07f8a7"
      },
      "outputs": [
        {
          "output_type": "execute_result",
          "data": {
            "text/plain": [
              "ham     4825\n",
              "spam     747\n",
              "Name: 0, dtype: int64"
            ]
          },
          "metadata": {},
          "execution_count": 48
        }
      ],
      "source": [
        "y = sms[0]\n",
        "y.value_counts()"
      ]
    },
    {
      "cell_type": "markdown",
      "metadata": {
        "id": "TPrTvN3mNNOq"
      },
      "source": [
        "It looks like there are far fewer training examples for spam than ham—we'll take this imbalance into account in the analysis."
      ]
    },
    {
      "cell_type": "markdown",
      "metadata": {
        "id": "m8CwsiEsWdD-"
      },
      "source": [
        "In addition, we need to encode the class labels in the target variable as numbers to ensure compatibility with some models in Scikit-learn. Because we have binary classes, let's use LabelEncoder and set 'spam' = 1 and 'ham' = 0."
      ]
    },
    {
      "cell_type": "markdown",
      "metadata": {
        "id": "08MzZah8XI4e"
      },
      "source": [
        "LabelEncoder is a function of scikit learn's preprocessing capabilities, which helps to encode target labsls with values between 0 and the (# of classes) - 1. \n",
        "\n",
        "Note: Refer to this website for more information (https://scikit-learn.org/stable/modules/generated/sklearn.preprocessing.LabelEncoder.html)"
      ]
    },
    {
      "cell_type": "code",
      "execution_count": 49,
      "metadata": {
        "collapsed": true,
        "id": "PJxyWauaXInG"
      },
      "outputs": [],
      "source": [
        "from sklearn import preprocessing"
      ]
    },
    {
      "cell_type": "code",
      "execution_count": 50,
      "metadata": {
        "collapsed": true,
        "id": "nWm_nsPzLFlN"
      },
      "outputs": [],
      "source": [
        "le = preprocessing.LabelEncoder()\n",
        "y_enc = le.fit_transform(y)"
      ]
    },
    {
      "cell_type": "code",
      "execution_count": 51,
      "metadata": {
        "id": "NtX_JCKBXjZ7",
        "colab": {
          "base_uri": "https://localhost:8080/"
        },
        "outputId": "c9b186ac-ddbe-45ad-eae9-cb8e4ef1838a"
      },
      "outputs": [
        {
          "output_type": "execute_result",
          "data": {
            "text/plain": [
              "array([0, 0, 1, ..., 0, 0, 0])"
            ]
          },
          "metadata": {},
          "execution_count": 51
        }
      ],
      "source": [
        "y_enc"
      ]
    },
    {
      "cell_type": "markdown",
      "metadata": {
        "id": "nxdAQXrjWkr1"
      },
      "source": [
        "Next, we place the SMS message data into its own table. We must convert this corpus into useful numerical features so we can train this classifier and this is where NLP works its magic!"
      ]
    },
    {
      "cell_type": "code",
      "execution_count": 52,
      "metadata": {
        "collapsed": true,
        "id": "1PYEcisJW8zG"
      },
      "outputs": [],
      "source": [
        "raw_text = sms[1]"
      ]
    },
    {
      "cell_type": "code",
      "execution_count": 53,
      "metadata": {
        "id": "b6UsVe0OW69q",
        "colab": {
          "base_uri": "https://localhost:8080/"
        },
        "outputId": "e5962aa0-c281-43d6-fa7e-dba4c80c2763"
      },
      "outputs": [
        {
          "output_type": "execute_result",
          "data": {
            "text/plain": [
              "0       Go until jurong point, crazy.. Available only ...\n",
              "1                           Ok lar... Joking wif u oni...\n",
              "2       Free entry in 2 a wkly comp to win FA Cup fina...\n",
              "3       U dun say so early hor... U c already then say...\n",
              "4       Nah I don't think he goes to usf, he lives aro...\n",
              "                              ...                        \n",
              "5567    This is the 2nd time we have tried 2 contact u...\n",
              "5568                 Will ü b going to esplanade fr home?\n",
              "5569    Pity, * was in mood for that. So...any other s...\n",
              "5570    The guy did some bitching but I acted like i'd...\n",
              "5571                           Rofl. Its true to its name\n",
              "Name: 1, Length: 5572, dtype: object"
            ]
          },
          "metadata": {},
          "execution_count": 53
        }
      ],
      "source": [
        "raw_text"
      ]
    },
    {
      "cell_type": "markdown",
      "metadata": {
        "id": "CIdoXqLaPY7O"
      },
      "source": [
        "Another important part of any dataset is missing values. When this happens, the dataset can lose expressiveness, which may lead to weak or at times biased analyses. Practically, this means that when you’re missing values for certain features, the chances of your classification or predictions for the data being off only increase."
      ]
    },
    {
      "cell_type": "markdown",
      "metadata": {
        "id": "iwXB_McsPjqC"
      },
      "source": [
        "To identify the rows that contain missing values, you can use isnull(). In the result that you’ll get back, you’ll see True or False appearing in each cell: True will indicate that the value contained within the cell is a missing value, False means that the cell contains a ‘normal’ value."
      ]
    },
    {
      "cell_type": "code",
      "execution_count": 54,
      "metadata": {
        "id": "gvdbliy1PkCt",
        "colab": {
          "base_uri": "https://localhost:8080/",
          "height": 424
        },
        "outputId": "846ac625-d863-4e83-8789-443ee0b2ed40"
      },
      "outputs": [
        {
          "output_type": "execute_result",
          "data": {
            "text/plain": [
              "          0      1\n",
              "0     False  False\n",
              "1     False  False\n",
              "2     False  False\n",
              "3     False  False\n",
              "4     False  False\n",
              "...     ...    ...\n",
              "5567  False  False\n",
              "5568  False  False\n",
              "5569  False  False\n",
              "5570  False  False\n",
              "5571  False  False\n",
              "\n",
              "[5572 rows x 2 columns]"
            ],
            "text/html": [
              "\n",
              "  <div id=\"df-e58a6f3f-20d0-49fc-819c-0b859c895f9a\">\n",
              "    <div class=\"colab-df-container\">\n",
              "      <div>\n",
              "<style scoped>\n",
              "    .dataframe tbody tr th:only-of-type {\n",
              "        vertical-align: middle;\n",
              "    }\n",
              "\n",
              "    .dataframe tbody tr th {\n",
              "        vertical-align: top;\n",
              "    }\n",
              "\n",
              "    .dataframe thead th {\n",
              "        text-align: right;\n",
              "    }\n",
              "</style>\n",
              "<table border=\"1\" class=\"dataframe\">\n",
              "  <thead>\n",
              "    <tr style=\"text-align: right;\">\n",
              "      <th></th>\n",
              "      <th>0</th>\n",
              "      <th>1</th>\n",
              "    </tr>\n",
              "  </thead>\n",
              "  <tbody>\n",
              "    <tr>\n",
              "      <th>0</th>\n",
              "      <td>False</td>\n",
              "      <td>False</td>\n",
              "    </tr>\n",
              "    <tr>\n",
              "      <th>1</th>\n",
              "      <td>False</td>\n",
              "      <td>False</td>\n",
              "    </tr>\n",
              "    <tr>\n",
              "      <th>2</th>\n",
              "      <td>False</td>\n",
              "      <td>False</td>\n",
              "    </tr>\n",
              "    <tr>\n",
              "      <th>3</th>\n",
              "      <td>False</td>\n",
              "      <td>False</td>\n",
              "    </tr>\n",
              "    <tr>\n",
              "      <th>4</th>\n",
              "      <td>False</td>\n",
              "      <td>False</td>\n",
              "    </tr>\n",
              "    <tr>\n",
              "      <th>...</th>\n",
              "      <td>...</td>\n",
              "      <td>...</td>\n",
              "    </tr>\n",
              "    <tr>\n",
              "      <th>5567</th>\n",
              "      <td>False</td>\n",
              "      <td>False</td>\n",
              "    </tr>\n",
              "    <tr>\n",
              "      <th>5568</th>\n",
              "      <td>False</td>\n",
              "      <td>False</td>\n",
              "    </tr>\n",
              "    <tr>\n",
              "      <th>5569</th>\n",
              "      <td>False</td>\n",
              "      <td>False</td>\n",
              "    </tr>\n",
              "    <tr>\n",
              "      <th>5570</th>\n",
              "      <td>False</td>\n",
              "      <td>False</td>\n",
              "    </tr>\n",
              "    <tr>\n",
              "      <th>5571</th>\n",
              "      <td>False</td>\n",
              "      <td>False</td>\n",
              "    </tr>\n",
              "  </tbody>\n",
              "</table>\n",
              "<p>5572 rows × 2 columns</p>\n",
              "</div>\n",
              "      <button class=\"colab-df-convert\" onclick=\"convertToInteractive('df-e58a6f3f-20d0-49fc-819c-0b859c895f9a')\"\n",
              "              title=\"Convert this dataframe to an interactive table.\"\n",
              "              style=\"display:none;\">\n",
              "        \n",
              "  <svg xmlns=\"http://www.w3.org/2000/svg\" height=\"24px\"viewBox=\"0 0 24 24\"\n",
              "       width=\"24px\">\n",
              "    <path d=\"M0 0h24v24H0V0z\" fill=\"none\"/>\n",
              "    <path d=\"M18.56 5.44l.94 2.06.94-2.06 2.06-.94-2.06-.94-.94-2.06-.94 2.06-2.06.94zm-11 1L8.5 8.5l.94-2.06 2.06-.94-2.06-.94L8.5 2.5l-.94 2.06-2.06.94zm10 10l.94 2.06.94-2.06 2.06-.94-2.06-.94-.94-2.06-.94 2.06-2.06.94z\"/><path d=\"M17.41 7.96l-1.37-1.37c-.4-.4-.92-.59-1.43-.59-.52 0-1.04.2-1.43.59L10.3 9.45l-7.72 7.72c-.78.78-.78 2.05 0 2.83L4 21.41c.39.39.9.59 1.41.59.51 0 1.02-.2 1.41-.59l7.78-7.78 2.81-2.81c.8-.78.8-2.07 0-2.86zM5.41 20L4 18.59l7.72-7.72 1.47 1.35L5.41 20z\"/>\n",
              "  </svg>\n",
              "      </button>\n",
              "      \n",
              "  <style>\n",
              "    .colab-df-container {\n",
              "      display:flex;\n",
              "      flex-wrap:wrap;\n",
              "      gap: 12px;\n",
              "    }\n",
              "\n",
              "    .colab-df-convert {\n",
              "      background-color: #E8F0FE;\n",
              "      border: none;\n",
              "      border-radius: 50%;\n",
              "      cursor: pointer;\n",
              "      display: none;\n",
              "      fill: #1967D2;\n",
              "      height: 32px;\n",
              "      padding: 0 0 0 0;\n",
              "      width: 32px;\n",
              "    }\n",
              "\n",
              "    .colab-df-convert:hover {\n",
              "      background-color: #E2EBFA;\n",
              "      box-shadow: 0px 1px 2px rgba(60, 64, 67, 0.3), 0px 1px 3px 1px rgba(60, 64, 67, 0.15);\n",
              "      fill: #174EA6;\n",
              "    }\n",
              "\n",
              "    [theme=dark] .colab-df-convert {\n",
              "      background-color: #3B4455;\n",
              "      fill: #D2E3FC;\n",
              "    }\n",
              "\n",
              "    [theme=dark] .colab-df-convert:hover {\n",
              "      background-color: #434B5C;\n",
              "      box-shadow: 0px 1px 3px 1px rgba(0, 0, 0, 0.15);\n",
              "      filter: drop-shadow(0px 1px 2px rgba(0, 0, 0, 0.3));\n",
              "      fill: #FFFFFF;\n",
              "    }\n",
              "  </style>\n",
              "\n",
              "      <script>\n",
              "        const buttonEl =\n",
              "          document.querySelector('#df-e58a6f3f-20d0-49fc-819c-0b859c895f9a button.colab-df-convert');\n",
              "        buttonEl.style.display =\n",
              "          google.colab.kernel.accessAllowed ? 'block' : 'none';\n",
              "\n",
              "        async function convertToInteractive(key) {\n",
              "          const element = document.querySelector('#df-e58a6f3f-20d0-49fc-819c-0b859c895f9a');\n",
              "          const dataTable =\n",
              "            await google.colab.kernel.invokeFunction('convertToInteractive',\n",
              "                                                     [key], {});\n",
              "          if (!dataTable) return;\n",
              "\n",
              "          const docLinkHtml = 'Like what you see? Visit the ' +\n",
              "            '<a target=\"_blank\" href=https://colab.research.google.com/notebooks/data_table.ipynb>data table notebook</a>'\n",
              "            + ' to learn more about interactive tables.';\n",
              "          element.innerHTML = '';\n",
              "          dataTable['output_type'] = 'display_data';\n",
              "          await google.colab.output.renderOutput(dataTable, element);\n",
              "          const docLink = document.createElement('div');\n",
              "          docLink.innerHTML = docLinkHtml;\n",
              "          element.appendChild(docLink);\n",
              "        }\n",
              "      </script>\n",
              "    </div>\n",
              "  </div>\n",
              "  "
            ]
          },
          "metadata": {},
          "execution_count": 54
        }
      ],
      "source": [
        "pd.isnull(sms)"
      ]
    },
    {
      "cell_type": "markdown",
      "metadata": {
        "id": "xHLGVRvBPuox"
      },
      "source": [
        "In this case, you see that the data is quite complete: there are no missing values and you're lucky! But this is definitely not always the case for datasets out there."
      ]
    },
    {
      "cell_type": "markdown",
      "metadata": {
        "id": "HZgFXvPeK731"
      },
      "source": [
        "### Basic Visualization"
      ]
    },
    {
      "cell_type": "markdown",
      "metadata": {
        "id": "pLqnQ-KuQEu7"
      },
      "source": [
        "Data visualization can help with identifying patterns in the data. The Python libraries Seaborn and Matplotlib are easy and quick ways to do this. "
      ]
    },
    {
      "cell_type": "code",
      "execution_count": 55,
      "metadata": {
        "id": "Smz8QSJBLEJg"
      },
      "outputs": [],
      "source": [
        "import matplotlib as plt\n",
        "import seaborn as sns"
      ]
    },
    {
      "cell_type": "markdown",
      "metadata": {
        "id": "52s9-Oc1XvgX"
      },
      "source": [
        "There are a couple basic visualizations we can do. The first is displaying the length of all the dataset instances. To do this, we must first label the columns with their appropriate titles and add a column to the dataset that contains the length. "
      ]
    },
    {
      "cell_type": "code",
      "execution_count": 56,
      "metadata": {
        "collapsed": true,
        "id": "pD-0ZhgOqPZ5"
      },
      "outputs": [],
      "source": [
        "sms.columns=['label', 'msg']"
      ]
    },
    {
      "cell_type": "code",
      "execution_count": 57,
      "metadata": {
        "id": "YeEVeKxZq2c3",
        "colab": {
          "base_uri": "https://localhost:8080/",
          "height": 206
        },
        "outputId": "a1b98a4f-5d60-46d9-dfa6-712438669a35"
      },
      "outputs": [
        {
          "output_type": "execute_result",
          "data": {
            "text/plain": [
              "  label                                                msg\n",
              "0   ham  Go until jurong point, crazy.. Available only ...\n",
              "1   ham                      Ok lar... Joking wif u oni...\n",
              "2  spam  Free entry in 2 a wkly comp to win FA Cup fina...\n",
              "3   ham  U dun say so early hor... U c already then say...\n",
              "4   ham  Nah I don't think he goes to usf, he lives aro..."
            ],
            "text/html": [
              "\n",
              "  <div id=\"df-e9b0e694-0f71-404d-bc83-a7e23de9e3f9\">\n",
              "    <div class=\"colab-df-container\">\n",
              "      <div>\n",
              "<style scoped>\n",
              "    .dataframe tbody tr th:only-of-type {\n",
              "        vertical-align: middle;\n",
              "    }\n",
              "\n",
              "    .dataframe tbody tr th {\n",
              "        vertical-align: top;\n",
              "    }\n",
              "\n",
              "    .dataframe thead th {\n",
              "        text-align: right;\n",
              "    }\n",
              "</style>\n",
              "<table border=\"1\" class=\"dataframe\">\n",
              "  <thead>\n",
              "    <tr style=\"text-align: right;\">\n",
              "      <th></th>\n",
              "      <th>label</th>\n",
              "      <th>msg</th>\n",
              "    </tr>\n",
              "  </thead>\n",
              "  <tbody>\n",
              "    <tr>\n",
              "      <th>0</th>\n",
              "      <td>ham</td>\n",
              "      <td>Go until jurong point, crazy.. Available only ...</td>\n",
              "    </tr>\n",
              "    <tr>\n",
              "      <th>1</th>\n",
              "      <td>ham</td>\n",
              "      <td>Ok lar... Joking wif u oni...</td>\n",
              "    </tr>\n",
              "    <tr>\n",
              "      <th>2</th>\n",
              "      <td>spam</td>\n",
              "      <td>Free entry in 2 a wkly comp to win FA Cup fina...</td>\n",
              "    </tr>\n",
              "    <tr>\n",
              "      <th>3</th>\n",
              "      <td>ham</td>\n",
              "      <td>U dun say so early hor... U c already then say...</td>\n",
              "    </tr>\n",
              "    <tr>\n",
              "      <th>4</th>\n",
              "      <td>ham</td>\n",
              "      <td>Nah I don't think he goes to usf, he lives aro...</td>\n",
              "    </tr>\n",
              "  </tbody>\n",
              "</table>\n",
              "</div>\n",
              "      <button class=\"colab-df-convert\" onclick=\"convertToInteractive('df-e9b0e694-0f71-404d-bc83-a7e23de9e3f9')\"\n",
              "              title=\"Convert this dataframe to an interactive table.\"\n",
              "              style=\"display:none;\">\n",
              "        \n",
              "  <svg xmlns=\"http://www.w3.org/2000/svg\" height=\"24px\"viewBox=\"0 0 24 24\"\n",
              "       width=\"24px\">\n",
              "    <path d=\"M0 0h24v24H0V0z\" fill=\"none\"/>\n",
              "    <path d=\"M18.56 5.44l.94 2.06.94-2.06 2.06-.94-2.06-.94-.94-2.06-.94 2.06-2.06.94zm-11 1L8.5 8.5l.94-2.06 2.06-.94-2.06-.94L8.5 2.5l-.94 2.06-2.06.94zm10 10l.94 2.06.94-2.06 2.06-.94-2.06-.94-.94-2.06-.94 2.06-2.06.94z\"/><path d=\"M17.41 7.96l-1.37-1.37c-.4-.4-.92-.59-1.43-.59-.52 0-1.04.2-1.43.59L10.3 9.45l-7.72 7.72c-.78.78-.78 2.05 0 2.83L4 21.41c.39.39.9.59 1.41.59.51 0 1.02-.2 1.41-.59l7.78-7.78 2.81-2.81c.8-.78.8-2.07 0-2.86zM5.41 20L4 18.59l7.72-7.72 1.47 1.35L5.41 20z\"/>\n",
              "  </svg>\n",
              "      </button>\n",
              "      \n",
              "  <style>\n",
              "    .colab-df-container {\n",
              "      display:flex;\n",
              "      flex-wrap:wrap;\n",
              "      gap: 12px;\n",
              "    }\n",
              "\n",
              "    .colab-df-convert {\n",
              "      background-color: #E8F0FE;\n",
              "      border: none;\n",
              "      border-radius: 50%;\n",
              "      cursor: pointer;\n",
              "      display: none;\n",
              "      fill: #1967D2;\n",
              "      height: 32px;\n",
              "      padding: 0 0 0 0;\n",
              "      width: 32px;\n",
              "    }\n",
              "\n",
              "    .colab-df-convert:hover {\n",
              "      background-color: #E2EBFA;\n",
              "      box-shadow: 0px 1px 2px rgba(60, 64, 67, 0.3), 0px 1px 3px 1px rgba(60, 64, 67, 0.15);\n",
              "      fill: #174EA6;\n",
              "    }\n",
              "\n",
              "    [theme=dark] .colab-df-convert {\n",
              "      background-color: #3B4455;\n",
              "      fill: #D2E3FC;\n",
              "    }\n",
              "\n",
              "    [theme=dark] .colab-df-convert:hover {\n",
              "      background-color: #434B5C;\n",
              "      box-shadow: 0px 1px 3px 1px rgba(0, 0, 0, 0.15);\n",
              "      filter: drop-shadow(0px 1px 2px rgba(0, 0, 0, 0.3));\n",
              "      fill: #FFFFFF;\n",
              "    }\n",
              "  </style>\n",
              "\n",
              "      <script>\n",
              "        const buttonEl =\n",
              "          document.querySelector('#df-e9b0e694-0f71-404d-bc83-a7e23de9e3f9 button.colab-df-convert');\n",
              "        buttonEl.style.display =\n",
              "          google.colab.kernel.accessAllowed ? 'block' : 'none';\n",
              "\n",
              "        async function convertToInteractive(key) {\n",
              "          const element = document.querySelector('#df-e9b0e694-0f71-404d-bc83-a7e23de9e3f9');\n",
              "          const dataTable =\n",
              "            await google.colab.kernel.invokeFunction('convertToInteractive',\n",
              "                                                     [key], {});\n",
              "          if (!dataTable) return;\n",
              "\n",
              "          const docLinkHtml = 'Like what you see? Visit the ' +\n",
              "            '<a target=\"_blank\" href=https://colab.research.google.com/notebooks/data_table.ipynb>data table notebook</a>'\n",
              "            + ' to learn more about interactive tables.';\n",
              "          element.innerHTML = '';\n",
              "          dataTable['output_type'] = 'display_data';\n",
              "          await google.colab.output.renderOutput(dataTable, element);\n",
              "          const docLink = document.createElement('div');\n",
              "          docLink.innerHTML = docLinkHtml;\n",
              "          element.appendChild(docLink);\n",
              "        }\n",
              "      </script>\n",
              "    </div>\n",
              "  </div>\n",
              "  "
            ]
          },
          "metadata": {},
          "execution_count": 57
        }
      ],
      "source": [
        "sms.head()"
      ]
    },
    {
      "cell_type": "code",
      "execution_count": 58,
      "metadata": {
        "collapsed": true,
        "id": "6f02B7Y6Y--F"
      },
      "outputs": [],
      "source": [
        "sms[\"length\"] = sms[\"msg\"].apply(len)"
      ]
    },
    {
      "cell_type": "code",
      "execution_count": 59,
      "metadata": {
        "id": "-ZvGSe3Kq9Q9",
        "colab": {
          "base_uri": "https://localhost:8080/",
          "height": 206
        },
        "outputId": "54d2f00a-57c7-4515-dd70-327dd9f16874"
      },
      "outputs": [
        {
          "output_type": "execute_result",
          "data": {
            "text/plain": [
              "  label                                                msg  length\n",
              "0   ham  Go until jurong point, crazy.. Available only ...     111\n",
              "1   ham                      Ok lar... Joking wif u oni...      29\n",
              "2  spam  Free entry in 2 a wkly comp to win FA Cup fina...     155\n",
              "3   ham  U dun say so early hor... U c already then say...      49\n",
              "4   ham  Nah I don't think he goes to usf, he lives aro...      61"
            ],
            "text/html": [
              "\n",
              "  <div id=\"df-549b08a9-ffb4-4cbc-99e5-a11829f0640d\">\n",
              "    <div class=\"colab-df-container\">\n",
              "      <div>\n",
              "<style scoped>\n",
              "    .dataframe tbody tr th:only-of-type {\n",
              "        vertical-align: middle;\n",
              "    }\n",
              "\n",
              "    .dataframe tbody tr th {\n",
              "        vertical-align: top;\n",
              "    }\n",
              "\n",
              "    .dataframe thead th {\n",
              "        text-align: right;\n",
              "    }\n",
              "</style>\n",
              "<table border=\"1\" class=\"dataframe\">\n",
              "  <thead>\n",
              "    <tr style=\"text-align: right;\">\n",
              "      <th></th>\n",
              "      <th>label</th>\n",
              "      <th>msg</th>\n",
              "      <th>length</th>\n",
              "    </tr>\n",
              "  </thead>\n",
              "  <tbody>\n",
              "    <tr>\n",
              "      <th>0</th>\n",
              "      <td>ham</td>\n",
              "      <td>Go until jurong point, crazy.. Available only ...</td>\n",
              "      <td>111</td>\n",
              "    </tr>\n",
              "    <tr>\n",
              "      <th>1</th>\n",
              "      <td>ham</td>\n",
              "      <td>Ok lar... Joking wif u oni...</td>\n",
              "      <td>29</td>\n",
              "    </tr>\n",
              "    <tr>\n",
              "      <th>2</th>\n",
              "      <td>spam</td>\n",
              "      <td>Free entry in 2 a wkly comp to win FA Cup fina...</td>\n",
              "      <td>155</td>\n",
              "    </tr>\n",
              "    <tr>\n",
              "      <th>3</th>\n",
              "      <td>ham</td>\n",
              "      <td>U dun say so early hor... U c already then say...</td>\n",
              "      <td>49</td>\n",
              "    </tr>\n",
              "    <tr>\n",
              "      <th>4</th>\n",
              "      <td>ham</td>\n",
              "      <td>Nah I don't think he goes to usf, he lives aro...</td>\n",
              "      <td>61</td>\n",
              "    </tr>\n",
              "  </tbody>\n",
              "</table>\n",
              "</div>\n",
              "      <button class=\"colab-df-convert\" onclick=\"convertToInteractive('df-549b08a9-ffb4-4cbc-99e5-a11829f0640d')\"\n",
              "              title=\"Convert this dataframe to an interactive table.\"\n",
              "              style=\"display:none;\">\n",
              "        \n",
              "  <svg xmlns=\"http://www.w3.org/2000/svg\" height=\"24px\"viewBox=\"0 0 24 24\"\n",
              "       width=\"24px\">\n",
              "    <path d=\"M0 0h24v24H0V0z\" fill=\"none\"/>\n",
              "    <path d=\"M18.56 5.44l.94 2.06.94-2.06 2.06-.94-2.06-.94-.94-2.06-.94 2.06-2.06.94zm-11 1L8.5 8.5l.94-2.06 2.06-.94-2.06-.94L8.5 2.5l-.94 2.06-2.06.94zm10 10l.94 2.06.94-2.06 2.06-.94-2.06-.94-.94-2.06-.94 2.06-2.06.94z\"/><path d=\"M17.41 7.96l-1.37-1.37c-.4-.4-.92-.59-1.43-.59-.52 0-1.04.2-1.43.59L10.3 9.45l-7.72 7.72c-.78.78-.78 2.05 0 2.83L4 21.41c.39.39.9.59 1.41.59.51 0 1.02-.2 1.41-.59l7.78-7.78 2.81-2.81c.8-.78.8-2.07 0-2.86zM5.41 20L4 18.59l7.72-7.72 1.47 1.35L5.41 20z\"/>\n",
              "  </svg>\n",
              "      </button>\n",
              "      \n",
              "  <style>\n",
              "    .colab-df-container {\n",
              "      display:flex;\n",
              "      flex-wrap:wrap;\n",
              "      gap: 12px;\n",
              "    }\n",
              "\n",
              "    .colab-df-convert {\n",
              "      background-color: #E8F0FE;\n",
              "      border: none;\n",
              "      border-radius: 50%;\n",
              "      cursor: pointer;\n",
              "      display: none;\n",
              "      fill: #1967D2;\n",
              "      height: 32px;\n",
              "      padding: 0 0 0 0;\n",
              "      width: 32px;\n",
              "    }\n",
              "\n",
              "    .colab-df-convert:hover {\n",
              "      background-color: #E2EBFA;\n",
              "      box-shadow: 0px 1px 2px rgba(60, 64, 67, 0.3), 0px 1px 3px 1px rgba(60, 64, 67, 0.15);\n",
              "      fill: #174EA6;\n",
              "    }\n",
              "\n",
              "    [theme=dark] .colab-df-convert {\n",
              "      background-color: #3B4455;\n",
              "      fill: #D2E3FC;\n",
              "    }\n",
              "\n",
              "    [theme=dark] .colab-df-convert:hover {\n",
              "      background-color: #434B5C;\n",
              "      box-shadow: 0px 1px 3px 1px rgba(0, 0, 0, 0.15);\n",
              "      filter: drop-shadow(0px 1px 2px rgba(0, 0, 0, 0.3));\n",
              "      fill: #FFFFFF;\n",
              "    }\n",
              "  </style>\n",
              "\n",
              "      <script>\n",
              "        const buttonEl =\n",
              "          document.querySelector('#df-549b08a9-ffb4-4cbc-99e5-a11829f0640d button.colab-df-convert');\n",
              "        buttonEl.style.display =\n",
              "          google.colab.kernel.accessAllowed ? 'block' : 'none';\n",
              "\n",
              "        async function convertToInteractive(key) {\n",
              "          const element = document.querySelector('#df-549b08a9-ffb4-4cbc-99e5-a11829f0640d');\n",
              "          const dataTable =\n",
              "            await google.colab.kernel.invokeFunction('convertToInteractive',\n",
              "                                                     [key], {});\n",
              "          if (!dataTable) return;\n",
              "\n",
              "          const docLinkHtml = 'Like what you see? Visit the ' +\n",
              "            '<a target=\"_blank\" href=https://colab.research.google.com/notebooks/data_table.ipynb>data table notebook</a>'\n",
              "            + ' to learn more about interactive tables.';\n",
              "          element.innerHTML = '';\n",
              "          dataTable['output_type'] = 'display_data';\n",
              "          await google.colab.output.renderOutput(dataTable, element);\n",
              "          const docLink = document.createElement('div');\n",
              "          docLink.innerHTML = docLinkHtml;\n",
              "          element.appendChild(docLink);\n",
              "        }\n",
              "      </script>\n",
              "    </div>\n",
              "  </div>\n",
              "  "
            ]
          },
          "metadata": {},
          "execution_count": 59
        }
      ],
      "source": [
        "sms.head()"
      ]
    },
    {
      "cell_type": "code",
      "execution_count": 60,
      "metadata": {
        "id": "9tGjoINoXvJM",
        "colab": {
          "base_uri": "https://localhost:8080/",
          "height": 353
        },
        "outputId": "253ce3e2-99f3-42e0-dc1c-135a8602618d"
      },
      "outputs": [
        {
          "output_type": "stream",
          "name": "stderr",
          "text": [
            "/usr/local/lib/python3.7/dist-packages/seaborn/distributions.py:2619: FutureWarning: `distplot` is a deprecated function and will be removed in a future version. Please adapt your code to use either `displot` (a figure-level function with similar flexibility) or `histplot` (an axes-level function for histograms).\n",
            "  warnings.warn(msg, FutureWarning)\n"
          ]
        },
        {
          "output_type": "execute_result",
          "data": {
            "text/plain": [
              "<matplotlib.axes._subplots.AxesSubplot at 0x7f66946e4cd0>"
            ]
          },
          "metadata": {},
          "execution_count": 60
        },
        {
          "output_type": "display_data",
          "data": {
            "text/plain": [
              "<Figure size 432x288 with 1 Axes>"
            ],
            "image/png": "[encoded data removed]"
          },
          "metadata": {
            "needs_background": "light"
          }
        }
      ],
      "source": [
        "sns.distplot(sms[\"length\"], kde=False)"
      ]
    },
    {
      "cell_type": "markdown",
      "metadata": {
        "id": "1X0lTCL0KFqk"
      },
      "source": [
        "References:\n",
        "- https://www.analyticsvidhya.com/blog/2020/04/beginners-guide-exploratory-data-analysis-text-data/\n",
        "- https://www.datacamp.com/community/tutorials/exploratory-data-analysis-python\n",
        "- https://towardsdatascience.com/a-complete-exploratory-data-analysis-and-visualization-for-text-data-29fb1b96fb6a"
      ]
    },
    {
      "cell_type": "markdown",
      "metadata": {
        "id": "V7Sal7tUXVBj"
      },
      "source": [
        "\n",
        "\n",
        "---\n",
        "\n",
        "\n",
        "\n",
        "---\n",
        "\n"
      ]
    },
    {
      "cell_type": "markdown",
      "metadata": {
        "id": "PZEmaQyrLIzI"
      },
      "source": [
        "## Pre-Processing"
      ]
    },
    {
      "cell_type": "markdown",
      "metadata": {
        "id": "cwnXlxfWrUoR"
      },
      "source": [
        "There are many feature engineering strategies for transforming text data into features. Some involve assigning each unique word-like term to a feature and counting the number of occurrences per training example. However, if we were to perform this strategy right now, we'd end up with an absurd number of features, a result of the myriad possible terms. The classifier would take too long to train and likely overfit. As a result, each NLP problem requires a tailored approach to determine which terms are relevant and meaningful, and this is where we begin our pre-processing."
      ]
    },
    {
      "cell_type": "markdown",
      "metadata": {
        "id": "wXeOxA2vJowM"
      },
      "source": [
        "### Step 1: Contraction Mapping / Expanding Contractions"
      ]
    },
    {
      "cell_type": "markdown",
      "metadata": {
        "id": "kK3mBeKq3Sn-"
      },
      "source": [
        "Contractions are words that we write with an apostrophe. Examples of contractions are words like “ain’t” or “aren’t”. Since we want to standardize our text, it makes sense to expand these contractions. We are going to add a new column to our dataframe called “no_contract” and apply a lambda function to the \"msg\" field which will expand any contractions."
      ]
    },
    {
      "cell_type": "markdown",
      "metadata": {
        "id": "IfS7b5XQ6zZK"
      },
      "source": [
        "First, we install and import the necessary library - contractions."
      ]
    },
    {
      "cell_type": "code",
      "execution_count": 61,
      "metadata": {
        "id": "_bIyOL3A3sZz",
        "colab": {
          "base_uri": "https://localhost:8080/"
        },
        "outputId": "9b9ba2ed-fd90-4062-a8ef-d23961276ce1"
      },
      "outputs": [
        {
          "output_type": "stream",
          "name": "stdout",
          "text": [
            "Looking in indexes: https://pypi.org/simple, https://us-python.pkg.dev/colab-wheels/public/simple/\n",
            "Requirement already satisfied: contractions in /usr/local/lib/python3.7/dist-packages (0.1.72)\n",
            "Requirement already satisfied: textsearch>=0.0.21 in /usr/local/lib/python3.7/dist-packages (from contractions) (0.0.21)\n",
            "Requirement already satisfied: pyahocorasick in /usr/local/lib/python3.7/dist-packages (from textsearch>=0.0.21->contractions) (1.4.4)\n",
            "Requirement already satisfied: anyascii in /usr/local/lib/python3.7/dist-packages (from textsearch>=0.0.21->contractions) (0.3.1)\n"
          ]
        }
      ],
      "source": [
        "!pip install contractions\n",
        "import contractions"
      ]
    },
    {
      "cell_type": "code",
      "execution_count": 62,
      "metadata": {
        "collapsed": true,
        "id": "WEKvXDOH31l7"
      },
      "outputs": [],
      "source": [
        "sms['no_contract'] = sms['msg'].apply(lambda x: [contractions.fix(word) for word in x.split()])"
      ]
    },
    {
      "cell_type": "code",
      "execution_count": 63,
      "metadata": {
        "id": "cRud_Vrk7Ggf",
        "colab": {
          "base_uri": "https://localhost:8080/",
          "height": 206
        },
        "outputId": "4e0ee8d5-e606-4795-aa1c-63d992c1c630"
      },
      "outputs": [
        {
          "output_type": "execute_result",
          "data": {
            "text/plain": [
              "  label                                                msg  length  \\\n",
              "0   ham  Go until jurong point, crazy.. Available only ...     111   \n",
              "1   ham                      Ok lar... Joking wif u oni...      29   \n",
              "2  spam  Free entry in 2 a wkly comp to win FA Cup fina...     155   \n",
              "3   ham  U dun say so early hor... U c already then say...      49   \n",
              "4   ham  Nah I don't think he goes to usf, he lives aro...      61   \n",
              "\n",
              "                                         no_contract  \n",
              "0  [Go, until, jurong, point,, crazy.., Available...  \n",
              "1             [Ok, lar..., Joking, wif, you, oni...]  \n",
              "2  [Free, entry, in, 2, a, wkly, comp, to, win, F...  \n",
              "3  [YOU, dun, say, so, early, hor..., YOU, c, alr...  \n",
              "4  [Nah, I, do not, think, he, goes, to, usf,, he...  "
            ],
            "text/html": [
              "\n",
              "  <div id=\"df-73865bf8-80c1-4224-b05b-e249206b46fb\">\n",
              "    <div class=\"colab-df-container\">\n",
              "      <div>\n",
              "<style scoped>\n",
              "    .dataframe tbody tr th:only-of-type {\n",
              "        vertical-align: middle;\n",
              "    }\n",
              "\n",
              "    .dataframe tbody tr th {\n",
              "        vertical-align: top;\n",
              "    }\n",
              "\n",
              "    .dataframe thead th {\n",
              "        text-align: right;\n",
              "    }\n",
              "</style>\n",
              "<table border=\"1\" class=\"dataframe\">\n",
              "  <thead>\n",
              "    <tr style=\"text-align: right;\">\n",
              "      <th></th>\n",
              "      <th>label</th>\n",
              "      <th>msg</th>\n",
              "      <th>length</th>\n",
              "      <th>no_contract</th>\n",
              "    </tr>\n",
              "  </thead>\n",
              "  <tbody>\n",
              "    <tr>\n",
              "      <th>0</th>\n",
              "      <td>ham</td>\n",
              "      <td>Go until jurong point, crazy.. Available only ...</td>\n",
              "      <td>111</td>\n",
              "      <td>[Go, until, jurong, point,, crazy.., Available...</td>\n",
              "    </tr>\n",
              "    <tr>\n",
              "      <th>1</th>\n",
              "      <td>ham</td>\n",
              "      <td>Ok lar... Joking wif u oni...</td>\n",
              "      <td>29</td>\n",
              "      <td>[Ok, lar..., Joking, wif, you, oni...]</td>\n",
              "    </tr>\n",
              "    <tr>\n",
              "      <th>2</th>\n",
              "      <td>spam</td>\n",
              "      <td>Free entry in 2 a wkly comp to win FA Cup fina...</td>\n",
              "      <td>155</td>\n",
              "      <td>[Free, entry, in, 2, a, wkly, comp, to, win, F...</td>\n",
              "    </tr>\n",
              "    <tr>\n",
              "      <th>3</th>\n",
              "      <td>ham</td>\n",
              "      <td>U dun say so early hor... U c already then say...</td>\n",
              "      <td>49</td>\n",
              "      <td>[YOU, dun, say, so, early, hor..., YOU, c, alr...</td>\n",
              "    </tr>\n",
              "    <tr>\n",
              "      <th>4</th>\n",
              "      <td>ham</td>\n",
              "      <td>Nah I don't think he goes to usf, he lives aro...</td>\n",
              "      <td>61</td>\n",
              "      <td>[Nah, I, do not, think, he, goes, to, usf,, he...</td>\n",
              "    </tr>\n",
              "  </tbody>\n",
              "</table>\n",
              "</div>\n",
              "      <button class=\"colab-df-convert\" onclick=\"convertToInteractive('df-73865bf8-80c1-4224-b05b-e249206b46fb')\"\n",
              "              title=\"Convert this dataframe to an interactive table.\"\n",
              "              style=\"display:none;\">\n",
              "        \n",
              "  <svg xmlns=\"http://www.w3.org/2000/svg\" height=\"24px\"viewBox=\"0 0 24 24\"\n",
              "       width=\"24px\">\n",
              "    <path d=\"M0 0h24v24H0V0z\" fill=\"none\"/>\n",
              "    <path d=\"M18.56 5.44l.94 2.06.94-2.06 2.06-.94-2.06-.94-.94-2.06-.94 2.06-2.06.94zm-11 1L8.5 8.5l.94-2.06 2.06-.94-2.06-.94L8.5 2.5l-.94 2.06-2.06.94zm10 10l.94 2.06.94-2.06 2.06-.94-2.06-.94-.94-2.06-.94 2.06-2.06.94z\"/><path d=\"M17.41 7.96l-1.37-1.37c-.4-.4-.92-.59-1.43-.59-.52 0-1.04.2-1.43.59L10.3 9.45l-7.72 7.72c-.78.78-.78 2.05 0 2.83L4 21.41c.39.39.9.59 1.41.59.51 0 1.02-.2 1.41-.59l7.78-7.78 2.81-2.81c.8-.78.8-2.07 0-2.86zM5.41 20L4 18.59l7.72-7.72 1.47 1.35L5.41 20z\"/>\n",
              "  </svg>\n",
              "      </button>\n",
              "      \n",
              "  <style>\n",
              "    .colab-df-container {\n",
              "      display:flex;\n",
              "      flex-wrap:wrap;\n",
              "      gap: 12px;\n",
              "    }\n",
              "\n",
              "    .colab-df-convert {\n",
              "      background-color: #E8F0FE;\n",
              "      border: none;\n",
              "      border-radius: 50%;\n",
              "      cursor: pointer;\n",
              "      display: none;\n",
              "      fill: #1967D2;\n",
              "      height: 32px;\n",
              "      padding: 0 0 0 0;\n",
              "      width: 32px;\n",
              "    }\n",
              "\n",
              "    .colab-df-convert:hover {\n",
              "      background-color: #E2EBFA;\n",
              "      box-shadow: 0px 1px 2px rgba(60, 64, 67, 0.3), 0px 1px 3px 1px rgba(60, 64, 67, 0.15);\n",
              "      fill: #174EA6;\n",
              "    }\n",
              "\n",
              "    [theme=dark] .colab-df-convert {\n",
              "      background-color: #3B4455;\n",
              "      fill: #D2E3FC;\n",
              "    }\n",
              "\n",
              "    [theme=dark] .colab-df-convert:hover {\n",
              "      background-color: #434B5C;\n",
              "      box-shadow: 0px 1px 3px 1px rgba(0, 0, 0, 0.15);\n",
              "      filter: drop-shadow(0px 1px 2px rgba(0, 0, 0, 0.3));\n",
              "      fill: #FFFFFF;\n",
              "    }\n",
              "  </style>\n",
              "\n",
              "      <script>\n",
              "        const buttonEl =\n",
              "          document.querySelector('#df-73865bf8-80c1-4224-b05b-e249206b46fb button.colab-df-convert');\n",
              "        buttonEl.style.display =\n",
              "          google.colab.kernel.accessAllowed ? 'block' : 'none';\n",
              "\n",
              "        async function convertToInteractive(key) {\n",
              "          const element = document.querySelector('#df-73865bf8-80c1-4224-b05b-e249206b46fb');\n",
              "          const dataTable =\n",
              "            await google.colab.kernel.invokeFunction('convertToInteractive',\n",
              "                                                     [key], {});\n",
              "          if (!dataTable) return;\n",
              "\n",
              "          const docLinkHtml = 'Like what you see? Visit the ' +\n",
              "            '<a target=\"_blank\" href=https://colab.research.google.com/notebooks/data_table.ipynb>data table notebook</a>'\n",
              "            + ' to learn more about interactive tables.';\n",
              "          element.innerHTML = '';\n",
              "          dataTable['output_type'] = 'display_data';\n",
              "          await google.colab.output.renderOutput(dataTable, element);\n",
              "          const docLink = document.createElement('div');\n",
              "          docLink.innerHTML = docLinkHtml;\n",
              "          element.appendChild(docLink);\n",
              "        }\n",
              "      </script>\n",
              "    </div>\n",
              "  </div>\n",
              "  "
            ]
          },
          "metadata": {},
          "execution_count": 63
        }
      ],
      "source": [
        "sms.head()"
      ]
    },
    {
      "cell_type": "markdown",
      "metadata": {
        "id": "TLGxmOZI7NNn"
      },
      "source": [
        "Also, we would want the expanded contractions to be tokenized separately, therefore we convert the lists under the \"no_contract\" column back into strings."
      ]
    },
    {
      "cell_type": "code",
      "execution_count": 64,
      "metadata": {
        "collapsed": true,
        "id": "VzTj7U_J7USX"
      },
      "outputs": [],
      "source": [
        "sms[\"msg_str\"] = [' '.join(map(str, l)) for l in sms['no_contract']]"
      ]
    },
    {
      "cell_type": "code",
      "execution_count": 65,
      "metadata": {
        "id": "sO4OPskH7gRf",
        "colab": {
          "base_uri": "https://localhost:8080/",
          "height": 320
        },
        "outputId": "c0c05869-6253-437e-ad9f-004f00108a2a"
      },
      "outputs": [
        {
          "output_type": "execute_result",
          "data": {
            "text/plain": [
              "  label                                                msg  length  \\\n",
              "0   ham  Go until jurong point, crazy.. Available only ...     111   \n",
              "1   ham                      Ok lar... Joking wif u oni...      29   \n",
              "2  spam  Free entry in 2 a wkly comp to win FA Cup fina...     155   \n",
              "3   ham  U dun say so early hor... U c already then say...      49   \n",
              "4   ham  Nah I don't think he goes to usf, he lives aro...      61   \n",
              "\n",
              "                                         no_contract  \\\n",
              "0  [Go, until, jurong, point,, crazy.., Available...   \n",
              "1             [Ok, lar..., Joking, wif, you, oni...]   \n",
              "2  [Free, entry, in, 2, a, wkly, comp, to, win, F...   \n",
              "3  [YOU, dun, say, so, early, hor..., YOU, c, alr...   \n",
              "4  [Nah, I, do not, think, he, goes, to, usf,, he...   \n",
              "\n",
              "                                             msg_str  \n",
              "0  Go until jurong point, crazy.. Available only ...  \n",
              "1                    Ok lar... Joking wif you oni...  \n",
              "2  Free entry in 2 a wkly comp to win FA Cup fina...  \n",
              "3  YOU dun say so early hor... YOU c already then...  \n",
              "4  Nah I do not think he goes to usf, he lives ar...  "
            ],
            "text/html": [
              "\n",
              "  <div id=\"df-da998aad-9dc5-402e-941c-270e7c66433c\">\n",
              "    <div class=\"colab-df-container\">\n",
              "      <div>\n",
              "<style scoped>\n",
              "    .dataframe tbody tr th:only-of-type {\n",
              "        vertical-align: middle;\n",
              "    }\n",
              "\n",
              "    .dataframe tbody tr th {\n",
              "        vertical-align: top;\n",
              "    }\n",
              "\n",
              "    .dataframe thead th {\n",
              "        text-align: right;\n",
              "    }\n",
              "</style>\n",
              "<table border=\"1\" class=\"dataframe\">\n",
              "  <thead>\n",
              "    <tr style=\"text-align: right;\">\n",
              "      <th></th>\n",
              "      <th>label</th>\n",
              "      <th>msg</th>\n",
              "      <th>length</th>\n",
              "      <th>no_contract</th>\n",
              "      <th>msg_str</th>\n",
              "    </tr>\n",
              "  </thead>\n",
              "  <tbody>\n",
              "    <tr>\n",
              "      <th>0</th>\n",
              "      <td>ham</td>\n",
              "      <td>Go until jurong point, crazy.. Available only ...</td>\n",
              "      <td>111</td>\n",
              "      <td>[Go, until, jurong, point,, crazy.., Available...</td>\n",
              "      <td>Go until jurong point, crazy.. Available only ...</td>\n",
              "    </tr>\n",
              "    <tr>\n",
              "      <th>1</th>\n",
              "      <td>ham</td>\n",
              "      <td>Ok lar... Joking wif u oni...</td>\n",
              "      <td>29</td>\n",
              "      <td>[Ok, lar..., Joking, wif, you, oni...]</td>\n",
              "      <td>Ok lar... Joking wif you oni...</td>\n",
              "    </tr>\n",
              "    <tr>\n",
              "      <th>2</th>\n",
              "      <td>spam</td>\n",
              "      <td>Free entry in 2 a wkly comp to win FA Cup fina...</td>\n",
              "      <td>155</td>\n",
              "      <td>[Free, entry, in, 2, a, wkly, comp, to, win, F...</td>\n",
              "      <td>Free entry in 2 a wkly comp to win FA Cup fina...</td>\n",
              "    </tr>\n",
              "    <tr>\n",
              "      <th>3</th>\n",
              "      <td>ham</td>\n",
              "      <td>U dun say so early hor... U c already then say...</td>\n",
              "      <td>49</td>\n",
              "      <td>[YOU, dun, say, so, early, hor..., YOU, c, alr...</td>\n",
              "      <td>YOU dun say so early hor... YOU c already then...</td>\n",
              "    </tr>\n",
              "    <tr>\n",
              "      <th>4</th>\n",
              "      <td>ham</td>\n",
              "      <td>Nah I don't think he goes to usf, he lives aro...</td>\n",
              "      <td>61</td>\n",
              "      <td>[Nah, I, do not, think, he, goes, to, usf,, he...</td>\n",
              "      <td>Nah I do not think he goes to usf, he lives ar...</td>\n",
              "    </tr>\n",
              "  </tbody>\n",
              "</table>\n",
              "</div>\n",
              "      <button class=\"colab-df-convert\" onclick=\"convertToInteractive('df-da998aad-9dc5-402e-941c-270e7c66433c')\"\n",
              "              title=\"Convert this dataframe to an interactive table.\"\n",
              "              style=\"display:none;\">\n",
              "        \n",
              "  <svg xmlns=\"http://www.w3.org/2000/svg\" height=\"24px\"viewBox=\"0 0 24 24\"\n",
              "       width=\"24px\">\n",
              "    <path d=\"M0 0h24v24H0V0z\" fill=\"none\"/>\n",
              "    <path d=\"M18.56 5.44l.94 2.06.94-2.06 2.06-.94-2.06-.94-.94-2.06-.94 2.06-2.06.94zm-11 1L8.5 8.5l.94-2.06 2.06-.94-2.06-.94L8.5 2.5l-.94 2.06-2.06.94zm10 10l.94 2.06.94-2.06 2.06-.94-2.06-.94-.94-2.06-.94 2.06-2.06.94z\"/><path d=\"M17.41 7.96l-1.37-1.37c-.4-.4-.92-.59-1.43-.59-.52 0-1.04.2-1.43.59L10.3 9.45l-7.72 7.72c-.78.78-.78 2.05 0 2.83L4 21.41c.39.39.9.59 1.41.59.51 0 1.02-.2 1.41-.59l7.78-7.78 2.81-2.81c.8-.78.8-2.07 0-2.86zM5.41 20L4 18.59l7.72-7.72 1.47 1.35L5.41 20z\"/>\n",
              "  </svg>\n",
              "      </button>\n",
              "      \n",
              "  <style>\n",
              "    .colab-df-container {\n",
              "      display:flex;\n",
              "      flex-wrap:wrap;\n",
              "      gap: 12px;\n",
              "    }\n",
              "\n",
              "    .colab-df-convert {\n",
              "      background-color: #E8F0FE;\n",
              "      border: none;\n",
              "      border-radius: 50%;\n",
              "      cursor: pointer;\n",
              "      display: none;\n",
              "      fill: #1967D2;\n",
              "      height: 32px;\n",
              "      padding: 0 0 0 0;\n",
              "      width: 32px;\n",
              "    }\n",
              "\n",
              "    .colab-df-convert:hover {\n",
              "      background-color: #E2EBFA;\n",
              "      box-shadow: 0px 1px 2px rgba(60, 64, 67, 0.3), 0px 1px 3px 1px rgba(60, 64, 67, 0.15);\n",
              "      fill: #174EA6;\n",
              "    }\n",
              "\n",
              "    [theme=dark] .colab-df-convert {\n",
              "      background-color: #3B4455;\n",
              "      fill: #D2E3FC;\n",
              "    }\n",
              "\n",
              "    [theme=dark] .colab-df-convert:hover {\n",
              "      background-color: #434B5C;\n",
              "      box-shadow: 0px 1px 3px 1px rgba(0, 0, 0, 0.15);\n",
              "      filter: drop-shadow(0px 1px 2px rgba(0, 0, 0, 0.3));\n",
              "      fill: #FFFFFF;\n",
              "    }\n",
              "  </style>\n",
              "\n",
              "      <script>\n",
              "        const buttonEl =\n",
              "          document.querySelector('#df-da998aad-9dc5-402e-941c-270e7c66433c button.colab-df-convert');\n",
              "        buttonEl.style.display =\n",
              "          google.colab.kernel.accessAllowed ? 'block' : 'none';\n",
              "\n",
              "        async function convertToInteractive(key) {\n",
              "          const element = document.querySelector('#df-da998aad-9dc5-402e-941c-270e7c66433c');\n",
              "          const dataTable =\n",
              "            await google.colab.kernel.invokeFunction('convertToInteractive',\n",
              "                                                     [key], {});\n",
              "          if (!dataTable) return;\n",
              "\n",
              "          const docLinkHtml = 'Like what you see? Visit the ' +\n",
              "            '<a target=\"_blank\" href=https://colab.research.google.com/notebooks/data_table.ipynb>data table notebook</a>'\n",
              "            + ' to learn more about interactive tables.';\n",
              "          element.innerHTML = '';\n",
              "          dataTable['output_type'] = 'display_data';\n",
              "          await google.colab.output.renderOutput(dataTable, element);\n",
              "          const docLink = document.createElement('div');\n",
              "          docLink.innerHTML = docLinkHtml;\n",
              "          element.appendChild(docLink);\n",
              "        }\n",
              "      </script>\n",
              "    </div>\n",
              "  </div>\n",
              "  "
            ]
          },
          "metadata": {},
          "execution_count": 65
        }
      ],
      "source": [
        "sms.head()"
      ]
    },
    {
      "cell_type": "markdown",
      "metadata": {
        "id": "6xJy-B1G3ZSC"
      },
      "source": [
        "Reference: https://towardsdatascience.com/preprocessing-text-data-using-python-576206753c28"
      ]
    },
    {
      "cell_type": "markdown",
      "metadata": {
        "id": "6fD7Vjr8JlEI"
      },
      "source": [
        "### Step 2: Tokenization\n"
      ]
    },
    {
      "cell_type": "markdown",
      "metadata": {
        "id": "XF5N0vquuMV1"
      },
      "source": [
        "In this step, we construct the features. We will begin by breaking apart the corpus into a vocabulary of unique terms, and this is called tokanization. "
      ]
    },
    {
      "cell_type": "markdown",
      "metadata": {
        "id": "Z_W-ztrPuUcm"
      },
      "source": [
        "We can tokenize individual terms and generate what's called a bag of words model. You may notice this model has a glaring pitfall: it fails to capture the innate structure of human language. We can also tokenize using nltk, which is the leading platform for building Python programs to work with human language data. "
      ]
    },
    {
      "cell_type": "markdown",
      "metadata": {
        "id": "zw_4LrBeuOAn"
      },
      "source": [
        "We will begin my installing and importing nltk, so we can use it!"
      ]
    },
    {
      "cell_type": "code",
      "execution_count": 66,
      "metadata": {
        "id": "PCm7QGpCTnld",
        "colab": {
          "base_uri": "https://localhost:8080/"
        },
        "outputId": "f3c8f717-128a-4ee7-fbc0-817130ade3bc"
      },
      "outputs": [
        {
          "output_type": "stream",
          "name": "stderr",
          "text": [
            "[nltk_data] Downloading package punkt to /root/nltk_data...\n",
            "[nltk_data]   Package punkt is already up-to-date!\n"
          ]
        }
      ],
      "source": [
        "import nltk\n",
        "nltk.download('punkt')\n",
        "from nltk.tokenize import word_tokenize"
      ]
    },
    {
      "cell_type": "markdown",
      "metadata": {
        "id": "LkE5LU-WvkAK"
      },
      "source": [
        "First, we will take a basic sentence to demonstrate this tokenization. "
      ]
    },
    {
      "cell_type": "code",
      "execution_count": 67,
      "metadata": {
        "collapsed": true,
        "id": "mVAOYdROv3u7"
      },
      "outputs": [],
      "source": [
        "text = \"Hi, I would like to tokenize this sentence.\""
      ]
    },
    {
      "cell_type": "code",
      "execution_count": 68,
      "metadata": {
        "id": "fcfmSnNfTxBs",
        "colab": {
          "base_uri": "https://localhost:8080/"
        },
        "outputId": "2b6a43e2-5fc4-4ab7-854e-1412e58dca46"
      },
      "outputs": [
        {
          "output_type": "stream",
          "name": "stdout",
          "text": [
            "['Hi', ',', 'I', 'would', 'like', 'to', 'tokenize', 'this', 'sentence', '.']\n"
          ]
        }
      ],
      "source": [
        "print(word_tokenize(text))"
      ]
    },
    {
      "cell_type": "markdown",
      "metadata": {
        "id": "oP2etJNC-a-E"
      },
      "source": [
        "Now, we can apply the tokenizer to our dataset. We will apply NLTK.word_tokenize() function to the “msg_str” column and create a new column named “tokenized”."
      ]
    },
    {
      "cell_type": "code",
      "execution_count": 69,
      "metadata": {
        "id": "aXKZEWZG-gII",
        "colab": {
          "base_uri": "https://localhost:8080/",
          "height": 337
        },
        "outputId": "6bdfc768-14f8-4de3-bb94-a2b9c617ea39"
      },
      "outputs": [
        {
          "output_type": "execute_result",
          "data": {
            "text/plain": [
              "  label                                                msg  length  \\\n",
              "0   ham  Go until jurong point, crazy.. Available only ...     111   \n",
              "1   ham                      Ok lar... Joking wif u oni...      29   \n",
              "2  spam  Free entry in 2 a wkly comp to win FA Cup fina...     155   \n",
              "3   ham  U dun say so early hor... U c already then say...      49   \n",
              "4   ham  Nah I don't think he goes to usf, he lives aro...      61   \n",
              "\n",
              "                                         no_contract  \\\n",
              "0  [Go, until, jurong, point,, crazy.., Available...   \n",
              "1             [Ok, lar..., Joking, wif, you, oni...]   \n",
              "2  [Free, entry, in, 2, a, wkly, comp, to, win, F...   \n",
              "3  [YOU, dun, say, so, early, hor..., YOU, c, alr...   \n",
              "4  [Nah, I, do not, think, he, goes, to, usf,, he...   \n",
              "\n",
              "                                             msg_str  \\\n",
              "0  Go until jurong point, crazy.. Available only ...   \n",
              "1                    Ok lar... Joking wif you oni...   \n",
              "2  Free entry in 2 a wkly comp to win FA Cup fina...   \n",
              "3  YOU dun say so early hor... YOU c already then...   \n",
              "4  Nah I do not think he goes to usf, he lives ar...   \n",
              "\n",
              "                                           tokenized  \n",
              "0  [Go, until, jurong, point, ,, crazy, .., Avail...  \n",
              "1         [Ok, lar, ..., Joking, wif, you, oni, ...]  \n",
              "2  [Free, entry, in, 2, a, wkly, comp, to, win, F...  \n",
              "3  [YOU, dun, say, so, early, hor, ..., YOU, c, a...  \n",
              "4  [Nah, I, do, not, think, he, goes, to, usf, ,,...  "
            ],
            "text/html": [
              "\n",
              "  <div id=\"df-48787aa5-5102-4362-8fa1-a97bccc2ec66\">\n",
              "    <div class=\"colab-df-container\">\n",
              "      <div>\n",
              "<style scoped>\n",
              "    .dataframe tbody tr th:only-of-type {\n",
              "        vertical-align: middle;\n",
              "    }\n",
              "\n",
              "    .dataframe tbody tr th {\n",
              "        vertical-align: top;\n",
              "    }\n",
              "\n",
              "    .dataframe thead th {\n",
              "        text-align: right;\n",
              "    }\n",
              "</style>\n",
              "<table border=\"1\" class=\"dataframe\">\n",
              "  <thead>\n",
              "    <tr style=\"text-align: right;\">\n",
              "      <th></th>\n",
              "      <th>label</th>\n",
              "      <th>msg</th>\n",
              "      <th>length</th>\n",
              "      <th>no_contract</th>\n",
              "      <th>msg_str</th>\n",
              "      <th>tokenized</th>\n",
              "    </tr>\n",
              "  </thead>\n",
              "  <tbody>\n",
              "    <tr>\n",
              "      <th>0</th>\n",
              "      <td>ham</td>\n",
              "      <td>Go until jurong point, crazy.. Available only ...</td>\n",
              "      <td>111</td>\n",
              "      <td>[Go, until, jurong, point,, crazy.., Available...</td>\n",
              "      <td>Go until jurong point, crazy.. Available only ...</td>\n",
              "      <td>[Go, until, jurong, point, ,, crazy, .., Avail...</td>\n",
              "    </tr>\n",
              "    <tr>\n",
              "      <th>1</th>\n",
              "      <td>ham</td>\n",
              "      <td>Ok lar... Joking wif u oni...</td>\n",
              "      <td>29</td>\n",
              "      <td>[Ok, lar..., Joking, wif, you, oni...]</td>\n",
              "      <td>Ok lar... Joking wif you oni...</td>\n",
              "      <td>[Ok, lar, ..., Joking, wif, you, oni, ...]</td>\n",
              "    </tr>\n",
              "    <tr>\n",
              "      <th>2</th>\n",
              "      <td>spam</td>\n",
              "      <td>Free entry in 2 a wkly comp to win FA Cup fina...</td>\n",
              "      <td>155</td>\n",
              "      <td>[Free, entry, in, 2, a, wkly, comp, to, win, F...</td>\n",
              "      <td>Free entry in 2 a wkly comp to win FA Cup fina...</td>\n",
              "      <td>[Free, entry, in, 2, a, wkly, comp, to, win, F...</td>\n",
              "    </tr>\n",
              "    <tr>\n",
              "      <th>3</th>\n",
              "      <td>ham</td>\n",
              "      <td>U dun say so early hor... U c already then say...</td>\n",
              "      <td>49</td>\n",
              "      <td>[YOU, dun, say, so, early, hor..., YOU, c, alr...</td>\n",
              "      <td>YOU dun say so early hor... YOU c already then...</td>\n",
              "      <td>[YOU, dun, say, so, early, hor, ..., YOU, c, a...</td>\n",
              "    </tr>\n",
              "    <tr>\n",
              "      <th>4</th>\n",
              "      <td>ham</td>\n",
              "      <td>Nah I don't think he goes to usf, he lives aro...</td>\n",
              "      <td>61</td>\n",
              "      <td>[Nah, I, do not, think, he, goes, to, usf,, he...</td>\n",
              "      <td>Nah I do not think he goes to usf, he lives ar...</td>\n",
              "      <td>[Nah, I, do, not, think, he, goes, to, usf, ,,...</td>\n",
              "    </tr>\n",
              "  </tbody>\n",
              "</table>\n",
              "</div>\n",
              "      <button class=\"colab-df-convert\" onclick=\"convertToInteractive('df-48787aa5-5102-4362-8fa1-a97bccc2ec66')\"\n",
              "              title=\"Convert this dataframe to an interactive table.\"\n",
              "              style=\"display:none;\">\n",
              "        \n",
              "  <svg xmlns=\"http://www.w3.org/2000/svg\" height=\"24px\"viewBox=\"0 0 24 24\"\n",
              "       width=\"24px\">\n",
              "    <path d=\"M0 0h24v24H0V0z\" fill=\"none\"/>\n",
              "    <path d=\"M18.56 5.44l.94 2.06.94-2.06 2.06-.94-2.06-.94-.94-2.06-.94 2.06-2.06.94zm-11 1L8.5 8.5l.94-2.06 2.06-.94-2.06-.94L8.5 2.5l-.94 2.06-2.06.94zm10 10l.94 2.06.94-2.06 2.06-.94-2.06-.94-.94-2.06-.94 2.06-2.06.94z\"/><path d=\"M17.41 7.96l-1.37-1.37c-.4-.4-.92-.59-1.43-.59-.52 0-1.04.2-1.43.59L10.3 9.45l-7.72 7.72c-.78.78-.78 2.05 0 2.83L4 21.41c.39.39.9.59 1.41.59.51 0 1.02-.2 1.41-.59l7.78-7.78 2.81-2.81c.8-.78.8-2.07 0-2.86zM5.41 20L4 18.59l7.72-7.72 1.47 1.35L5.41 20z\"/>\n",
              "  </svg>\n",
              "      </button>\n",
              "      \n",
              "  <style>\n",
              "    .colab-df-container {\n",
              "      display:flex;\n",
              "      flex-wrap:wrap;\n",
              "      gap: 12px;\n",
              "    }\n",
              "\n",
              "    .colab-df-convert {\n",
              "      background-color: #E8F0FE;\n",
              "      border: none;\n",
              "      border-radius: 50%;\n",
              "      cursor: pointer;\n",
              "      display: none;\n",
              "      fill: #1967D2;\n",
              "      height: 32px;\n",
              "      padding: 0 0 0 0;\n",
              "      width: 32px;\n",
              "    }\n",
              "\n",
              "    .colab-df-convert:hover {\n",
              "      background-color: #E2EBFA;\n",
              "      box-shadow: 0px 1px 2px rgba(60, 64, 67, 0.3), 0px 1px 3px 1px rgba(60, 64, 67, 0.15);\n",
              "      fill: #174EA6;\n",
              "    }\n",
              "\n",
              "    [theme=dark] .colab-df-convert {\n",
              "      background-color: #3B4455;\n",
              "      fill: #D2E3FC;\n",
              "    }\n",
              "\n",
              "    [theme=dark] .colab-df-convert:hover {\n",
              "      background-color: #434B5C;\n",
              "      box-shadow: 0px 1px 3px 1px rgba(0, 0, 0, 0.15);\n",
              "      filter: drop-shadow(0px 1px 2px rgba(0, 0, 0, 0.3));\n",
              "      fill: #FFFFFF;\n",
              "    }\n",
              "  </style>\n",
              "\n",
              "      <script>\n",
              "        const buttonEl =\n",
              "          document.querySelector('#df-48787aa5-5102-4362-8fa1-a97bccc2ec66 button.colab-df-convert');\n",
              "        buttonEl.style.display =\n",
              "          google.colab.kernel.accessAllowed ? 'block' : 'none';\n",
              "\n",
              "        async function convertToInteractive(key) {\n",
              "          const element = document.querySelector('#df-48787aa5-5102-4362-8fa1-a97bccc2ec66');\n",
              "          const dataTable =\n",
              "            await google.colab.kernel.invokeFunction('convertToInteractive',\n",
              "                                                     [key], {});\n",
              "          if (!dataTable) return;\n",
              "\n",
              "          const docLinkHtml = 'Like what you see? Visit the ' +\n",
              "            '<a target=\"_blank\" href=https://colab.research.google.com/notebooks/data_table.ipynb>data table notebook</a>'\n",
              "            + ' to learn more about interactive tables.';\n",
              "          element.innerHTML = '';\n",
              "          dataTable['output_type'] = 'display_data';\n",
              "          await google.colab.output.renderOutput(dataTable, element);\n",
              "          const docLink = document.createElement('div');\n",
              "          docLink.innerHTML = docLinkHtml;\n",
              "          element.appendChild(docLink);\n",
              "        }\n",
              "      </script>\n",
              "    </div>\n",
              "  </div>\n",
              "  "
            ]
          },
          "metadata": {},
          "execution_count": 69
        }
      ],
      "source": [
        "sms['tokenized'] = sms['msg_str'].apply(word_tokenize)\n",
        "sms.head()"
      ]
    },
    {
      "cell_type": "markdown",
      "metadata": {
        "id": "CnYvZAOj23RF"
      },
      "source": [
        "Reference: https://www.guru99.com/tokenize-words-sentences-nltk.html"
      ]
    },
    {
      "cell_type": "markdown",
      "metadata": {
        "id": "_dSlUTVNJjAU"
      },
      "source": [
        "### Step 3: Noise Cleaning - spacing, special characters, lowercasing\n"
      ]
    },
    {
      "cell_type": "markdown",
      "metadata": {
        "id": "6eTvf_eKrrEw"
      },
      "source": [
        "Let'a take a small step back and examine a few random examples of SMS messages from our dataset. "
      ]
    },
    {
      "cell_type": "code",
      "execution_count": 70,
      "metadata": {
        "id": "QZAoKyvnrxmB",
        "colab": {
          "base_uri": "https://localhost:8080/",
          "height": 641
        },
        "outputId": "79900d93-716d-4e2c-90dd-2bb227f85a2a"
      },
      "outputs": [
        {
          "output_type": "execute_result",
          "data": {
            "text/plain": [
              "     label                                                msg  length  \\\n",
              "1505   ham                         Oh my God. I'm almost home      26   \n",
              "4269   ham                   Hey so whats the plan this sat?       32   \n",
              "3109   ham  Hello hun how ru? Its here by the way. Im good...     149   \n",
              "2042   ham                Ü dun wan to watch infernal affair?      35   \n",
              "4255   ham             How about clothes, jewelry, and trips?      38   \n",
              "...    ...                                                ...     ...   \n",
              "3823   ham                           Just normal only here :)      24   \n",
              "303    ham  Oh and by the way you do have more food in you...      91   \n",
              "5077   ham  Well, i'm glad you didn't find it totally disa...      62   \n",
              "5396   ham           As in i want custom officer discount oh.      40   \n",
              "3788   ham                        WHORE YOU ARE UNBELIEVABLE.      27   \n",
              "\n",
              "                                            no_contract  \\\n",
              "1505                 [Oh, my, God., I am, almost, home]   \n",
              "4269          [Hey, so, what is, the, plan, this, sat?]   \n",
              "3109  [Hello, hun, how, ru?, Its, here, by, the, way...   \n",
              "2042        [Ü, dun, wan, to, watch, infernal, affair?]   \n",
              "4255      [How, about, clothes,, jewelry,, and, trips?]   \n",
              "...                                                 ...   \n",
              "3823                     [Just, normal, only, here, :)]   \n",
              "303   [Oh, and, by, the, way, you, do, have, more, f...   \n",
              "5077  [Well,, i am, glad, you, did not, find, it, to...   \n",
              "5396  [As, in, i, want, custom, officer, discount, oh.]   \n",
              "3788                   [WHORE, YOU, ARE, UNBELIEVABLE.]   \n",
              "\n",
              "                                                msg_str  \\\n",
              "1505                        Oh my God. I am almost home   \n",
              "4269                  Hey so what is the plan this sat?   \n",
              "3109  Hello hun how ru? Its here by the way. I Am go...   \n",
              "2042                Ü dun wan to watch infernal affair?   \n",
              "4255             How about clothes, jewelry, and trips?   \n",
              "...                                                 ...   \n",
              "3823                           Just normal only here :)   \n",
              "303   Oh and by the way you do have more food in you...   \n",
              "5077  Well, i am glad you did not find it totally di...   \n",
              "5396           As in i want custom officer discount oh.   \n",
              "3788                        WHORE YOU ARE UNBELIEVABLE.   \n",
              "\n",
              "                                              tokenized  \n",
              "1505              [Oh, my, God, ., I, am, almost, home]  \n",
              "4269       [Hey, so, what, is, the, plan, this, sat, ?]  \n",
              "3109  [Hello, hun, how, ru, ?, Its, here, by, the, w...  \n",
              "2042      [Ü, dun, wan, to, watch, infernal, affair, ?]  \n",
              "4255  [How, about, clothes, ,, jewelry, ,, and, trip...  \n",
              "...                                                 ...  \n",
              "3823                   [Just, normal, only, here, :, )]  \n",
              "303   [Oh, and, by, the, way, you, do, have, more, f...  \n",
              "5077  [Well, ,, i, am, glad, you, did, not, find, it...  \n",
              "5396  [As, in, i, want, custom, officer, discount, o...  \n",
              "3788                 [WHORE, YOU, ARE, UNBELIEVABLE, .]  \n",
              "\n",
              "[279 rows x 6 columns]"
            ],
            "text/html": [
              "\n",
              "  <div id=\"df-6b34ebd7-8d73-4062-ae50-c2f5c9270096\">\n",
              "    <div class=\"colab-df-container\">\n",
              "      <div>\n",
              "<style scoped>\n",
              "    .dataframe tbody tr th:only-of-type {\n",
              "        vertical-align: middle;\n",
              "    }\n",
              "\n",
              "    .dataframe tbody tr th {\n",
              "        vertical-align: top;\n",
              "    }\n",
              "\n",
              "    .dataframe thead th {\n",
              "        text-align: right;\n",
              "    }\n",
              "</style>\n",
              "<table border=\"1\" class=\"dataframe\">\n",
              "  <thead>\n",
              "    <tr style=\"text-align: right;\">\n",
              "      <th></th>\n",
              "      <th>label</th>\n",
              "      <th>msg</th>\n",
              "      <th>length</th>\n",
              "      <th>no_contract</th>\n",
              "      <th>msg_str</th>\n",
              "      <th>tokenized</th>\n",
              "    </tr>\n",
              "  </thead>\n",
              "  <tbody>\n",
              "    <tr>\n",
              "      <th>1505</th>\n",
              "      <td>ham</td>\n",
              "      <td>Oh my God. I'm almost home</td>\n",
              "      <td>26</td>\n",
              "      <td>[Oh, my, God., I am, almost, home]</td>\n",
              "      <td>Oh my God. I am almost home</td>\n",
              "      <td>[Oh, my, God, ., I, am, almost, home]</td>\n",
              "    </tr>\n",
              "    <tr>\n",
              "      <th>4269</th>\n",
              "      <td>ham</td>\n",
              "      <td>Hey so whats the plan this sat?</td>\n",
              "      <td>32</td>\n",
              "      <td>[Hey, so, what is, the, plan, this, sat?]</td>\n",
              "      <td>Hey so what is the plan this sat?</td>\n",
              "      <td>[Hey, so, what, is, the, plan, this, sat, ?]</td>\n",
              "    </tr>\n",
              "    <tr>\n",
              "      <th>3109</th>\n",
              "      <td>ham</td>\n",
              "      <td>Hello hun how ru? Its here by the way. Im good...</td>\n",
              "      <td>149</td>\n",
              "      <td>[Hello, hun, how, ru?, Its, here, by, the, way...</td>\n",
              "      <td>Hello hun how ru? Its here by the way. I Am go...</td>\n",
              "      <td>[Hello, hun, how, ru, ?, Its, here, by, the, w...</td>\n",
              "    </tr>\n",
              "    <tr>\n",
              "      <th>2042</th>\n",
              "      <td>ham</td>\n",
              "      <td>Ü dun wan to watch infernal affair?</td>\n",
              "      <td>35</td>\n",
              "      <td>[Ü, dun, wan, to, watch, infernal, affair?]</td>\n",
              "      <td>Ü dun wan to watch infernal affair?</td>\n",
              "      <td>[Ü, dun, wan, to, watch, infernal, affair, ?]</td>\n",
              "    </tr>\n",
              "    <tr>\n",
              "      <th>4255</th>\n",
              "      <td>ham</td>\n",
              "      <td>How about clothes, jewelry, and trips?</td>\n",
              "      <td>38</td>\n",
              "      <td>[How, about, clothes,, jewelry,, and, trips?]</td>\n",
              "      <td>How about clothes, jewelry, and trips?</td>\n",
              "      <td>[How, about, clothes, ,, jewelry, ,, and, trip...</td>\n",
              "    </tr>\n",
              "    <tr>\n",
              "      <th>...</th>\n",
              "      <td>...</td>\n",
              "      <td>...</td>\n",
              "      <td>...</td>\n",
              "      <td>...</td>\n",
              "      <td>...</td>\n",
              "      <td>...</td>\n",
              "    </tr>\n",
              "    <tr>\n",
              "      <th>3823</th>\n",
              "      <td>ham</td>\n",
              "      <td>Just normal only here :)</td>\n",
              "      <td>24</td>\n",
              "      <td>[Just, normal, only, here, :)]</td>\n",
              "      <td>Just normal only here :)</td>\n",
              "      <td>[Just, normal, only, here, :, )]</td>\n",
              "    </tr>\n",
              "    <tr>\n",
              "      <th>303</th>\n",
              "      <td>ham</td>\n",
              "      <td>Oh and by the way you do have more food in you...</td>\n",
              "      <td>91</td>\n",
              "      <td>[Oh, and, by, the, way, you, do, have, more, f...</td>\n",
              "      <td>Oh and by the way you do have more food in you...</td>\n",
              "      <td>[Oh, and, by, the, way, you, do, have, more, f...</td>\n",
              "    </tr>\n",
              "    <tr>\n",
              "      <th>5077</th>\n",
              "      <td>ham</td>\n",
              "      <td>Well, i'm glad you didn't find it totally disa...</td>\n",
              "      <td>62</td>\n",
              "      <td>[Well,, i am, glad, you, did not, find, it, to...</td>\n",
              "      <td>Well, i am glad you did not find it totally di...</td>\n",
              "      <td>[Well, ,, i, am, glad, you, did, not, find, it...</td>\n",
              "    </tr>\n",
              "    <tr>\n",
              "      <th>5396</th>\n",
              "      <td>ham</td>\n",
              "      <td>As in i want custom officer discount oh.</td>\n",
              "      <td>40</td>\n",
              "      <td>[As, in, i, want, custom, officer, discount, oh.]</td>\n",
              "      <td>As in i want custom officer discount oh.</td>\n",
              "      <td>[As, in, i, want, custom, officer, discount, o...</td>\n",
              "    </tr>\n",
              "    <tr>\n",
              "      <th>3788</th>\n",
              "      <td>ham</td>\n",
              "      <td>WHORE YOU ARE UNBELIEVABLE.</td>\n",
              "      <td>27</td>\n",
              "      <td>[WHORE, YOU, ARE, UNBELIEVABLE.]</td>\n",
              "      <td>WHORE YOU ARE UNBELIEVABLE.</td>\n",
              "      <td>[WHORE, YOU, ARE, UNBELIEVABLE, .]</td>\n",
              "    </tr>\n",
              "  </tbody>\n",
              "</table>\n",
              "<p>279 rows × 6 columns</p>\n",
              "</div>\n",
              "      <button class=\"colab-df-convert\" onclick=\"convertToInteractive('df-6b34ebd7-8d73-4062-ae50-c2f5c9270096')\"\n",
              "              title=\"Convert this dataframe to an interactive table.\"\n",
              "              style=\"display:none;\">\n",
              "        \n",
              "  <svg xmlns=\"http://www.w3.org/2000/svg\" height=\"24px\"viewBox=\"0 0 24 24\"\n",
              "       width=\"24px\">\n",
              "    <path d=\"M0 0h24v24H0V0z\" fill=\"none\"/>\n",
              "    <path d=\"M18.56 5.44l.94 2.06.94-2.06 2.06-.94-2.06-.94-.94-2.06-.94 2.06-2.06.94zm-11 1L8.5 8.5l.94-2.06 2.06-.94-2.06-.94L8.5 2.5l-.94 2.06-2.06.94zm10 10l.94 2.06.94-2.06 2.06-.94-2.06-.94-.94-2.06-.94 2.06-2.06.94z\"/><path d=\"M17.41 7.96l-1.37-1.37c-.4-.4-.92-.59-1.43-.59-.52 0-1.04.2-1.43.59L10.3 9.45l-7.72 7.72c-.78.78-.78 2.05 0 2.83L4 21.41c.39.39.9.59 1.41.59.51 0 1.02-.2 1.41-.59l7.78-7.78 2.81-2.81c.8-.78.8-2.07 0-2.86zM5.41 20L4 18.59l7.72-7.72 1.47 1.35L5.41 20z\"/>\n",
              "  </svg>\n",
              "      </button>\n",
              "      \n",
              "  <style>\n",
              "    .colab-df-container {\n",
              "      display:flex;\n",
              "      flex-wrap:wrap;\n",
              "      gap: 12px;\n",
              "    }\n",
              "\n",
              "    .colab-df-convert {\n",
              "      background-color: #E8F0FE;\n",
              "      border: none;\n",
              "      border-radius: 50%;\n",
              "      cursor: pointer;\n",
              "      display: none;\n",
              "      fill: #1967D2;\n",
              "      height: 32px;\n",
              "      padding: 0 0 0 0;\n",
              "      width: 32px;\n",
              "    }\n",
              "\n",
              "    .colab-df-convert:hover {\n",
              "      background-color: #E2EBFA;\n",
              "      box-shadow: 0px 1px 2px rgba(60, 64, 67, 0.3), 0px 1px 3px 1px rgba(60, 64, 67, 0.15);\n",
              "      fill: #174EA6;\n",
              "    }\n",
              "\n",
              "    [theme=dark] .colab-df-convert {\n",
              "      background-color: #3B4455;\n",
              "      fill: #D2E3FC;\n",
              "    }\n",
              "\n",
              "    [theme=dark] .colab-df-convert:hover {\n",
              "      background-color: #434B5C;\n",
              "      box-shadow: 0px 1px 3px 1px rgba(0, 0, 0, 0.15);\n",
              "      filter: drop-shadow(0px 1px 2px rgba(0, 0, 0, 0.3));\n",
              "      fill: #FFFFFF;\n",
              "    }\n",
              "  </style>\n",
              "\n",
              "      <script>\n",
              "        const buttonEl =\n",
              "          document.querySelector('#df-6b34ebd7-8d73-4062-ae50-c2f5c9270096 button.colab-df-convert');\n",
              "        buttonEl.style.display =\n",
              "          google.colab.kernel.accessAllowed ? 'block' : 'none';\n",
              "\n",
              "        async function convertToInteractive(key) {\n",
              "          const element = document.querySelector('#df-6b34ebd7-8d73-4062-ae50-c2f5c9270096');\n",
              "          const dataTable =\n",
              "            await google.colab.kernel.invokeFunction('convertToInteractive',\n",
              "                                                     [key], {});\n",
              "          if (!dataTable) return;\n",
              "\n",
              "          const docLinkHtml = 'Like what you see? Visit the ' +\n",
              "            '<a target=\"_blank\" href=https://colab.research.google.com/notebooks/data_table.ipynb>data table notebook</a>'\n",
              "            + ' to learn more about interactive tables.';\n",
              "          element.innerHTML = '';\n",
              "          dataTable['output_type'] = 'display_data';\n",
              "          await google.colab.output.renderOutput(dataTable, element);\n",
              "          const docLink = document.createElement('div');\n",
              "          docLink.innerHTML = docLinkHtml;\n",
              "          element.appendChild(docLink);\n",
              "        }\n",
              "      </script>\n",
              "    </div>\n",
              "  </div>\n",
              "  "
            ]
          },
          "metadata": {},
          "execution_count": 70
        }
      ],
      "source": [
        "sms.sample(frac=0.05)"
      ]
    },
    {
      "cell_type": "markdown",
      "metadata": {
        "id": "hvvhKUHGr_Jt"
      },
      "source": [
        "Clearly there's a lot going on here: digits, gratuitous whitespace, and all varieties of punctuation. Some terms are randomly capitalized, others are in all-caps. Since these terms might show up in any one of the training examples in countless forms, we need a way to ensure each training example is on equal footing via a preprocessing step called normalization. This form of noise cleaning takes care of spacing and any special characters. "
      ]
    },
    {
      "cell_type": "markdown",
      "metadata": {
        "id": "C-9loSCBsnKL"
      },
      "source": [
        "Transforming all words to lowercase is also a very common pre-processing step. In this case, we will once again append a new column named “lower” to the dataframe which will transform all the tokenized words into lowercase. However, because we have to iterate over multiple words we will use a simple for-loop within a lambda function to apply the “lower” function to each word."
      ]
    },
    {
      "cell_type": "code",
      "execution_count": 71,
      "metadata": {
        "id": "EGeQt7LCsuQi",
        "colab": {
          "base_uri": "https://localhost:8080/",
          "height": 406
        },
        "outputId": "bd494712-a5db-4db4-ce5e-5e68f6eb4ced"
      },
      "outputs": [
        {
          "output_type": "execute_result",
          "data": {
            "text/plain": [
              "  label                                                msg  length  \\\n",
              "0   ham  Go until jurong point, crazy.. Available only ...     111   \n",
              "1   ham                      Ok lar... Joking wif u oni...      29   \n",
              "2  spam  Free entry in 2 a wkly comp to win FA Cup fina...     155   \n",
              "3   ham  U dun say so early hor... U c already then say...      49   \n",
              "4   ham  Nah I don't think he goes to usf, he lives aro...      61   \n",
              "\n",
              "                                         no_contract  \\\n",
              "0  [Go, until, jurong, point,, crazy.., Available...   \n",
              "1             [Ok, lar..., Joking, wif, you, oni...]   \n",
              "2  [Free, entry, in, 2, a, wkly, comp, to, win, F...   \n",
              "3  [YOU, dun, say, so, early, hor..., YOU, c, alr...   \n",
              "4  [Nah, I, do not, think, he, goes, to, usf,, he...   \n",
              "\n",
              "                                             msg_str  \\\n",
              "0  Go until jurong point, crazy.. Available only ...   \n",
              "1                    Ok lar... Joking wif you oni...   \n",
              "2  Free entry in 2 a wkly comp to win FA Cup fina...   \n",
              "3  YOU dun say so early hor... YOU c already then...   \n",
              "4  Nah I do not think he goes to usf, he lives ar...   \n",
              "\n",
              "                                           tokenized  \\\n",
              "0  [Go, until, jurong, point, ,, crazy, .., Avail...   \n",
              "1         [Ok, lar, ..., Joking, wif, you, oni, ...]   \n",
              "2  [Free, entry, in, 2, a, wkly, comp, to, win, F...   \n",
              "3  [YOU, dun, say, so, early, hor, ..., YOU, c, a...   \n",
              "4  [Nah, I, do, not, think, he, goes, to, usf, ,,...   \n",
              "\n",
              "                                               lower  \n",
              "0  [go, until, jurong, point, ,, crazy, .., avail...  \n",
              "1         [ok, lar, ..., joking, wif, you, oni, ...]  \n",
              "2  [free, entry, in, 2, a, wkly, comp, to, win, f...  \n",
              "3  [you, dun, say, so, early, hor, ..., you, c, a...  \n",
              "4  [nah, i, do, not, think, he, goes, to, usf, ,,...  "
            ],
            "text/html": [
              "\n",
              "  <div id=\"df-5a0f5009-3fc0-44fb-b2b7-3440519e3d08\">\n",
              "    <div class=\"colab-df-container\">\n",
              "      <div>\n",
              "<style scoped>\n",
              "    .dataframe tbody tr th:only-of-type {\n",
              "        vertical-align: middle;\n",
              "    }\n",
              "\n",
              "    .dataframe tbody tr th {\n",
              "        vertical-align: top;\n",
              "    }\n",
              "\n",
              "    .dataframe thead th {\n",
              "        text-align: right;\n",
              "    }\n",
              "</style>\n",
              "<table border=\"1\" class=\"dataframe\">\n",
              "  <thead>\n",
              "    <tr style=\"text-align: right;\">\n",
              "      <th></th>\n",
              "      <th>label</th>\n",
              "      <th>msg</th>\n",
              "      <th>length</th>\n",
              "      <th>no_contract</th>\n",
              "      <th>msg_str</th>\n",
              "      <th>tokenized</th>\n",
              "      <th>lower</th>\n",
              "    </tr>\n",
              "  </thead>\n",
              "  <tbody>\n",
              "    <tr>\n",
              "      <th>0</th>\n",
              "      <td>ham</td>\n",
              "      <td>Go until jurong point, crazy.. Available only ...</td>\n",
              "      <td>111</td>\n",
              "      <td>[Go, until, jurong, point,, crazy.., Available...</td>\n",
              "      <td>Go until jurong point, crazy.. Available only ...</td>\n",
              "      <td>[Go, until, jurong, point, ,, crazy, .., Avail...</td>\n",
              "      <td>[go, until, jurong, point, ,, crazy, .., avail...</td>\n",
              "    </tr>\n",
              "    <tr>\n",
              "      <th>1</th>\n",
              "      <td>ham</td>\n",
              "      <td>Ok lar... Joking wif u oni...</td>\n",
              "      <td>29</td>\n",
              "      <td>[Ok, lar..., Joking, wif, you, oni...]</td>\n",
              "      <td>Ok lar... Joking wif you oni...</td>\n",
              "      <td>[Ok, lar, ..., Joking, wif, you, oni, ...]</td>\n",
              "      <td>[ok, lar, ..., joking, wif, you, oni, ...]</td>\n",
              "    </tr>\n",
              "    <tr>\n",
              "      <th>2</th>\n",
              "      <td>spam</td>\n",
              "      <td>Free entry in 2 a wkly comp to win FA Cup fina...</td>\n",
              "      <td>155</td>\n",
              "      <td>[Free, entry, in, 2, a, wkly, comp, to, win, F...</td>\n",
              "      <td>Free entry in 2 a wkly comp to win FA Cup fina...</td>\n",
              "      <td>[Free, entry, in, 2, a, wkly, comp, to, win, F...</td>\n",
              "      <td>[free, entry, in, 2, a, wkly, comp, to, win, f...</td>\n",
              "    </tr>\n",
              "    <tr>\n",
              "      <th>3</th>\n",
              "      <td>ham</td>\n",
              "      <td>U dun say so early hor... U c already then say...</td>\n",
              "      <td>49</td>\n",
              "      <td>[YOU, dun, say, so, early, hor..., YOU, c, alr...</td>\n",
              "      <td>YOU dun say so early hor... YOU c already then...</td>\n",
              "      <td>[YOU, dun, say, so, early, hor, ..., YOU, c, a...</td>\n",
              "      <td>[you, dun, say, so, early, hor, ..., you, c, a...</td>\n",
              "    </tr>\n",
              "    <tr>\n",
              "      <th>4</th>\n",
              "      <td>ham</td>\n",
              "      <td>Nah I don't think he goes to usf, he lives aro...</td>\n",
              "      <td>61</td>\n",
              "      <td>[Nah, I, do not, think, he, goes, to, usf,, he...</td>\n",
              "      <td>Nah I do not think he goes to usf, he lives ar...</td>\n",
              "      <td>[Nah, I, do, not, think, he, goes, to, usf, ,,...</td>\n",
              "      <td>[nah, i, do, not, think, he, goes, to, usf, ,,...</td>\n",
              "    </tr>\n",
              "  </tbody>\n",
              "</table>\n",
              "</div>\n",
              "      <button class=\"colab-df-convert\" onclick=\"convertToInteractive('df-5a0f5009-3fc0-44fb-b2b7-3440519e3d08')\"\n",
              "              title=\"Convert this dataframe to an interactive table.\"\n",
              "              style=\"display:none;\">\n",
              "        \n",
              "  <svg xmlns=\"http://www.w3.org/2000/svg\" height=\"24px\"viewBox=\"0 0 24 24\"\n",
              "       width=\"24px\">\n",
              "    <path d=\"M0 0h24v24H0V0z\" fill=\"none\"/>\n",
              "    <path d=\"M18.56 5.44l.94 2.06.94-2.06 2.06-.94-2.06-.94-.94-2.06-.94 2.06-2.06.94zm-11 1L8.5 8.5l.94-2.06 2.06-.94-2.06-.94L8.5 2.5l-.94 2.06-2.06.94zm10 10l.94 2.06.94-2.06 2.06-.94-2.06-.94-.94-2.06-.94 2.06-2.06.94z\"/><path d=\"M17.41 7.96l-1.37-1.37c-.4-.4-.92-.59-1.43-.59-.52 0-1.04.2-1.43.59L10.3 9.45l-7.72 7.72c-.78.78-.78 2.05 0 2.83L4 21.41c.39.39.9.59 1.41.59.51 0 1.02-.2 1.41-.59l7.78-7.78 2.81-2.81c.8-.78.8-2.07 0-2.86zM5.41 20L4 18.59l7.72-7.72 1.47 1.35L5.41 20z\"/>\n",
              "  </svg>\n",
              "      </button>\n",
              "      \n",
              "  <style>\n",
              "    .colab-df-container {\n",
              "      display:flex;\n",
              "      flex-wrap:wrap;\n",
              "      gap: 12px;\n",
              "    }\n",
              "\n",
              "    .colab-df-convert {\n",
              "      background-color: #E8F0FE;\n",
              "      border: none;\n",
              "      border-radius: 50%;\n",
              "      cursor: pointer;\n",
              "      display: none;\n",
              "      fill: #1967D2;\n",
              "      height: 32px;\n",
              "      padding: 0 0 0 0;\n",
              "      width: 32px;\n",
              "    }\n",
              "\n",
              "    .colab-df-convert:hover {\n",
              "      background-color: #E2EBFA;\n",
              "      box-shadow: 0px 1px 2px rgba(60, 64, 67, 0.3), 0px 1px 3px 1px rgba(60, 64, 67, 0.15);\n",
              "      fill: #174EA6;\n",
              "    }\n",
              "\n",
              "    [theme=dark] .colab-df-convert {\n",
              "      background-color: #3B4455;\n",
              "      fill: #D2E3FC;\n",
              "    }\n",
              "\n",
              "    [theme=dark] .colab-df-convert:hover {\n",
              "      background-color: #434B5C;\n",
              "      box-shadow: 0px 1px 3px 1px rgba(0, 0, 0, 0.15);\n",
              "      filter: drop-shadow(0px 1px 2px rgba(0, 0, 0, 0.3));\n",
              "      fill: #FFFFFF;\n",
              "    }\n",
              "  </style>\n",
              "\n",
              "      <script>\n",
              "        const buttonEl =\n",
              "          document.querySelector('#df-5a0f5009-3fc0-44fb-b2b7-3440519e3d08 button.colab-df-convert');\n",
              "        buttonEl.style.display =\n",
              "          google.colab.kernel.accessAllowed ? 'block' : 'none';\n",
              "\n",
              "        async function convertToInteractive(key) {\n",
              "          const element = document.querySelector('#df-5a0f5009-3fc0-44fb-b2b7-3440519e3d08');\n",
              "          const dataTable =\n",
              "            await google.colab.kernel.invokeFunction('convertToInteractive',\n",
              "                                                     [key], {});\n",
              "          if (!dataTable) return;\n",
              "\n",
              "          const docLinkHtml = 'Like what you see? Visit the ' +\n",
              "            '<a target=\"_blank\" href=https://colab.research.google.com/notebooks/data_table.ipynb>data table notebook</a>'\n",
              "            + ' to learn more about interactive tables.';\n",
              "          element.innerHTML = '';\n",
              "          dataTable['output_type'] = 'display_data';\n",
              "          await google.colab.output.renderOutput(dataTable, element);\n",
              "          const docLink = document.createElement('div');\n",
              "          docLink.innerHTML = docLinkHtml;\n",
              "          element.appendChild(docLink);\n",
              "        }\n",
              "      </script>\n",
              "    </div>\n",
              "  </div>\n",
              "  "
            ]
          },
          "metadata": {},
          "execution_count": 71
        }
      ],
      "source": [
        "sms['lower'] = sms['tokenized'].apply(lambda x: [word.lower() for word in x])\n",
        "sms.head()"
      ]
    },
    {
      "cell_type": "markdown",
      "metadata": {
        "id": "FAovmw7AsxCt"
      },
      "source": [
        "Next, we'll remove all punctuation since they serve little value once we begin to analyze our data. Continuing the previous pattern, we will create a new column which has the punctuation removed. We will again utilize a for-loop within a lambda function to iterate over the tokens but this time using an IF condition to only output alpha characters."
      ]
    },
    {
      "cell_type": "code",
      "execution_count": 72,
      "metadata": {
        "id": "fmK_8wVts0ql",
        "colab": {
          "base_uri": "https://localhost:8080/",
          "height": 493
        },
        "outputId": "85a57f0d-a13f-4ede-aad0-f71009d1587e"
      },
      "outputs": [
        {
          "output_type": "execute_result",
          "data": {
            "text/plain": [
              "  label                                                msg  length  \\\n",
              "0   ham  Go until jurong point, crazy.. Available only ...     111   \n",
              "1   ham                      Ok lar... Joking wif u oni...      29   \n",
              "2  spam  Free entry in 2 a wkly comp to win FA Cup fina...     155   \n",
              "3   ham  U dun say so early hor... U c already then say...      49   \n",
              "4   ham  Nah I don't think he goes to usf, he lives aro...      61   \n",
              "\n",
              "                                         no_contract  \\\n",
              "0  [Go, until, jurong, point,, crazy.., Available...   \n",
              "1             [Ok, lar..., Joking, wif, you, oni...]   \n",
              "2  [Free, entry, in, 2, a, wkly, comp, to, win, F...   \n",
              "3  [YOU, dun, say, so, early, hor..., YOU, c, alr...   \n",
              "4  [Nah, I, do not, think, he, goes, to, usf,, he...   \n",
              "\n",
              "                                             msg_str  \\\n",
              "0  Go until jurong point, crazy.. Available only ...   \n",
              "1                    Ok lar... Joking wif you oni...   \n",
              "2  Free entry in 2 a wkly comp to win FA Cup fina...   \n",
              "3  YOU dun say so early hor... YOU c already then...   \n",
              "4  Nah I do not think he goes to usf, he lives ar...   \n",
              "\n",
              "                                           tokenized  \\\n",
              "0  [Go, until, jurong, point, ,, crazy, .., Avail...   \n",
              "1         [Ok, lar, ..., Joking, wif, you, oni, ...]   \n",
              "2  [Free, entry, in, 2, a, wkly, comp, to, win, F...   \n",
              "3  [YOU, dun, say, so, early, hor, ..., YOU, c, a...   \n",
              "4  [Nah, I, do, not, think, he, goes, to, usf, ,,...   \n",
              "\n",
              "                                               lower  \\\n",
              "0  [go, until, jurong, point, ,, crazy, .., avail...   \n",
              "1         [ok, lar, ..., joking, wif, you, oni, ...]   \n",
              "2  [free, entry, in, 2, a, wkly, comp, to, win, f...   \n",
              "3  [you, dun, say, so, early, hor, ..., you, c, a...   \n",
              "4  [nah, i, do, not, think, he, goes, to, usf, ,,...   \n",
              "\n",
              "                                             no_punc  \n",
              "0  [go, until, jurong, point, crazy, .., availabl...  \n",
              "1         [ok, lar, ..., joking, wif, you, oni, ...]  \n",
              "2  [free, entry, in, 2, a, wkly, comp, to, win, f...  \n",
              "3  [you, dun, say, so, early, hor, ..., you, c, a...  \n",
              "4  [nah, i, do, not, think, he, goes, to, usf, he...  "
            ],
            "text/html": [
              "\n",
              "  <div id=\"df-95806dce-4229-4057-a0f0-1834149e2953\">\n",
              "    <div class=\"colab-df-container\">\n",
              "      <div>\n",
              "<style scoped>\n",
              "    .dataframe tbody tr th:only-of-type {\n",
              "        vertical-align: middle;\n",
              "    }\n",
              "\n",
              "    .dataframe tbody tr th {\n",
              "        vertical-align: top;\n",
              "    }\n",
              "\n",
              "    .dataframe thead th {\n",
              "        text-align: right;\n",
              "    }\n",
              "</style>\n",
              "<table border=\"1\" class=\"dataframe\">\n",
              "  <thead>\n",
              "    <tr style=\"text-align: right;\">\n",
              "      <th></th>\n",
              "      <th>label</th>\n",
              "      <th>msg</th>\n",
              "      <th>length</th>\n",
              "      <th>no_contract</th>\n",
              "      <th>msg_str</th>\n",
              "      <th>tokenized</th>\n",
              "      <th>lower</th>\n",
              "      <th>no_punc</th>\n",
              "    </tr>\n",
              "  </thead>\n",
              "  <tbody>\n",
              "    <tr>\n",
              "      <th>0</th>\n",
              "      <td>ham</td>\n",
              "      <td>Go until jurong point, crazy.. Available only ...</td>\n",
              "      <td>111</td>\n",
              "      <td>[Go, until, jurong, point,, crazy.., Available...</td>\n",
              "      <td>Go until jurong point, crazy.. Available only ...</td>\n",
              "      <td>[Go, until, jurong, point, ,, crazy, .., Avail...</td>\n",
              "      <td>[go, until, jurong, point, ,, crazy, .., avail...</td>\n",
              "      <td>[go, until, jurong, point, crazy, .., availabl...</td>\n",
              "    </tr>\n",
              "    <tr>\n",
              "      <th>1</th>\n",
              "      <td>ham</td>\n",
              "      <td>Ok lar... Joking wif u oni...</td>\n",
              "      <td>29</td>\n",
              "      <td>[Ok, lar..., Joking, wif, you, oni...]</td>\n",
              "      <td>Ok lar... Joking wif you oni...</td>\n",
              "      <td>[Ok, lar, ..., Joking, wif, you, oni, ...]</td>\n",
              "      <td>[ok, lar, ..., joking, wif, you, oni, ...]</td>\n",
              "      <td>[ok, lar, ..., joking, wif, you, oni, ...]</td>\n",
              "    </tr>\n",
              "    <tr>\n",
              "      <th>2</th>\n",
              "      <td>spam</td>\n",
              "      <td>Free entry in 2 a wkly comp to win FA Cup fina...</td>\n",
              "      <td>155</td>\n",
              "      <td>[Free, entry, in, 2, a, wkly, comp, to, win, F...</td>\n",
              "      <td>Free entry in 2 a wkly comp to win FA Cup fina...</td>\n",
              "      <td>[Free, entry, in, 2, a, wkly, comp, to, win, F...</td>\n",
              "      <td>[free, entry, in, 2, a, wkly, comp, to, win, f...</td>\n",
              "      <td>[free, entry, in, 2, a, wkly, comp, to, win, f...</td>\n",
              "    </tr>\n",
              "    <tr>\n",
              "      <th>3</th>\n",
              "      <td>ham</td>\n",
              "      <td>U dun say so early hor... U c already then say...</td>\n",
              "      <td>49</td>\n",
              "      <td>[YOU, dun, say, so, early, hor..., YOU, c, alr...</td>\n",
              "      <td>YOU dun say so early hor... YOU c already then...</td>\n",
              "      <td>[YOU, dun, say, so, early, hor, ..., YOU, c, a...</td>\n",
              "      <td>[you, dun, say, so, early, hor, ..., you, c, a...</td>\n",
              "      <td>[you, dun, say, so, early, hor, ..., you, c, a...</td>\n",
              "    </tr>\n",
              "    <tr>\n",
              "      <th>4</th>\n",
              "      <td>ham</td>\n",
              "      <td>Nah I don't think he goes to usf, he lives aro...</td>\n",
              "      <td>61</td>\n",
              "      <td>[Nah, I, do not, think, he, goes, to, usf,, he...</td>\n",
              "      <td>Nah I do not think he goes to usf, he lives ar...</td>\n",
              "      <td>[Nah, I, do, not, think, he, goes, to, usf, ,,...</td>\n",
              "      <td>[nah, i, do, not, think, he, goes, to, usf, ,,...</td>\n",
              "      <td>[nah, i, do, not, think, he, goes, to, usf, he...</td>\n",
              "    </tr>\n",
              "  </tbody>\n",
              "</table>\n",
              "</div>\n",
              "      <button class=\"colab-df-convert\" onclick=\"convertToInteractive('df-95806dce-4229-4057-a0f0-1834149e2953')\"\n",
              "              title=\"Convert this dataframe to an interactive table.\"\n",
              "              style=\"display:none;\">\n",
              "        \n",
              "  <svg xmlns=\"http://www.w3.org/2000/svg\" height=\"24px\"viewBox=\"0 0 24 24\"\n",
              "       width=\"24px\">\n",
              "    <path d=\"M0 0h24v24H0V0z\" fill=\"none\"/>\n",
              "    <path d=\"M18.56 5.44l.94 2.06.94-2.06 2.06-.94-2.06-.94-.94-2.06-.94 2.06-2.06.94zm-11 1L8.5 8.5l.94-2.06 2.06-.94-2.06-.94L8.5 2.5l-.94 2.06-2.06.94zm10 10l.94 2.06.94-2.06 2.06-.94-2.06-.94-.94-2.06-.94 2.06-2.06.94z\"/><path d=\"M17.41 7.96l-1.37-1.37c-.4-.4-.92-.59-1.43-.59-.52 0-1.04.2-1.43.59L10.3 9.45l-7.72 7.72c-.78.78-.78 2.05 0 2.83L4 21.41c.39.39.9.59 1.41.59.51 0 1.02-.2 1.41-.59l7.78-7.78 2.81-2.81c.8-.78.8-2.07 0-2.86zM5.41 20L4 18.59l7.72-7.72 1.47 1.35L5.41 20z\"/>\n",
              "  </svg>\n",
              "      </button>\n",
              "      \n",
              "  <style>\n",
              "    .colab-df-container {\n",
              "      display:flex;\n",
              "      flex-wrap:wrap;\n",
              "      gap: 12px;\n",
              "    }\n",
              "\n",
              "    .colab-df-convert {\n",
              "      background-color: #E8F0FE;\n",
              "      border: none;\n",
              "      border-radius: 50%;\n",
              "      cursor: pointer;\n",
              "      display: none;\n",
              "      fill: #1967D2;\n",
              "      height: 32px;\n",
              "      padding: 0 0 0 0;\n",
              "      width: 32px;\n",
              "    }\n",
              "\n",
              "    .colab-df-convert:hover {\n",
              "      background-color: #E2EBFA;\n",
              "      box-shadow: 0px 1px 2px rgba(60, 64, 67, 0.3), 0px 1px 3px 1px rgba(60, 64, 67, 0.15);\n",
              "      fill: #174EA6;\n",
              "    }\n",
              "\n",
              "    [theme=dark] .colab-df-convert {\n",
              "      background-color: #3B4455;\n",
              "      fill: #D2E3FC;\n",
              "    }\n",
              "\n",
              "    [theme=dark] .colab-df-convert:hover {\n",
              "      background-color: #434B5C;\n",
              "      box-shadow: 0px 1px 3px 1px rgba(0, 0, 0, 0.15);\n",
              "      filter: drop-shadow(0px 1px 2px rgba(0, 0, 0, 0.3));\n",
              "      fill: #FFFFFF;\n",
              "    }\n",
              "  </style>\n",
              "\n",
              "      <script>\n",
              "        const buttonEl =\n",
              "          document.querySelector('#df-95806dce-4229-4057-a0f0-1834149e2953 button.colab-df-convert');\n",
              "        buttonEl.style.display =\n",
              "          google.colab.kernel.accessAllowed ? 'block' : 'none';\n",
              "\n",
              "        async function convertToInteractive(key) {\n",
              "          const element = document.querySelector('#df-95806dce-4229-4057-a0f0-1834149e2953');\n",
              "          const dataTable =\n",
              "            await google.colab.kernel.invokeFunction('convertToInteractive',\n",
              "                                                     [key], {});\n",
              "          if (!dataTable) return;\n",
              "\n",
              "          const docLinkHtml = 'Like what you see? Visit the ' +\n",
              "            '<a target=\"_blank\" href=https://colab.research.google.com/notebooks/data_table.ipynb>data table notebook</a>'\n",
              "            + ' to learn more about interactive tables.';\n",
              "          element.innerHTML = '';\n",
              "          dataTable['output_type'] = 'display_data';\n",
              "          await google.colab.output.renderOutput(dataTable, element);\n",
              "          const docLink = document.createElement('div');\n",
              "          docLink.innerHTML = docLinkHtml;\n",
              "          element.appendChild(docLink);\n",
              "        }\n",
              "      </script>\n",
              "    </div>\n",
              "  </div>\n",
              "  "
            ]
          },
          "metadata": {},
          "execution_count": 72
        }
      ],
      "source": [
        "import string\n",
        "punc = string.punctuation\n",
        "sms['no_punc'] = sms['lower'].apply(lambda x: [word for word in x if word not in punc])\n",
        "sms.head()"
      ]
    },
    {
      "cell_type": "markdown",
      "metadata": {
        "id": "Rr24n8hFJm3I"
      },
      "source": [
        " ### Step 4: Spell Checking"
      ]
    },
    {
      "cell_type": "markdown",
      "metadata": {
        "id": "LsKljmGpv8E6"
      },
      "source": [
        "For spell checking, we will use Microsoft's TextBlob, which is a simple spelling correction mechanism. You can install this using the command below:"
      ]
    },
    {
      "cell_type": "code",
      "execution_count": 73,
      "metadata": {
        "id": "iJZmd45b0AC0",
        "colab": {
          "base_uri": "https://localhost:8080/"
        },
        "outputId": "3d845a8b-390c-4838-d4b3-0bf556ea5657"
      },
      "outputs": [
        {
          "output_type": "stream",
          "name": "stdout",
          "text": [
            "Looking in indexes: https://pypi.org/simple, https://us-python.pkg.dev/colab-wheels/public/simple/\n",
            "Requirement already satisfied: pyspellchecker in /usr/local/lib/python3.7/dist-packages (0.6.3)\n"
          ]
        }
      ],
      "source": [
        "!pip install pyspellchecker"
      ]
    },
    {
      "cell_type": "markdown",
      "metadata": {
        "id": "WfoqLr1EyqQ8"
      },
      "source": [
        "We will first demonstrate a simple example how we implement this spellchecker and how it is able to not only identify misspelled words, but also suggest the most likely corrected spelling along with other likely options."
      ]
    },
    {
      "cell_type": "code",
      "execution_count": 74,
      "metadata": {
        "id": "QQ_gxY5f0Fwj",
        "colab": {
          "base_uri": "https://localhost:8080/"
        },
        "outputId": "28b5815a-342c-4318-ec78-06b73a692225"
      },
      "outputs": [
        {
          "output_type": "stream",
          "name": "stdout",
          "text": [
            "happenning\n",
            "{'hapening', 'happenning'}\n"
          ]
        }
      ],
      "source": [
        "from spellchecker import SpellChecker\n",
        "\n",
        "spell = SpellChecker()\n",
        "\n",
        "# find those words that may be misspelled\n",
        "misspelled = spell.unknown(['something', 'is', 'hapenning', 'here'])\n",
        "\n",
        "for word in misspelled:\n",
        "    # Get the one `most likely` answer\n",
        "    print(spell.correction(word))\n",
        "\n",
        "    # Get a list of `likely` options\n",
        "    print(spell.candidates(word))"
      ]
    },
    {
      "cell_type": "markdown",
      "metadata": {
        "id": "l9AlDtsX2058"
      },
      "source": [
        "Reference: https://pypi.org/project/pyspellchecker/"
      ]
    },
    {
      "cell_type": "markdown",
      "metadata": {
        "id": "OKiy3apFJqeb"
      },
      "source": [
        "### Step 6: ‘Stop Words’ Identification"
      ]
    },
    {
      "cell_type": "markdown",
      "metadata": {
        "id": "g-rMODaGtBlV"
      },
      "source": [
        "Some words in the English language, while necessary, don't contribute much to the meaning of a phrase. These words, such as \"when\", \"had\", \"those\" or \"before\", are called stop words and should be filtered out."
      ]
    },
    {
      "cell_type": "markdown",
      "metadata": {
        "id": "qGzWZxk-8Pil"
      },
      "source": [
        "First, we need to import the NLTK stopwords library and set our stopwords to “english”. "
      ]
    },
    {
      "cell_type": "code",
      "execution_count": 75,
      "metadata": {
        "id": "_IlsjVG-LLWX",
        "colab": {
          "base_uri": "https://localhost:8080/"
        },
        "outputId": "f470ed6a-259a-43ad-8fb5-447f17691611"
      },
      "outputs": [
        {
          "output_type": "stream",
          "name": "stderr",
          "text": [
            "[nltk_data] Downloading package stopwords to /root/nltk_data...\n",
            "[nltk_data]   Package stopwords is already up-to-date!\n"
          ]
        }
      ],
      "source": [
        "nltk.download('stopwords')\n",
        "from nltk.corpus import stopwords\n",
        "stop_words = set(stopwords.words('english'))"
      ]
    },
    {
      "cell_type": "markdown",
      "metadata": {
        "id": "n73ZUUKrtOcP"
      },
      "source": [
        "We are going to add a new column “no_stopwords” which will remove the stopwords from the “no_punc” column since it has been tokenized, had been converted to lowercase and punctuation was removed. Once again a for-loop within a lambda function will iterate over the tokens in “no_punc” and only return the tokens which do not exist in our “stop_words” variable."
      ]
    },
    {
      "cell_type": "code",
      "execution_count": 76,
      "metadata": {
        "id": "NMwO1hBltQXZ",
        "colab": {
          "base_uri": "https://localhost:8080/",
          "height": 580
        },
        "outputId": "94f86293-c139-4622-ea22-24caa9aba8eb"
      },
      "outputs": [
        {
          "output_type": "execute_result",
          "data": {
            "text/plain": [
              "  label                                                msg  length  \\\n",
              "0   ham  Go until jurong point, crazy.. Available only ...     111   \n",
              "1   ham                      Ok lar... Joking wif u oni...      29   \n",
              "2  spam  Free entry in 2 a wkly comp to win FA Cup fina...     155   \n",
              "3   ham  U dun say so early hor... U c already then say...      49   \n",
              "4   ham  Nah I don't think he goes to usf, he lives aro...      61   \n",
              "\n",
              "                                         no_contract  \\\n",
              "0  [Go, until, jurong, point,, crazy.., Available...   \n",
              "1             [Ok, lar..., Joking, wif, you, oni...]   \n",
              "2  [Free, entry, in, 2, a, wkly, comp, to, win, F...   \n",
              "3  [YOU, dun, say, so, early, hor..., YOU, c, alr...   \n",
              "4  [Nah, I, do not, think, he, goes, to, usf,, he...   \n",
              "\n",
              "                                             msg_str  \\\n",
              "0  Go until jurong point, crazy.. Available only ...   \n",
              "1                    Ok lar... Joking wif you oni...   \n",
              "2  Free entry in 2 a wkly comp to win FA Cup fina...   \n",
              "3  YOU dun say so early hor... YOU c already then...   \n",
              "4  Nah I do not think he goes to usf, he lives ar...   \n",
              "\n",
              "                                           tokenized  \\\n",
              "0  [Go, until, jurong, point, ,, crazy, .., Avail...   \n",
              "1         [Ok, lar, ..., Joking, wif, you, oni, ...]   \n",
              "2  [Free, entry, in, 2, a, wkly, comp, to, win, F...   \n",
              "3  [YOU, dun, say, so, early, hor, ..., YOU, c, a...   \n",
              "4  [Nah, I, do, not, think, he, goes, to, usf, ,,...   \n",
              "\n",
              "                                               lower  \\\n",
              "0  [go, until, jurong, point, ,, crazy, .., avail...   \n",
              "1         [ok, lar, ..., joking, wif, you, oni, ...]   \n",
              "2  [free, entry, in, 2, a, wkly, comp, to, win, f...   \n",
              "3  [you, dun, say, so, early, hor, ..., you, c, a...   \n",
              "4  [nah, i, do, not, think, he, goes, to, usf, ,,...   \n",
              "\n",
              "                                             no_punc  \\\n",
              "0  [go, until, jurong, point, crazy, .., availabl...   \n",
              "1         [ok, lar, ..., joking, wif, you, oni, ...]   \n",
              "2  [free, entry, in, 2, a, wkly, comp, to, win, f...   \n",
              "3  [you, dun, say, so, early, hor, ..., you, c, a...   \n",
              "4  [nah, i, do, not, think, he, goes, to, usf, he...   \n",
              "\n",
              "                                   stopwords_removed  \n",
              "0  [go, jurong, point, crazy, .., available, bugi...  \n",
              "1              [ok, lar, ..., joking, wif, oni, ...]  \n",
              "2  [free, entry, 2, wkly, comp, win, fa, cup, fin...  \n",
              "3  [dun, say, early, hor, ..., c, already, say, ...]  \n",
              "4     [nah, think, goes, usf, lives, around, though]  "
            ],
            "text/html": [
              "\n",
              "  <div id=\"df-3b7f8e76-ce55-4f26-81b9-2757858c67e4\">\n",
              "    <div class=\"colab-df-container\">\n",
              "      <div>\n",
              "<style scoped>\n",
              "    .dataframe tbody tr th:only-of-type {\n",
              "        vertical-align: middle;\n",
              "    }\n",
              "\n",
              "    .dataframe tbody tr th {\n",
              "        vertical-align: top;\n",
              "    }\n",
              "\n",
              "    .dataframe thead th {\n",
              "        text-align: right;\n",
              "    }\n",
              "</style>\n",
              "<table border=\"1\" class=\"dataframe\">\n",
              "  <thead>\n",
              "    <tr style=\"text-align: right;\">\n",
              "      <th></th>\n",
              "      <th>label</th>\n",
              "      <th>msg</th>\n",
              "      <th>length</th>\n",
              "      <th>no_contract</th>\n",
              "      <th>msg_str</th>\n",
              "      <th>tokenized</th>\n",
              "      <th>lower</th>\n",
              "      <th>no_punc</th>\n",
              "      <th>stopwords_removed</th>\n",
              "    </tr>\n",
              "  </thead>\n",
              "  <tbody>\n",
              "    <tr>\n",
              "      <th>0</th>\n",
              "      <td>ham</td>\n",
              "      <td>Go until jurong point, crazy.. Available only ...</td>\n",
              "      <td>111</td>\n",
              "      <td>[Go, until, jurong, point,, crazy.., Available...</td>\n",
              "      <td>Go until jurong point, crazy.. Available only ...</td>\n",
              "      <td>[Go, until, jurong, point, ,, crazy, .., Avail...</td>\n",
              "      <td>[go, until, jurong, point, ,, crazy, .., avail...</td>\n",
              "      <td>[go, until, jurong, point, crazy, .., availabl...</td>\n",
              "      <td>[go, jurong, point, crazy, .., available, bugi...</td>\n",
              "    </tr>\n",
              "    <tr>\n",
              "      <th>1</th>\n",
              "      <td>ham</td>\n",
              "      <td>Ok lar... Joking wif u oni...</td>\n",
              "      <td>29</td>\n",
              "      <td>[Ok, lar..., Joking, wif, you, oni...]</td>\n",
              "      <td>Ok lar... Joking wif you oni...</td>\n",
              "      <td>[Ok, lar, ..., Joking, wif, you, oni, ...]</td>\n",
              "      <td>[ok, lar, ..., joking, wif, you, oni, ...]</td>\n",
              "      <td>[ok, lar, ..., joking, wif, you, oni, ...]</td>\n",
              "      <td>[ok, lar, ..., joking, wif, oni, ...]</td>\n",
              "    </tr>\n",
              "    <tr>\n",
              "      <th>2</th>\n",
              "      <td>spam</td>\n",
              "      <td>Free entry in 2 a wkly comp to win FA Cup fina...</td>\n",
              "      <td>155</td>\n",
              "      <td>[Free, entry, in, 2, a, wkly, comp, to, win, F...</td>\n",
              "      <td>Free entry in 2 a wkly comp to win FA Cup fina...</td>\n",
              "      <td>[Free, entry, in, 2, a, wkly, comp, to, win, F...</td>\n",
              "      <td>[free, entry, in, 2, a, wkly, comp, to, win, f...</td>\n",
              "      <td>[free, entry, in, 2, a, wkly, comp, to, win, f...</td>\n",
              "      <td>[free, entry, 2, wkly, comp, win, fa, cup, fin...</td>\n",
              "    </tr>\n",
              "    <tr>\n",
              "      <th>3</th>\n",
              "      <td>ham</td>\n",
              "      <td>U dun say so early hor... U c already then say...</td>\n",
              "      <td>49</td>\n",
              "      <td>[YOU, dun, say, so, early, hor..., YOU, c, alr...</td>\n",
              "      <td>YOU dun say so early hor... YOU c already then...</td>\n",
              "      <td>[YOU, dun, say, so, early, hor, ..., YOU, c, a...</td>\n",
              "      <td>[you, dun, say, so, early, hor, ..., you, c, a...</td>\n",
              "      <td>[you, dun, say, so, early, hor, ..., you, c, a...</td>\n",
              "      <td>[dun, say, early, hor, ..., c, already, say, ...]</td>\n",
              "    </tr>\n",
              "    <tr>\n",
              "      <th>4</th>\n",
              "      <td>ham</td>\n",
              "      <td>Nah I don't think he goes to usf, he lives aro...</td>\n",
              "      <td>61</td>\n",
              "      <td>[Nah, I, do not, think, he, goes, to, usf,, he...</td>\n",
              "      <td>Nah I do not think he goes to usf, he lives ar...</td>\n",
              "      <td>[Nah, I, do, not, think, he, goes, to, usf, ,,...</td>\n",
              "      <td>[nah, i, do, not, think, he, goes, to, usf, ,,...</td>\n",
              "      <td>[nah, i, do, not, think, he, goes, to, usf, he...</td>\n",
              "      <td>[nah, think, goes, usf, lives, around, though]</td>\n",
              "    </tr>\n",
              "  </tbody>\n",
              "</table>\n",
              "</div>\n",
              "      <button class=\"colab-df-convert\" onclick=\"convertToInteractive('df-3b7f8e76-ce55-4f26-81b9-2757858c67e4')\"\n",
              "              title=\"Convert this dataframe to an interactive table.\"\n",
              "              style=\"display:none;\">\n",
              "        \n",
              "  <svg xmlns=\"http://www.w3.org/2000/svg\" height=\"24px\"viewBox=\"0 0 24 24\"\n",
              "       width=\"24px\">\n",
              "    <path d=\"M0 0h24v24H0V0z\" fill=\"none\"/>\n",
              "    <path d=\"M18.56 5.44l.94 2.06.94-2.06 2.06-.94-2.06-.94-.94-2.06-.94 2.06-2.06.94zm-11 1L8.5 8.5l.94-2.06 2.06-.94-2.06-.94L8.5 2.5l-.94 2.06-2.06.94zm10 10l.94 2.06.94-2.06 2.06-.94-2.06-.94-.94-2.06-.94 2.06-2.06.94z\"/><path d=\"M17.41 7.96l-1.37-1.37c-.4-.4-.92-.59-1.43-.59-.52 0-1.04.2-1.43.59L10.3 9.45l-7.72 7.72c-.78.78-.78 2.05 0 2.83L4 21.41c.39.39.9.59 1.41.59.51 0 1.02-.2 1.41-.59l7.78-7.78 2.81-2.81c.8-.78.8-2.07 0-2.86zM5.41 20L4 18.59l7.72-7.72 1.47 1.35L5.41 20z\"/>\n",
              "  </svg>\n",
              "      </button>\n",
              "      \n",
              "  <style>\n",
              "    .colab-df-container {\n",
              "      display:flex;\n",
              "      flex-wrap:wrap;\n",
              "      gap: 12px;\n",
              "    }\n",
              "\n",
              "    .colab-df-convert {\n",
              "      background-color: #E8F0FE;\n",
              "      border: none;\n",
              "      border-radius: 50%;\n",
              "      cursor: pointer;\n",
              "      display: none;\n",
              "      fill: #1967D2;\n",
              "      height: 32px;\n",
              "      padding: 0 0 0 0;\n",
              "      width: 32px;\n",
              "    }\n",
              "\n",
              "    .colab-df-convert:hover {\n",
              "      background-color: #E2EBFA;\n",
              "      box-shadow: 0px 1px 2px rgba(60, 64, 67, 0.3), 0px 1px 3px 1px rgba(60, 64, 67, 0.15);\n",
              "      fill: #174EA6;\n",
              "    }\n",
              "\n",
              "    [theme=dark] .colab-df-convert {\n",
              "      background-color: #3B4455;\n",
              "      fill: #D2E3FC;\n",
              "    }\n",
              "\n",
              "    [theme=dark] .colab-df-convert:hover {\n",
              "      background-color: #434B5C;\n",
              "      box-shadow: 0px 1px 3px 1px rgba(0, 0, 0, 0.15);\n",
              "      filter: drop-shadow(0px 1px 2px rgba(0, 0, 0, 0.3));\n",
              "      fill: #FFFFFF;\n",
              "    }\n",
              "  </style>\n",
              "\n",
              "      <script>\n",
              "        const buttonEl =\n",
              "          document.querySelector('#df-3b7f8e76-ce55-4f26-81b9-2757858c67e4 button.colab-df-convert');\n",
              "        buttonEl.style.display =\n",
              "          google.colab.kernel.accessAllowed ? 'block' : 'none';\n",
              "\n",
              "        async function convertToInteractive(key) {\n",
              "          const element = document.querySelector('#df-3b7f8e76-ce55-4f26-81b9-2757858c67e4');\n",
              "          const dataTable =\n",
              "            await google.colab.kernel.invokeFunction('convertToInteractive',\n",
              "                                                     [key], {});\n",
              "          if (!dataTable) return;\n",
              "\n",
              "          const docLinkHtml = 'Like what you see? Visit the ' +\n",
              "            '<a target=\"_blank\" href=https://colab.research.google.com/notebooks/data_table.ipynb>data table notebook</a>'\n",
              "            + ' to learn more about interactive tables.';\n",
              "          element.innerHTML = '';\n",
              "          dataTable['output_type'] = 'display_data';\n",
              "          await google.colab.output.renderOutput(dataTable, element);\n",
              "          const docLink = document.createElement('div');\n",
              "          docLink.innerHTML = docLinkHtml;\n",
              "          element.appendChild(docLink);\n",
              "        }\n",
              "      </script>\n",
              "    </div>\n",
              "  </div>\n",
              "  "
            ]
          },
          "metadata": {},
          "execution_count": 76
        }
      ],
      "source": [
        "sms['stopwords_removed'] = sms['no_punc'].apply(lambda x: [word for word in x if word not in stop_words])\n",
        "sms.head()"
      ]
    },
    {
      "cell_type": "markdown",
      "metadata": {
        "id": "M7ZrTjxJJqqn"
      },
      "source": [
        "### Step 6: Stemming/Lemmatization"
      ]
    },
    {
      "cell_type": "markdown",
      "metadata": {
        "id": "XPMcw9E7tpqe"
      },
      "source": [
        "The idea of stemming is to reduce different forms of word usage into its root word. For example, “drive”, “drove”, “driving”, “driven”, “driver” are derivatives of the word “drive” and very often researchers want to remove this variability from their corpus. Compared to lemmatization, stemming is certainly the less complicated method but it often does not produce a dictionary-specific morphological root of the word. In other words, stemming the word “pies” will often produce a root of “pi” whereas lemmatization will find the morphological root of “pie”."
      ]
    },
    {
      "cell_type": "markdown",
      "metadata": {
        "id": "A0jD4XRn_AYM"
      },
      "source": [
        "Instead of taking the easy way out with stemming, let’s apply lemmatization to our data but it requires some additional steps compared to stemming. First, we have to apply parts of speech tags, in other words, determine the part of speech (ie. noun, verb, adverb, etc.) for each word."
      ]
    },
    {
      "cell_type": "code",
      "execution_count": 77,
      "metadata": {
        "id": "_gOKB7uD_Zz8",
        "colab": {
          "base_uri": "https://localhost:8080/"
        },
        "outputId": "f87b62a3-5c32-41f4-e3c3-89b608916d5b"
      },
      "outputs": [
        {
          "output_type": "stream",
          "name": "stderr",
          "text": [
            "[nltk_data] Downloading package averaged_perceptron_tagger to\n",
            "[nltk_data]     /root/nltk_data...\n",
            "[nltk_data]   Package averaged_perceptron_tagger is already up-to-\n",
            "[nltk_data]       date!\n"
          ]
        },
        {
          "output_type": "execute_result",
          "data": {
            "text/plain": [
              "True"
            ]
          },
          "metadata": {},
          "execution_count": 77
        }
      ],
      "source": [
        "nltk.download('averaged_perceptron_tagger')"
      ]
    },
    {
      "cell_type": "code",
      "execution_count": 78,
      "metadata": {
        "id": "aX-fBFBdtqCI",
        "colab": {
          "base_uri": "https://localhost:8080/",
          "height": 753
        },
        "outputId": "37772c4f-5112-498c-a13c-528ae971985d"
      },
      "outputs": [
        {
          "output_type": "execute_result",
          "data": {
            "text/plain": [
              "  label                                                msg  length  \\\n",
              "0   ham  Go until jurong point, crazy.. Available only ...     111   \n",
              "1   ham                      Ok lar... Joking wif u oni...      29   \n",
              "2  spam  Free entry in 2 a wkly comp to win FA Cup fina...     155   \n",
              "3   ham  U dun say so early hor... U c already then say...      49   \n",
              "4   ham  Nah I don't think he goes to usf, he lives aro...      61   \n",
              "\n",
              "                                         no_contract  \\\n",
              "0  [Go, until, jurong, point,, crazy.., Available...   \n",
              "1             [Ok, lar..., Joking, wif, you, oni...]   \n",
              "2  [Free, entry, in, 2, a, wkly, comp, to, win, F...   \n",
              "3  [YOU, dun, say, so, early, hor..., YOU, c, alr...   \n",
              "4  [Nah, I, do not, think, he, goes, to, usf,, he...   \n",
              "\n",
              "                                             msg_str  \\\n",
              "0  Go until jurong point, crazy.. Available only ...   \n",
              "1                    Ok lar... Joking wif you oni...   \n",
              "2  Free entry in 2 a wkly comp to win FA Cup fina...   \n",
              "3  YOU dun say so early hor... YOU c already then...   \n",
              "4  Nah I do not think he goes to usf, he lives ar...   \n",
              "\n",
              "                                           tokenized  \\\n",
              "0  [Go, until, jurong, point, ,, crazy, .., Avail...   \n",
              "1         [Ok, lar, ..., Joking, wif, you, oni, ...]   \n",
              "2  [Free, entry, in, 2, a, wkly, comp, to, win, F...   \n",
              "3  [YOU, dun, say, so, early, hor, ..., YOU, c, a...   \n",
              "4  [Nah, I, do, not, think, he, goes, to, usf, ,,...   \n",
              "\n",
              "                                               lower  \\\n",
              "0  [go, until, jurong, point, ,, crazy, .., avail...   \n",
              "1         [ok, lar, ..., joking, wif, you, oni, ...]   \n",
              "2  [free, entry, in, 2, a, wkly, comp, to, win, f...   \n",
              "3  [you, dun, say, so, early, hor, ..., you, c, a...   \n",
              "4  [nah, i, do, not, think, he, goes, to, usf, ,,...   \n",
              "\n",
              "                                             no_punc  \\\n",
              "0  [go, until, jurong, point, crazy, .., availabl...   \n",
              "1         [ok, lar, ..., joking, wif, you, oni, ...]   \n",
              "2  [free, entry, in, 2, a, wkly, comp, to, win, f...   \n",
              "3  [you, dun, say, so, early, hor, ..., you, c, a...   \n",
              "4  [nah, i, do, not, think, he, goes, to, usf, he...   \n",
              "\n",
              "                                   stopwords_removed  \\\n",
              "0  [go, jurong, point, crazy, .., available, bugi...   \n",
              "1              [ok, lar, ..., joking, wif, oni, ...]   \n",
              "2  [free, entry, 2, wkly, comp, win, fa, cup, fin...   \n",
              "3  [dun, say, early, hor, ..., c, already, say, ...]   \n",
              "4     [nah, think, goes, usf, lives, around, though]   \n",
              "\n",
              "                                            pos_tags  \n",
              "0  [(go, VB), (jurong, JJ), (point, NN), (crazy, ...  \n",
              "1  [(ok, JJ), (lar, NN), (..., :), (joking, VBG),...  \n",
              "2  [(free, JJ), (entry, NN), (2, CD), (wkly, JJ),...  \n",
              "3  [(dun, NNS), (say, VBP), (early, JJ), (hor, NN...  \n",
              "4  [(nah, RB), (think, NN), (goes, VBZ), (usf, JJ...  "
            ],
            "text/html": [
              "\n",
              "  <div id=\"df-6ea8cfe1-ac27-48e8-9773-e91bfbfe7bc1\">\n",
              "    <div class=\"colab-df-container\">\n",
              "      <div>\n",
              "<style scoped>\n",
              "    .dataframe tbody tr th:only-of-type {\n",
              "        vertical-align: middle;\n",
              "    }\n",
              "\n",
              "    .dataframe tbody tr th {\n",
              "        vertical-align: top;\n",
              "    }\n",
              "\n",
              "    .dataframe thead th {\n",
              "        text-align: right;\n",
              "    }\n",
              "</style>\n",
              "<table border=\"1\" class=\"dataframe\">\n",
              "  <thead>\n",
              "    <tr style=\"text-align: right;\">\n",
              "      <th></th>\n",
              "      <th>label</th>\n",
              "      <th>msg</th>\n",
              "      <th>length</th>\n",
              "      <th>no_contract</th>\n",
              "      <th>msg_str</th>\n",
              "      <th>tokenized</th>\n",
              "      <th>lower</th>\n",
              "      <th>no_punc</th>\n",
              "      <th>stopwords_removed</th>\n",
              "      <th>pos_tags</th>\n",
              "    </tr>\n",
              "  </thead>\n",
              "  <tbody>\n",
              "    <tr>\n",
              "      <th>0</th>\n",
              "      <td>ham</td>\n",
              "      <td>Go until jurong point, crazy.. Available only ...</td>\n",
              "      <td>111</td>\n",
              "      <td>[Go, until, jurong, point,, crazy.., Available...</td>\n",
              "      <td>Go until jurong point, crazy.. Available only ...</td>\n",
              "      <td>[Go, until, jurong, point, ,, crazy, .., Avail...</td>\n",
              "      <td>[go, until, jurong, point, ,, crazy, .., avail...</td>\n",
              "      <td>[go, until, jurong, point, crazy, .., availabl...</td>\n",
              "      <td>[go, jurong, point, crazy, .., available, bugi...</td>\n",
              "      <td>[(go, VB), (jurong, JJ), (point, NN), (crazy, ...</td>\n",
              "    </tr>\n",
              "    <tr>\n",
              "      <th>1</th>\n",
              "      <td>ham</td>\n",
              "      <td>Ok lar... Joking wif u oni...</td>\n",
              "      <td>29</td>\n",
              "      <td>[Ok, lar..., Joking, wif, you, oni...]</td>\n",
              "      <td>Ok lar... Joking wif you oni...</td>\n",
              "      <td>[Ok, lar, ..., Joking, wif, you, oni, ...]</td>\n",
              "      <td>[ok, lar, ..., joking, wif, you, oni, ...]</td>\n",
              "      <td>[ok, lar, ..., joking, wif, you, oni, ...]</td>\n",
              "      <td>[ok, lar, ..., joking, wif, oni, ...]</td>\n",
              "      <td>[(ok, JJ), (lar, NN), (..., :), (joking, VBG),...</td>\n",
              "    </tr>\n",
              "    <tr>\n",
              "      <th>2</th>\n",
              "      <td>spam</td>\n",
              "      <td>Free entry in 2 a wkly comp to win FA Cup fina...</td>\n",
              "      <td>155</td>\n",
              "      <td>[Free, entry, in, 2, a, wkly, comp, to, win, F...</td>\n",
              "      <td>Free entry in 2 a wkly comp to win FA Cup fina...</td>\n",
              "      <td>[Free, entry, in, 2, a, wkly, comp, to, win, F...</td>\n",
              "      <td>[free, entry, in, 2, a, wkly, comp, to, win, f...</td>\n",
              "      <td>[free, entry, in, 2, a, wkly, comp, to, win, f...</td>\n",
              "      <td>[free, entry, 2, wkly, comp, win, fa, cup, fin...</td>\n",
              "      <td>[(free, JJ), (entry, NN), (2, CD), (wkly, JJ),...</td>\n",
              "    </tr>\n",
              "    <tr>\n",
              "      <th>3</th>\n",
              "      <td>ham</td>\n",
              "      <td>U dun say so early hor... U c already then say...</td>\n",
              "      <td>49</td>\n",
              "      <td>[YOU, dun, say, so, early, hor..., YOU, c, alr...</td>\n",
              "      <td>YOU dun say so early hor... YOU c already then...</td>\n",
              "      <td>[YOU, dun, say, so, early, hor, ..., YOU, c, a...</td>\n",
              "      <td>[you, dun, say, so, early, hor, ..., you, c, a...</td>\n",
              "      <td>[you, dun, say, so, early, hor, ..., you, c, a...</td>\n",
              "      <td>[dun, say, early, hor, ..., c, already, say, ...]</td>\n",
              "      <td>[(dun, NNS), (say, VBP), (early, JJ), (hor, NN...</td>\n",
              "    </tr>\n",
              "    <tr>\n",
              "      <th>4</th>\n",
              "      <td>ham</td>\n",
              "      <td>Nah I don't think he goes to usf, he lives aro...</td>\n",
              "      <td>61</td>\n",
              "      <td>[Nah, I, do not, think, he, goes, to, usf,, he...</td>\n",
              "      <td>Nah I do not think he goes to usf, he lives ar...</td>\n",
              "      <td>[Nah, I, do, not, think, he, goes, to, usf, ,,...</td>\n",
              "      <td>[nah, i, do, not, think, he, goes, to, usf, ,,...</td>\n",
              "      <td>[nah, i, do, not, think, he, goes, to, usf, he...</td>\n",
              "      <td>[nah, think, goes, usf, lives, around, though]</td>\n",
              "      <td>[(nah, RB), (think, NN), (goes, VBZ), (usf, JJ...</td>\n",
              "    </tr>\n",
              "  </tbody>\n",
              "</table>\n",
              "</div>\n",
              "      <button class=\"colab-df-convert\" onclick=\"convertToInteractive('df-6ea8cfe1-ac27-48e8-9773-e91bfbfe7bc1')\"\n",
              "              title=\"Convert this dataframe to an interactive table.\"\n",
              "              style=\"display:none;\">\n",
              "        \n",
              "  <svg xmlns=\"http://www.w3.org/2000/svg\" height=\"24px\"viewBox=\"0 0 24 24\"\n",
              "       width=\"24px\">\n",
              "    <path d=\"M0 0h24v24H0V0z\" fill=\"none\"/>\n",
              "    <path d=\"M18.56 5.44l.94 2.06.94-2.06 2.06-.94-2.06-.94-.94-2.06-.94 2.06-2.06.94zm-11 1L8.5 8.5l.94-2.06 2.06-.94-2.06-.94L8.5 2.5l-.94 2.06-2.06.94zm10 10l.94 2.06.94-2.06 2.06-.94-2.06-.94-.94-2.06-.94 2.06-2.06.94z\"/><path d=\"M17.41 7.96l-1.37-1.37c-.4-.4-.92-.59-1.43-.59-.52 0-1.04.2-1.43.59L10.3 9.45l-7.72 7.72c-.78.78-.78 2.05 0 2.83L4 21.41c.39.39.9.59 1.41.59.51 0 1.02-.2 1.41-.59l7.78-7.78 2.81-2.81c.8-.78.8-2.07 0-2.86zM5.41 20L4 18.59l7.72-7.72 1.47 1.35L5.41 20z\"/>\n",
              "  </svg>\n",
              "      </button>\n",
              "      \n",
              "  <style>\n",
              "    .colab-df-container {\n",
              "      display:flex;\n",
              "      flex-wrap:wrap;\n",
              "      gap: 12px;\n",
              "    }\n",
              "\n",
              "    .colab-df-convert {\n",
              "      background-color: #E8F0FE;\n",
              "      border: none;\n",
              "      border-radius: 50%;\n",
              "      cursor: pointer;\n",
              "      display: none;\n",
              "      fill: #1967D2;\n",
              "      height: 32px;\n",
              "      padding: 0 0 0 0;\n",
              "      width: 32px;\n",
              "    }\n",
              "\n",
              "    .colab-df-convert:hover {\n",
              "      background-color: #E2EBFA;\n",
              "      box-shadow: 0px 1px 2px rgba(60, 64, 67, 0.3), 0px 1px 3px 1px rgba(60, 64, 67, 0.15);\n",
              "      fill: #174EA6;\n",
              "    }\n",
              "\n",
              "    [theme=dark] .colab-df-convert {\n",
              "      background-color: #3B4455;\n",
              "      fill: #D2E3FC;\n",
              "    }\n",
              "\n",
              "    [theme=dark] .colab-df-convert:hover {\n",
              "      background-color: #434B5C;\n",
              "      box-shadow: 0px 1px 3px 1px rgba(0, 0, 0, 0.15);\n",
              "      filter: drop-shadow(0px 1px 2px rgba(0, 0, 0, 0.3));\n",
              "      fill: #FFFFFF;\n",
              "    }\n",
              "  </style>\n",
              "\n",
              "      <script>\n",
              "        const buttonEl =\n",
              "          document.querySelector('#df-6ea8cfe1-ac27-48e8-9773-e91bfbfe7bc1 button.colab-df-convert');\n",
              "        buttonEl.style.display =\n",
              "          google.colab.kernel.accessAllowed ? 'block' : 'none';\n",
              "\n",
              "        async function convertToInteractive(key) {\n",
              "          const element = document.querySelector('#df-6ea8cfe1-ac27-48e8-9773-e91bfbfe7bc1');\n",
              "          const dataTable =\n",
              "            await google.colab.kernel.invokeFunction('convertToInteractive',\n",
              "                                                     [key], {});\n",
              "          if (!dataTable) return;\n",
              "\n",
              "          const docLinkHtml = 'Like what you see? Visit the ' +\n",
              "            '<a target=\"_blank\" href=https://colab.research.google.com/notebooks/data_table.ipynb>data table notebook</a>'\n",
              "            + ' to learn more about interactive tables.';\n",
              "          element.innerHTML = '';\n",
              "          dataTable['output_type'] = 'display_data';\n",
              "          await google.colab.output.renderOutput(dataTable, element);\n",
              "          const docLink = document.createElement('div');\n",
              "          docLink.innerHTML = docLinkHtml;\n",
              "          element.appendChild(docLink);\n",
              "        }\n",
              "      </script>\n",
              "    </div>\n",
              "  </div>\n",
              "  "
            ]
          },
          "metadata": {},
          "execution_count": 78
        }
      ],
      "source": [
        "sms['pos_tags'] = sms['stopwords_removed'].apply(nltk.tag.pos_tag)\n",
        "sms.head()"
      ]
    },
    {
      "cell_type": "markdown",
      "metadata": {
        "id": "1aP4xl6c_eB8"
      },
      "source": [
        "We are going to be using NLTK’s word lemmatizer which needs the parts of speech tags to be converted to wordnet’s format. We’ll write a function which make the proper conversion and then use the function within a list comprehension to apply the conversion."
      ]
    },
    {
      "cell_type": "code",
      "execution_count": 79,
      "metadata": {
        "id": "UE1a4riM_u2X",
        "colab": {
          "base_uri": "https://localhost:8080/"
        },
        "outputId": "3caec0c3-a326-487d-ee52-b88404b346c0"
      },
      "outputs": [
        {
          "output_type": "stream",
          "name": "stderr",
          "text": [
            "[nltk_data] Downloading package wordnet to /root/nltk_data...\n",
            "[nltk_data]   Package wordnet is already up-to-date!\n"
          ]
        }
      ],
      "source": [
        "nltk.download('wordnet')\n",
        "from nltk.corpus import wordnet"
      ]
    },
    {
      "cell_type": "code",
      "execution_count": 80,
      "metadata": {
        "collapsed": true,
        "id": "bQcreCGV_hxP"
      },
      "outputs": [],
      "source": [
        "def get_wordnet_pos(tag):\n",
        "    if tag.startswith('J'):\n",
        "        return wordnet.ADJ\n",
        "    elif tag.startswith('V'):\n",
        "        return wordnet.VERB\n",
        "    elif tag.startswith('N'):\n",
        "        return wordnet.NOUN\n",
        "    elif tag.startswith('R'):\n",
        "        return wordnet.ADV\n",
        "    else:\n",
        "        return wordnet.NOUN"
      ]
    },
    {
      "cell_type": "code",
      "execution_count": 81,
      "metadata": {
        "id": "17-r9hWP_o0a",
        "colab": {
          "base_uri": "https://localhost:8080/",
          "height": 843
        },
        "outputId": "7645e015-3694-44af-8975-d83823700158"
      },
      "outputs": [
        {
          "output_type": "execute_result",
          "data": {
            "text/plain": [
              "  label                                                msg  length  \\\n",
              "0   ham  Go until jurong point, crazy.. Available only ...     111   \n",
              "1   ham                      Ok lar... Joking wif u oni...      29   \n",
              "2  spam  Free entry in 2 a wkly comp to win FA Cup fina...     155   \n",
              "3   ham  U dun say so early hor... U c already then say...      49   \n",
              "4   ham  Nah I don't think he goes to usf, he lives aro...      61   \n",
              "\n",
              "                                         no_contract  \\\n",
              "0  [Go, until, jurong, point,, crazy.., Available...   \n",
              "1             [Ok, lar..., Joking, wif, you, oni...]   \n",
              "2  [Free, entry, in, 2, a, wkly, comp, to, win, F...   \n",
              "3  [YOU, dun, say, so, early, hor..., YOU, c, alr...   \n",
              "4  [Nah, I, do not, think, he, goes, to, usf,, he...   \n",
              "\n",
              "                                             msg_str  \\\n",
              "0  Go until jurong point, crazy.. Available only ...   \n",
              "1                    Ok lar... Joking wif you oni...   \n",
              "2  Free entry in 2 a wkly comp to win FA Cup fina...   \n",
              "3  YOU dun say so early hor... YOU c already then...   \n",
              "4  Nah I do not think he goes to usf, he lives ar...   \n",
              "\n",
              "                                           tokenized  \\\n",
              "0  [Go, until, jurong, point, ,, crazy, .., Avail...   \n",
              "1         [Ok, lar, ..., Joking, wif, you, oni, ...]   \n",
              "2  [Free, entry, in, 2, a, wkly, comp, to, win, F...   \n",
              "3  [YOU, dun, say, so, early, hor, ..., YOU, c, a...   \n",
              "4  [Nah, I, do, not, think, he, goes, to, usf, ,,...   \n",
              "\n",
              "                                               lower  \\\n",
              "0  [go, until, jurong, point, ,, crazy, .., avail...   \n",
              "1         [ok, lar, ..., joking, wif, you, oni, ...]   \n",
              "2  [free, entry, in, 2, a, wkly, comp, to, win, f...   \n",
              "3  [you, dun, say, so, early, hor, ..., you, c, a...   \n",
              "4  [nah, i, do, not, think, he, goes, to, usf, ,,...   \n",
              "\n",
              "                                             no_punc  \\\n",
              "0  [go, until, jurong, point, crazy, .., availabl...   \n",
              "1         [ok, lar, ..., joking, wif, you, oni, ...]   \n",
              "2  [free, entry, in, 2, a, wkly, comp, to, win, f...   \n",
              "3  [you, dun, say, so, early, hor, ..., you, c, a...   \n",
              "4  [nah, i, do, not, think, he, goes, to, usf, he...   \n",
              "\n",
              "                                   stopwords_removed  \\\n",
              "0  [go, jurong, point, crazy, .., available, bugi...   \n",
              "1              [ok, lar, ..., joking, wif, oni, ...]   \n",
              "2  [free, entry, 2, wkly, comp, win, fa, cup, fin...   \n",
              "3  [dun, say, early, hor, ..., c, already, say, ...]   \n",
              "4     [nah, think, goes, usf, lives, around, though]   \n",
              "\n",
              "                                            pos_tags  \\\n",
              "0  [(go, VB), (jurong, JJ), (point, NN), (crazy, ...   \n",
              "1  [(ok, JJ), (lar, NN), (..., :), (joking, VBG),...   \n",
              "2  [(free, JJ), (entry, NN), (2, CD), (wkly, JJ),...   \n",
              "3  [(dun, NNS), (say, VBP), (early, JJ), (hor, NN...   \n",
              "4  [(nah, RB), (think, NN), (goes, VBZ), (usf, JJ...   \n",
              "\n",
              "                                         wordnet_pos  \n",
              "0  [(go, v), (jurong, a), (point, n), (crazy, n),...  \n",
              "1  [(ok, a), (lar, n), (..., n), (joking, v), (wi...  \n",
              "2  [(free, a), (entry, n), (2, n), (wkly, a), (co...  \n",
              "3  [(dun, n), (say, v), (early, a), (hor, n), (.....  \n",
              "4  [(nah, r), (think, n), (goes, v), (usf, a), (l...  "
            ],
            "text/html": [
              "\n",
              "  <div id=\"df-b49c86c8-1bc7-44e5-b487-03d63e5d60ec\">\n",
              "    <div class=\"colab-df-container\">\n",
              "      <div>\n",
              "<style scoped>\n",
              "    .dataframe tbody tr th:only-of-type {\n",
              "        vertical-align: middle;\n",
              "    }\n",
              "\n",
              "    .dataframe tbody tr th {\n",
              "        vertical-align: top;\n",
              "    }\n",
              "\n",
              "    .dataframe thead th {\n",
              "        text-align: right;\n",
              "    }\n",
              "</style>\n",
              "<table border=\"1\" class=\"dataframe\">\n",
              "  <thead>\n",
              "    <tr style=\"text-align: right;\">\n",
              "      <th></th>\n",
              "      <th>label</th>\n",
              "      <th>msg</th>\n",
              "      <th>length</th>\n",
              "      <th>no_contract</th>\n",
              "      <th>msg_str</th>\n",
              "      <th>tokenized</th>\n",
              "      <th>lower</th>\n",
              "      <th>no_punc</th>\n",
              "      <th>stopwords_removed</th>\n",
              "      <th>pos_tags</th>\n",
              "      <th>wordnet_pos</th>\n",
              "    </tr>\n",
              "  </thead>\n",
              "  <tbody>\n",
              "    <tr>\n",
              "      <th>0</th>\n",
              "      <td>ham</td>\n",
              "      <td>Go until jurong point, crazy.. Available only ...</td>\n",
              "      <td>111</td>\n",
              "      <td>[Go, until, jurong, point,, crazy.., Available...</td>\n",
              "      <td>Go until jurong point, crazy.. Available only ...</td>\n",
              "      <td>[Go, until, jurong, point, ,, crazy, .., Avail...</td>\n",
              "      <td>[go, until, jurong, point, ,, crazy, .., avail...</td>\n",
              "      <td>[go, until, jurong, point, crazy, .., availabl...</td>\n",
              "      <td>[go, jurong, point, crazy, .., available, bugi...</td>\n",
              "      <td>[(go, VB), (jurong, JJ), (point, NN), (crazy, ...</td>\n",
              "      <td>[(go, v), (jurong, a), (point, n), (crazy, n),...</td>\n",
              "    </tr>\n",
              "    <tr>\n",
              "      <th>1</th>\n",
              "      <td>ham</td>\n",
              "      <td>Ok lar... Joking wif u oni...</td>\n",
              "      <td>29</td>\n",
              "      <td>[Ok, lar..., Joking, wif, you, oni...]</td>\n",
              "      <td>Ok lar... Joking wif you oni...</td>\n",
              "      <td>[Ok, lar, ..., Joking, wif, you, oni, ...]</td>\n",
              "      <td>[ok, lar, ..., joking, wif, you, oni, ...]</td>\n",
              "      <td>[ok, lar, ..., joking, wif, you, oni, ...]</td>\n",
              "      <td>[ok, lar, ..., joking, wif, oni, ...]</td>\n",
              "      <td>[(ok, JJ), (lar, NN), (..., :), (joking, VBG),...</td>\n",
              "      <td>[(ok, a), (lar, n), (..., n), (joking, v), (wi...</td>\n",
              "    </tr>\n",
              "    <tr>\n",
              "      <th>2</th>\n",
              "      <td>spam</td>\n",
              "      <td>Free entry in 2 a wkly comp to win FA Cup fina...</td>\n",
              "      <td>155</td>\n",
              "      <td>[Free, entry, in, 2, a, wkly, comp, to, win, F...</td>\n",
              "      <td>Free entry in 2 a wkly comp to win FA Cup fina...</td>\n",
              "      <td>[Free, entry, in, 2, a, wkly, comp, to, win, F...</td>\n",
              "      <td>[free, entry, in, 2, a, wkly, comp, to, win, f...</td>\n",
              "      <td>[free, entry, in, 2, a, wkly, comp, to, win, f...</td>\n",
              "      <td>[free, entry, 2, wkly, comp, win, fa, cup, fin...</td>\n",
              "      <td>[(free, JJ), (entry, NN), (2, CD), (wkly, JJ),...</td>\n",
              "      <td>[(free, a), (entry, n), (2, n), (wkly, a), (co...</td>\n",
              "    </tr>\n",
              "    <tr>\n",
              "      <th>3</th>\n",
              "      <td>ham</td>\n",
              "      <td>U dun say so early hor... U c already then say...</td>\n",
              "      <td>49</td>\n",
              "      <td>[YOU, dun, say, so, early, hor..., YOU, c, alr...</td>\n",
              "      <td>YOU dun say so early hor... YOU c already then...</td>\n",
              "      <td>[YOU, dun, say, so, early, hor, ..., YOU, c, a...</td>\n",
              "      <td>[you, dun, say, so, early, hor, ..., you, c, a...</td>\n",
              "      <td>[you, dun, say, so, early, hor, ..., you, c, a...</td>\n",
              "      <td>[dun, say, early, hor, ..., c, already, say, ...]</td>\n",
              "      <td>[(dun, NNS), (say, VBP), (early, JJ), (hor, NN...</td>\n",
              "      <td>[(dun, n), (say, v), (early, a), (hor, n), (.....</td>\n",
              "    </tr>\n",
              "    <tr>\n",
              "      <th>4</th>\n",
              "      <td>ham</td>\n",
              "      <td>Nah I don't think he goes to usf, he lives aro...</td>\n",
              "      <td>61</td>\n",
              "      <td>[Nah, I, do not, think, he, goes, to, usf,, he...</td>\n",
              "      <td>Nah I do not think he goes to usf, he lives ar...</td>\n",
              "      <td>[Nah, I, do, not, think, he, goes, to, usf, ,,...</td>\n",
              "      <td>[nah, i, do, not, think, he, goes, to, usf, ,,...</td>\n",
              "      <td>[nah, i, do, not, think, he, goes, to, usf, he...</td>\n",
              "      <td>[nah, think, goes, usf, lives, around, though]</td>\n",
              "      <td>[(nah, RB), (think, NN), (goes, VBZ), (usf, JJ...</td>\n",
              "      <td>[(nah, r), (think, n), (goes, v), (usf, a), (l...</td>\n",
              "    </tr>\n",
              "  </tbody>\n",
              "</table>\n",
              "</div>\n",
              "      <button class=\"colab-df-convert\" onclick=\"convertToInteractive('df-b49c86c8-1bc7-44e5-b487-03d63e5d60ec')\"\n",
              "              title=\"Convert this dataframe to an interactive table.\"\n",
              "              style=\"display:none;\">\n",
              "        \n",
              "  <svg xmlns=\"http://www.w3.org/2000/svg\" height=\"24px\"viewBox=\"0 0 24 24\"\n",
              "       width=\"24px\">\n",
              "    <path d=\"M0 0h24v24H0V0z\" fill=\"none\"/>\n",
              "    <path d=\"M18.56 5.44l.94 2.06.94-2.06 2.06-.94-2.06-.94-.94-2.06-.94 2.06-2.06.94zm-11 1L8.5 8.5l.94-2.06 2.06-.94-2.06-.94L8.5 2.5l-.94 2.06-2.06.94zm10 10l.94 2.06.94-2.06 2.06-.94-2.06-.94-.94-2.06-.94 2.06-2.06.94z\"/><path d=\"M17.41 7.96l-1.37-1.37c-.4-.4-.92-.59-1.43-.59-.52 0-1.04.2-1.43.59L10.3 9.45l-7.72 7.72c-.78.78-.78 2.05 0 2.83L4 21.41c.39.39.9.59 1.41.59.51 0 1.02-.2 1.41-.59l7.78-7.78 2.81-2.81c.8-.78.8-2.07 0-2.86zM5.41 20L4 18.59l7.72-7.72 1.47 1.35L5.41 20z\"/>\n",
              "  </svg>\n",
              "      </button>\n",
              "      \n",
              "  <style>\n",
              "    .colab-df-container {\n",
              "      display:flex;\n",
              "      flex-wrap:wrap;\n",
              "      gap: 12px;\n",
              "    }\n",
              "\n",
              "    .colab-df-convert {\n",
              "      background-color: #E8F0FE;\n",
              "      border: none;\n",
              "      border-radius: 50%;\n",
              "      cursor: pointer;\n",
              "      display: none;\n",
              "      fill: #1967D2;\n",
              "      height: 32px;\n",
              "      padding: 0 0 0 0;\n",
              "      width: 32px;\n",
              "    }\n",
              "\n",
              "    .colab-df-convert:hover {\n",
              "      background-color: #E2EBFA;\n",
              "      box-shadow: 0px 1px 2px rgba(60, 64, 67, 0.3), 0px 1px 3px 1px rgba(60, 64, 67, 0.15);\n",
              "      fill: #174EA6;\n",
              "    }\n",
              "\n",
              "    [theme=dark] .colab-df-convert {\n",
              "      background-color: #3B4455;\n",
              "      fill: #D2E3FC;\n",
              "    }\n",
              "\n",
              "    [theme=dark] .colab-df-convert:hover {\n",
              "      background-color: #434B5C;\n",
              "      box-shadow: 0px 1px 3px 1px rgba(0, 0, 0, 0.15);\n",
              "      filter: drop-shadow(0px 1px 2px rgba(0, 0, 0, 0.3));\n",
              "      fill: #FFFFFF;\n",
              "    }\n",
              "  </style>\n",
              "\n",
              "      <script>\n",
              "        const buttonEl =\n",
              "          document.querySelector('#df-b49c86c8-1bc7-44e5-b487-03d63e5d60ec button.colab-df-convert');\n",
              "        buttonEl.style.display =\n",
              "          google.colab.kernel.accessAllowed ? 'block' : 'none';\n",
              "\n",
              "        async function convertToInteractive(key) {\n",
              "          const element = document.querySelector('#df-b49c86c8-1bc7-44e5-b487-03d63e5d60ec');\n",
              "          const dataTable =\n",
              "            await google.colab.kernel.invokeFunction('convertToInteractive',\n",
              "                                                     [key], {});\n",
              "          if (!dataTable) return;\n",
              "\n",
              "          const docLinkHtml = 'Like what you see? Visit the ' +\n",
              "            '<a target=\"_blank\" href=https://colab.research.google.com/notebooks/data_table.ipynb>data table notebook</a>'\n",
              "            + ' to learn more about interactive tables.';\n",
              "          element.innerHTML = '';\n",
              "          dataTable['output_type'] = 'display_data';\n",
              "          await google.colab.output.renderOutput(dataTable, element);\n",
              "          const docLink = document.createElement('div');\n",
              "          docLink.innerHTML = docLinkHtml;\n",
              "          element.appendChild(docLink);\n",
              "        }\n",
              "      </script>\n",
              "    </div>\n",
              "  </div>\n",
              "  "
            ]
          },
          "metadata": {},
          "execution_count": 81
        }
      ],
      "source": [
        "sms['wordnet_pos'] = sms['pos_tags'].apply(lambda x: [(word, get_wordnet_pos(pos_tag)) for (word, pos_tag) in x])\n",
        "sms.head()"
      ]
    },
    {
      "cell_type": "markdown",
      "metadata": {
        "id": "NCjEH6jG_iCE"
      },
      "source": [
        "Now we can apply NLTK’s word lemmatizer within our trusty list comprehension. Notice, the lemmatizer function requires two parameters the word and its tag (in wordnet form)."
      ]
    },
    {
      "cell_type": "code",
      "execution_count": 82,
      "metadata": {
        "collapsed": true,
        "id": "96mw3ww8AGNx"
      },
      "outputs": [],
      "source": [
        "from nltk.stem import WordNetLemmatizer"
      ]
    },
    {
      "cell_type": "code",
      "execution_count": 83,
      "metadata": {
        "id": "PJtg03P3_iXA",
        "colab": {
          "base_uri": "https://localhost:8080/",
          "height": 843
        },
        "outputId": "4a4ff428-248c-4123-e26d-0e6a61562b28"
      },
      "outputs": [
        {
          "output_type": "execute_result",
          "data": {
            "text/plain": [
              "  label                                                msg  length  \\\n",
              "0   ham  Go until jurong point, crazy.. Available only ...     111   \n",
              "1   ham                      Ok lar... Joking wif u oni...      29   \n",
              "2  spam  Free entry in 2 a wkly comp to win FA Cup fina...     155   \n",
              "3   ham  U dun say so early hor... U c already then say...      49   \n",
              "4   ham  Nah I don't think he goes to usf, he lives aro...      61   \n",
              "\n",
              "                                         no_contract  \\\n",
              "0  [Go, until, jurong, point,, crazy.., Available...   \n",
              "1             [Ok, lar..., Joking, wif, you, oni...]   \n",
              "2  [Free, entry, in, 2, a, wkly, comp, to, win, F...   \n",
              "3  [YOU, dun, say, so, early, hor..., YOU, c, alr...   \n",
              "4  [Nah, I, do not, think, he, goes, to, usf,, he...   \n",
              "\n",
              "                                             msg_str  \\\n",
              "0  Go until jurong point, crazy.. Available only ...   \n",
              "1                    Ok lar... Joking wif you oni...   \n",
              "2  Free entry in 2 a wkly comp to win FA Cup fina...   \n",
              "3  YOU dun say so early hor... YOU c already then...   \n",
              "4  Nah I do not think he goes to usf, he lives ar...   \n",
              "\n",
              "                                           tokenized  \\\n",
              "0  [Go, until, jurong, point, ,, crazy, .., Avail...   \n",
              "1         [Ok, lar, ..., Joking, wif, you, oni, ...]   \n",
              "2  [Free, entry, in, 2, a, wkly, comp, to, win, F...   \n",
              "3  [YOU, dun, say, so, early, hor, ..., YOU, c, a...   \n",
              "4  [Nah, I, do, not, think, he, goes, to, usf, ,,...   \n",
              "\n",
              "                                               lower  \\\n",
              "0  [go, until, jurong, point, ,, crazy, .., avail...   \n",
              "1         [ok, lar, ..., joking, wif, you, oni, ...]   \n",
              "2  [free, entry, in, 2, a, wkly, comp, to, win, f...   \n",
              "3  [you, dun, say, so, early, hor, ..., you, c, a...   \n",
              "4  [nah, i, do, not, think, he, goes, to, usf, ,,...   \n",
              "\n",
              "                                             no_punc  \\\n",
              "0  [go, until, jurong, point, crazy, .., availabl...   \n",
              "1         [ok, lar, ..., joking, wif, you, oni, ...]   \n",
              "2  [free, entry, in, 2, a, wkly, comp, to, win, f...   \n",
              "3  [you, dun, say, so, early, hor, ..., you, c, a...   \n",
              "4  [nah, i, do, not, think, he, goes, to, usf, he...   \n",
              "\n",
              "                                   stopwords_removed  \\\n",
              "0  [go, jurong, point, crazy, .., available, bugi...   \n",
              "1              [ok, lar, ..., joking, wif, oni, ...]   \n",
              "2  [free, entry, 2, wkly, comp, win, fa, cup, fin...   \n",
              "3  [dun, say, early, hor, ..., c, already, say, ...]   \n",
              "4     [nah, think, goes, usf, lives, around, though]   \n",
              "\n",
              "                                            pos_tags  \\\n",
              "0  [(go, VB), (jurong, JJ), (point, NN), (crazy, ...   \n",
              "1  [(ok, JJ), (lar, NN), (..., :), (joking, VBG),...   \n",
              "2  [(free, JJ), (entry, NN), (2, CD), (wkly, JJ),...   \n",
              "3  [(dun, NNS), (say, VBP), (early, JJ), (hor, NN...   \n",
              "4  [(nah, RB), (think, NN), (goes, VBZ), (usf, JJ...   \n",
              "\n",
              "                                         wordnet_pos  \\\n",
              "0  [(go, v), (jurong, a), (point, n), (crazy, n),...   \n",
              "1  [(ok, a), (lar, n), (..., n), (joking, v), (wi...   \n",
              "2  [(free, a), (entry, n), (2, n), (wkly, a), (co...   \n",
              "3  [(dun, n), (say, v), (early, a), (hor, n), (.....   \n",
              "4  [(nah, r), (think, n), (goes, v), (usf, a), (l...   \n",
              "\n",
              "                                          lemmatized  \n",
              "0  [go, jurong, point, crazy, .., available, bugi...  \n",
              "1                [ok, lar, ..., joke, wif, oni, ...]  \n",
              "2  [free, entry, 2, wkly, comp, win, fa, cup, fin...  \n",
              "3  [dun, say, early, hor, ..., c, already, say, ...]  \n",
              "4        [nah, think, go, usf, life, around, though]  "
            ],
            "text/html": [
              "\n",
              "  <div id=\"df-5c440b43-1970-4ef2-b48e-3d6cedbaf6ed\">\n",
              "    <div class=\"colab-df-container\">\n",
              "      <div>\n",
              "<style scoped>\n",
              "    .dataframe tbody tr th:only-of-type {\n",
              "        vertical-align: middle;\n",
              "    }\n",
              "\n",
              "    .dataframe tbody tr th {\n",
              "        vertical-align: top;\n",
              "    }\n",
              "\n",
              "    .dataframe thead th {\n",
              "        text-align: right;\n",
              "    }\n",
              "</style>\n",
              "<table border=\"1\" class=\"dataframe\">\n",
              "  <thead>\n",
              "    <tr style=\"text-align: right;\">\n",
              "      <th></th>\n",
              "      <th>label</th>\n",
              "      <th>msg</th>\n",
              "      <th>length</th>\n",
              "      <th>no_contract</th>\n",
              "      <th>msg_str</th>\n",
              "      <th>tokenized</th>\n",
              "      <th>lower</th>\n",
              "      <th>no_punc</th>\n",
              "      <th>stopwords_removed</th>\n",
              "      <th>pos_tags</th>\n",
              "      <th>wordnet_pos</th>\n",
              "      <th>lemmatized</th>\n",
              "    </tr>\n",
              "  </thead>\n",
              "  <tbody>\n",
              "    <tr>\n",
              "      <th>0</th>\n",
              "      <td>ham</td>\n",
              "      <td>Go until jurong point, crazy.. Available only ...</td>\n",
              "      <td>111</td>\n",
              "      <td>[Go, until, jurong, point,, crazy.., Available...</td>\n",
              "      <td>Go until jurong point, crazy.. Available only ...</td>\n",
              "      <td>[Go, until, jurong, point, ,, crazy, .., Avail...</td>\n",
              "      <td>[go, until, jurong, point, ,, crazy, .., avail...</td>\n",
              "      <td>[go, until, jurong, point, crazy, .., availabl...</td>\n",
              "      <td>[go, jurong, point, crazy, .., available, bugi...</td>\n",
              "      <td>[(go, VB), (jurong, JJ), (point, NN), (crazy, ...</td>\n",
              "      <td>[(go, v), (jurong, a), (point, n), (crazy, n),...</td>\n",
              "      <td>[go, jurong, point, crazy, .., available, bugi...</td>\n",
              "    </tr>\n",
              "    <tr>\n",
              "      <th>1</th>\n",
              "      <td>ham</td>\n",
              "      <td>Ok lar... Joking wif u oni...</td>\n",
              "      <td>29</td>\n",
              "      <td>[Ok, lar..., Joking, wif, you, oni...]</td>\n",
              "      <td>Ok lar... Joking wif you oni...</td>\n",
              "      <td>[Ok, lar, ..., Joking, wif, you, oni, ...]</td>\n",
              "      <td>[ok, lar, ..., joking, wif, you, oni, ...]</td>\n",
              "      <td>[ok, lar, ..., joking, wif, you, oni, ...]</td>\n",
              "      <td>[ok, lar, ..., joking, wif, oni, ...]</td>\n",
              "      <td>[(ok, JJ), (lar, NN), (..., :), (joking, VBG),...</td>\n",
              "      <td>[(ok, a), (lar, n), (..., n), (joking, v), (wi...</td>\n",
              "      <td>[ok, lar, ..., joke, wif, oni, ...]</td>\n",
              "    </tr>\n",
              "    <tr>\n",
              "      <th>2</th>\n",
              "      <td>spam</td>\n",
              "      <td>Free entry in 2 a wkly comp to win FA Cup fina...</td>\n",
              "      <td>155</td>\n",
              "      <td>[Free, entry, in, 2, a, wkly, comp, to, win, F...</td>\n",
              "      <td>Free entry in 2 a wkly comp to win FA Cup fina...</td>\n",
              "      <td>[Free, entry, in, 2, a, wkly, comp, to, win, F...</td>\n",
              "      <td>[free, entry, in, 2, a, wkly, comp, to, win, f...</td>\n",
              "      <td>[free, entry, in, 2, a, wkly, comp, to, win, f...</td>\n",
              "      <td>[free, entry, 2, wkly, comp, win, fa, cup, fin...</td>\n",
              "      <td>[(free, JJ), (entry, NN), (2, CD), (wkly, JJ),...</td>\n",
              "      <td>[(free, a), (entry, n), (2, n), (wkly, a), (co...</td>\n",
              "      <td>[free, entry, 2, wkly, comp, win, fa, cup, fin...</td>\n",
              "    </tr>\n",
              "    <tr>\n",
              "      <th>3</th>\n",
              "      <td>ham</td>\n",
              "      <td>U dun say so early hor... U c already then say...</td>\n",
              "      <td>49</td>\n",
              "      <td>[YOU, dun, say, so, early, hor..., YOU, c, alr...</td>\n",
              "      <td>YOU dun say so early hor... YOU c already then...</td>\n",
              "      <td>[YOU, dun, say, so, early, hor, ..., YOU, c, a...</td>\n",
              "      <td>[you, dun, say, so, early, hor, ..., you, c, a...</td>\n",
              "      <td>[you, dun, say, so, early, hor, ..., you, c, a...</td>\n",
              "      <td>[dun, say, early, hor, ..., c, already, say, ...]</td>\n",
              "      <td>[(dun, NNS), (say, VBP), (early, JJ), (hor, NN...</td>\n",
              "      <td>[(dun, n), (say, v), (early, a), (hor, n), (.....</td>\n",
              "      <td>[dun, say, early, hor, ..., c, already, say, ...]</td>\n",
              "    </tr>\n",
              "    <tr>\n",
              "      <th>4</th>\n",
              "      <td>ham</td>\n",
              "      <td>Nah I don't think he goes to usf, he lives aro...</td>\n",
              "      <td>61</td>\n",
              "      <td>[Nah, I, do not, think, he, goes, to, usf,, he...</td>\n",
              "      <td>Nah I do not think he goes to usf, he lives ar...</td>\n",
              "      <td>[Nah, I, do, not, think, he, goes, to, usf, ,,...</td>\n",
              "      <td>[nah, i, do, not, think, he, goes, to, usf, ,,...</td>\n",
              "      <td>[nah, i, do, not, think, he, goes, to, usf, he...</td>\n",
              "      <td>[nah, think, goes, usf, lives, around, though]</td>\n",
              "      <td>[(nah, RB), (think, NN), (goes, VBZ), (usf, JJ...</td>\n",
              "      <td>[(nah, r), (think, n), (goes, v), (usf, a), (l...</td>\n",
              "      <td>[nah, think, go, usf, life, around, though]</td>\n",
              "    </tr>\n",
              "  </tbody>\n",
              "</table>\n",
              "</div>\n",
              "      <button class=\"colab-df-convert\" onclick=\"convertToInteractive('df-5c440b43-1970-4ef2-b48e-3d6cedbaf6ed')\"\n",
              "              title=\"Convert this dataframe to an interactive table.\"\n",
              "              style=\"display:none;\">\n",
              "        \n",
              "  <svg xmlns=\"http://www.w3.org/2000/svg\" height=\"24px\"viewBox=\"0 0 24 24\"\n",
              "       width=\"24px\">\n",
              "    <path d=\"M0 0h24v24H0V0z\" fill=\"none\"/>\n",
              "    <path d=\"M18.56 5.44l.94 2.06.94-2.06 2.06-.94-2.06-.94-.94-2.06-.94 2.06-2.06.94zm-11 1L8.5 8.5l.94-2.06 2.06-.94-2.06-.94L8.5 2.5l-.94 2.06-2.06.94zm10 10l.94 2.06.94-2.06 2.06-.94-2.06-.94-.94-2.06-.94 2.06-2.06.94z\"/><path d=\"M17.41 7.96l-1.37-1.37c-.4-.4-.92-.59-1.43-.59-.52 0-1.04.2-1.43.59L10.3 9.45l-7.72 7.72c-.78.78-.78 2.05 0 2.83L4 21.41c.39.39.9.59 1.41.59.51 0 1.02-.2 1.41-.59l7.78-7.78 2.81-2.81c.8-.78.8-2.07 0-2.86zM5.41 20L4 18.59l7.72-7.72 1.47 1.35L5.41 20z\"/>\n",
              "  </svg>\n",
              "      </button>\n",
              "      \n",
              "  <style>\n",
              "    .colab-df-container {\n",
              "      display:flex;\n",
              "      flex-wrap:wrap;\n",
              "      gap: 12px;\n",
              "    }\n",
              "\n",
              "    .colab-df-convert {\n",
              "      background-color: #E8F0FE;\n",
              "      border: none;\n",
              "      border-radius: 50%;\n",
              "      cursor: pointer;\n",
              "      display: none;\n",
              "      fill: #1967D2;\n",
              "      height: 32px;\n",
              "      padding: 0 0 0 0;\n",
              "      width: 32px;\n",
              "    }\n",
              "\n",
              "    .colab-df-convert:hover {\n",
              "      background-color: #E2EBFA;\n",
              "      box-shadow: 0px 1px 2px rgba(60, 64, 67, 0.3), 0px 1px 3px 1px rgba(60, 64, 67, 0.15);\n",
              "      fill: #174EA6;\n",
              "    }\n",
              "\n",
              "    [theme=dark] .colab-df-convert {\n",
              "      background-color: #3B4455;\n",
              "      fill: #D2E3FC;\n",
              "    }\n",
              "\n",
              "    [theme=dark] .colab-df-convert:hover {\n",
              "      background-color: #434B5C;\n",
              "      box-shadow: 0px 1px 3px 1px rgba(0, 0, 0, 0.15);\n",
              "      filter: drop-shadow(0px 1px 2px rgba(0, 0, 0, 0.3));\n",
              "      fill: #FFFFFF;\n",
              "    }\n",
              "  </style>\n",
              "\n",
              "      <script>\n",
              "        const buttonEl =\n",
              "          document.querySelector('#df-5c440b43-1970-4ef2-b48e-3d6cedbaf6ed button.colab-df-convert');\n",
              "        buttonEl.style.display =\n",
              "          google.colab.kernel.accessAllowed ? 'block' : 'none';\n",
              "\n",
              "        async function convertToInteractive(key) {\n",
              "          const element = document.querySelector('#df-5c440b43-1970-4ef2-b48e-3d6cedbaf6ed');\n",
              "          const dataTable =\n",
              "            await google.colab.kernel.invokeFunction('convertToInteractive',\n",
              "                                                     [key], {});\n",
              "          if (!dataTable) return;\n",
              "\n",
              "          const docLinkHtml = 'Like what you see? Visit the ' +\n",
              "            '<a target=\"_blank\" href=https://colab.research.google.com/notebooks/data_table.ipynb>data table notebook</a>'\n",
              "            + ' to learn more about interactive tables.';\n",
              "          element.innerHTML = '';\n",
              "          dataTable['output_type'] = 'display_data';\n",
              "          await google.colab.output.renderOutput(dataTable, element);\n",
              "          const docLink = document.createElement('div');\n",
              "          docLink.innerHTML = docLinkHtml;\n",
              "          element.appendChild(docLink);\n",
              "        }\n",
              "      </script>\n",
              "    </div>\n",
              "  </div>\n",
              "  "
            ]
          },
          "metadata": {},
          "execution_count": 83
        }
      ],
      "source": [
        "wnl = WordNetLemmatizer()\n",
        "sms['lemmatized'] = sms['wordnet_pos'].apply(lambda x: [wnl.lemmatize(word, tag) for word, tag in x])\n",
        "sms.head()"
      ]
    },
    {
      "cell_type": "markdown",
      "metadata": {
        "id": "vpqlSX_JASXz"
      },
      "source": [
        "Lastly, we should save all of our pre-processing work for the next steps in the workflow. We can simnple save it as a csv file."
      ]
    },
    {
      "cell_type": "code",
      "execution_count": 84,
      "metadata": {
        "collapsed": true,
        "id": "PRKemvFgAc4S"
      },
      "outputs": [],
      "source": [
        "sms.to_csv('sms_spam_collection.csv')"
      ]
    },
    {
      "cell_type": "markdown",
      "metadata": {
        "id": "DQweWcQorWs6"
      },
      "source": [
        "References:\n",
        "- https://github.com/ujjwalgupta07/spam_ham_detection/blob/master/spam_ham_classification.ipynb\n",
        "- https://archive.ics.uci.edu/ml/datasets/sms+spam+collection\n",
        "- https://www.datacamp.com/community/tutorials/exploratory-data-analysis-python\n",
        "- https://mlwhiz.com/blog/2019/01/17/deeplearning_nlp_preprocess/#d-removing-contractions\n",
        "\n",
        "***\n",
        "- https://stackabuse.com/python-for-nlp-tokenization-stemming-and-lemmatization-with-spacy-library/\n",
        "- https://inmachineswetrust.com/posts/sms-spam-filter/\n",
        "- https://realpython.com/natural-language-processing-spacy-python/\n",
        "- https://github.com/WomenWhoCode/WWCodeDataScience/blob/master/Intro_to_MachineLearning/1_Introduction.ipynb"
      ]
    },
    {
      "cell_type": "markdown",
      "metadata": {
        "id": "K3_uGCKBXV6z"
      },
      "source": [
        "\n",
        "\n",
        "---\n",
        "\n",
        "\n",
        "\n",
        "---\n",
        "\n"
      ]
    }
  ],
  "metadata": {
    "colab": {
      "collapsed_sections": [],
      "name": "NLP: Week 1 - NLP 101.ipynb",
      "provenance": [],
      "include_colab_link": true
    },
    "kernelspec": {
      "display_name": "Python 3",
      "language": "python",
      "name": "python3"
    },
    "language_info": {
      "codemirror_mode": {
        "name": "ipython",
        "version": 3
      },
      "file_extension": ".py",
      "mimetype": "text/x-python",
      "name": "python",
      "nbconvert_exporter": "python",
      "pygments_lexer": "ipython3",
      "version": "3.6.8"
    }
  },
  "nbformat": 4,
  "nbformat_minor": 0
}